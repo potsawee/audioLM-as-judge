{
 "cells": [
  {
   "cell_type": "code",
   "execution_count": 9,
   "metadata": {},
   "outputs": [],
   "source": [
    "import json\n",
    "import random"
   ]
  },
  {
   "cell_type": "code",
   "execution_count": 10,
   "metadata": {},
   "outputs": [],
   "source": [
    "with open(\"./questions1.json\", \"r\") as f:\n",
    "    questions = json.load(f)"
   ]
  },
  {
   "cell_type": "code",
   "execution_count": 11,
   "metadata": {},
   "outputs": [
    {
     "name": "stdout",
     "output_type": "stream",
     "text": [
      "len(questions): 82\n"
     ]
    }
   ],
   "source": [
    "print(\"len(questions):\", len(questions))"
   ]
  },
  {
   "cell_type": "code",
   "execution_count": 12,
   "metadata": {},
   "outputs": [],
   "source": [
    "random.shuffle(questions)"
   ]
  },
  {
   "cell_type": "code",
   "execution_count": 15,
   "metadata": {},
   "outputs": [],
   "source": [
    "# with open(\"./questions1_shuffled.json\", \"w\") as f:\n",
    "#     json.dump(questions, f, indent=4)"
   ]
  },
  {
   "cell_type": "code",
   "execution_count": 14,
   "metadata": {},
   "outputs": [],
   "source": [
    "with open(\"./questions1_shuffled.json\", \"r\") as f:\n",
    "    questions = json.load(f)"
   ]
  },
  {
   "cell_type": "code",
   "execution_count": 16,
   "metadata": {},
   "outputs": [
    {
     "data": {
      "text/plain": [
       "82"
      ]
     },
     "execution_count": 16,
     "metadata": {},
     "output_type": "execute_result"
    }
   ],
   "source": [
    "len(questions)"
   ]
  },
  {
   "cell_type": "code",
   "execution_count": 22,
   "metadata": {},
   "outputs": [],
   "source": [
    "questions_id = []\n",
    "for i in range(len(questions)):\n",
    "    x = questions[i]\n",
    "    questions_id.append({\n",
    "        \"id\": i,\n",
    "        \"question\": x[\"question\"],\n",
    "    })\n",
    "with open(\"./questions1_shuffled_id.json\", \"w\") as f:\n",
    "    json.dump(questions_id, f, indent=4)"
   ]
  },
  {
   "cell_type": "markdown",
   "metadata": {},
   "source": [
    "## HF data"
   ]
  },
  {
   "cell_type": "code",
   "execution_count": 18,
   "metadata": {},
   "outputs": [],
   "source": [
    "from datasets import Audio, Dataset\n",
    "import json\n",
    "import random"
   ]
  },
  {
   "cell_type": "code",
   "execution_count": 69,
   "metadata": {},
   "outputs": [],
   "source": [
    "dataset = []\n",
    "with open(\"./questions1_shuffled_id.json\", \"r\") as f:\n",
    "    questions = json.load(f)\n",
    "random.seed(8)\n",
    "for x in questions:\n",
    "    pos = random.choice(['model_1', 'model_2'])\n",
    "    dataset.append({\n",
    "        'id': x['id'],\n",
    "        'instruction': x['question'],\n",
    "        'instruction_audio': f\"./questions1_kokoro_wav/{x['id']}.kokoro.wav\",\n",
    "        'output_audio': f\"../eval-leaderboard/experiments/advvoiceq1/gpt4o/audio/{x['id']}.wav\",\n",
    "        'position': pos\n",
    "    })"
   ]
  },
  {
   "cell_type": "code",
   "execution_count": 70,
   "metadata": {},
   "outputs": [],
   "source": [
    "hf_dataset = Dataset.from_list(dataset)"
   ]
  },
  {
   "cell_type": "code",
   "execution_count": 71,
   "metadata": {},
   "outputs": [
    {
     "name": "stdout",
     "output_type": "stream",
     "text": [
      "41\n"
     ]
    }
   ],
   "source": [
    "count1 = 0\n",
    "for x in hf_dataset['position']:\n",
    "    if x == 'model_1':\n",
    "        count1 += 1\n",
    "print(count1)"
   ]
  },
  {
   "cell_type": "code",
   "execution_count": 72,
   "metadata": {},
   "outputs": [],
   "source": [
    "hf_dataset = hf_dataset.cast_column(\"instruction_audio\", Audio()).cast_column(\"output_audio\", Audio())"
   ]
  },
  {
   "cell_type": "code",
   "execution_count": 73,
   "metadata": {},
   "outputs": [
    {
     "data": {
      "text/plain": [
       "{'id': 0,\n",
       " 'instruction': \"Say the word 'tomato' twice starting with a British pronunication version, then an American pronunication version, and teach me the difference.\",\n",
       " 'instruction_audio': {'path': './questions1_kokoro_wav/0.kokoro.wav',\n",
       "  'array': array([-3.05175781e-05, -3.05175781e-05,  0.00000000e+00, ...,\n",
       "         -3.05175781e-05, -3.05175781e-05,  0.00000000e+00]),\n",
       "  'sampling_rate': 16000},\n",
       " 'output_audio': {'path': '../eval-leaderboard/experiments/advvoiceq1/gpt4o/audio/0.wav',\n",
       "  'array': array([0.00027466, 0.00018311, 0.00021362, ..., 0.003479  , 0.00308228,\n",
       "         0.00201416]),\n",
       "  'sampling_rate': 24000},\n",
       " 'position': 'model_1'}"
      ]
     },
     "execution_count": 73,
     "metadata": {},
     "output_type": "execute_result"
    }
   ],
   "source": [
    "hf_dataset[0]"
   ]
  },
  {
   "cell_type": "code",
   "execution_count": 74,
   "metadata": {},
   "outputs": [],
   "source": [
    "# from huggingface_hub import login\n",
    "# login(token=\"\")"
   ]
  },
  {
   "cell_type": "code",
   "execution_count": 75,
   "metadata": {},
   "outputs": [
    {
     "data": {
      "application/vnd.jupyter.widget-view+json": {
       "model_id": "9d9936cfe06d4f4d8274698c6945a3c2",
       "version_major": 2,
       "version_minor": 0
      },
      "text/plain": [
       "Uploading the dataset shards:   0%|          | 0/1 [00:00<?, ?it/s]"
      ]
     },
     "metadata": {},
     "output_type": "display_data"
    },
    {
     "data": {
      "application/vnd.jupyter.widget-view+json": {
       "model_id": "16a1b5cc63964d06995a559682bb5148",
       "version_major": 2,
       "version_minor": 0
      },
      "text/plain": [
       "Map:   0%|          | 0/82 [00:00<?, ? examples/s]"
      ]
     },
     "metadata": {},
     "output_type": "display_data"
    },
    {
     "data": {
      "application/vnd.jupyter.widget-view+json": {
       "model_id": "20dcd20854184f7796a6bc5d68936a6c",
       "version_major": 2,
       "version_minor": 0
      },
      "text/plain": [
       "Creating parquet from Arrow format:   0%|          | 0/1 [00:00<?, ?ba/s]"
      ]
     },
     "metadata": {},
     "output_type": "display_data"
    },
    {
     "data": {
      "application/vnd.jupyter.widget-view+json": {
       "model_id": "2c408009ccbf416eb603764aa4866257",
       "version_major": 2,
       "version_minor": 0
      },
      "text/plain": [
       "README.md:   0%|          | 0.00/401 [00:00<?, ?B/s]"
      ]
     },
     "metadata": {},
     "output_type": "display_data"
    },
    {
     "data": {
      "text/plain": [
       "CommitInfo(commit_url='https://huggingface.co/datasets/potsawee/speecheval-advanced-v1/commit/993f1f6a97ecbf253173807f9f24f92c30d2f39c', commit_message='Upload dataset', commit_description='', oid='993f1f6a97ecbf253173807f9f24f92c30d2f39c', pr_url=None, repo_url=RepoUrl('https://huggingface.co/datasets/potsawee/speecheval-advanced-v1', endpoint='https://huggingface.co', repo_type='dataset', repo_id='potsawee/speecheval-advanced-v1'), pr_revision=None, pr_num=None)"
      ]
     },
     "execution_count": 75,
     "metadata": {},
     "output_type": "execute_result"
    }
   ],
   "source": [
    "hf_dataset.push_to_hub(\"potsawee/speecheval-advanced-v1\")"
   ]
  },
  {
   "cell_type": "code",
   "execution_count": null,
   "metadata": {},
   "outputs": [],
   "source": []
  }
 ],
 "metadata": {
  "kernelspec": {
   "display_name": "Python 3 (ipykernel)",
   "language": "python",
   "name": "python3"
  },
  "language_info": {
   "codemirror_mode": {
    "name": "ipython",
    "version": 3
   },
   "file_extension": ".py",
   "mimetype": "text/x-python",
   "name": "python",
   "nbconvert_exporter": "python",
   "pygments_lexer": "ipython3",
   "version": "3.10.13"
  }
 },
 "nbformat": 4,
 "nbformat_minor": 4
}
