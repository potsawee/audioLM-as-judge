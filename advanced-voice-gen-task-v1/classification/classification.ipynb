{
 "cells": [
  {
   "cell_type": "code",
   "execution_count": 1,
   "metadata": {},
   "outputs": [],
   "source": [
    "import json\n",
    "from datasets import load_dataset"
   ]
  },
  {
   "cell_type": "code",
   "execution_count": 2,
   "metadata": {},
   "outputs": [
    {
     "name": "stderr",
     "output_type": "stream",
     "text": [
      "Repo card metadata block was not found. Setting CardData to empty.\n"
     ]
    }
   ],
   "source": [
    "ds = load_dataset(\"potsawee/speecheval-advanced-v1\")[\"train\"]"
   ]
  },
  {
   "cell_type": "code",
   "execution_count": 3,
   "metadata": {},
   "outputs": [],
   "source": [
    "categories = [\"others\", \"tone\", \"prosody\", \"style\", \"accent\", \"expressiveness\"]\n",
    "categories_arr = {category: [] for category in categories}\n",
    "instructions = ds['instruction'] \n",
    "for i in range(len(ds)):\n",
    "    path = f\"adv_v1/{i}.txt\"\n",
    "    with open(path) as f:\n",
    "        category = f.read().strip()\n",
    "    categories_arr[category].append(instructions[i])"
   ]
  },
  {
   "cell_type": "code",
   "execution_count": 4,
   "metadata": {},
   "outputs": [
    {
     "data": {
      "text/plain": [
       "[\"Say the word 'civic' normally and then pronounce it backwards with clear enunciation of each syllable.\",\n",
       " \"Say the word 'racecar' normally, then reverse it while maintaining clarity and a recognizable pronunciation.\",\n",
       " \"Pronounce the word 'radar' first forwards and then in reverse, ensuring the clarity of both versions.\"]"
      ]
     },
     "execution_count": 4,
     "metadata": {},
     "output_type": "execute_result"
    }
   ],
   "source": [
    "categories_arr['others']"
   ]
  },
  {
   "cell_type": "code",
   "execution_count": 5,
   "metadata": {},
   "outputs": [
    {
     "data": {
      "text/plain": [
       "[\"Say 'I love working on weekends' in three tones: excited, sarcastic, and frustrated, showing clear differences.\",\n",
       " \"Repeat the phrase 'I just won a prize' in a surprised, skeptical, and overjoyed tone, changing your pitch accordingly.\",\n",
       " \"Say the sentence 'I can't believe it's Monday' in a happy, sarcastic, and annoyed tone, highlighting the contrast in emotion.\",\n",
       " \"Teach me an example of Thai language tones using the word 'ma' in different tones. First show me how you pronounce all tones in one go, then explain each one.\"]"
      ]
     },
     "execution_count": 5,
     "metadata": {},
     "output_type": "execute_result"
    }
   ],
   "source": [
    "categories_arr['tone']"
   ]
  },
  {
   "cell_type": "markdown",
   "metadata": {},
   "source": [
    "# V2"
   ]
  },
  {
   "cell_type": "code",
   "execution_count": 6,
   "metadata": {},
   "outputs": [],
   "source": [
    "with open(\"adv_v1/prompt2.json\") as f:\n",
    "    response = f.read()"
   ]
  },
  {
   "cell_type": "code",
   "execution_count": 7,
   "metadata": {},
   "outputs": [],
   "source": [
    "json_str = response.split(\"[[Start Final Prediction]]\")[-1].strip()\n",
    "json_obj = json.loads(json_str)"
   ]
  },
  {
   "cell_type": "code",
   "execution_count": 8,
   "metadata": {},
   "outputs": [],
   "source": [
    "category_arr = {}\n",
    "for class_id, category in json_obj.items():\n",
    "    category_arr[category['description']] = [int(i.replace(\"id\", \"\")) for i in category['items']]"
   ]
  },
  {
   "cell_type": "code",
   "execution_count": 9,
   "metadata": {},
   "outputs": [
    {
     "data": {
      "text/plain": [
       "{'Accent & Pronunciation Variations: Instructions emphasizing regional or language-specific accent differences, pronunciation nuances, or tones.': [0,\n",
       "  1,\n",
       "  3,\n",
       "  10,\n",
       "  14,\n",
       "  15,\n",
       "  19,\n",
       "  21,\n",
       "  27,\n",
       "  34,\n",
       "  39,\n",
       "  46,\n",
       "  53,\n",
       "  60,\n",
       "  61,\n",
       "  68,\n",
       "  71,\n",
       "  72,\n",
       "  75,\n",
       "  77,\n",
       "  81],\n",
       " 'Voice Modulations & Special Effects: Instructions focusing on changing volume, pitch, speed, emotional tone, or adding echoes, glitches, Morse code, reverb, etc.': [2,\n",
       "  5,\n",
       "  7,\n",
       "  9,\n",
       "  11,\n",
       "  12,\n",
       "  13,\n",
       "  16,\n",
       "  26,\n",
       "  28,\n",
       "  29,\n",
       "  30,\n",
       "  31,\n",
       "  32,\n",
       "  33,\n",
       "  36,\n",
       "  37,\n",
       "  38,\n",
       "  40,\n",
       "  41,\n",
       "  44,\n",
       "  45,\n",
       "  47,\n",
       "  48,\n",
       "  49,\n",
       "  50,\n",
       "  51,\n",
       "  52,\n",
       "  56,\n",
       "  57,\n",
       "  58,\n",
       "  59,\n",
       "  62,\n",
       "  64,\n",
       "  66,\n",
       "  67,\n",
       "  69,\n",
       "  76,\n",
       "  78,\n",
       "  80],\n",
       " 'Animal & Non-Linguistic Sound Imitations: Instructions requiring imitation of animal calls or non-verbal sounds such as whistling.': [6,\n",
       "  18,\n",
       "  20,\n",
       "  24,\n",
       "  25,\n",
       "  55],\n",
       " 'Articulation & Speed Challenges: Instructions involving tongue twisters, reversing words, or adjusting speed to highlight clarity and enunciation.': [8,\n",
       "  17,\n",
       "  22,\n",
       "  42,\n",
       "  43,\n",
       "  54,\n",
       "  63,\n",
       "  65,\n",
       "  70,\n",
       "  73,\n",
       "  79],\n",
       " 'Storytelling & Narration: Instructions primarily about telling a story or narrative in a calm, relaxing, or engaging manner, without a strong focus on accent variation.': [4,\n",
       "  23,\n",
       "  35,\n",
       "  74]}"
      ]
     },
     "execution_count": 9,
     "metadata": {},
     "output_type": "execute_result"
    }
   ],
   "source": [
    "category_arr"
   ]
  },
  {
   "cell_type": "code",
   "execution_count": 10,
   "metadata": {},
   "outputs": [
    {
     "name": "stdout",
     "output_type": "stream",
     "text": [
      "percentage of data: 25.61% \n",
      " -> Accent & Pronunciation Variations: Instructions emphasizing regional or language-specific accent differences, pronunciation nuances, or tones.\n",
      "percentage of data: 48.78% \n",
      " -> Voice Modulations & Special Effects: Instructions focusing on changing volume, pitch, speed, emotional tone, or adding echoes, glitches, Morse code, reverb, etc.\n",
      "percentage of data: 7.32% \n",
      " -> Animal & Non-Linguistic Sound Imitations: Instructions requiring imitation of animal calls or non-verbal sounds such as whistling.\n",
      "percentage of data: 13.41% \n",
      " -> Articulation & Speed Challenges: Instructions involving tongue twisters, reversing words, or adjusting speed to highlight clarity and enunciation.\n",
      "percentage of data: 4.88% \n",
      " -> Storytelling & Narration: Instructions primarily about telling a story or narrative in a calm, relaxing, or engaging manner, without a strong focus on accent variation.\n"
     ]
    }
   ],
   "source": [
    "for category, ids in category_arr.items():\n",
    "    print(f\"percentage of data: {len(ids)/len(ds)*100:.2f}%\", '\\n', f\"-> {category}\")"
   ]
  },
  {
   "cell_type": "code",
   "execution_count": 12,
   "metadata": {},
   "outputs": [
    {
     "data": {
      "image/png": "[encoded data removed]",
      "text/plain": [
       "<Figure size 550x550 with 1 Axes>"
      ]
     },
     "metadata": {},
     "output_type": "display_data"
    }
   ],
   "source": [
    "import matplotlib.pyplot as plt\n",
    "\n",
    "# Data for the pie chart\n",
    "labels = [k.split(\":\")[0].replace(\"&\", \"&\\n\").replace(\" Variations\", \"\").replace(\" Sound Imitations\", \"\") for k in category_arr.keys()]\n",
    "sizes = [len(v) for v in category_arr.values()]\n",
    "# colors = ['red', 'yellow', 'pink', 'brown', 'orange']  # Custom colors\n",
    "# I want pastel colors\n",
    "colors = [ '#438AC9', '#EB5F1A', '#F6A417', '#FECF16', '#70C9E0']\n",
    "explode = (0.1, 0.1, 0, 0, 0)  # Explode the first slice\n",
    "\n",
    "# Custom function to format labels inside the pie chart\n",
    "def custom_label(pct, all_values):\n",
    "    absolute = int(round(pct / 100. * sum(all_values)))  # Calculate absolute value\n",
    "    return f\"{absolute} ({pct:.1f}%)\"  # Format as \"Description (xx.x%)\"\n",
    "\n",
    "# Create pie chart\n",
    "plt.figure(figsize=(5.5, 5.5))\n",
    "plt.pie(sizes, labels=labels, colors=colors, autopct='%1.1f%%', startangle=140)  # shadow=True) # explode=explode,\n",
    "\n",
    "# Title\n",
    "# plt.title('SpeakBench Distribution')\n",
    "\n",
    "# Show the pie chart\n",
    "plt.show()\n",
    "# plt.savefig(\"speakbench_distribution.pdf\", format='pdf', bbox_inches='tight')"
   ]
  },
  {
   "cell_type": "markdown",
   "metadata": {},
   "source": [
    "# Human Eval\n",
    "- GPT-4o-audio vs Cascade\n",
    "- Date: 19 Feb 2025"
   ]
  },
  {
   "cell_type": "code",
   "execution_count": 13,
   "metadata": {},
   "outputs": [],
   "source": [
    "import pandas as pd"
   ]
  },
  {
   "cell_type": "code",
   "execution_count": 24,
   "metadata": {},
   "outputs": [],
   "source": [
    "human = pd.read_csv(\"../human_eval_gpt4o_vs_cascade/manual_label_20250219.csv\", header=None)\n",
    "column_names = [\"id\", \"judge_context\", \"judge_voice\", \"human_context\", \"human_voice\"]  # Modify as needed\n",
    "# Assign column names to DataFrame\n",
    "human.columns = column_names"
   ]
  },
  {
   "cell_type": "code",
   "execution_count": 25,
   "metadata": {},
   "outputs": [
    {
     "data": {
      "text/html": [
       "<div>\n",
       "<style scoped>\n",
       "    .dataframe tbody tr th:only-of-type {\n",
       "        vertical-align: middle;\n",
       "    }\n",
       "\n",
       "    .dataframe tbody tr th {\n",
       "        vertical-align: top;\n",
       "    }\n",
       "\n",
       "    .dataframe thead th {\n",
       "        text-align: right;\n",
       "    }\n",
       "</style>\n",
       "<table border=\"1\" class=\"dataframe\">\n",
       "  <thead>\n",
       "    <tr style=\"text-align: right;\">\n",
       "      <th></th>\n",
       "      <th>id</th>\n",
       "      <th>judge_context</th>\n",
       "      <th>judge_voice</th>\n",
       "      <th>human_context</th>\n",
       "      <th>human_voice</th>\n",
       "    </tr>\n",
       "  </thead>\n",
       "  <tbody>\n",
       "    <tr>\n",
       "      <th>0</th>\n",
       "      <td>0</td>\n",
       "      <td>B</td>\n",
       "      <td>A</td>\n",
       "      <td>B</td>\n",
       "      <td>A</td>\n",
       "    </tr>\n",
       "    <tr>\n",
       "      <th>1</th>\n",
       "      <td>1</td>\n",
       "      <td>B</td>\n",
       "      <td>B</td>\n",
       "      <td>B</td>\n",
       "      <td>A</td>\n",
       "    </tr>\n",
       "    <tr>\n",
       "      <th>2</th>\n",
       "      <td>2</td>\n",
       "      <td>A</td>\n",
       "      <td>A</td>\n",
       "      <td>A</td>\n",
       "      <td>A</td>\n",
       "    </tr>\n",
       "    <tr>\n",
       "      <th>3</th>\n",
       "      <td>3</td>\n",
       "      <td>A</td>\n",
       "      <td>A</td>\n",
       "      <td>A</td>\n",
       "      <td>A</td>\n",
       "    </tr>\n",
       "    <tr>\n",
       "      <th>4</th>\n",
       "      <td>4</td>\n",
       "      <td>A</td>\n",
       "      <td>B</td>\n",
       "      <td>tie</td>\n",
       "      <td>A</td>\n",
       "    </tr>\n",
       "    <tr>\n",
       "      <th>...</th>\n",
       "      <td>...</td>\n",
       "      <td>...</td>\n",
       "      <td>...</td>\n",
       "      <td>...</td>\n",
       "      <td>...</td>\n",
       "    </tr>\n",
       "    <tr>\n",
       "      <th>77</th>\n",
       "      <td>77</td>\n",
       "      <td>B</td>\n",
       "      <td>A</td>\n",
       "      <td>A</td>\n",
       "      <td>A</td>\n",
       "    </tr>\n",
       "    <tr>\n",
       "      <th>78</th>\n",
       "      <td>78</td>\n",
       "      <td>A</td>\n",
       "      <td>A</td>\n",
       "      <td>tie_bad</td>\n",
       "      <td>tie_bad</td>\n",
       "    </tr>\n",
       "    <tr>\n",
       "      <th>79</th>\n",
       "      <td>79</td>\n",
       "      <td>A</td>\n",
       "      <td>B</td>\n",
       "      <td>tie_bad</td>\n",
       "      <td>tie_bad</td>\n",
       "    </tr>\n",
       "    <tr>\n",
       "      <th>80</th>\n",
       "      <td>80</td>\n",
       "      <td>A</td>\n",
       "      <td>B</td>\n",
       "      <td>tie_bad</td>\n",
       "      <td>tie_bad</td>\n",
       "    </tr>\n",
       "    <tr>\n",
       "      <th>81</th>\n",
       "      <td>81</td>\n",
       "      <td>B</td>\n",
       "      <td>A</td>\n",
       "      <td>A</td>\n",
       "      <td>A</td>\n",
       "    </tr>\n",
       "  </tbody>\n",
       "</table>\n",
       "<p>82 rows × 5 columns</p>\n",
       "</div>"
      ],
      "text/plain": [
       "    id judge_context judge_voice human_context human_voice\n",
       "0    0             B           A             B           A\n",
       "1    1             B           B             B           A\n",
       "2    2             A           A             A           A\n",
       "3    3             A           A             A           A\n",
       "4    4             A           B           tie           A\n",
       "..  ..           ...         ...           ...         ...\n",
       "77  77             B           A             A           A\n",
       "78  78             A           A       tie_bad     tie_bad\n",
       "79  79             A           B       tie_bad     tie_bad\n",
       "80  80             A           B       tie_bad     tie_bad\n",
       "81  81             B           A             A           A\n",
       "\n",
       "[82 rows x 5 columns]"
      ]
     },
     "execution_count": 25,
     "metadata": {},
     "output_type": "execute_result"
    }
   ],
   "source": [
    "human"
   ]
  },
  {
   "cell_type": "code",
   "execution_count": 47,
   "metadata": {},
   "outputs": [
    {
     "name": "stdout",
     "output_type": "stream",
     "text": [
      "Accent & Pronunciation Variations: Instructions emphasizing regional or language-specific accent differences, pronunciation nuances, or tones.\n",
      "Count: 21\n",
      "good_percent: 95.24%\n",
      "-------------------------\n",
      "Voice Modulations & Special Effects: Instructions focusing on changing volume, pitch, speed, emotional tone, or adding echoes, glitches, Morse code, reverb, etc.\n",
      "Count: 40\n",
      "good_percent: 65.00%\n",
      "-------------------------\n",
      "Animal & Non-Linguistic Sound Imitations: Instructions requiring imitation of animal calls or non-verbal sounds such as whistling.\n",
      "Count: 6\n",
      "good_percent: 83.33%\n",
      "-------------------------\n",
      "Articulation & Speed Challenges: Instructions involving tongue twisters, reversing words, or adjusting speed to highlight clarity and enunciation.\n",
      "Count: 11\n",
      "good_percent: 63.64%\n",
      "-------------------------\n",
      "Storytelling & Narration: Instructions primarily about telling a story or narrative in a calm, relaxing, or engaging manner, without a strong focus on accent variation.\n",
      "Count: 4\n",
      "good_percent: 100.00%\n",
      "-------------------------\n"
     ]
    },
    {
     "data": {
      "text/plain": [
       "62"
      ]
     },
     "execution_count": 47,
     "metadata": {},
     "output_type": "execute_result"
    }
   ],
   "source": [
    "count1_sum = 0\n",
    "good_ids = []\n",
    "for category, ids in category_arr.items():\n",
    "    count1, count_all = 0, 0\n",
    "    for id in ids:\n",
    "        label = human.iloc[id]['human_voice']\n",
    "        assert label in ['A', 'B', 'tie', 'tie_bad']\n",
    "        if label == 'A' or label == 'tie':\n",
    "            good_ids.append(id)\n",
    "            count1 += 1\n",
    "        count_all += 1\n",
    "    count1_sum += count1\n",
    "    print(f\"{category}\")\n",
    "    print(f\"Count: {count_all}\")\n",
    "    print(f\"good_percent: {count1/count_all*100:.2f}%\")\n",
    "    print(\"-------------------------\")\n",
    "count1_sum"
   ]
  },
  {
   "cell_type": "code",
   "execution_count": 45,
   "metadata": {},
   "outputs": [
    {
     "data": {
      "text/plain": [
       "63"
      ]
     },
     "execution_count": 45,
     "metadata": {},
     "output_type": "execute_result"
    }
   ],
   "source": [
    "len(good_ids)"
   ]
  },
  {
   "cell_type": "code",
   "execution_count": 42,
   "metadata": {},
   "outputs": [],
   "source": [
    "good_ids = sorted(good_ids)"
   ]
  },
  {
   "cell_type": "code",
   "execution_count": 43,
   "metadata": {},
   "outputs": [],
   "source": [
    "with open(\"./good_ids_62_82.json\", \"w\") as f:\n",
    "    json.dump(good_ids, f)"
   ]
  }
 ],
 "metadata": {
  "kernelspec": {
   "display_name": "Python 3 (ipykernel)",
   "language": "python",
   "name": "python3"
  },
  "language_info": {
   "codemirror_mode": {
    "name": "ipython",
    "version": 3
   },
   "file_extension": ".py",
   "mimetype": "text/x-python",
   "name": "python",
   "nbconvert_exporter": "python",
   "pygments_lexer": "ipython3",
   "version": "3.10.13"
  }
 },
 "nbformat": 4,
 "nbformat_minor": 4
}
