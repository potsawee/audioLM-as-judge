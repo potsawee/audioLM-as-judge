{
 "cells": [
  {
   "cell_type": "code",
   "execution_count": 31,
   "id": "6c593004-db35-4c02-9770-e491cf89c268",
   "metadata": {},
   "outputs": [],
   "source": [
    "import json\n",
    "import re"
   ]
  },
  {
   "cell_type": "code",
   "execution_count": 32,
   "id": "19d850b0-ad13-48d2-bb45-0ff463dfd6e2",
   "metadata": {},
   "outputs": [],
   "source": [
    "with open(\"../data/data_somos_pairwise_diffall.json\") as f:\n",
    "    raw_data = json.load(f)"
   ]
  },
  {
   "cell_type": "code",
   "execution_count": 33,
   "id": "78b02dba-8bbf-44c4-92e7-ccd6b3cef6a5",
   "metadata": {},
   "outputs": [
    {
     "data": {
      "text/plain": [
       "3567"
      ]
     },
     "execution_count": 33,
     "metadata": {},
     "output_type": "execute_result"
    }
   ],
   "source": [
    "len(raw_data)"
   ]
  },
  {
   "cell_type": "code",
   "execution_count": 34,
   "id": "25b2fb68-9e93-4c06-8650-256e6c0196b9",
   "metadata": {},
   "outputs": [
    {
     "data": {
      "text/plain": [
       "{'uttId': 'LJ003-0173_007',\n",
       " 'mos': 3.4,\n",
       " 'text': 'He continued the ancient practice of letting out a portion of his own house, and by a poetical fiction treated it, as an annex of the state side.',\n",
       " 'path': '/data/share/data/Speech/somos/audios/LJ003-0173_007.wav'}"
      ]
     },
     "execution_count": 34,
     "metadata": {},
     "output_type": "execute_result"
    }
   ],
   "source": [
    "raw_data[0][0]"
   ]
  },
  {
   "cell_type": "code",
   "execution_count": 35,
   "id": "8affd98e-d668-454c-983b-ba351167b2f7",
   "metadata": {},
   "outputs": [
    {
     "data": {
      "text/plain": [
       "'LJ003-0173_007'"
      ]
     },
     "execution_count": 35,
     "metadata": {},
     "output_type": "execute_result"
    }
   ],
   "source": [
    "raw[0]['uttId']"
   ]
  },
  {
   "cell_type": "code",
   "execution_count": 36,
   "id": "e9ab89f1-9d24-4fd4-9462-cb18c9c17d2c",
   "metadata": {},
   "outputs": [
    {
     "data": {
      "text/plain": [
       "'wiki_0098_124'"
      ]
     },
     "execution_count": 36,
     "metadata": {},
     "output_type": "execute_result"
    }
   ],
   "source": [
    "output['audio_a'].replace(\".wav\", \"\")"
   ]
  },
  {
   "cell_type": "code",
   "execution_count": 15,
   "id": "0f8587ad-720a-4d28-84b1-690fb70b0314",
   "metadata": {},
   "outputs": [
    {
     "data": {
      "text/plain": [
       "'LJ003-0173_007'"
      ]
     },
     "execution_count": 15,
     "metadata": {},
     "output_type": "execute_result"
    }
   ],
   "source": [
    "output['audio_b'].replace(\".wav\", \"\")"
   ]
  },
  {
   "cell_type": "code",
   "execution_count": 45,
   "id": "9841a70d-2151-4b74-901b-8950bc9dcbc7",
   "metadata": {},
   "outputs": [],
   "source": [
    "label_mapping = {\n",
    "    \"The first.\": \"A\",\n",
    "    \"The second.\": \"B\",\n",
    "    \"The second is better.\": \"B\",\n",
    "    \"The latter is better.\": \"B\",\n",
    "    \"The latter.\": \"B\",\n",
    "}"
   ]
  },
  {
   "cell_type": "code",
   "execution_count": 47,
   "id": "6c0022c1-78c7-4566-945c-f281d78e212f",
   "metadata": {},
   "outputs": [],
   "source": [
    "def read_output_file(path):\n",
    "    # path = \"./somos_test.processed.jsonl\"\n",
    "    # outputs = []\n",
    "    # with open(path, \"r\") as f:\n",
    "    #     for line in f:\n",
    "    #         x = json.loads(line)\n",
    "    #         outputs.append(x)\n",
    "\n",
    "    # path = \"./eval_test_epoch_best.json\"\n",
    "    \n",
    "    with open(path) as f:\n",
    "        outputs = json.load(f)\n",
    "        \n",
    "    count_all, count_correct, count_incorrect, count_tie, error = 0, 0, 0, 0, 0\n",
    "    predictions = []\n",
    "    for i, output in enumerate(outputs):\n",
    "    \n",
    "        verdict_text = label_mapping[output['text'][0].strip(\"</s>\")]\n",
    "        gt = label_mapping[output['ground_truth'][0]]\n",
    "        \n",
    "        assert verdict_text in ['A', 'B', 'C', 'D']\n",
    "        assert gt in ['A', 'B']\n",
    "        \n",
    "        if verdict_text == \"A\":\n",
    "            if gt == \"A\":\n",
    "                count_correct += 1\n",
    "                evaluation = \"correct\"\n",
    "            else:\n",
    "                count_incorrect += 1\n",
    "                evaluation = \"incorrect\"\n",
    "        elif verdict_text == \"B\":\n",
    "            if gt == \"B\":\n",
    "                count_correct += 1\n",
    "                evaluation = \"correct\"\n",
    "            else:\n",
    "                count_incorrect += 1\n",
    "                evaluation = \"incorrect\"\n",
    "        elif verdict_text == \"C\":\n",
    "            count_tie += 1\n",
    "            evaluation = 'tie'\n",
    "        else:\n",
    "            error += 1\n",
    "            evaluation = 'error'\n",
    "        count_all += 1\n",
    "        predictions.append([evaluation, verdict_text])\n",
    "    print(\"total:\", count_all)\n",
    "    print(\"correct:   {:.2f}%\".format(count_correct/count_all*100))\n",
    "    print(\"incorrect: {:.2f}%\".format(count_incorrect/count_all*100))\n",
    "    print(\"tie:       {:.2f}%\".format(count_tie/count_all*100))\n",
    "    print(\"error:     {:.2f}%\".format(error/count_all*100))\n",
    "    # return predictions"
   ]
  },
  {
   "cell_type": "code",
   "execution_count": 49,
   "id": "9a4e1ce4-ce0d-4f73-8bf4-d9147f5a206c",
   "metadata": {},
   "outputs": [
    {
     "name": "stdout",
     "output_type": "stream",
     "text": [
      "total: 3567\n",
      "correct:   66.64%\n",
      "incorrect: 33.36%\n",
      "tie:       0.00%\n",
      "error:     0.00%\n"
     ]
    }
   ],
   "source": [
    "predictions = read_output_file(\"./eval_test_epoch_best.json\")"
   ]
  },
  {
   "cell_type": "markdown",
   "id": "46d6d670-177d-419c-a489-8bff380f2838",
   "metadata": {},
   "source": [
    "## System-level Analysis"
   ]
  },
  {
   "cell_type": "code",
   "execution_count": 50,
   "id": "8dc507b2-a11d-4dd5-a8a1-1eb4c1351025",
   "metadata": {},
   "outputs": [],
   "source": [
    "import numpy as np\n",
    "import scipy.stats as stats\n",
    "import matplotlib.pyplot as plt"
   ]
  },
  {
   "cell_type": "code",
   "execution_count": 29,
   "id": "79c78ef9-87ce-45ce-853e-a2f5bfa42678",
   "metadata": {},
   "outputs": [],
   "source": [
    "def analyze_correlation_and_plot(list_a, list_b):\n",
    "    # 1. Compute Pearson correlation\n",
    "    pearson_corr, _ = stats.pearsonr(list_a, list_b)\n",
    "\n",
    "    # 2. Compute Spearman correlation\n",
    "    spearman_corr, _ = stats.spearmanr(list_a, list_b)\n",
    "\n",
    "    # Print results\n",
    "    print(f\"Pearson Correlation: {pearson_corr:.3f}\")\n",
    "    print(f\"Spearman Correlation: {spearman_corr:.3f}\")\n",
    "\n",
    "    # 4. Scatter plot with best-fit line\n",
    "    plt.figure(figsize=(5, 4))\n",
    "    plt.scatter(list_a, list_b, color='blue', label='Data points')\n",
    "\n",
    "    # Best fit line\n",
    "    coefficients = np.polyfit(list_a, list_b, 1)  # Linear fit (degree=1)\n",
    "    poly = np.poly1d(coefficients)\n",
    "    best_fit_line = poly(list_a)\n",
    "\n",
    "    plt.plot(list_a, best_fit_line, color='red', label='Best Fit Line')\n",
    "    plt.xlabel('MOS (GT)')\n",
    "    plt.ylabel('AudioJudge Prediction (Win Rate)')\n",
    "    plt.title('Scatter Plot with Best Fit Line')\n",
    "    plt.legend()\n",
    "    plt.grid()\n",
    "    plt.show()"
   ]
  },
  {
   "cell_type": "code",
   "execution_count": 51,
   "id": "d7a5057f-cc56-4946-8377-5c68401a6748",
   "metadata": {},
   "outputs": [
    {
     "name": "stdout",
     "output_type": "stream",
     "text": [
      "Pearson Correlation: 0.692\n",
      "Spearman Correlation: 0.702\n"
     ]
    },
    {
     "data": {
      "image/png": "[encoded data removed]",
      "text/plain": [
       "<Figure size 500x400 with 1 Axes>"
      ]
     },
     "metadata": {},
     "output_type": "display_data"
    }
   ],
   "source": [
    "# def evaluate_system_level():\n",
    "pred_by_system, gts_by_system = {}, {}\n",
    "\n",
    "path = \"./somos_test.processed.jsonl\"\n",
    "outputs = []\n",
    "with open(path, \"r\") as f:\n",
    "    for line in f:\n",
    "        x = json.loads(line)\n",
    "        outputs.append(x)\n",
    "\n",
    "with open(\"./eval_test_epoch_best.json\") as f:\n",
    "    outputsGOOD = json.load(f)\n",
    "        \n",
    "for output, output_good in zip(outputs, outputsGOOD):\n",
    "    audio_a_uttId = output['audio_a'].replace(\".wav\", \"\")\n",
    "    audio_b_uttId = output['audio_b'].replace(\".wav\", \"\")\n",
    "    model_a = audio_a_uttId.split('_')[-1]\n",
    "    model_b = audio_b_uttId.split('_')[-1]\n",
    "    if model_a not in pred_by_system: pred_by_system[model_a] = []\n",
    "    if model_a not in gts_by_system:  gts_by_system[model_a] = []\n",
    "    if model_b not in pred_by_system: pred_by_system[model_b] = []\n",
    "    if model_b not in gts_by_system:  gts_by_system[model_b] = []\n",
    "\n",
    "    verdict_text = label_mapping[output_good['text'][0].strip(\"</s>\")]\n",
    "    assert verdict_text in ['A', 'B', 'C', 'D']\n",
    "        \n",
    "    if verdict_text == \"A\":\n",
    "        pred_by_system[model_a] += [1]\n",
    "        pred_by_system[model_b] += [0]\n",
    "    elif verdict_text == \"B\":\n",
    "        pred_by_system[model_a] += [0]\n",
    "        pred_by_system[model_b] += [1]\n",
    "    elif verdict_text == \"C\":\n",
    "        pred_by_system[model_a] += [0.5]\n",
    "        pred_by_system[model_b] += [0.5]    \n",
    "    elif verdict_text == \"D\":\n",
    "        pred_by_system[model_a] += [0.5]\n",
    "        pred_by_system[model_b] += [0.5]    \n",
    "    else:\n",
    "        raise Exception()\n",
    "    \n",
    "    gts_by_system[model_a] += [output['mos_a']]\n",
    "    gts_by_system[model_b] += [output['mos_b']]\n",
    "\n",
    "system_level_pred, system_level_gts = [], []\n",
    "systems = []\n",
    "for system, pred in pred_by_system.items():\n",
    "    gts = gts_by_system[system]\n",
    "    assert len(pred) == len(gts)\n",
    "    system_level_pred.append(np.mean(pred)*100)\n",
    "    system_level_gts.append(np.mean(gts))\n",
    "    systems.append(system)\n",
    "analyze_correlation_and_plot(system_level_gts, system_level_pred)"
   ]
  },
  {
   "cell_type": "code",
   "execution_count": null,
   "id": "6e995439-390b-4353-b964-04f6c003522c",
   "metadata": {},
   "outputs": [],
   "source": []
  }
 ],
 "metadata": {
  "kernelspec": {
   "display_name": "Python 3 (ipykernel)",
   "language": "python",
   "name": "python3"
  },
  "language_info": {
   "codemirror_mode": {
    "name": "ipython",
    "version": 3
   },
   "file_extension": ".py",
   "mimetype": "text/x-python",
   "name": "python",
   "nbconvert_exporter": "python",
   "pygments_lexer": "ipython3",
   "version": "3.10.13"
  }
 },
 "nbformat": 4,
 "nbformat_minor": 5
}
