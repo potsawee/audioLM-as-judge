{
 "cells": [
  {
   "cell_type": "code",
   "execution_count": 14,
   "id": "6c593004-db35-4c02-9770-e491cf89c268",
   "metadata": {},
   "outputs": [],
   "source": [
    "import json\n",
    "import re"
   ]
  },
  {
   "cell_type": "code",
   "execution_count": 15,
   "id": "0103dddc-90b1-4fa1-8346-0233f91d493f",
   "metadata": {},
   "outputs": [],
   "source": [
    "label_mapping = {\n",
    "    \"The first.\": \"A\",\n",
    "    \"The second.\": \"B\",\n",
    "    \"The second is better.\": \"B\",\n",
    "    \"The latter is better.\": \"B\",\n",
    "    \"The latter.\": \"B\",\n",
    "}"
   ]
  },
  {
   "cell_type": "code",
   "execution_count": 16,
   "id": "831400bf-271b-4ffe-81be-43ffadbb8cc7",
   "metadata": {},
   "outputs": [
    {
     "data": {
      "text/plain": [
       "{'id': ['/mnt/bn/audio-visual-llm-data3/wangsiyin/SALMONN/data/tmhint_zhi/wavs/6475_a.wav'],\n",
       " 'ground_truth': ['The second.'],\n",
       " 'loss': 0.3824641704559326,\n",
       " 'acc': 1.0,\n",
       " 'total': 4,\n",
       " 'text': ['The second.</s>'],\n",
       " 'prompt': ['USER: <Speech><SpeechHere></Speech> Could you please indicate which speech sample has better quality?\\nASSISTANT:'],\n",
       " 'task': ['mos_ABtest']}"
      ]
     },
     "execution_count": 16,
     "metadata": {},
     "output_type": "execute_result"
    }
   ],
   "source": [
    "output"
   ]
  },
  {
   "cell_type": "code",
   "execution_count": 17,
   "id": "6c0022c1-78c7-4566-945c-f281d78e212f",
   "metadata": {},
   "outputs": [
    {
     "name": "stdout",
     "output_type": "stream",
     "text": [
      "total: 6475\n",
      "correct:   66.25%\n",
      "incorrect: 33.75%\n",
      "tie:       0.00%\n",
      "error:     0.00%\n"
     ]
    }
   ],
   "source": [
    "path = \"./eval_test_epoch_best_tmhint.json\"\n",
    "with open(path) as f:\n",
    "    outputs = json.load(f)\n",
    "\n",
    "count_all, count_correct, count_incorrect, count_tie, error = 0, 0, 0, 0, 0\n",
    "predictions = []\n",
    "error = 0\n",
    "for i, output in enumerate(outputs):\n",
    "    verdict_text = label_mapping[output['text'][0].strip(\"</s>\")]\n",
    "    gt = label_mapping[output['ground_truth'][0]]\n",
    "    \n",
    "    assert verdict_text in ['A', 'B', 'C', 'D']\n",
    "    assert gt in ['A', 'B']\n",
    "    \n",
    "        \n",
    "    if verdict_text == \"A\":\n",
    "        if gt == \"A\":\n",
    "            count_correct += 1\n",
    "            evaluation = \"correct\"\n",
    "        else:\n",
    "            count_incorrect += 1\n",
    "            evaluation = \"incorrect\"\n",
    "    elif verdict_text == \"B\":\n",
    "        if gt == \"B\":\n",
    "            count_correct += 1\n",
    "            evaluation = \"correct\"\n",
    "        else:\n",
    "            count_incorrect += 1\n",
    "            evaluation = \"incorrect\"\n",
    "    elif verdict_text == \"C\":\n",
    "        count_tie += 1\n",
    "        evaluation = 'tie'\n",
    "    else:\n",
    "        error += 1\n",
    "        evaluation = 'error'\n",
    "    count_all += 1\n",
    "    predictions.append([evaluation, verdict_text])\n",
    "print(\"total:\", count_all)\n",
    "print(\"correct:   {:.2f}%\".format(count_correct/count_all*100))\n",
    "print(\"incorrect: {:.2f}%\".format(count_incorrect/count_all*100))\n",
    "print(\"tie:       {:.2f}%\".format(count_tie/count_all*100))\n",
    "print(\"error:     {:.2f}%\".format(error/count_all*100))\n"
   ]
  },
  {
   "cell_type": "markdown",
   "id": "87eecd13-6710-4676-bc4f-3f187edb4872",
   "metadata": {},
   "source": [
    "# System-level Correlation"
   ]
  },
  {
   "cell_type": "code",
   "execution_count": 18,
   "id": "aa5814b3-0225-4a20-9eda-84b1588fde65",
   "metadata": {},
   "outputs": [],
   "source": [
    "import numpy as np\n",
    "import scipy.stats as stats\n",
    "import matplotlib.pyplot as plt"
   ]
  },
  {
   "cell_type": "code",
   "execution_count": 19,
   "id": "1d1e3a57-40b4-44f9-af8f-0ebca13ee8b8",
   "metadata": {},
   "outputs": [],
   "source": [
    "def analyze_correlation_and_plot(list_a, list_b):\n",
    "    # 1. Compute Pearson correlation\n",
    "    pearson_corr, _ = stats.pearsonr(list_a, list_b)\n",
    "\n",
    "    # 2. Compute Spearman correlation\n",
    "    spearman_corr, _ = stats.spearmanr(list_a, list_b)\n",
    "\n",
    "    # Print results\n",
    "    print(f\"Pearson Correlation: {pearson_corr:.3f}\")\n",
    "    print(f\"Spearman Correlation: {spearman_corr:.3f}\")\n",
    "\n",
    "    # 4. Scatter plot with best-fit line\n",
    "    plt.figure(figsize=(5, 4))\n",
    "    plt.scatter(list_a, list_b, color='blue', label='Data points')\n",
    "\n",
    "    # Best fit line\n",
    "    coefficients = np.polyfit(list_a, list_b, 1)  # Linear fit (degree=1)\n",
    "    poly = np.poly1d(coefficients)\n",
    "    best_fit_line = poly(list_a)\n",
    "\n",
    "    plt.plot(list_a, best_fit_line, color='red', label='Best Fit Line')\n",
    "    plt.xlabel('MOS (GT)')\n",
    "    plt.ylabel('AudioJudge Prediction (Win Rate)')\n",
    "    plt.title('Scatter Plot with Best Fit Line')\n",
    "    plt.legend()\n",
    "    plt.grid()\n",
    "    plt.show()"
   ]
  },
  {
   "cell_type": "code",
   "execution_count": 26,
   "id": "0e235ec6-bb28-4d35-9f50-d0f0e72c2fe8",
   "metadata": {},
   "outputs": [
    {
     "data": {
      "text/plain": [
       "{'system': 'KLT_snr2_white',\n",
       " 'row_id': 833,\n",
       " 'text': '他的录取资格被取消了',\n",
       " 'path': '/data/share/data/Speech/TMHINTQI/test/KLT_snr2_white_TMHINT_g4_22_05.wav',\n",
       " 'Q': 3.0,\n",
       " 'I': 8.666666666666666}"
      ]
     },
     "execution_count": 26,
     "metadata": {},
     "output_type": "execute_result"
    }
   ],
   "source": [
    "audio_a"
   ]
  },
  {
   "cell_type": "code",
   "execution_count": 30,
   "id": "edab7750-9be9-4083-ac3c-0909883f2f0f",
   "metadata": {},
   "outputs": [
    {
     "name": "stdout",
     "output_type": "stream",
     "text": [
      "Pearson Correlation: 0.164\n",
      "Spearman Correlation: 0.165\n"
     ]
    },
    {
     "data": {
      "image/png": "[encoded data removed]",
      "text/plain": [
       "<Figure size 500x400 with 1 Axes>"
      ]
     },
     "metadata": {},
     "output_type": "display_data"
    }
   ],
   "source": [
    "pred_by_system, gts_by_system = {}, {}\n",
    "\n",
    "path = f\"../experiments/tmhintqi/ab_testing/diffall_typhoon2_prompt2.processed.txt\"\n",
    "outputs = []\n",
    "with open(path, \"r\") as f:\n",
    "    for line in f:\n",
    "        x = json.loads(line)\n",
    "        outputs.append(x)\n",
    "\n",
    "path = \"./eval_test_epoch_best_tmhint.json\"\n",
    "with open(path) as f:\n",
    "    outputsGOOD = json.load(f)\n",
    "        \n",
    "for output, output_good in zip(outputs, outputsGOOD):\n",
    "    audio_a, audio_b = output['data']\n",
    "    model_a = audio_a['system']\n",
    "    model_b = audio_b['system']\n",
    "    if model_a not in pred_by_system: pred_by_system[model_a] = []\n",
    "    if model_a not in gts_by_system:  gts_by_system[model_a] = []\n",
    "    if model_b not in pred_by_system: pred_by_system[model_b] = []\n",
    "    if model_b not in gts_by_system:  gts_by_system[model_b] = []\n",
    "        \n",
    "    verdict_text = label_mapping[output_good['text'][0].strip(\"</s>\")]\n",
    "    assert verdict_text in ['A', 'B', 'C', 'D']\n",
    "        \n",
    "    if verdict_text == \"A\":\n",
    "        pred_by_system[model_a] += [1]\n",
    "        pred_by_system[model_b] += [0]\n",
    "    elif verdict_text == \"B\":\n",
    "        pred_by_system[model_a] += [0]\n",
    "        pred_by_system[model_b] += [1]\n",
    "    elif verdict_text == \"C\":\n",
    "        pred_by_system[model_a] += [0.5]\n",
    "        pred_by_system[model_b] += [0.5]    \n",
    "    elif verdict_text == \"D\":\n",
    "        pred_by_system[model_a] += [0.5]\n",
    "        pred_by_system[model_b] += [0.5]    \n",
    "    else:\n",
    "        raise Exception()\n",
    "        \n",
    "    gts_by_system[model_a] += [audio_a['Q']]\n",
    "    gts_by_system[model_b] += [audio_b['Q']]\n",
    "\n",
    "system_level_pred, system_level_gts = [], []\n",
    "systems = []\n",
    "for system, pred in pred_by_system.items():\n",
    "    gts = gts_by_system[system]\n",
    "    assert len(pred) == len(gts)\n",
    "    system_level_pred.append(np.mean(pred)*100)\n",
    "    system_level_gts.append(np.mean(gts))\n",
    "    systems.append(system)\n",
    "analyze_correlation_and_plot(system_level_gts, system_level_pred)"
   ]
  },
  {
   "cell_type": "code",
   "execution_count": null,
   "id": "33e6ba6e-c7a3-4555-93af-f6266fcce755",
   "metadata": {},
   "outputs": [],
   "source": []
  }
 ],
 "metadata": {
  "kernelspec": {
   "display_name": "Python 3 (ipykernel)",
   "language": "python",
   "name": "python3"
  },
  "language_info": {
   "codemirror_mode": {
    "name": "ipython",
    "version": 3
   },
   "file_extension": ".py",
   "mimetype": "text/x-python",
   "name": "python",
   "nbconvert_exporter": "python",
   "pygments_lexer": "ipython3",
   "version": "3.10.13"
  }
 },
 "nbformat": 4,
 "nbformat_minor": 5
}
