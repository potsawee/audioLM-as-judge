{
 "cells": [
  {
   "cell_type": "code",
   "execution_count": 29,
   "id": "6c593004-db35-4c02-9770-e491cf89c268",
   "metadata": {},
   "outputs": [],
   "source": [
    "import json\n",
    "import re"
   ]
  },
  {
   "cell_type": "code",
   "execution_count": 30,
   "id": "173ee87f-c4f8-4831-b8b7-4b1e0c96fc6b",
   "metadata": {},
   "outputs": [],
   "source": [
    "with open(\"../data/data_thaimos_pairwise_diffall.json\") as f:\n",
    "    raw_data = json.load(f)"
   ]
  },
  {
   "cell_type": "code",
   "execution_count": 31,
   "id": "92d2fa95-a88e-49d5-a4a4-fcb4be78d5d1",
   "metadata": {},
   "outputs": [
    {
     "data": {
      "text/plain": [
       "[{'system': 'macOS',\n",
       "  'datawow_id': 1481,\n",
       "  'path': '/data/share/data/Speech/dataWow/audios/macOS/sentence_31.wav',\n",
       "  'text': 'ย้อนกลับไปดูเค้าโครงและรายการเอกสารประกอบการสอน สมัยยังมีแรง ตอนนี้ไม่มีแล้ว หมด โฮ',\n",
       "  'sound': 3.875,\n",
       "  'rhythm': 2.9375,\n",
       "  'pronunciation': 2.25},\n",
       " {'system': 'gTTS',\n",
       "  'datawow_id': 1431,\n",
       "  'path': '/data/share/data/Speech/dataWow/audios/gTTS/sentence_31.wav',\n",
       "  'text': 'ย้อนกลับไปดูเค้าโครงและรายการเอกสารประกอบการสอน สมัยยังมีแรง ตอนนี้ไม่มีแล้ว หมด โฮ',\n",
       "  'sound': 4.3125,\n",
       "  'rhythm': 2.9375,\n",
       "  'pronunciation': 4.125}]"
      ]
     },
     "execution_count": 31,
     "metadata": {},
     "output_type": "execute_result"
    }
   ],
   "source": [
    "raw_data[0]"
   ]
  },
  {
   "cell_type": "code",
   "execution_count": 32,
   "id": "c3b37d1b-1f0a-40c0-9d35-d61b23bf2f3c",
   "metadata": {},
   "outputs": [],
   "source": [
    "with open(\"./thaimos_test.json\") as f:\n",
    "    thaimos = json.load(f)"
   ]
  },
  {
   "cell_type": "code",
   "execution_count": 33,
   "id": "2deb76eb-3a07-42bb-9c2b-5ed76bb144e9",
   "metadata": {},
   "outputs": [
    {
     "data": {
      "text/plain": [
       "{'audio_a': 'sentence_31.wav',\n",
       " 'audio_b': 'sentence_31.wav',\n",
       " 'mos_pronunciation_a': 2.25,\n",
       " 'mos_pronunciation_b': 4.125,\n",
       " 'text': 'ย้อนกลับไปดูเค้าโครงและรายการเอกสารประกอบการสอน สมัยยังมีแรง ตอนนี้ไม่มีแล้ว หมด โฮ',\n",
       " 'response': 'The second speech sample has better quality.'}"
      ]
     },
     "execution_count": 33,
     "metadata": {},
     "output_type": "execute_result"
    }
   ],
   "source": [
    "thaimos[0]"
   ]
  },
  {
   "cell_type": "code",
   "execution_count": 21,
   "id": "90ad5d8c-fa8d-4bd7-829b-0b0d5da5fdcb",
   "metadata": {},
   "outputs": [
    {
     "data": {
      "text/plain": [
       "{'audio_a': 'sentence_3.wav',\n",
       " 'audio_b': 'sentence_3.wav',\n",
       " 'mos_pronunciation_a': 3.875,\n",
       " 'mos_pronunciation_b': 4.625,\n",
       " 'text': 'มันดูเหมือนว่า การยืนยันของจดหมายนี้ทำให้เขาผิดหวัง',\n",
       " 'response': 'The second speech sample has better quality.'}"
      ]
     },
     "execution_count": 21,
     "metadata": {},
     "output_type": "execute_result"
    }
   ],
   "source": [
    "thaimos[5]"
   ]
  },
  {
   "cell_type": "code",
   "execution_count": 34,
   "id": "7187fc9e-c606-42b3-99c4-ff982cf8e2c4",
   "metadata": {},
   "outputs": [],
   "source": [
    "label_mapping = {\n",
    "    \"The first.\": \"A\",\n",
    "    \"The second.\": \"B\",\n",
    "    \"The second is better.\": \"B\",\n",
    "    \"The latter is better.\": \"B\",\n",
    "    \"The latter.\": \"B\",\n",
    "}"
   ]
  },
  {
   "cell_type": "code",
   "execution_count": 36,
   "id": "6c0022c1-78c7-4566-945c-f281d78e212f",
   "metadata": {},
   "outputs": [
    {
     "name": "stdout",
     "output_type": "stream",
     "text": [
      "total: 3300\n",
      "accuracy: 54.64%\n",
      "inaccura: 45.36%\n",
      "tie:      0.00%\n",
      "error:    0.00%\n"
     ]
    }
   ],
   "source": [
    "# def read_output_file(path):\n",
    "path = \"./thaimos_test.processed.jsonl\"\n",
    "outputs = []\n",
    "with open(path, \"r\") as f:\n",
    "    for line in f:\n",
    "        x = json.loads(line)\n",
    "        outputs.append(x)\n",
    "\n",
    "path = \"./eval_test_epoch_best_thaimos.json\"\n",
    "with open(path) as f:\n",
    "    outputsGOOD = json.load(f)\n",
    "\n",
    "count_all, count_correct, count_incorrect, count_tie, error = 0, 0, 0, 0, 0\n",
    "predictions = []\n",
    "for output, output_good in zip(outputs, outputsGOOD):    \n",
    "    \n",
    "    verdict_text = label_mapping[output_good['text'][0].strip(\"</s>\")]\n",
    "    assert verdict_text in ['A', 'B', 'C', 'D']\n",
    "    \n",
    "    if verdict_text == \"A\":\n",
    "        if output['mos_pronunciation_a'] > output['mos_pronunciation_b']:\n",
    "            count_correct += 1\n",
    "            evaluation = \"correct\"\n",
    "        else:\n",
    "            count_incorrect += 1\n",
    "            evaluation = \"incorrect\"\n",
    "    elif verdict_text == \"B\":\n",
    "        if output['mos_pronunciation_a'] < output['mos_pronunciation_b']:\n",
    "            count_correct += 1\n",
    "            evaluation = \"correct\"\n",
    "        else:\n",
    "            count_incorrect += 1\n",
    "            evaluation = \"incorrect\"\n",
    "    elif verdict_text == \"C\":\n",
    "        evaluation = 'tie'\n",
    "        count_tie += 1\n",
    "    else:\n",
    "        evaluation = 'error'\n",
    "        error += 1\n",
    "    count_all += 1\n",
    "    predictions.append([evaluation, verdict_text, output['mos_pronunciation_a'], output['mos_pronunciation_b']])\n",
    "print(\"total:\", count_all)\n",
    "print(\"accuracy: {:.2f}%\".format(count_correct/count_all*100))\n",
    "print(\"inaccura: {:.2f}%\".format(count_incorrect/count_all*100))\n",
    "print(\"tie:      {:.2f}%\".format(count_tie/count_all*100))\n",
    "print(\"error:    {:.2f}%\".format(error/count_all*100))\n",
    "    # return predictions"
   ]
  },
  {
   "cell_type": "code",
   "execution_count": 37,
   "id": "f408f62b-4091-4936-ad92-7fd12aea4d85",
   "metadata": {},
   "outputs": [
    {
     "data": {
      "text/plain": [
       "100.0"
      ]
     },
     "execution_count": 37,
     "metadata": {},
     "output_type": "execute_result"
    }
   ],
   "source": [
    "44.91 + 44.45 + 1.00 + 9.64"
   ]
  },
  {
   "cell_type": "markdown",
   "id": "87eecd13-6710-4676-bc4f-3f187edb4872",
   "metadata": {},
   "source": [
    "# System-level Correlation"
   ]
  },
  {
   "cell_type": "code",
   "execution_count": 15,
   "id": "aa5814b3-0225-4a20-9eda-84b1588fde65",
   "metadata": {},
   "outputs": [],
   "source": [
    "import numpy as np\n",
    "import scipy.stats as stats\n",
    "import matplotlib.pyplot as plt"
   ]
  },
  {
   "cell_type": "code",
   "execution_count": 16,
   "id": "1d1e3a57-40b4-44f9-af8f-0ebca13ee8b8",
   "metadata": {},
   "outputs": [],
   "source": [
    "def analyze_correlation_and_plot(list_a, list_b):\n",
    "    # 1. Compute Pearson correlation\n",
    "    pearson_corr, _ = stats.pearsonr(list_a, list_b)\n",
    "\n",
    "    # 2. Compute Spearman correlation\n",
    "    spearman_corr, _ = stats.spearmanr(list_a, list_b)\n",
    "\n",
    "    # Print results\n",
    "    print(f\"Pearson Correlation: {pearson_corr:.3f}\")\n",
    "    print(f\"Spearman Correlation: {spearman_corr:.3f}\")\n",
    "\n",
    "    # 4. Scatter plot with best-fit line\n",
    "    plt.figure(figsize=(5, 4))\n",
    "    plt.scatter(list_a, list_b, color='blue', label='Data points')\n",
    "\n",
    "    # Best fit line\n",
    "    coefficients = np.polyfit(list_a, list_b, 1)  # Linear fit (degree=1)\n",
    "    poly = np.poly1d(coefficients)\n",
    "    best_fit_line = poly(list_a)\n",
    "\n",
    "    plt.plot(list_a, best_fit_line, color='red', label='Best Fit Line')\n",
    "    plt.xlabel('MOS (GT)')\n",
    "    plt.ylabel('AudioJudge Prediction (Win Rate)')\n",
    "    plt.title('Scatter Plot with Best Fit Line')\n",
    "    plt.legend()\n",
    "    plt.grid()\n",
    "    plt.show()"
   ]
  },
  {
   "cell_type": "code",
   "execution_count": 24,
   "id": "0bd4312a-1ad6-4485-b4ce-c742b4a91ebf",
   "metadata": {},
   "outputs": [
    {
     "data": {
      "text/plain": [
       "[{'system': 'macOS',\n",
       "  'datawow_id': 1481,\n",
       "  'path': '/data/share/data/Speech/dataWow/audios/macOS/sentence_31.wav',\n",
       "  'text': 'ย้อนกลับไปดูเค้าโครงและรายการเอกสารประกอบการสอน สมัยยังมีแรง ตอนนี้ไม่มีแล้ว หมด โฮ',\n",
       "  'sound': 3.875,\n",
       "  'rhythm': 2.9375,\n",
       "  'pronunciation': 2.25},\n",
       " {'system': 'gTTS',\n",
       "  'datawow_id': 1431,\n",
       "  'path': '/data/share/data/Speech/dataWow/audios/gTTS/sentence_31.wav',\n",
       "  'text': 'ย้อนกลับไปดูเค้าโครงและรายการเอกสารประกอบการสอน สมัยยังมีแรง ตอนนี้ไม่มีแล้ว หมด โฮ',\n",
       "  'sound': 4.3125,\n",
       "  'rhythm': 2.9375,\n",
       "  'pronunciation': 4.125}]"
      ]
     },
     "execution_count": 24,
     "metadata": {},
     "output_type": "execute_result"
    }
   ],
   "source": [
    "raw_data[0]"
   ]
  },
  {
   "cell_type": "code",
   "execution_count": 25,
   "id": "649f54b8-c6bc-4882-a673-37b20701f3e1",
   "metadata": {},
   "outputs": [
    {
     "data": {
      "text/plain": [
       "{'audio_a': 'sentence_31.wav',\n",
       " 'audio_b': 'sentence_31.wav',\n",
       " 'mos_pronunciation_a': 2.25,\n",
       " 'mos_pronunciation_b': 4.125,\n",
       " 'text': 'ย้อนกลับไปดูเค้าโครงและรายการเอกสารประกอบการสอน สมัยยังมีแรง ตอนนี้ไม่มีแล้ว หมด โฮ',\n",
       " 'response': 'The second speech sample has better quality.',\n",
       " 'processed': 'B'}"
      ]
     },
     "execution_count": 25,
     "metadata": {},
     "output_type": "execute_result"
    }
   ],
   "source": [
    "outputs[0]"
   ]
  },
  {
   "cell_type": "code",
   "execution_count": 39,
   "id": "edab7750-9be9-4083-ac3c-0909883f2f0f",
   "metadata": {},
   "outputs": [
    {
     "name": "stdout",
     "output_type": "stream",
     "text": [
      "Pearson Correlation: 0.449\n",
      "Spearman Correlation: 0.189\n"
     ]
    },
    {
     "data": {
      "image/png": "[encoded data removed]",
      "text/plain": [
       "<Figure size 500x400 with 1 Axes>"
      ]
     },
     "metadata": {},
     "output_type": "display_data"
    }
   ],
   "source": [
    "pred_by_system, gts_by_system = {}, {}\n",
    "\n",
    "path = \"./thaimos_test.processed.jsonl\"\n",
    "outputs = []\n",
    "with open(path, \"r\") as f:\n",
    "    for line in f:\n",
    "        x = json.loads(line)\n",
    "        outputs.append(x)\n",
    "\n",
    "with open(\"../data/data_thaimos_pairwise_diffall.json\") as f:\n",
    "    raw_data = json.load(f)\n",
    "\n",
    "path = \"./eval_test_epoch_best_thaimos.json\"\n",
    "with open(path) as f:\n",
    "    outputsGOOD = json.load(f)\n",
    "\n",
    "i = 0\n",
    "for output, output_good in zip(outputs, outputsGOOD):\n",
    "    if raw_data[i][0]['pronunciation'] == output['mos_pronunciation_a'] and raw_data[i][1]['pronunciation'] == output['mos_pronunciation_b']:\n",
    "        order = 'ab'\n",
    "    elif raw_data[i][1]['pronunciation'] == output['mos_pronunciation_a'] and raw_data[i][0]['pronunciation'] == output['mos_pronunciation_b']:\n",
    "        order = 'ba'\n",
    "    else:\n",
    "        raise Exception()\n",
    "\n",
    "    if order == 'ab':\n",
    "        model_a = raw_data[i][0]['system']\n",
    "        model_b = raw_data[i][1]['system']\n",
    "    else:\n",
    "        model_a = raw_data[i][1]['system']\n",
    "        model_b = raw_data[i][0]['system']\n",
    "        \n",
    "    if model_a not in pred_by_system: pred_by_system[model_a] = []\n",
    "    if model_a not in gts_by_system:  gts_by_system[model_a] = []\n",
    "    if model_b not in pred_by_system: pred_by_system[model_b] = []\n",
    "    if model_b not in gts_by_system:  gts_by_system[model_b] = []\n",
    "        \n",
    "    verdict_text = label_mapping[output_good['text'][0].strip(\"</s>\")]\n",
    "    assert verdict_text in ['A', 'B', 'C', 'D']\n",
    "        \n",
    "    if verdict_text == \"A\":\n",
    "        pred_by_system[model_a] += [1]\n",
    "        pred_by_system[model_b] += [0]\n",
    "    elif verdict_text == \"B\":\n",
    "        pred_by_system[model_a] += [0]\n",
    "        pred_by_system[model_b] += [1]\n",
    "    elif verdict_text == \"C\" or verdict_text == \"D\":\n",
    "        pred_by_system[model_a] += [0.5]\n",
    "        pred_by_system[model_b] += [0.5]    \n",
    "    else:\n",
    "        raise Exception()\n",
    "\n",
    "    gts_by_system[model_a] += [output['mos_pronunciation_a']]\n",
    "    gts_by_system[model_b] += [output['mos_pronunciation_b']]\n",
    "    i += 1\n",
    "    \n",
    "system_level_pred, system_level_gts = [], []\n",
    "systems = []\n",
    "for system, pred in pred_by_system.items():\n",
    "    gts = gts_by_system[system]\n",
    "    assert len(pred) == len(gts)\n",
    "    system_level_pred.append(np.mean(pred)*100)\n",
    "    system_level_gts.append(np.mean(gts))\n",
    "    systems.append(system)\n",
    "analyze_correlation_and_plot(system_level_gts, system_level_pred)"
   ]
  },
  {
   "cell_type": "code",
   "execution_count": null,
   "id": "44cec483-ee98-45aa-a805-3bd1ec44d91e",
   "metadata": {},
   "outputs": [],
   "source": []
  }
 ],
 "metadata": {
  "kernelspec": {
   "display_name": "Python 3 (ipykernel)",
   "language": "python",
   "name": "python3"
  },
  "language_info": {
   "codemirror_mode": {
    "name": "ipython",
    "version": 3
   },
   "file_extension": ".py",
   "mimetype": "text/x-python",
   "name": "python",
   "nbconvert_exporter": "python",
   "pygments_lexer": "ipython3",
   "version": "3.10.13"
  }
 },
 "nbformat": 4,
 "nbformat_minor": 5
}
