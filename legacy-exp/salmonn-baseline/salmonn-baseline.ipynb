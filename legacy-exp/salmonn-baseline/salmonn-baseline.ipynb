{
 "cells": [
  {
   "cell_type": "code",
   "execution_count": 9,
   "id": "17a2e070-2ac1-49fa-a33f-936afba33a1d",
   "metadata": {},
   "outputs": [],
   "source": [
    "import json"
   ]
  },
  {
   "cell_type": "code",
   "execution_count": 13,
   "id": "def33b17-771b-4dac-8295-acf070a16e79",
   "metadata": {},
   "outputs": [],
   "source": [
    "with open(\"./somos_test.json\") as f:\n",
    "    somos0 = json.load(f)"
   ]
  },
  {
   "cell_type": "code",
   "execution_count": 19,
   "id": "af7b74ac-0aab-483c-b130-1eca0e4739ad",
   "metadata": {},
   "outputs": [
    {
     "data": {
      "text/plain": [
       "{'audio_a': 'conv_2008_0068_140.wav',\n",
       " 'audio_b': 'conv_2008_0068_096.wav',\n",
       " 'mos_a': 3.555555555555556,\n",
       " 'mos_b': 3.333333333333333,\n",
       " 'text': 'Yes, in the centre near a cinema.',\n",
       " 'response': 'The second speech sample has better quality.'}"
      ]
     },
     "execution_count": 19,
     "metadata": {},
     "output_type": "execute_result"
    }
   ],
   "source": [
    "somos0[747]"
   ]
  },
  {
   "cell_type": "code",
   "execution_count": 10,
   "id": "45018f5f-da40-4baf-8ed2-94ec2bda1fcb",
   "metadata": {},
   "outputs": [],
   "source": [
    "# with open(\"./somos_test.json\") as f:\n",
    "#     somos = json.load(f)\n",
    "with open(\"./eval_test_epoch_best.json\") as f:\n",
    "    somos = json.load(f)"
   ]
  },
  {
   "cell_type": "code",
   "execution_count": 11,
   "id": "a7628c13-16d7-44ca-b1ae-dc87c4f062c0",
   "metadata": {},
   "outputs": [
    {
     "data": {
      "text/plain": [
       "3567"
      ]
     },
     "execution_count": 11,
     "metadata": {},
     "output_type": "execute_result"
    }
   ],
   "source": [
    "len(somos)"
   ]
  },
  {
   "cell_type": "code",
   "execution_count": 20,
   "id": "b0148d7e-b73a-4ab9-8f10-34461f87680d",
   "metadata": {},
   "outputs": [
    {
     "data": {
      "text/plain": [
       "{'id': ['/mnt/bn/audio-visual-llm-data3/datasets/MOS/somos/audios/conv_2008_0068_140.wav'],\n",
       " 'ground_truth': ['The first.'],\n",
       " 'loss': 0.7098930478096008,\n",
       " 'acc': 0.75,\n",
       " 'total': 4,\n",
       " 'text': ['The second.</s>'],\n",
       " 'prompt': ['USER: <Speech><SpeechHere></Speech> Could you please indicate which speech sample has better quality?\\nASSISTANT:'],\n",
       " 'task': ['mos_ABtest']}"
      ]
     },
     "execution_count": 20,
     "metadata": {},
     "output_type": "execute_result"
    }
   ],
   "source": [
    "somos[747]"
   ]
  },
  {
   "cell_type": "code",
   "execution_count": null,
   "id": "21d80bea-a003-45ea-b5e5-08c4550a3299",
   "metadata": {},
   "outputs": [],
   "source": []
  }
 ],
 "metadata": {
  "kernelspec": {
   "display_name": "Python 3 (ipykernel)",
   "language": "python",
   "name": "python3"
  },
  "language_info": {
   "codemirror_mode": {
    "name": "ipython",
    "version": 3
   },
   "file_extension": ".py",
   "mimetype": "text/x-python",
   "name": "python",
   "nbconvert_exporter": "python",
   "pygments_lexer": "ipython3",
   "version": "3.10.13"
  }
 },
 "nbformat": 4,
 "nbformat_minor": 5
}
