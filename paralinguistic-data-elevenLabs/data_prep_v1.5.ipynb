{
 "cells": [
  {
   "cell_type": "code",
   "execution_count": 51,
   "id": "dbeb94a9-9277-47d2-8a2a-966a00169b7c",
   "metadata": {},
   "outputs": [],
   "source": [
    "from datasets import load_dataset, load_from_disk, Audio\n",
    "import os"
   ]
  },
  {
   "cell_type": "code",
   "execution_count": 52,
   "id": "9b2d114c",
   "metadata": {},
   "outputs": [
    {
     "name": "stdout",
     "output_type": "stream",
     "text": [
      "len(dataset): 654\n"
     ]
    }
   ],
   "source": [
    "dataset = load_from_disk(\"data-chatbot-arena-spoken-style-11labs\")\n",
    "print(\"len(dataset):\", len(dataset))"
   ]
  },
  {
   "cell_type": "code",
   "execution_count": 53,
   "id": "fdaef5cf",
   "metadata": {},
   "outputs": [
    {
     "data": {
      "text/plain": [
       "{'id': 5434,\n",
       " 'original_id': '15793788be324bd588e7b9707615c279',\n",
       " 'winner_content': 'model_b',\n",
       " 'winner_style': 'model_b',\n",
       " 'question_original': 'write a blog about eLearning',\n",
       " 'assistant_a': 'The world of eLearning is rapidly growing, and it is becoming increasingly important for businesses to stay competitive. As more people turn to eLearning as a way to learn new skills, companies must find ways to make their eLearning programs engaging and effective. To do this, companies must focus on creating courses that are visually appealing and easy to navigate, while also providing engaging content that keeps learners engaged and motivated. Additionally, companies must ensure that their eLearning platform is secure, allowing learners to access their courses from any device with an internet connection. By investing in these strategies, companies can create eLearning programs that are both effective and engaging, ensuring that their employees are equipped with the skills they need to succeed.',\n",
       " 'assistant_b': 'eLearning is a form of education and training that is delivered online, often through interactive and multimedia tools. It has become a popular method for individuals and organizations to learn new skills and knowledge, and has many benefits over traditional in-person learning.\\n\\nOne of the main advantages of eLearning is convenience. With eLearning, students can access course materials and complete assignments from anywhere with an internet connection. This makes it possible for people to learn at their own pace, without having to coordinate their schedules with class times or travel to a physical location.\\n\\neLearning can also be more cost-effective than traditional in-person learning. Online courses often have lower tuition fees and do not require the purchase of textbooks or other materials. Additionally, eLearning can help to reduce the cost of travel and accommodation, as students do not need to relocate to attend classes.\\n\\nAnother benefit of eLearning is that it can be more interactive and engaging than traditional classroom learning. Many online courses use multimedia tools such as videos, simulations, and games to make learning more engaging and to help students retain information more effectively.\\n\\neLearning can also be more flexible and customizable than traditional classroom learning. Online courses can be designed to meet the specific needs of individual students or organizations, and can be adapted to fit different learning styles and preferences.\\n\\nOverall, eLearning is a convenient, cost-effective, and interactive way for individuals and organizations to learn new skills and knowledge. With the growing availability of high-speed internet and the development of innovative online learning tools, eLearning is likely to continue to grow in popularity in the future.',\n",
       " 'model_text_a': 'oasst-pythia-12b',\n",
       " 'model_text_b': 'vicuna-7b',\n",
       " 'style': {'description': 'A neutral Latin American Spanish voice with a warm, steady tone. Clear and natural, ideal for narrations.',\n",
       "  'name': 'Alejandro - Narrations',\n",
       "  'voice_id': 'JZISI4B0lik6Kitz5vi7'}}"
      ]
     },
     "execution_count": 53,
     "metadata": {},
     "output_type": "execute_result"
    }
   ],
   "source": [
    "dataset[0]"
   ]
  },
  {
   "cell_type": "code",
   "execution_count": 54,
   "id": "c41accb2",
   "metadata": {},
   "outputs": [
    {
     "data": {
      "application/vnd.jupyter.widget-view+json": {
       "model_id": "cb11ce5e4d074fde88115bf5537b2e95",
       "version_major": 2,
       "version_minor": 0
      },
      "text/plain": [
       "Map:   0%|          | 0/570 [00:00<?, ? examples/s]"
      ]
     },
     "metadata": {},
     "output_type": "display_data"
    },
    {
     "data": {
      "application/vnd.jupyter.widget-view+json": {
       "model_id": "15a357ec580c4e9995340865a8c8d72e",
       "version_major": 2,
       "version_minor": 0
      },
      "text/plain": [
       "Filter:   0%|          | 0/570 [00:00<?, ? examples/s]"
      ]
     },
     "metadata": {},
     "output_type": "display_data"
    },
    {
     "name": "stdout",
     "output_type": "stream",
     "text": [
      "len(ds): 570\n"
     ]
    }
   ],
   "source": [
    "def add_questions_refined(ex):\n",
    "    id = ex['id']\n",
    "    # refined_question_path = f\"./refined_questions_v1.5/{id}.refined_question.txt\"\n",
    "    # refined_question_path = f\"./refined_questions_v1.6/{id}.refined_question.txt\"\n",
    "    refined_question_path = f\"./refined_questions_v1.7/{id}.refined_question.txt\"\n",
    "    with open(refined_question_path) as f:\n",
    "        refined_question = f.read().strip('\"').strip()\n",
    "\n",
    "    # None if rejected\n",
    "    # path = f\"./refined_questions_v1.5/verdict/{id}.verdict.txt\"\n",
    "    # path = f\"./refined_questions_v1.6/verdict/{id}.verdict.txt\"\n",
    "    path = f\"./refined_questions_v1.7/verdict/{id}.verdict.txt\"\n",
    "    # check if file exists\n",
    "    if not os.path.exists(path):\n",
    "        ex['question_refined'] = None\n",
    "        # print(path, \"not found\")\n",
    "        return ex\n",
    "    \n",
    "    with open(path) as f:\n",
    "        x = f.read().strip()\n",
    "    if x == \"VALID\":\n",
    "        ex['question_refined'] = refined_question\n",
    "    elif x == \"INVALID\":\n",
    "        ex['question_refined'] = None\n",
    "    else:\n",
    "        raise Exception()\n",
    "    return ex\n",
    "ds = ds.map(add_questions_refined)\n",
    "ds = ds.filter(lambda x: x['question_refined'] is not None)\n",
    "print(\"len(ds):\", len(ds))"
   ]
  },
  {
   "cell_type": "code",
   "execution_count": 55,
   "id": "a9f1c31a",
   "metadata": {},
   "outputs": [
    {
     "data": {
      "application/vnd.jupyter.widget-view+json": {
       "model_id": "b0c3eba0b0eb4667b1da51ced67629f7",
       "version_major": 2,
       "version_minor": 0
      },
      "text/plain": [
       "Map:   0%|          | 0/570 [00:00<?, ? examples/s]"
      ]
     },
     "metadata": {},
     "output_type": "display_data"
    }
   ],
   "source": [
    "def add_question_refined_wav(ex):\n",
    "    id = ex['id']\n",
    "    # path = f\"./refined_questions_kokoro_wav_v1.5/{id}.wav\"\n",
    "    path = f\"./refined_questions_kokoro_wav_v1.7/{id}.wav\"\n",
    "    ex['question_refined_wav'] = path\n",
    "    return ex\n",
    "ds = ds.map(add_question_refined_wav)\n"
   ]
  },
  {
   "cell_type": "code",
   "execution_count": 56,
   "id": "366d3bb2",
   "metadata": {},
   "outputs": [
    {
     "data": {
      "application/vnd.jupyter.widget-view+json": {
       "model_id": "8b121fedd04e46f392aa5d9207bc77f9",
       "version_major": 2,
       "version_minor": 0
      },
      "text/plain": [
       "Map:   0%|          | 0/570 [00:00<?, ? examples/s]"
      ]
     },
     "metadata": {},
     "output_type": "display_data"
    }
   ],
   "source": [
    "def add_model_type(ex):\n",
    "    ex['model_type'] = ex['winner_style']\n",
    "    return ex\n",
    "ds = ds.map(add_model_type)"
   ]
  },
  {
   "cell_type": "code",
   "execution_count": 57,
   "id": "8ae4b984",
   "metadata": {},
   "outputs": [
    {
     "data": {
      "application/vnd.jupyter.widget-view+json": {
       "model_id": "e8c306a442d944ff9e4e9e33c2bc74e1",
       "version_major": 2,
       "version_minor": 0
      },
      "text/plain": [
       "Map:   0%|          | 0/570 [00:00<?, ? examples/s]"
      ]
     },
     "metadata": {},
     "output_type": "display_data"
    },
    {
     "data": {
      "application/vnd.jupyter.widget-view+json": {
       "model_id": "951f36678b544c238ac87eec3b6c205c",
       "version_major": 2,
       "version_minor": 0
      },
      "text/plain": [
       "Filter:   0%|          | 0/570 [00:00<?, ? examples/s]"
      ]
     },
     "metadata": {},
     "output_type": "display_data"
    }
   ],
   "source": [
    "def add_assistant_wav(ex):\n",
    "    id = ex['id']\n",
    "    winner = ex['winner_style']\n",
    "    if winner == 'model_a':\n",
    "        path = f\"./generated_11labs_audio/{id}_model_a.11labs.wav\"\n",
    "    elif winner == 'model_b':    \n",
    "        path = f\"./generated_11labs_audio/{id}_model_b.11labs.wav\"\n",
    "    else:\n",
    "        raise Exception()\n",
    "    if os.path.exists(path):\n",
    "        ex['assistant_wav'] = path\n",
    "    else:\n",
    "        ex['assistant_wav'] = None\n",
    "    return ex\n",
    "ds = ds.map(add_assistant_wav)\n",
    "ds = ds.filter(lambda x: x['assistant_wav'] is not None)"
   ]
  },
  {
   "cell_type": "code",
   "execution_count": 58,
   "id": "7da3bdd5",
   "metadata": {},
   "outputs": [
    {
     "name": "stdout",
     "output_type": "stream",
     "text": [
      "len(ds): 570\n"
     ]
    }
   ],
   "source": [
    "print(\"len(ds):\", len(ds))"
   ]
  },
  {
   "cell_type": "code",
   "execution_count": 59,
   "id": "4a3b04e3",
   "metadata": {},
   "outputs": [],
   "source": [
    "ds_filtered = ds.select_columns(\n",
    "    [\"id\", \"original_id\", \"model_type\", \"question_refined\", \"question_refined_wav\", \"assistant_wav\"]\n",
    ").cast_column(\"question_refined_wav\", Audio()).cast_column(\"assistant_wav\", Audio())"
   ]
  },
  {
   "cell_type": "code",
   "execution_count": 60,
   "id": "c352ff23",
   "metadata": {},
   "outputs": [
    {
     "data": {
      "text/plain": [
       "Dataset({\n",
       "    features: ['id', 'original_id', 'model_type', 'question_refined', 'question_refined_wav', 'assistant_wav'],\n",
       "    num_rows: 570\n",
       "})"
      ]
     },
     "execution_count": 60,
     "metadata": {},
     "output_type": "execute_result"
    }
   ],
   "source": [
    "ds_filtered"
   ]
  },
  {
   "cell_type": "code",
   "execution_count": 23,
   "id": "94d14ae6",
   "metadata": {},
   "outputs": [],
   "source": [
    "# from huggingface_hub import login\n",
    "# login(token=\"\")"
   ]
  },
  {
   "cell_type": "code",
   "execution_count": 61,
   "id": "a502d71b",
   "metadata": {},
   "outputs": [
    {
     "data": {
      "application/vnd.jupyter.widget-view+json": {
       "model_id": "c8b63b8a310141679716d37ce2884efd",
       "version_major": 2,
       "version_minor": 0
      },
      "text/plain": [
       "Uploading the dataset shards:   0%|          | 0/10 [00:00<?, ?it/s]"
      ]
     },
     "metadata": {},
     "output_type": "display_data"
    },
    {
     "data": {
      "application/vnd.jupyter.widget-view+json": {
       "model_id": "ca292354265c4262a075c43cbd46f01f",
       "version_major": 2,
       "version_minor": 0
      },
      "text/plain": [
       "Map:   0%|          | 0/57 [00:00<?, ? examples/s]"
      ]
     },
     "metadata": {},
     "output_type": "display_data"
    },
    {
     "data": {
      "application/vnd.jupyter.widget-view+json": {
       "model_id": "ab38dc77b2f1447cb8b8b1568a2db370",
       "version_major": 2,
       "version_minor": 0
      },
      "text/plain": [
       "Creating parquet from Arrow format:   0%|          | 0/1 [00:00<?, ?ba/s]"
      ]
     },
     "metadata": {},
     "output_type": "display_data"
    },
    {
     "data": {
      "application/vnd.jupyter.widget-view+json": {
       "model_id": "de60e1b94c934889b08b6062347b361d",
       "version_major": 2,
       "version_minor": 0
      },
      "text/plain": [
       "Map:   0%|          | 0/57 [00:00<?, ? examples/s]"
      ]
     },
     "metadata": {},
     "output_type": "display_data"
    },
    {
     "data": {
      "application/vnd.jupyter.widget-view+json": {
       "model_id": "1f60f2a193d04727a35f46fc866a365d",
       "version_major": 2,
       "version_minor": 0
      },
      "text/plain": [
       "Creating parquet from Arrow format:   0%|          | 0/1 [00:00<?, ?ba/s]"
      ]
     },
     "metadata": {},
     "output_type": "display_data"
    },
    {
     "data": {
      "application/vnd.jupyter.widget-view+json": {
       "model_id": "544e1259c58041f18afaf02f8e77fc11",
       "version_major": 2,
       "version_minor": 0
      },
      "text/plain": [
       "Map:   0%|          | 0/57 [00:00<?, ? examples/s]"
      ]
     },
     "metadata": {},
     "output_type": "display_data"
    },
    {
     "data": {
      "application/vnd.jupyter.widget-view+json": {
       "model_id": "2892d81228b64e91bafce4f4059ee7a4",
       "version_major": 2,
       "version_minor": 0
      },
      "text/plain": [
       "Creating parquet from Arrow format:   0%|          | 0/1 [00:00<?, ?ba/s]"
      ]
     },
     "metadata": {},
     "output_type": "display_data"
    },
    {
     "data": {
      "application/vnd.jupyter.widget-view+json": {
       "model_id": "0d9eabf7b77048d1866441fec0c4f1d9",
       "version_major": 2,
       "version_minor": 0
      },
      "text/plain": [
       "Map:   0%|          | 0/57 [00:00<?, ? examples/s]"
      ]
     },
     "metadata": {},
     "output_type": "display_data"
    },
    {
     "data": {
      "application/vnd.jupyter.widget-view+json": {
       "model_id": "16f712ebd4f84bf3bc479c7b574b5694",
       "version_major": 2,
       "version_minor": 0
      },
      "text/plain": [
       "Creating parquet from Arrow format:   0%|          | 0/1 [00:00<?, ?ba/s]"
      ]
     },
     "metadata": {},
     "output_type": "display_data"
    },
    {
     "data": {
      "application/vnd.jupyter.widget-view+json": {
       "model_id": "c9d3dd0507bf48419eeec6fa1139795d",
       "version_major": 2,
       "version_minor": 0
      },
      "text/plain": [
       "Map:   0%|          | 0/57 [00:00<?, ? examples/s]"
      ]
     },
     "metadata": {},
     "output_type": "display_data"
    },
    {
     "data": {
      "application/vnd.jupyter.widget-view+json": {
       "model_id": "07164c02e975430fb7d4498c8b2e81eb",
       "version_major": 2,
       "version_minor": 0
      },
      "text/plain": [
       "Creating parquet from Arrow format:   0%|          | 0/1 [00:00<?, ?ba/s]"
      ]
     },
     "metadata": {},
     "output_type": "display_data"
    },
    {
     "data": {
      "application/vnd.jupyter.widget-view+json": {
       "model_id": "716b946da72945f5aad4ae55bf5fde29",
       "version_major": 2,
       "version_minor": 0
      },
      "text/plain": [
       "Map:   0%|          | 0/57 [00:00<?, ? examples/s]"
      ]
     },
     "metadata": {},
     "output_type": "display_data"
    },
    {
     "data": {
      "application/vnd.jupyter.widget-view+json": {
       "model_id": "3d3cec657ebd4e4fa04c9e97cc8914e9",
       "version_major": 2,
       "version_minor": 0
      },
      "text/plain": [
       "Creating parquet from Arrow format:   0%|          | 0/1 [00:00<?, ?ba/s]"
      ]
     },
     "metadata": {},
     "output_type": "display_data"
    },
    {
     "data": {
      "application/vnd.jupyter.widget-view+json": {
       "model_id": "e0c4b51a285d42de9e3c06477eccd760",
       "version_major": 2,
       "version_minor": 0
      },
      "text/plain": [
       "Map:   0%|          | 0/57 [00:00<?, ? examples/s]"
      ]
     },
     "metadata": {},
     "output_type": "display_data"
    },
    {
     "data": {
      "application/vnd.jupyter.widget-view+json": {
       "model_id": "24f80dc7bc4d491eb17dde64ddd3ee1f",
       "version_major": 2,
       "version_minor": 0
      },
      "text/plain": [
       "Creating parquet from Arrow format:   0%|          | 0/1 [00:00<?, ?ba/s]"
      ]
     },
     "metadata": {},
     "output_type": "display_data"
    },
    {
     "data": {
      "application/vnd.jupyter.widget-view+json": {
       "model_id": "fc8697c677f14acdb3e11e669bd57568",
       "version_major": 2,
       "version_minor": 0
      },
      "text/plain": [
       "Map:   0%|          | 0/57 [00:00<?, ? examples/s]"
      ]
     },
     "metadata": {},
     "output_type": "display_data"
    },
    {
     "data": {
      "application/vnd.jupyter.widget-view+json": {
       "model_id": "fdfe5e8553f14074a58486041bdcaedb",
       "version_major": 2,
       "version_minor": 0
      },
      "text/plain": [
       "Creating parquet from Arrow format:   0%|          | 0/1 [00:00<?, ?ba/s]"
      ]
     },
     "metadata": {},
     "output_type": "display_data"
    },
    {
     "data": {
      "application/vnd.jupyter.widget-view+json": {
       "model_id": "bcb82ac47a5745df9568054650d91b6e",
       "version_major": 2,
       "version_minor": 0
      },
      "text/plain": [
       "Map:   0%|          | 0/57 [00:00<?, ? examples/s]"
      ]
     },
     "metadata": {},
     "output_type": "display_data"
    },
    {
     "data": {
      "application/vnd.jupyter.widget-view+json": {
       "model_id": "0448fffced774960b89f471e614e991d",
       "version_major": 2,
       "version_minor": 0
      },
      "text/plain": [
       "Creating parquet from Arrow format:   0%|          | 0/1 [00:00<?, ?ba/s]"
      ]
     },
     "metadata": {},
     "output_type": "display_data"
    },
    {
     "data": {
      "application/vnd.jupyter.widget-view+json": {
       "model_id": "83ff458a087242fab00044377a392416",
       "version_major": 2,
       "version_minor": 0
      },
      "text/plain": [
       "Map:   0%|          | 0/57 [00:00<?, ? examples/s]"
      ]
     },
     "metadata": {},
     "output_type": "display_data"
    },
    {
     "data": {
      "application/vnd.jupyter.widget-view+json": {
       "model_id": "62d4e728b62d494291f7e16df5d4f9c1",
       "version_major": 2,
       "version_minor": 0
      },
      "text/plain": [
       "Creating parquet from Arrow format:   0%|          | 0/1 [00:00<?, ?ba/s]"
      ]
     },
     "metadata": {},
     "output_type": "display_data"
    },
    {
     "data": {
      "text/plain": [
       "CommitInfo(commit_url='https://huggingface.co/datasets/potsawee/chatbot-arena-spoken-style-eval-570/commit/443c9d1af64bca05234923eb8d9774251d8b59d1', commit_message='Upload dataset', commit_description='', oid='443c9d1af64bca05234923eb8d9774251d8b59d1', pr_url=None, repo_url=RepoUrl('https://huggingface.co/datasets/potsawee/chatbot-arena-spoken-style-eval-570', endpoint='https://huggingface.co', repo_type='dataset', repo_id='potsawee/chatbot-arena-spoken-style-eval-570'), pr_revision=None, pr_num=None)"
      ]
     },
     "execution_count": 61,
     "metadata": {},
     "output_type": "execute_result"
    }
   ],
   "source": [
    "ds_filtered.push_to_hub(\"potsawee/chatbot-arena-spoken-style-eval-570\", max_shard_size=\"100MB\")"
   ]
  }
 ],
 "metadata": {
  "kernelspec": {
   "display_name": "exp-pp25",
   "language": "python",
   "name": "python3"
  },
  "language_info": {
   "codemirror_mode": {
    "name": "ipython",
    "version": 3
   },
   "file_extension": ".py",
   "mimetype": "text/x-python",
   "name": "python",
   "nbconvert_exporter": "python",
   "pygments_lexer": "ipython3",
   "version": "3.10.13"
  }
 },
 "nbformat": 4,
 "nbformat_minor": 5
}
