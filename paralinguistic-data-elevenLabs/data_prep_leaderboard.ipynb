{
 "cells": [
  {
   "cell_type": "markdown",
   "id": "772ab575-1a68-4111-8243-7e03de1e5a24",
   "metadata": {},
   "source": [
    "# Leaderboard Data like AlpacaEval "
   ]
  },
  {
   "cell_type": "code",
   "execution_count": 1,
   "id": "4942203a",
   "metadata": {},
   "outputs": [],
   "source": [
    "import os\n",
    "from datasets import load_from_disk, Audio"
   ]
  },
  {
   "cell_type": "code",
   "execution_count": 2,
   "id": "43d11a6e",
   "metadata": {},
   "outputs": [
    {
     "name": "stdout",
     "output_type": "stream",
     "text": [
      "len(ds): 654\n",
      "ds.column_names: ['id', 'original_id', 'winner_content', 'winner_style', 'question_original', 'assistant_a', 'assistant_b', 'model_text_a', 'model_text_b', 'style']\n"
     ]
    }
   ],
   "source": [
    "ds = load_from_disk(\"data-chatbot-arena-spoken-style-11labs\")\n",
    "print(\"len(ds):\", len(ds))\n",
    "print(\"ds.column_names:\", ds.column_names)"
   ]
  },
  {
   "cell_type": "code",
   "execution_count": 3,
   "id": "d4351df7",
   "metadata": {},
   "outputs": [
    {
     "name": "stdout",
     "output_type": "stream",
     "text": [
      "len(ds): 591\n"
     ]
    }
   ],
   "source": [
    "def add_questions_refined(ex):\n",
    "    id = ex['id']\n",
    "    refined_question_path = f\"./refined_questions/{id}.refined_question.txt\"\n",
    "    with open(refined_question_path) as f:\n",
    "        refined_question = f.read().strip('\"').strip()\n",
    "\n",
    "    # None if rejected\n",
    "    path = f\"./refined_questions_v2/verdict/{id}.verdict.txt\"\n",
    "    # check if file exists\n",
    "    if not os.path.exists(path):\n",
    "        ex['question_refined'] = None\n",
    "        # print(path, \"not found\")\n",
    "        return ex\n",
    "    \n",
    "    with open(path) as f:\n",
    "        x = f.read().strip()\n",
    "    if x == \"VALID\":\n",
    "        ex['question_refined'] = refined_question\n",
    "    elif x == \"INVALID\":\n",
    "        ex['question_refined'] = None\n",
    "    else:\n",
    "        raise Exception()\n",
    "    return ex\n",
    "ds = ds.map(add_questions_refined)\n",
    "ds = ds.filter(lambda x: x['question_refined'] is not None)\n",
    "print(\"len(ds):\", len(ds))\n"
   ]
  },
  {
   "cell_type": "code",
   "execution_count": 4,
   "id": "b21ddbda",
   "metadata": {},
   "outputs": [
    {
     "data": {
      "text/plain": [
       "{'id': 5434,\n",
       " 'original_id': '15793788be324bd588e7b9707615c279',\n",
       " 'winner_content': 'model_b',\n",
       " 'winner_style': 'model_b',\n",
       " 'question_original': 'write a blog about eLearning',\n",
       " 'assistant_a': 'The world of eLearning is rapidly growing, and it is becoming increasingly important for businesses to stay competitive. As more people turn to eLearning as a way to learn new skills, companies must find ways to make their eLearning programs engaging and effective. To do this, companies must focus on creating courses that are visually appealing and easy to navigate, while also providing engaging content that keeps learners engaged and motivated. Additionally, companies must ensure that their eLearning platform is secure, allowing learners to access their courses from any device with an internet connection. By investing in these strategies, companies can create eLearning programs that are both effective and engaging, ensuring that their employees are equipped with the skills they need to succeed.',\n",
       " 'assistant_b': 'eLearning is a form of education and training that is delivered online, often through interactive and multimedia tools. It has become a popular method for individuals and organizations to learn new skills and knowledge, and has many benefits over traditional in-person learning.\\n\\nOne of the main advantages of eLearning is convenience. With eLearning, students can access course materials and complete assignments from anywhere with an internet connection. This makes it possible for people to learn at their own pace, without having to coordinate their schedules with class times or travel to a physical location.\\n\\neLearning can also be more cost-effective than traditional in-person learning. Online courses often have lower tuition fees and do not require the purchase of textbooks or other materials. Additionally, eLearning can help to reduce the cost of travel and accommodation, as students do not need to relocate to attend classes.\\n\\nAnother benefit of eLearning is that it can be more interactive and engaging than traditional classroom learning. Many online courses use multimedia tools such as videos, simulations, and games to make learning more engaging and to help students retain information more effectively.\\n\\neLearning can also be more flexible and customizable than traditional classroom learning. Online courses can be designed to meet the specific needs of individual students or organizations, and can be adapted to fit different learning styles and preferences.\\n\\nOverall, eLearning is a convenient, cost-effective, and interactive way for individuals and organizations to learn new skills and knowledge. With the growing availability of high-speed internet and the development of innovative online learning tools, eLearning is likely to continue to grow in popularity in the future.',\n",
       " 'model_text_a': 'oasst-pythia-12b',\n",
       " 'model_text_b': 'vicuna-7b',\n",
       " 'style': {'description': 'A neutral Latin American Spanish voice with a warm, steady tone. Clear and natural, ideal for narrations.',\n",
       "  'name': 'Alejandro - Narrations',\n",
       "  'voice_id': 'JZISI4B0lik6Kitz5vi7'},\n",
       " 'question_refined': \"Can you talk about eLearning in a warm, steady tone, using a neutral Latin American Spanish voice that's clear and natural, perfect for narrations?\"}"
      ]
     },
     "execution_count": 4,
     "metadata": {},
     "output_type": "execute_result"
    }
   ],
   "source": [
    "ds[0]"
   ]
  },
  {
   "cell_type": "code",
   "execution_count": 5,
   "id": "0c86281d",
   "metadata": {},
   "outputs": [],
   "source": [
    "def add_question_refined_wav(ex):\n",
    "    id = ex['id']\n",
    "    path = f\"./refined_questions_kokoro_wav/{id}.wav\"\n",
    "    ex['question_refined_wav'] = path\n",
    "    return ex\n",
    "\n",
    "def add_model_type(ex):\n",
    "    ex['model_type'] = ex['winner_style']\n",
    "    return ex\n",
    "\n",
    "def add_assistant_wav(ex):\n",
    "    id = ex['id']\n",
    "    winner = ex['winner_style']\n",
    "    if winner == 'model_a':\n",
    "        path = f\"./generated_11labs_audio/{id}_model_a.11labs.wav\"\n",
    "    elif winner == 'model_b':    \n",
    "        path = f\"./generated_11labs_audio/{id}_model_b.11labs.wav\"\n",
    "    else:\n",
    "        raise Exception()\n",
    "    if os.path.exists(path):\n",
    "        ex['assistant_wav'] = path\n",
    "    else:\n",
    "        ex['assistant_wav'] = None\n",
    "    return ex\n",
    "    \n",
    "ds = ds.map(add_question_refined_wav)\n",
    "ds = ds.map(add_model_type)\n",
    "ds = ds.map(add_assistant_wav)\n",
    "ds = ds.filter(lambda x: x['assistant_wav'] is not None)"
   ]
  },
  {
   "cell_type": "code",
   "execution_count": 6,
   "id": "0ce26f00",
   "metadata": {},
   "outputs": [
    {
     "name": "stdout",
     "output_type": "stream",
     "text": [
      "len(ds): 591\n"
     ]
    }
   ],
   "source": [
    "print(\"len(ds):\", len(ds))"
   ]
  },
  {
   "cell_type": "code",
   "execution_count": 7,
   "id": "3c4aa4aa",
   "metadata": {},
   "outputs": [
    {
     "data": {
      "text/plain": [
       "{'id': 5434,\n",
       " 'original_id': '15793788be324bd588e7b9707615c279',\n",
       " 'winner_content': 'model_b',\n",
       " 'winner_style': 'model_b',\n",
       " 'question_original': 'write a blog about eLearning',\n",
       " 'assistant_a': 'The world of eLearning is rapidly growing, and it is becoming increasingly important for businesses to stay competitive. As more people turn to eLearning as a way to learn new skills, companies must find ways to make their eLearning programs engaging and effective. To do this, companies must focus on creating courses that are visually appealing and easy to navigate, while also providing engaging content that keeps learners engaged and motivated. Additionally, companies must ensure that their eLearning platform is secure, allowing learners to access their courses from any device with an internet connection. By investing in these strategies, companies can create eLearning programs that are both effective and engaging, ensuring that their employees are equipped with the skills they need to succeed.',\n",
       " 'assistant_b': 'eLearning is a form of education and training that is delivered online, often through interactive and multimedia tools. It has become a popular method for individuals and organizations to learn new skills and knowledge, and has many benefits over traditional in-person learning.\\n\\nOne of the main advantages of eLearning is convenience. With eLearning, students can access course materials and complete assignments from anywhere with an internet connection. This makes it possible for people to learn at their own pace, without having to coordinate their schedules with class times or travel to a physical location.\\n\\neLearning can also be more cost-effective than traditional in-person learning. Online courses often have lower tuition fees and do not require the purchase of textbooks or other materials. Additionally, eLearning can help to reduce the cost of travel and accommodation, as students do not need to relocate to attend classes.\\n\\nAnother benefit of eLearning is that it can be more interactive and engaging than traditional classroom learning. Many online courses use multimedia tools such as videos, simulations, and games to make learning more engaging and to help students retain information more effectively.\\n\\neLearning can also be more flexible and customizable than traditional classroom learning. Online courses can be designed to meet the specific needs of individual students or organizations, and can be adapted to fit different learning styles and preferences.\\n\\nOverall, eLearning is a convenient, cost-effective, and interactive way for individuals and organizations to learn new skills and knowledge. With the growing availability of high-speed internet and the development of innovative online learning tools, eLearning is likely to continue to grow in popularity in the future.',\n",
       " 'model_text_a': 'oasst-pythia-12b',\n",
       " 'model_text_b': 'vicuna-7b',\n",
       " 'style': {'description': 'A neutral Latin American Spanish voice with a warm, steady tone. Clear and natural, ideal for narrations.',\n",
       "  'name': 'Alejandro - Narrations',\n",
       "  'voice_id': 'JZISI4B0lik6Kitz5vi7'},\n",
       " 'question_refined': \"Can you talk about eLearning in a warm, steady tone, using a neutral Latin American Spanish voice that's clear and natural, perfect for narrations?\",\n",
       " 'question_refined_wav': './refined_questions_kokoro_wav/5434.wav',\n",
       " 'model_type': 'model_b',\n",
       " 'assistant_wav': './generated_11labs_audio/5434_model_b.11labs.wav'}"
      ]
     },
     "execution_count": 7,
     "metadata": {},
     "output_type": "execute_result"
    }
   ],
   "source": [
    "ds[0]"
   ]
  },
  {
   "cell_type": "code",
   "execution_count": 8,
   "id": "1b05f5e3",
   "metadata": {},
   "outputs": [],
   "source": [
    "ds_filtered = ds.select_columns(\n",
    "    [\"id\", \"original_id\", \"model_type\", \"question_refined\", \"question_refined_wav\", \"assistant_wav\"]\n",
    ").cast_column(\"question_refined_wav\", Audio()).cast_column(\"assistant_wav\", Audio())"
   ]
  },
  {
   "cell_type": "code",
   "execution_count": null,
   "id": "bf510c00",
   "metadata": {},
   "outputs": [],
   "source": [
    "# from huggingface_hub import login\n",
    "# login(token=\"\")"
   ]
  },
  {
   "cell_type": "code",
   "execution_count": 11,
   "id": "b9211268",
   "metadata": {},
   "outputs": [
    {
     "data": {
      "application/vnd.jupyter.widget-view+json": {
       "model_id": "fb4d0ae8c31d4857afe75fb07c34dc89",
       "version_major": 2,
       "version_minor": 0
      },
      "text/plain": [
       "Uploading the dataset shards:   0%|          | 0/10 [00:00<?, ?it/s]"
      ]
     },
     "metadata": {},
     "output_type": "display_data"
    },
    {
     "data": {
      "application/vnd.jupyter.widget-view+json": {
       "model_id": "d6fbb9f935c1455b95415a140a36f78b",
       "version_major": 2,
       "version_minor": 0
      },
      "text/plain": [
       "Map:   0%|          | 0/60 [00:00<?, ? examples/s]"
      ]
     },
     "metadata": {},
     "output_type": "display_data"
    },
    {
     "data": {
      "application/vnd.jupyter.widget-view+json": {
       "model_id": "660a5cd3ffa748408ba2e6ee93f1355f",
       "version_major": 2,
       "version_minor": 0
      },
      "text/plain": [
       "Creating parquet from Arrow format:   0%|          | 0/1 [00:00<?, ?ba/s]"
      ]
     },
     "metadata": {},
     "output_type": "display_data"
    },
    {
     "data": {
      "application/vnd.jupyter.widget-view+json": {
       "model_id": "5572d1bdb5bb410abdbe47f4b2f0c43c",
       "version_major": 2,
       "version_minor": 0
      },
      "text/plain": [
       "Map:   0%|          | 0/59 [00:00<?, ? examples/s]"
      ]
     },
     "metadata": {},
     "output_type": "display_data"
    },
    {
     "data": {
      "application/vnd.jupyter.widget-view+json": {
       "model_id": "35f8796298314415b0f5c61c703b36b2",
       "version_major": 2,
       "version_minor": 0
      },
      "text/plain": [
       "Creating parquet from Arrow format:   0%|          | 0/1 [00:00<?, ?ba/s]"
      ]
     },
     "metadata": {},
     "output_type": "display_data"
    },
    {
     "data": {
      "application/vnd.jupyter.widget-view+json": {
       "model_id": "53607a64bfb54f6aa19e092085d482b0",
       "version_major": 2,
       "version_minor": 0
      },
      "text/plain": [
       "Map:   0%|          | 0/59 [00:00<?, ? examples/s]"
      ]
     },
     "metadata": {},
     "output_type": "display_data"
    },
    {
     "data": {
      "application/vnd.jupyter.widget-view+json": {
       "model_id": "2e4cedf03b2e45e1a5858520c67b6b7d",
       "version_major": 2,
       "version_minor": 0
      },
      "text/plain": [
       "Creating parquet from Arrow format:   0%|          | 0/1 [00:00<?, ?ba/s]"
      ]
     },
     "metadata": {},
     "output_type": "display_data"
    },
    {
     "data": {
      "application/vnd.jupyter.widget-view+json": {
       "model_id": "1e6b9f02e62244f3ab42b566e0b00bb6",
       "version_major": 2,
       "version_minor": 0
      },
      "text/plain": [
       "Map:   0%|          | 0/59 [00:00<?, ? examples/s]"
      ]
     },
     "metadata": {},
     "output_type": "display_data"
    },
    {
     "data": {
      "application/vnd.jupyter.widget-view+json": {
       "model_id": "84c290fe398d4cab921cb0c6e7fc0e2c",
       "version_major": 2,
       "version_minor": 0
      },
      "text/plain": [
       "Creating parquet from Arrow format:   0%|          | 0/1 [00:00<?, ?ba/s]"
      ]
     },
     "metadata": {},
     "output_type": "display_data"
    },
    {
     "data": {
      "application/vnd.jupyter.widget-view+json": {
       "model_id": "05a5aeef368f42f2a660544d35f2ea86",
       "version_major": 2,
       "version_minor": 0
      },
      "text/plain": [
       "Map:   0%|          | 0/59 [00:00<?, ? examples/s]"
      ]
     },
     "metadata": {},
     "output_type": "display_data"
    },
    {
     "data": {
      "application/vnd.jupyter.widget-view+json": {
       "model_id": "a32da1ea035646c199e5aa2e5fbb931e",
       "version_major": 2,
       "version_minor": 0
      },
      "text/plain": [
       "Creating parquet from Arrow format:   0%|          | 0/1 [00:00<?, ?ba/s]"
      ]
     },
     "metadata": {},
     "output_type": "display_data"
    },
    {
     "data": {
      "application/vnd.jupyter.widget-view+json": {
       "model_id": "fb12d4063909450fa16e1c57ac4416c9",
       "version_major": 2,
       "version_minor": 0
      },
      "text/plain": [
       "Map:   0%|          | 0/59 [00:00<?, ? examples/s]"
      ]
     },
     "metadata": {},
     "output_type": "display_data"
    },
    {
     "data": {
      "application/vnd.jupyter.widget-view+json": {
       "model_id": "657dd521a9e94301bcdd8f134005c326",
       "version_major": 2,
       "version_minor": 0
      },
      "text/plain": [
       "Creating parquet from Arrow format:   0%|          | 0/1 [00:00<?, ?ba/s]"
      ]
     },
     "metadata": {},
     "output_type": "display_data"
    },
    {
     "data": {
      "application/vnd.jupyter.widget-view+json": {
       "model_id": "7200557cfc3f4f57a2d46ded11cf7a5a",
       "version_major": 2,
       "version_minor": 0
      },
      "text/plain": [
       "Map:   0%|          | 0/59 [00:00<?, ? examples/s]"
      ]
     },
     "metadata": {},
     "output_type": "display_data"
    },
    {
     "data": {
      "application/vnd.jupyter.widget-view+json": {
       "model_id": "9c8daf662bcb49a982cb9e0622c08e3c",
       "version_major": 2,
       "version_minor": 0
      },
      "text/plain": [
       "Creating parquet from Arrow format:   0%|          | 0/1 [00:00<?, ?ba/s]"
      ]
     },
     "metadata": {},
     "output_type": "display_data"
    },
    {
     "data": {
      "application/vnd.jupyter.widget-view+json": {
       "model_id": "4861647dd7d74ecfab803394409454a8",
       "version_major": 2,
       "version_minor": 0
      },
      "text/plain": [
       "Map:   0%|          | 0/59 [00:00<?, ? examples/s]"
      ]
     },
     "metadata": {},
     "output_type": "display_data"
    },
    {
     "data": {
      "application/vnd.jupyter.widget-view+json": {
       "model_id": "46fe239dc975432ea0931af49bc01d63",
       "version_major": 2,
       "version_minor": 0
      },
      "text/plain": [
       "Creating parquet from Arrow format:   0%|          | 0/1 [00:00<?, ?ba/s]"
      ]
     },
     "metadata": {},
     "output_type": "display_data"
    },
    {
     "data": {
      "application/vnd.jupyter.widget-view+json": {
       "model_id": "dbeb3e96449845e283049750aa5dac92",
       "version_major": 2,
       "version_minor": 0
      },
      "text/plain": [
       "Map:   0%|          | 0/59 [00:00<?, ? examples/s]"
      ]
     },
     "metadata": {},
     "output_type": "display_data"
    },
    {
     "data": {
      "application/vnd.jupyter.widget-view+json": {
       "model_id": "4dd58fbbd56f435085f1bc227b8de3f3",
       "version_major": 2,
       "version_minor": 0
      },
      "text/plain": [
       "Creating parquet from Arrow format:   0%|          | 0/1 [00:00<?, ?ba/s]"
      ]
     },
     "metadata": {},
     "output_type": "display_data"
    },
    {
     "data": {
      "application/vnd.jupyter.widget-view+json": {
       "model_id": "0bfd3663d43e415992ad8f278a885719",
       "version_major": 2,
       "version_minor": 0
      },
      "text/plain": [
       "Map:   0%|          | 0/59 [00:00<?, ? examples/s]"
      ]
     },
     "metadata": {},
     "output_type": "display_data"
    },
    {
     "data": {
      "application/vnd.jupyter.widget-view+json": {
       "model_id": "cb536904fec5415fb053bbaa0b006f04",
       "version_major": 2,
       "version_minor": 0
      },
      "text/plain": [
       "Creating parquet from Arrow format:   0%|          | 0/1 [00:00<?, ?ba/s]"
      ]
     },
     "metadata": {},
     "output_type": "display_data"
    },
    {
     "data": {
      "application/vnd.jupyter.widget-view+json": {
       "model_id": "68ed0946d7024e949fe07d548fcfa95f",
       "version_major": 2,
       "version_minor": 0
      },
      "text/plain": [
       "README.md:   0%|          | 0.00/493 [00:00<?, ?B/s]"
      ]
     },
     "metadata": {},
     "output_type": "display_data"
    },
    {
     "data": {
      "text/plain": [
       "CommitInfo(commit_url='https://huggingface.co/datasets/potsawee/chatbot-arena-spoken-style-eval-591/commit/46a21c3e345aba19a1941287ba96916b3070aec4', commit_message='Upload dataset', commit_description='', oid='46a21c3e345aba19a1941287ba96916b3070aec4', pr_url=None, repo_url=RepoUrl('https://huggingface.co/datasets/potsawee/chatbot-arena-spoken-style-eval-591', endpoint='https://huggingface.co', repo_type='dataset', repo_id='potsawee/chatbot-arena-spoken-style-eval-591'), pr_revision=None, pr_num=None)"
      ]
     },
     "execution_count": 11,
     "metadata": {},
     "output_type": "execute_result"
    }
   ],
   "source": [
    "ds_filtered.push_to_hub(\"potsawee/chatbot-arena-spoken-style-eval-591\", max_shard_size=\"100MB\")"
   ]
  },
  {
   "cell_type": "code",
   "execution_count": null,
   "id": "7d37be11-c107-4c51-8d4b-e14bbd011667",
   "metadata": {},
   "outputs": [],
   "source": []
  }
 ],
 "metadata": {
  "kernelspec": {
   "display_name": "exp-pp25",
   "language": "python",
   "name": "python3"
  },
  "language_info": {
   "codemirror_mode": {
    "name": "ipython",
    "version": 3
   },
   "file_extension": ".py",
   "mimetype": "text/x-python",
   "name": "python",
   "nbconvert_exporter": "python",
   "pygments_lexer": "ipython3",
   "version": "3.10.13"
  }
 },
 "nbformat": 4,
 "nbformat_minor": 5
}
