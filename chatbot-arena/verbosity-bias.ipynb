{
 "cells": [
  {
   "cell_type": "code",
   "execution_count": 1,
   "id": "777edab9-00b5-4ff5-8c29-9e213a3e0dbd",
   "metadata": {},
   "outputs": [],
   "source": [
    "import json\n",
    "import os\n",
    "import re"
   ]
  },
  {
   "cell_type": "code",
   "execution_count": 2,
   "id": "2cd5f925-0920-45de-b168-9bf1e7aa5b09",
   "metadata": {},
   "outputs": [
    {
     "name": "stdout",
     "output_type": "stream",
     "text": [
      "len: 7824\n"
     ]
    }
   ],
   "source": [
    "with open(\"./chatbot-arena-spoken-1turn-english-difference-voices.json\") as f:\n",
    "    raw_data = json.load(f)\n",
    "gts = []\n",
    "gt_mapping = {\n",
    "    'model_a': 'A',\n",
    "    'model_b': 'B',\n",
    "    'tie': 'C',\n",
    "    'tie (bothbad)': 'C'\n",
    "}\n",
    "for x in raw_data:\n",
    "    gts.append(gt_mapping[x['winner']])\n",
    "print(\"len:\", len(gts))"
   ]
  },
  {
   "cell_type": "code",
   "execution_count": 15,
   "id": "ff320ca0-525c-4e59-8eee-c980a31630fd",
   "metadata": {},
   "outputs": [],
   "source": [
    "def read_jsonl(file_path):\n",
    "    data = []\n",
    "    # Open and read the file line by line\n",
    "    with open(file_path, 'r') as file:\n",
    "        for line in file:\n",
    "            # Parse each line as a JSON object\n",
    "            json_obj = json.loads(line.strip())\n",
    "            data.append(json_obj)\n",
    "    print(\"len:\", len(data))\n",
    "    return data"
   ]
  },
  {
   "cell_type": "code",
   "execution_count": 19,
   "id": "d02dd95f-0029-49a4-991a-eb7f4583d782",
   "metadata": {},
   "outputs": [],
   "source": [
    "def process_output(data):\n",
    "    labels = []\n",
    "    for x in data:\n",
    "        response = x['response']\n",
    "        response = response[-20:]\n",
    "        labels += [extract_abc(response)]\n",
    "    calculate_percentage(labels)\n",
    "    return labels\n",
    "def calculate_percentage(arr):\n",
    "    # Get the total number of items\n",
    "    total_count = len(arr)\n",
    "    \n",
    "    # Create a dictionary to store counts of each unique item\n",
    "    item_counts = {'A': 0, 'B': 0, 'C': 0, 'D': 0}\n",
    "    \n",
    "    for item in arr:\n",
    "        item_counts[item] = item_counts.get(item, 0) + 1\n",
    "    \n",
    "    # Calculate percentages and store them in a dictionary\n",
    "    percentages = {item: (count / total_count) * 100 for item, count in item_counts.items()}\n",
    "    \n",
    "    # Display the result\n",
    "    print(\"---------------\")\n",
    "    for item, percentage in percentages.items():\n",
    "        print(f\"{item}: {percentage:.2f}%\")\n",
    "    print(\"---------------\")\n",
    "def extract_abc(text):\n",
    "    pattern = r'\\[\\[(A|B|C)\\]\\]'\n",
    "    \n",
    "    # Search for the match\n",
    "    match = re.search(pattern, text)\n",
    "    \n",
    "    if match:\n",
    "        result = match.group(1)\n",
    "        # print(f\"Extracted value: {result}\")\n",
    "    else:\n",
    "        result = \"D\"\n",
    "    return result "
   ]
  },
  {
   "cell_type": "code",
   "execution_count": 28,
   "id": "f8a5cdcd-24bf-4592-89a9-56f3d20fff80",
   "metadata": {},
   "outputs": [],
   "source": [
    "from transformers import AutoTokenizer\n",
    "tokenizer = AutoTokenizer.from_pretrained(\"gpt2\")"
   ]
  },
  {
   "cell_type": "code",
   "execution_count": 34,
   "id": "cf0b01a7-da25-41cf-b34f-eea6d1d45d5c",
   "metadata": {},
   "outputs": [],
   "source": [
    "def count_tokens(text):\n",
    "    return len(tokenizer.tokenize(text))"
   ]
  },
  {
   "cell_type": "code",
   "execution_count": 43,
   "id": "b8156e30-0544-42cf-a2ed-86a9187a9c82",
   "metadata": {},
   "outputs": [],
   "source": [
    "def verbosity_bias(preds, gts):\n",
    "    assert len(preds) == len(gts)\n",
    "    assert len(raw_data) == len(gts)\n",
    "    i = 0\n",
    "    tie, longer, shorter, total = 0, 0, 0, 0\n",
    "    for pred, gt in zip(preds, gts):\n",
    "        if gt != 'C':\n",
    "            continue\n",
    "        tokens_a = count_tokens(raw_data[i]['conversation_a'][1]['content'])\n",
    "        tokens_b = count_tokens(raw_data[i]['conversation_b'][1]['content'])\n",
    "        if pred in ['C', 'D']:\n",
    "            tie += 1\n",
    "        else:\n",
    "            if tokens_a == tokens_b:\n",
    "                tie += 1\n",
    "            elif tokens_a > tokens_b:\n",
    "                if pred == 'A':\n",
    "                    longer += 1\n",
    "                else:\n",
    "                    shorter += 1\n",
    "            else:\n",
    "                if pred == 'A':\n",
    "                    shorter += 1\n",
    "                else:\n",
    "                    longer += 1  \n",
    "        total += 1\n",
    "    print(\"tie     = {:.2f}%\".format(tie/total*100))\n",
    "    print(\"longer  = {:.2f}%\".format(longer/total*100))\n",
    "    print(\"shorter = {:.2f}%\".format(shorter/total*100))"
   ]
  },
  {
   "cell_type": "code",
   "execution_count": 64,
   "id": "e7f09662-2382-40b8-8fc7-93a8c9765b92",
   "metadata": {},
   "outputs": [
    {
     "name": "stdout",
     "output_type": "stream",
     "text": [
      "len: 7824\n",
      "---------------\n",
      "A: 51.09%\n",
      "B: 38.34%\n",
      "C: 10.05%\n",
      "D: 0.52%\n",
      "---------------\n",
      "tie     = 23.45%\n",
      "longer  = 43.66%\n",
      "shorter = 32.90%\n"
     ]
    }
   ],
   "source": [
    "text_text = process_output(read_jsonl(\"./experiments/chatbot-arena-7824/text-text-gpt4o.jsonl\"))\n",
    "verbosity_bias(text_text, gts)"
   ]
  },
  {
   "cell_type": "code",
   "execution_count": 66,
   "id": "bf1a8cc7-4bdf-4598-b25f-959a8c20f602",
   "metadata": {},
   "outputs": [
    {
     "name": "stdout",
     "output_type": "stream",
     "text": [
      "len: 7824\n",
      "---------------\n",
      "A: 46.57%\n",
      "B: 40.22%\n",
      "C: 9.92%\n",
      "D: 3.28%\n",
      "---------------\n",
      "tie     = 23.95%\n",
      "longer  = 38.84%\n",
      "shorter = 37.22%\n"
     ]
    }
   ],
   "source": [
    "x = process_output(read_jsonl(\"./experiments/chatbot-arena-7824/audio-audio-gpt4o.jsonl\"))\n",
    "verbosity_bias(x, gts)"
   ]
  },
  {
   "cell_type": "code",
   "execution_count": 67,
   "id": "c3eda90e-bf1c-40e5-bb02-d19b4ccc8979",
   "metadata": {},
   "outputs": [
    {
     "name": "stdout",
     "output_type": "stream",
     "text": [
      "len: 7824\n",
      "---------------\n",
      "A: 53.55%\n",
      "B: 41.86%\n",
      "C: 4.58%\n",
      "D: 0.01%\n",
      "---------------\n",
      "tie     = 10.57%\n",
      "longer  = 49.79%\n",
      "shorter = 39.65%\n"
     ]
    }
   ],
   "source": [
    "x = process_output(read_jsonl(\"./experiments/chatbot-arena-7824/text-text-gemini1.5flash.jsonl\"))\n",
    "verbosity_bias(x, gts)"
   ]
  },
  {
   "cell_type": "code",
   "execution_count": 56,
   "id": "fc71e8ad-ecab-4565-adce-3ab044fb50de",
   "metadata": {},
   "outputs": [
    {
     "name": "stdout",
     "output_type": "stream",
     "text": [
      "len: 7824\n",
      "---------------\n",
      "A: 62.87%\n",
      "B: 34.01%\n",
      "C: 3.09%\n",
      "D: 0.03%\n",
      "---------------\n",
      "tie     = 7.29%\n",
      "longer  = 59.70%\n",
      "shorter = 33.01%\n"
     ]
    }
   ],
   "source": [
    "x = process_output(read_jsonl(\"./experiments/chatbot-arena-7824/audio-audio-gemini1.5flash.jsonl\"))\n",
    "verbosity_bias(x, gts)"
   ]
  }
 ],
 "metadata": {
  "kernelspec": {
   "display_name": "Python 3 (ipykernel)",
   "language": "python",
   "name": "python3"
  },
  "language_info": {
   "codemirror_mode": {
    "name": "ipython",
    "version": 3
   },
   "file_extension": ".py",
   "mimetype": "text/x-python",
   "name": "python",
   "nbconvert_exporter": "python",
   "pygments_lexer": "ipython3",
   "version": "3.10.13"
  }
 },
 "nbformat": 4,
 "nbformat_minor": 5
}
