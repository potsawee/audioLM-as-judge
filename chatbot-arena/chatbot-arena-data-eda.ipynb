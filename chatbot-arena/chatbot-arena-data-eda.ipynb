{
 "cells": [
  {
   "cell_type": "code",
   "execution_count": 97,
   "id": "989c3ed0-f2d7-4712-a97d-663c6092d9db",
   "metadata": {},
   "outputs": [],
   "source": [
    "import json\n",
    "import random"
   ]
  },
  {
   "cell_type": "code",
   "execution_count": 98,
   "id": "3c1f4f26-50dd-4aa8-befc-17025b114852",
   "metadata": {},
   "outputs": [
    {
     "name": "stdout",
     "output_type": "stream",
     "text": [
      "len(data): 8818\n"
     ]
    }
   ],
   "source": [
    "data = []\n",
    "path = \"/data/share/data/cleaned_valid_conversations_ChatBotArena.jsonl\"\n",
    "with open(path, \"r\") as f:\n",
    "    for line in f:\n",
    "        x = json.loads(line)\n",
    "        data.append(x)\n",
    "print(\"len(data):\", len(data))"
   ]
  },
  {
   "cell_type": "code",
   "execution_count": 99,
   "id": "ffda4a62-b3a6-47d0-96f9-afc0cbe0b8ef",
   "metadata": {},
   "outputs": [
    {
     "name": "stdout",
     "output_type": "stream",
     "text": [
      "len(data): 7828\n"
     ]
    }
   ],
   "source": [
    "fdata = [\n",
    "    {key: d[key] for key in ['question_id', 'model_a', 'model_b', 'winner', 'judge', 'conversation_a', 'conversation_b']}\n",
    "    for d in data if d.get('language') == 'English' and d.get('turn') == 1\n",
    "]\n",
    "print(\"len(data):\", len(fdata))\n",
    "data = fdata"
   ]
  },
  {
   "cell_type": "code",
   "execution_count": 100,
   "id": "e8467724-f9dc-4ccf-b9fb-735458333f82",
   "metadata": {},
   "outputs": [
    {
     "name": "stdout",
     "output_type": "stream",
     "text": [
      "len(data): 7824\n"
     ]
    }
   ],
   "source": [
    "ffdata = []\n",
    "set_questions = set()\n",
    "for x in data:\n",
    "    if x['question_id'] not in set_questions:\n",
    "        set_questions.add(x['question_id'])\n",
    "        ffdata.append(x)\n",
    "    else:\n",
    "        pass\n",
    "print(\"len(data):\", len(ffdata))\n",
    "data = ffdata"
   ]
  },
  {
   "cell_type": "code",
   "execution_count": 102,
   "id": "6865578f-d949-4ec1-99e2-dc4c6eb7c1fa",
   "metadata": {},
   "outputs": [],
   "source": [
    "# with open(\"./chatbot-arena-spoken-1turn-english.json\", \"w\") as f:\n",
    "    # json.dump(data, f, indent=4)"
   ]
  },
  {
   "cell_type": "markdown",
   "id": "8d2348ca-bbb5-4a87-82d8-f919431bec5a",
   "metadata": {},
   "source": [
    "## START HERE"
   ]
  },
  {
   "cell_type": "code",
   "execution_count": 103,
   "id": "e78158d1-8a16-401b-a136-85ccc42ee3d3",
   "metadata": {},
   "outputs": [],
   "source": [
    "with open(\"./chatbot-arena-spoken-1turn-english.json\") as f:\n",
    "    data = json.load(f)"
   ]
  },
  {
   "cell_type": "code",
   "execution_count": 104,
   "id": "e4057d7b-a717-453a-b6be-7eb3a00a13eb",
   "metadata": {},
   "outputs": [
    {
     "data": {
      "text/plain": [
       "7824"
      ]
     },
     "execution_count": 104,
     "metadata": {},
     "output_type": "execute_result"
    }
   ],
   "source": [
    "len(data)"
   ]
  },
  {
   "cell_type": "code",
   "execution_count": 105,
   "id": "0b74b232-8db4-4c89-951e-2b0badb5158e",
   "metadata": {},
   "outputs": [],
   "source": [
    "for x in data:\n",
    "    assert len(x['conversation_a']) == 2\n",
    "    assert len(x['conversation_b']) == 2\n",
    "    assert x['conversation_a'][0]['content'] == x['conversation_b'][0]['content']"
   ]
  },
  {
   "cell_type": "code",
   "execution_count": 106,
   "id": "f0ba4363-b3eb-4bb3-87a6-8ec1aeee0a11",
   "metadata": {},
   "outputs": [
    {
     "data": {
      "text/plain": [
       "{'question_id': '8c6fe45712d34849ac416955cd2aacc3',\n",
       " 'model_a': 'gpt-4',\n",
       " 'model_b': 'oasst-pythia-12b',\n",
       " 'winner': 'model_a',\n",
       " 'judge': 'arena_user_10681',\n",
       " 'conversation_a': [{'content': 'Give me your best guess. What do you think my internal motivation is for asking you this question?',\n",
       "   'role': 'user'},\n",
       "  {'content': 'As a helpful assistant, my best guess is that your internal motivation for asking this question could be to understand the capabilities of an AI in recognizing and interpreting human emotions and intentions. You might be curious about how well an AI can assess your motivation based on limited information and how accurately it can respond to your inquiries.',\n",
       "   'role': 'assistant'}],\n",
       " 'conversation_b': [{'content': 'Give me your best guess. What do you think my internal motivation is for asking you this question?',\n",
       "   'role': 'user'},\n",
       "  {'content': \"As a Large Language Model, I don't have personal beliefs or motivations. However, I can provide a possible explanation for your question based on my training data and the context of the conversation.\\n\\nIt's possible that you're asking me this question to get insight into my understanding of your goals and motivations. You might be hoping that I can offer you guidance or advice on how to achieve your goals. Additionally, you might be curious about the reasons behind my responses and how I arrived at them.\\n\\nIn any case, I'm happy to provide you with my best guess based on my training data and the context of the conversation. Let me know if you have any further questions or if there's anything else I can help with.\",\n",
       "   'role': 'assistant'}]}"
      ]
     },
     "execution_count": 106,
     "metadata": {},
     "output_type": "execute_result"
    }
   ],
   "source": [
    "random.choice(data)"
   ]
  },
  {
   "cell_type": "code",
   "execution_count": 107,
   "id": "6c5ceff8-3fa4-4ef2-b9a0-99c5cc44f390",
   "metadata": {},
   "outputs": [],
   "source": [
    "from collections import Counter\n",
    "\n",
    "# Initialize counters for each key\n",
    "counters = {key: Counter() for key in ['model_a', 'model_b', 'winner']}\n",
    "\n",
    "# Count occurrences in the filtered data\n",
    "for d in data:\n",
    "    for key in counters:\n",
    "        counters[key][d[key]] += 1\n",
    "\n",
    "# Convert to a dictionary of dictionaries for better readability\n",
    "result_counts = {key: dict(counters[key]) for key in counters}\n",
    "\n",
    "# Display the counts\n",
    "import pprint\n",
    "# pprint.pprint(result_counts)"
   ]
  },
  {
   "cell_type": "code",
   "execution_count": 108,
   "id": "496051f5-f818-4cad-a5a7-e35ac7c23a79",
   "metadata": {},
   "outputs": [
    {
     "data": {
      "text/plain": [
       "7824"
      ]
     },
     "execution_count": 108,
     "metadata": {},
     "output_type": "execute_result"
    }
   ],
   "source": [
    "len(data)"
   ]
  },
  {
   "cell_type": "markdown",
   "id": "ca49a5e6-5806-4e95-9a5e-6f3d0ed5513c",
   "metadata": {},
   "source": [
    "### Add TTS Kokoro"
   ]
  },
  {
   "cell_type": "code",
   "execution_count": 109,
   "id": "c93b8ed8-ba99-497d-b93b-d281ed52c3df",
   "metadata": {},
   "outputs": [],
   "source": [
    "# 'a' --> american\n",
    "# 'b' --> british\n",
    "kokoro_options = [\n",
    "    # 8 american\n",
    "    ('a', 'af_bella'),\n",
    "    ('a', 'af_nicole'),\n",
    "    ('a', 'af_sarah'),\n",
    "    ('a', 'af_kore'),\n",
    "    ('a', 'af_aoede'),\n",
    "    ('a', 'am_puck'),\n",
    "    ('a', 'am_michael'),\n",
    "    ('a', 'am_fenrir'),\n",
    "    # 4 british \n",
    "    ('b', 'bf_emma'),\n",
    "    ('b', 'bf_isabella'),\n",
    "    ('b', 'bm_fable'),\n",
    "    ('b', 'bm_george'),\n",
    "]"
   ]
  },
  {
   "cell_type": "code",
   "execution_count": 112,
   "id": "f7b88710-4bca-4ebd-9805-dd29f35a14aa",
   "metadata": {},
   "outputs": [],
   "source": [
    "# Exp1: different voices\n",
    "data_plus = []\n",
    "for x in data:\n",
    "    voice_user = random.choice(kokoro_options)\n",
    "    voice_a = random.choice(kokoro_options)\n",
    "    voice_b = random.choice(kokoro_options)\n",
    "    x['voice_user'] = voice_user\n",
    "    x['voice_a'] = voice_a\n",
    "    x['voice_b'] = voice_b\n",
    "    data_plus.append(x)\n",
    "with open(\"./chatbot-arena-spoken-1turn-english-difference-voices.json\", \"w\") as f:\n",
    "    json.dump(data_plus, f, indent=4)"
   ]
  },
  {
   "cell_type": "code",
   "execution_count": null,
   "id": "797fdbd9-a246-40f6-a7f2-c36bb990f384",
   "metadata": {},
   "outputs": [],
   "source": []
  }
 ],
 "metadata": {
  "kernelspec": {
   "display_name": "Python 3 (ipykernel)",
   "language": "python",
   "name": "python3"
  },
  "language_info": {
   "codemirror_mode": {
    "name": "ipython",
    "version": 3
   },
   "file_extension": ".py",
   "mimetype": "text/x-python",
   "name": "python",
   "nbconvert_exporter": "python",
   "pygments_lexer": "ipython3",
   "version": "3.10.13"
  }
 },
 "nbformat": 4,
 "nbformat_minor": 5
}
