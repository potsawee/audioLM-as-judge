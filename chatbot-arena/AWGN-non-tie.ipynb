{
 "cells": [
  {
   "cell_type": "code",
   "execution_count": 116,
   "id": "41a1bf92-1d43-4a1b-bb0d-7634851f8ebc",
   "metadata": {},
   "outputs": [],
   "source": [
    "import json\n",
    "import os\n",
    "import re\n",
    "import hashlib\n"
   ]
  },
  {
   "cell_type": "code",
   "execution_count": 117,
   "id": "3dc4f456-f041-43c3-95eb-105e2f4c757f",
   "metadata": {},
   "outputs": [],
   "source": [
    "with open(\"./chatbot-arena-spoken-1turn-english-subset1000.json\") as f:\n",
    "    data = json.load(f)\n",
    "noise_added = []\n",
    "for i in range(len(data)):\n",
    "    hashed = hashlib.sha256(data[i]['question_id'].encode()).digest()\n",
    "    bit = hashed[0] & 1\n",
    "    if bit == 0:\n",
    "        # noise added to model_a\n",
    "        noise_added.append('A')\n",
    "    else:\n",
    "        # noise added to model_b\n",
    "        noise_added.append('B')"
   ]
  },
  {
   "cell_type": "code",
   "execution_count": 118,
   "id": "8c6df9f4-1694-474b-a299-d9d1b413386d",
   "metadata": {},
   "outputs": [
    {
     "data": {
      "text/plain": [
       "1000"
      ]
     },
     "execution_count": 118,
     "metadata": {},
     "output_type": "execute_result"
    }
   ],
   "source": [
    "len(noise_added)"
   ]
  },
  {
   "cell_type": "code",
   "execution_count": 11,
   "id": "ade8455d-a625-4412-ac77-da45ea022bfd",
   "metadata": {},
   "outputs": [],
   "source": [
    "def read_jsonl(file_path):\n",
    "    data = []\n",
    "    # Open and read the file line by line\n",
    "    with open(file_path, 'r') as file:\n",
    "        for line in file:\n",
    "            # Parse each line as a JSON object\n",
    "            json_obj = json.loads(line.strip())\n",
    "            data.append(json_obj)\n",
    "    print(\"len:\", len(data))\n",
    "    return data"
   ]
  },
  {
   "cell_type": "code",
   "execution_count": 18,
   "id": "b41e4c0b-6b94-43a3-924c-56f043be989f",
   "metadata": {},
   "outputs": [],
   "source": [
    "def process_output(data):\n",
    "    labels = []\n",
    "    for x in data:\n",
    "        response = x['response']\n",
    "        # response = response[-20:]\n",
    "        labels += [extract_abc(response)]\n",
    "    calculate_percentage(labels)\n",
    "    return labels"
   ]
  },
  {
   "cell_type": "code",
   "execution_count": 19,
   "id": "a1033df9-3ce2-4957-aee1-2d9bfb1218d1",
   "metadata": {},
   "outputs": [],
   "source": [
    "def extract_abc(text):\n",
    "    pattern = r'\\[\\[(A|B|C)\\]\\]'\n",
    "    \n",
    "    # Search for the match\n",
    "    match = re.search(pattern, text)\n",
    "    \n",
    "    if match:\n",
    "        result = match.group(1)\n",
    "        # print(f\"Extracted value: {result}\")\n",
    "    else:\n",
    "        result = \"D\"\n",
    "    return result "
   ]
  },
  {
   "cell_type": "code",
   "execution_count": 20,
   "id": "35b6cf33-f3e6-4d85-98fd-0ecb0a633abe",
   "metadata": {},
   "outputs": [],
   "source": [
    "def calculate_percentage(arr):\n",
    "    # Get the total number of items\n",
    "    total_count = len(arr)\n",
    "    \n",
    "    # Create a dictionary to store counts of each unique item\n",
    "    item_counts = {'A': 0, 'B': 0, 'C': 0, 'D': 0}\n",
    "    \n",
    "    for item in arr:\n",
    "        item_counts[item] = item_counts.get(item, 0) + 1\n",
    "    \n",
    "    # Calculate percentages and store them in a dictionary\n",
    "    percentages = {item: (count / total_count) * 100 for item, count in item_counts.items()}\n",
    "    \n",
    "    # Display the result\n",
    "    print(\"---------------\")\n",
    "    for item, percentage in percentages.items():\n",
    "        print(f\"{item}: {percentage:.2f}%\")\n",
    "    print(\"---------------\")"
   ]
  },
  {
   "cell_type": "code",
   "execution_count": 684,
   "id": "c648a639-e60a-45fd-a35e-6c8d897e572f",
   "metadata": {},
   "outputs": [],
   "source": [
    "def stats(before, after):\n",
    "    n = min(len(before), len(after))\n",
    "    count1_remain, count1_swap, count1_tie, count1_error, count1_total = 0, 0, 0, 0, 0\n",
    "    count2_remain, count2_swap, count2_tie, count2_error, count2_total = 0, 0, 0, 0, 0\n",
    "    count3_tie, count3_with_noise, count3_no_noise, count3_error, count3_total = 0, 0, 0, 0, 0\n",
    "    for i in range(n):\n",
    "        label0 = before[i]\n",
    "        label1 = after[i]\n",
    "        noise_added_to = noise_added[i]\n",
    "    \n",
    "        # noise added to before's winner\n",
    "        if label0 == noise_added_to:\n",
    "            if label0 == label1:\n",
    "                count1_remain += 1\n",
    "            elif label1 == 'C':\n",
    "                count1_tie += 1\n",
    "            elif label1 == 'D':\n",
    "                count1_error += 1\n",
    "            else:\n",
    "                count1_swap += 1\n",
    "            count1_total += 1\n",
    "            \n",
    "        # noise added to before's loser\n",
    "        elif label0 != noise_added_to and label0 in ['A', 'B']:\n",
    "            if label0 == label1:\n",
    "                count2_remain += 1\n",
    "            elif label1 == 'C':\n",
    "                count2_tie += 1\n",
    "            elif label1 == 'D':\n",
    "                count2_error += 1\n",
    "            else:\n",
    "                count2_swap += 1\n",
    "            count2_total += 1\n",
    "\n",
    "        # noise added to before's tie\n",
    "        elif label0 != noise_added_to and label0 == 'C':\n",
    "            if label1 == 'C':\n",
    "                count3_tie += 1\n",
    "            elif label1 == noise_added_to:\n",
    "                count3_with_noise += 1 \n",
    "            elif label1 != noise_added_to:\n",
    "                count3_no_noise += 1\n",
    "            else:\n",
    "                count3_error += 1\n",
    "            count3_total += 1\n",
    "        elif label0 == 'D':\n",
    "            pass\n",
    "        else:\n",
    "            raise Exception()\n",
    "        \n",
    "            \n",
    "    print(\"------ Noise added to before's winner ------\")\n",
    "    print(\"total:\", count1_total)\n",
    "    print(\"count_remain: {:.2f}\".format(count1_remain/count1_total*100))\n",
    "    print(\"count_swappd: {:.2f}\".format((count1_swap+count1_tie+count1_error)/count1_total*100))\n",
    "    # print(\"count_tie:    {:.2f}\".format(count1_tie/count1_total*100))\n",
    "    # print(\"count_error:  {:.2f}\".format(count1_error/count1_total*100))\n",
    "    print(\"------ Noise added to before's loser ------\")\n",
    "    print(\"total:\", count2_total)\n",
    "    print(\"count_remain: {:.2f}\".format(count2_remain/count2_total*100))\n",
    "    print(\"count_swappd: {:.2f}\".format((count2_swap+count2_tie+count2_error)/count2_total*100))\n",
    "    # print(\"count_tie:    {:.2f}\".format(count2_tie/count2_total*100))\n",
    "    # print(\"count_error:  {:.2f}\".format(count2_error/count2_total*100))\n",
    "    print(\"------ Noise added to before's tie ------\")\n",
    "    print(\"total:\", count3_total)\n",
    "    print(\"count_tie:        {:.2f}\".format(count3_tie/count3_total*100))\n",
    "    print(\"count_swap: {:.2f}\".format((count3_no_noise+count3_with_noise)/count3_total*100))\n",
    "    # print(\"count_no_noise:   {:.2f}\".format(count3_no_noise/count3_total*100))\n",
    "    # print(\"count_with_noise: {:.2f}\".format(count3_with_noise/count3_total*100))\n",
    "    # print(\"count_error:      {:.2f}\".format(count3_error/count3_total*100))"
   ]
  },
  {
   "cell_type": "code",
   "execution_count": 489,
   "id": "fe40a7eb-fb94-46c3-af1c-ce34983a21d9",
   "metadata": {
    "scrolled": true
   },
   "outputs": [],
   "source": [
    "# path = \"./experiments/chatbot-arena-subset1000/audio-audio-gpt4o-awgn-snr100000.jsonl\"\n",
    "# snr1000 = process_output(read_jsonl(path))\n",
    "# path = \"./experiments/chatbot-arena-subset1000/audio-audio-gpt4o-awgn-snr500.jsonl\"\n",
    "# snr500 = process_output(read_jsonl(path))\n",
    "# path = \"./experiments/chatbot-arena-subset1000/audio-audio-gpt4o-awgn-snr40.jsonl\"\n",
    "# snr40 = process_output(read_jsonl(path))\n",
    "# path = \"./experiments/chatbot-arena-subset1000/audio-audio-gpt4o-awgn-snr30.jsonl\"\n",
    "# snr30 = process_output(read_jsonl(path))\n",
    "# path = \"./experiments/chatbot-arena-subset1000/audio-audio-gpt4o-awgn-snr20.jsonl\"\n",
    "# snr20 = process_output(read_jsonl(path))\n",
    "# path = \"./experiments/chatbot-arena-subset1000/audio-audio-gpt4o-awgn-snr10.jsonl\"\n",
    "# snr10 = process_output(read_jsonl(path))\n",
    "# path = \"./experiments/chatbot-arena-subset1000/audio-audio-gpt4o-awgn-snr5.jsonl\"\n",
    "# snr5 = process_output(read_jsonl(path))\n",
    "# path = \"./experiments/chatbot-arena-subset1000/audio-audio-gpt4o-awgn-snr1.jsonl\"\n",
    "# snr1 = process_output(read_jsonl(path))"
   ]
  },
  {
   "cell_type": "code",
   "execution_count": 490,
   "id": "84862ca8-1743-49ac-9327-60275df26325",
   "metadata": {},
   "outputs": [
    {
     "name": "stdout",
     "output_type": "stream",
     "text": [
      "len: 1000\n",
      "---------------\n",
      "A: 47.40%\n",
      "B: 43.30%\n",
      "C: 9.10%\n",
      "D: 0.20%\n",
      "---------------\n"
     ]
    }
   ],
   "source": [
    "path = \"./experiments/chatbot-arena-subset1000/audio-audio-gpt4o-awgn-snr100000.jsonl\"\n",
    "snr1000a = process_output(read_jsonl(path))"
   ]
  },
  {
   "cell_type": "code",
   "execution_count": 491,
   "id": "217859a1-64e1-4a9e-af4f-2c3e1dccea86",
   "metadata": {},
   "outputs": [
    {
     "name": "stdout",
     "output_type": "stream",
     "text": [
      "len: 1000\n",
      "---------------\n",
      "A: 49.20%\n",
      "B: 43.50%\n",
      "C: 7.30%\n",
      "D: 0.00%\n",
      "---------------\n",
      "len: 1000\n",
      "---------------\n",
      "A: 49.60%\n",
      "B: 42.10%\n",
      "C: 8.10%\n",
      "D: 0.20%\n",
      "---------------\n",
      "len: 1000\n",
      "---------------\n",
      "A: 49.50%\n",
      "B: 43.20%\n",
      "C: 7.10%\n",
      "D: 0.20%\n",
      "---------------\n",
      "len: 1000\n",
      "---------------\n",
      "A: 48.30%\n",
      "B: 44.30%\n",
      "C: 7.20%\n",
      "D: 0.20%\n",
      "---------------\n",
      "len: 1000\n",
      "---------------\n",
      "A: 48.40%\n",
      "B: 43.30%\n",
      "C: 8.20%\n",
      "D: 0.10%\n",
      "---------------\n",
      "len: 1000\n",
      "---------------\n",
      "A: 47.70%\n",
      "B: 44.10%\n",
      "C: 8.10%\n",
      "D: 0.10%\n",
      "---------------\n"
     ]
    }
   ],
   "source": [
    "path = \"./experiments/chatbot-arena-subset1000-temp0.0/audio-audio-gpt4o-awgn-snr100000.jsonl\"\n",
    "snr1000 = process_output(read_jsonl(path))\n",
    "# path = \"./experiments/chatbot-arena-subset1000-temp0.0/audio-audio-gpt4o-awgn-snr500.jsonl\"\n",
    "# snr500 = process_output(read_jsonl(path))\n",
    "# path = \"./experiments/chatbot-arena-subset1000-temp0.0/audio-audio-gpt4o-awgn-snr40.jsonl\"\n",
    "# snr40 = process_output(read_jsonl(path))\n",
    "path = \"./experiments/chatbot-arena-subset1000-temp0.0/audio-audio-gpt4o-awgn-snr30.jsonl\"\n",
    "snr30 = process_output(read_jsonl(path))\n",
    "path = \"./experiments/chatbot-arena-subset1000-temp0.0/audio-audio-gpt4o-awgn-snr20.jsonl\"\n",
    "snr20 = process_output(read_jsonl(path))\n",
    "path = \"./experiments/chatbot-arena-subset1000-temp0.0/audio-audio-gpt4o-awgn-snr10.jsonl\"\n",
    "snr10 = process_output(read_jsonl(path))\n",
    "path = \"./experiments/chatbot-arena-subset1000-temp0.0/audio-audio-gpt4o-awgn-snr5.jsonl\"\n",
    "snr5 = process_output(read_jsonl(path))\n",
    "path = \"./experiments/chatbot-arena-subset1000-temp0.0/audio-audio-gpt4o-awgn-snr1.jsonl\"\n",
    "snr1 = process_output(read_jsonl(path))"
   ]
  },
  {
   "cell_type": "code",
   "execution_count": 511,
   "id": "ab2ff9bc-76ae-4080-abe2-446f65bfad56",
   "metadata": {},
   "outputs": [
    {
     "name": "stdout",
     "output_type": "stream",
     "text": [
      "------ Noise added to before's winner ------\n",
      "total: 418\n",
      "count_remain: 89.47\n",
      "count_swappd: 10.53\n",
      "------ Noise added to before's loser ------\n",
      "total: 509\n",
      "count_remain: 90.18\n",
      "count_swappd: 9.82\n",
      "------ Noise added to before's tie ------\n",
      "total: 73\n",
      "count_tie:        71.23\n",
      "count_no_noise:   17.81\n",
      "count_with_noise: 10.96\n",
      "count_error:      0.00\n"
     ]
    }
   ],
   "source": [
    "stats(before=snr1000, after=snr1)"
   ]
  },
  {
   "cell_type": "code",
   "execution_count": 508,
   "id": "eb7b8771-3ac0-41ea-b746-6136b0db5656",
   "metadata": {},
   "outputs": [
    {
     "name": "stdout",
     "output_type": "stream",
     "text": [
      "------ Noise added to before's winner ------\n",
      "total: 418\n",
      "count_remain: 89.95\n",
      "count_swappd: 10.05\n",
      "------ Noise added to before's loser ------\n",
      "total: 509\n",
      "count_remain: 93.32\n",
      "count_swappd: 6.68\n",
      "------ Noise added to before's tie ------\n",
      "total: 73\n",
      "count_tie:        73.97\n",
      "count_no_noise:   15.07\n",
      "count_with_noise: 10.96\n",
      "count_error:      0.00\n"
     ]
    }
   ],
   "source": [
    "stats(before=snr1000, after=snr5)"
   ]
  },
  {
   "cell_type": "code",
   "execution_count": 509,
   "id": "6b11342e-c534-48e0-9df4-76e48f34694a",
   "metadata": {},
   "outputs": [
    {
     "name": "stdout",
     "output_type": "stream",
     "text": [
      "------ Noise added to before's winner ------\n",
      "total: 418\n",
      "count_remain: 89.95\n",
      "count_swappd: 10.05\n",
      "------ Noise added to before's loser ------\n",
      "total: 509\n",
      "count_remain: 93.52\n",
      "count_swappd: 6.48\n",
      "------ Noise added to before's tie ------\n",
      "total: 73\n",
      "count_tie:        72.60\n",
      "count_no_noise:   13.70\n",
      "count_with_noise: 13.70\n",
      "count_error:      0.00\n"
     ]
    }
   ],
   "source": [
    "stats(before=snr1000, after=snr10)"
   ]
  },
  {
   "cell_type": "code",
   "execution_count": 504,
   "id": "78416fc8-f072-4f3a-9868-68baaf1adf05",
   "metadata": {},
   "outputs": [
    {
     "name": "stdout",
     "output_type": "stream",
     "text": [
      "------ Noise added to before's winner ------\n",
      "total: 418\n",
      "count_remain: 90.43\n",
      "count_swappd: 9.57\n",
      "------ Noise added to before's loser ------\n",
      "total: 509\n",
      "count_remain: 93.91\n",
      "count_swappd: 6.09\n",
      "------ Noise added to before's tie ------\n",
      "total: 73\n",
      "count_tie:        69.86\n",
      "count_no_noise:   15.07\n",
      "count_with_noise: 15.07\n",
      "count_error:      0.00\n"
     ]
    }
   ],
   "source": [
    "stats(before=snr1000, after=snr20)"
   ]
  },
  {
   "cell_type": "code",
   "execution_count": 506,
   "id": "a6f91549-07d2-4a78-a8cd-63bd8f86b017",
   "metadata": {},
   "outputs": [],
   "source": [
    "# stats(before=snr1000, after=snr30)"
   ]
  },
  {
   "cell_type": "code",
   "execution_count": 666,
   "id": "fb12efb2-c1b6-42a8-b385-1e6c824ac595",
   "metadata": {},
   "outputs": [
    {
     "name": "stdout",
     "output_type": "stream",
     "text": [
      "------ Noise added to before's winner ------\n",
      "total: 418\n",
      "count_remain: 89.47\n",
      "count_swappd: 10.53\n",
      "------ Noise added to before's loser ------\n",
      "total: 509\n",
      "count_remain: 89.00\n",
      "count_swappd: 11.00\n",
      "------ Noise added to before's tie ------\n",
      "total: 73\n",
      "count_tie:        72.60\n",
      "count_no_noise:   15.07\n",
      "count_with_noise: 12.33\n",
      "count_error:      0.00\n"
     ]
    }
   ],
   "source": [
    "stats(before=snr1000, after=snr1000a)"
   ]
  },
  {
   "cell_type": "markdown",
   "id": "574f2327-88c9-49df-87a5-49167a6e16be",
   "metadata": {},
   "source": [
    "## Sanity Check"
   ]
  },
  {
   "cell_type": "code",
   "execution_count": 685,
   "id": "172984db-a28e-4c35-9053-96d973163147",
   "metadata": {},
   "outputs": [
    {
     "name": "stdout",
     "output_type": "stream",
     "text": [
      "len: 1000\n",
      "---------------\n",
      "A: 48.90%\n",
      "B: 43.80%\n",
      "C: 7.30%\n",
      "D: 0.00%\n",
      "---------------\n",
      "len: 1000\n",
      "---------------\n",
      "A: 48.80%\n",
      "B: 43.60%\n",
      "C: 7.50%\n",
      "D: 0.10%\n",
      "---------------\n"
     ]
    }
   ],
   "source": [
    "path = \"./experiments/chatbot-arena-subset1000-temp0.0/audio-audio-gpt4o-awgn-nonoise.jsonl\"\n",
    "nonoise1 = process_output(read_jsonl(path))\n",
    "path = \"./experiments/chatbot-arena-subset1000-temp0.0/audio-audio-gpt4o-awgn-nonoise2.jsonl\"\n",
    "nonoise2 = process_output(read_jsonl(path))"
   ]
  },
  {
   "cell_type": "code",
   "execution_count": 692,
   "id": "4acf35d6-58ca-4422-8432-3c9131b9721e",
   "metadata": {},
   "outputs": [
    {
     "name": "stdout",
     "output_type": "stream",
     "text": [
      "------ Noise added to before's winner ------\n",
      "total: 422\n",
      "count_remain: 92.89\n",
      "count_swappd: 7.11\n",
      "------ Noise added to before's loser ------\n",
      "total: 505\n",
      "count_remain: 96.63\n",
      "count_swappd: 3.37\n",
      "------ Noise added to before's tie ------\n",
      "total: 73\n",
      "count_tie:        82.19\n",
      "count_swap: 17.81\n"
     ]
    }
   ],
   "source": [
    "stats(before=nonoise1, after=nonoise2)"
   ]
  },
  {
   "cell_type": "code",
   "execution_count": 687,
   "id": "366dbc2d-8575-4b3a-a7f3-4d838515f2f9",
   "metadata": {},
   "outputs": [
    {
     "name": "stdout",
     "output_type": "stream",
     "text": [
      "len: 1000\n",
      "---------------\n",
      "A: 47.50%\n",
      "B: 43.50%\n",
      "C: 8.90%\n",
      "D: 0.10%\n",
      "---------------\n",
      "len: 1000\n",
      "---------------\n",
      "A: 48.30%\n",
      "B: 43.10%\n",
      "C: 8.40%\n",
      "D: 0.20%\n",
      "---------------\n",
      "len: 1000\n",
      "---------------\n",
      "A: 48.40%\n",
      "B: 43.80%\n",
      "C: 7.70%\n",
      "D: 0.10%\n",
      "---------------\n",
      "len: 1000\n",
      "---------------\n",
      "A: 47.70%\n",
      "B: 44.00%\n",
      "C: 8.20%\n",
      "D: 0.10%\n",
      "---------------\n"
     ]
    }
   ],
   "source": [
    "path = \"./experiments/chatbot-arena-subset1000-temp0.0000/audio-audio-gpt4o-awgn-snr20.jsonl\"\n",
    "snr20 = process_output(read_jsonl(path))\n",
    "path = \"./experiments/chatbot-arena-subset1000-temp0.0000/audio-audio-gpt4o-awgn-snr10.jsonl\"\n",
    "snr10 = process_output(read_jsonl(path))\n",
    "path = \"./experiments/chatbot-arena-subset1000-temp0.0000/audio-audio-gpt4o-awgn-snr5.jsonl\"\n",
    "snr5 = process_output(read_jsonl(path))\n",
    "path = \"./experiments/chatbot-arena-subset1000-temp0.0000/audio-audio-gpt4o-awgn-snr1.jsonl\"\n",
    "snr1 = process_output(read_jsonl(path))"
   ]
  },
  {
   "cell_type": "code",
   "execution_count": 688,
   "id": "bf95ac35-3c15-4539-b09a-96f8fb2be5cd",
   "metadata": {},
   "outputs": [
    {
     "name": "stdout",
     "output_type": "stream",
     "text": [
      "------ Noise added to before's winner ------\n",
      "total: 422\n",
      "count_remain: 90.05\n",
      "count_swappd: 9.95\n",
      "------ Noise added to before's loser ------\n",
      "total: 505\n",
      "count_remain: 93.07\n",
      "count_swappd: 6.93\n",
      "------ Noise added to before's tie ------\n",
      "total: 73\n",
      "count_tie:        79.45\n",
      "count_swap: 20.55\n"
     ]
    }
   ],
   "source": [
    "stats(before=nonoise1, after=snr20)"
   ]
  },
  {
   "cell_type": "code",
   "execution_count": 689,
   "id": "23bab82c-3240-46ad-9b4c-55b30307b7ea",
   "metadata": {},
   "outputs": [
    {
     "name": "stdout",
     "output_type": "stream",
     "text": [
      "------ Noise added to before's winner ------\n",
      "total: 422\n",
      "count_remain: 90.05\n",
      "count_swappd: 9.95\n",
      "------ Noise added to before's loser ------\n",
      "total: 505\n",
      "count_remain: 92.48\n",
      "count_swappd: 7.52\n",
      "------ Noise added to before's tie ------\n",
      "total: 73\n",
      "count_tie:        78.08\n",
      "count_swap: 21.92\n"
     ]
    }
   ],
   "source": [
    "stats(before=nonoise1, after=snr10)"
   ]
  },
  {
   "cell_type": "code",
   "execution_count": 690,
   "id": "e679db4c-7346-4aea-b4d5-92537ece1ab0",
   "metadata": {},
   "outputs": [
    {
     "name": "stdout",
     "output_type": "stream",
     "text": [
      "------ Noise added to before's winner ------\n",
      "total: 422\n",
      "count_remain: 88.39\n",
      "count_swappd: 11.61\n",
      "------ Noise added to before's loser ------\n",
      "total: 505\n",
      "count_remain: 94.46\n",
      "count_swappd: 5.54\n",
      "------ Noise added to before's tie ------\n",
      "total: 73\n",
      "count_tie:        73.97\n",
      "count_swap: 26.03\n"
     ]
    }
   ],
   "source": [
    "stats(before=nonoise1, after=snr5)"
   ]
  },
  {
   "cell_type": "code",
   "execution_count": 691,
   "id": "881b1d6f-9d30-4b82-87b7-eb44f7e5d566",
   "metadata": {},
   "outputs": [
    {
     "name": "stdout",
     "output_type": "stream",
     "text": [
      "------ Noise added to before's winner ------\n",
      "total: 422\n",
      "count_remain: 85.31\n",
      "count_swappd: 14.69\n",
      "------ Noise added to before's loser ------\n",
      "total: 505\n",
      "count_remain: 92.67\n",
      "count_swappd: 7.33\n",
      "------ Noise added to before's tie ------\n",
      "total: 73\n",
      "count_tie:        72.60\n",
      "count_swap: 27.40\n"
     ]
    }
   ],
   "source": [
    "stats(before=nonoise1, after=snr1)"
   ]
  },
  {
   "cell_type": "code",
   "execution_count": null,
   "id": "1251a927-e59a-484e-b12f-3a13832c3743",
   "metadata": {},
   "outputs": [],
   "source": []
  },
  {
   "cell_type": "code",
   "execution_count": null,
   "id": "5a93acfd-d561-4cb7-8788-51c9722c4874",
   "metadata": {},
   "outputs": [],
   "source": []
  }
 ],
 "metadata": {
  "kernelspec": {
   "display_name": "Python 3 (ipykernel)",
   "language": "python",
   "name": "python3"
  },
  "language_info": {
   "codemirror_mode": {
    "name": "ipython",
    "version": 3
   },
   "file_extension": ".py",
   "mimetype": "text/x-python",
   "name": "python",
   "nbconvert_exporter": "python",
   "pygments_lexer": "ipython3",
   "version": "3.10.13"
  }
 },
 "nbformat": 4,
 "nbformat_minor": 5
}
