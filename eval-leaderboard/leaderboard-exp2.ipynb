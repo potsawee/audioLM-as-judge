{
 "cells": [
  {
   "cell_type": "code",
   "execution_count": 1,
   "id": "462bbd98-f92d-4029-8246-597fdc96f456",
   "metadata": {},
   "outputs": [],
   "source": [
    "import json\n",
    "from datasets import load_dataset"
   ]
  },
  {
   "cell_type": "code",
   "execution_count": 2,
   "id": "9314e286-a09d-4933-87e9-defb99593d53",
   "metadata": {},
   "outputs": [
    {
     "name": "stdout",
     "output_type": "stream",
     "text": [
      "len(dataset): 82\n"
     ]
    }
   ],
   "source": [
    "# Load the dataset\n",
    "dataset = load_dataset(\"potsawee/speecheval-advanced-v1\")[\"train\"]\n",
    "print(\"len(dataset):\", len(dataset))"
   ]
  },
  {
   "cell_type": "code",
   "execution_count": 5,
   "id": "8acde14f-08d6-41a0-815b-920d3f95b0f3",
   "metadata": {},
   "outputs": [],
   "source": [
    "def read_judge_output_dir(judge_output_dir):\n",
    "    winner_ref, winner_can = 0, 0\n",
    "    for i in range(len(dataset)):\n",
    "        x = dataset[i]\n",
    "        conversation_id = x[\"id\"]\n",
    "        ref_model_type = x[\"position\"]\n",
    "        judge_output_path = f\"{judge_output_dir}/{conversation_id}.txt\"\n",
    "        with open(judge_output_path) as f:\n",
    "            y = json.load(f)\n",
    "        response = y['response']\n",
    "        # calculate winner ratio\n",
    "        verdict = response.split(\"[Rankings]\")[-1].strip(\"```\").strip(\"json\").strip(\"python\").strip()\n",
    "        parsed = json.loads(verdict)\n",
    "        yy = parsed['rankings'][0]\n",
    "    \n",
    "        if int(yy['rank']) == 1:\n",
    "            if yy['model'] == 'model_1' and ref_model_type == 'model_1':\n",
    "                winner_ref += 1\n",
    "            elif yy['model'] == 'model_1' and ref_model_type == 'model_2':\n",
    "                winner_can += 1\n",
    "            elif yy['model'] == 'model_2' and ref_model_type == 'model_1':\n",
    "                winner_can += 1\n",
    "            elif yy['model'] == 'model_2' and ref_model_type == 'model_2':\n",
    "                winner_ref += 1\n",
    "            else:\n",
    "                raise Exception()\n",
    "        else:\n",
    "            raise Exception()\n",
    "    print(\"candidate winner percentage: {:.2f}%\".format(winner_can / (winner_can + winner_ref) * 100))\n",
    "    print(\"total:\", winner_can + winner_ref)"
   ]
  },
  {
   "cell_type": "code",
   "execution_count": 9,
   "id": "fdc746c8-4f79-4223-8367-6c1f4ba4c508",
   "metadata": {},
   "outputs": [
    {
     "name": "stdout",
     "output_type": "stream",
     "text": [
      "candidate winner percentage: 47.56%\n",
      "total: 82\n"
     ]
    }
   ],
   "source": [
    "read_judge_output_dir(\"./judge_outputs/advvoiceq1_judge_gpt4o_candidate_gpt4o/\")"
   ]
  },
  {
   "cell_type": "code",
   "execution_count": 7,
   "id": "b10e2745-e2b0-4167-85f0-8b34027ba486",
   "metadata": {},
   "outputs": [
    {
     "name": "stdout",
     "output_type": "stream",
     "text": [
      "candidate winner percentage: 29.27%\n",
      "total: 82\n"
     ]
    }
   ],
   "source": [
    "read_judge_output_dir(\"./judge_outputs/advvoiceq1_judge_gpt4o_candidate_4okokoro/\")"
   ]
  },
  {
   "cell_type": "code",
   "execution_count": 10,
   "id": "0d6dc016-d15a-4371-a20f-a4f94f3cf62a",
   "metadata": {},
   "outputs": [
    {
     "name": "stdout",
     "output_type": "stream",
     "text": [
      "candidate winner percentage: 17.07%\n",
      "total: 82\n"
     ]
    }
   ],
   "source": [
    "read_judge_output_dir(\"./judge_outputs/advvoiceq1_judge_gpt4o_candidate_typhoon2/\")"
   ]
  },
  {
   "cell_type": "code",
   "execution_count": 12,
   "id": "6c1f82ca-b3d6-4b50-acdf-93dba7094eab",
   "metadata": {},
   "outputs": [
    {
     "name": "stdout",
     "output_type": "stream",
     "text": [
      "candidate winner percentage: 12.20%\n",
      "total: 82\n"
     ]
    }
   ],
   "source": [
    "read_judge_output_dir(\"./judge_outputs/advvoiceq1_judge_gpt4o_candidate_typ2kokoro/\")"
   ]
  },
  {
   "cell_type": "code",
   "execution_count": null,
   "id": "7fe5fba8-e235-466b-acb4-22afc179b8e8",
   "metadata": {},
   "outputs": [],
   "source": []
  }
 ],
 "metadata": {
  "kernelspec": {
   "display_name": "exp-pp25",
   "language": "python",
   "name": "python3"
  },
  "language_info": {
   "codemirror_mode": {
    "name": "ipython",
    "version": 3
   },
   "file_extension": ".py",
   "mimetype": "text/x-python",
   "name": "python",
   "nbconvert_exporter": "python",
   "pygments_lexer": "ipython3",
   "version": "3.10.13"
  }
 },
 "nbformat": 4,
 "nbformat_minor": 5
}
