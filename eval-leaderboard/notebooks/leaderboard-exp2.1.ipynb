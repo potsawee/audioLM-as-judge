{
 "cells": [
  {
   "cell_type": "code",
   "execution_count": 1,
   "id": "462bbd98-f92d-4029-8246-597fdc96f456",
   "metadata": {},
   "outputs": [],
   "source": [
    "import json\n",
    "from datasets import load_dataset"
   ]
  },
  {
   "cell_type": "code",
   "execution_count": 2,
   "id": "9314e286-a09d-4933-87e9-defb99593d53",
   "metadata": {},
   "outputs": [
    {
     "name": "stderr",
     "output_type": "stream",
     "text": [
      "Repo card metadata block was not found. Setting CardData to empty.\n"
     ]
    },
    {
     "name": "stdout",
     "output_type": "stream",
     "text": [
      "len(dataset): 82\n"
     ]
    }
   ],
   "source": [
    "# Load the dataset\n",
    "dataset = load_dataset(\"potsawee/speecheval-advanced-v1\")[\"train\"]\n",
    "print(\"len(dataset):\", len(dataset))"
   ]
  },
  {
   "cell_type": "code",
   "execution_count": 3,
   "id": "8acde14f-08d6-41a0-815b-920d3f95b0f3",
   "metadata": {},
   "outputs": [],
   "source": [
    "def read_judge_output_dir(judge_output_dir):\n",
    "    winner_content_ref, winner_content_can = 0, 0\n",
    "    winner_voice_ref, winner_voice_can = 0, 0\n",
    "    error = 0\n",
    "    for i in range(len(dataset)):\n",
    "        x = dataset[i]\n",
    "        conversation_id = x[\"id\"]\n",
    "        ref_model_type = x[\"position\"]\n",
    "        judge_output_path = f\"{judge_output_dir}/{conversation_id}.txt\"\n",
    "        with open(judge_output_path) as f:\n",
    "            y = json.load(f)\n",
    "        response = y['response']\n",
    "        # calculate winner ratio\n",
    "        verdict = response.split(\"[Rankings]\")[-1].strip(\"```\").strip(\"json\").strip(\"python\").strip()\n",
    "        parsed = json.loads(verdict)\n",
    "\n",
    "        if int(parsed['content'][0]['rank']) == int(parsed['content'][1]['rank']):\n",
    "            winner_content_ref += 0.5\n",
    "            winner_content_can += 0.5\n",
    "        else:\n",
    "            yy = parsed['content'][0]\n",
    "            if int(yy['rank']) == 1:\n",
    "                if yy['model'] == 'model_1' and ref_model_type == 'model_1':\n",
    "                    winner_content_ref += 1\n",
    "                elif yy['model'] == 'model_1' and ref_model_type == 'model_2':\n",
    "                    winner_content_can += 1\n",
    "                elif yy['model'] == 'model_2' and ref_model_type == 'model_1':\n",
    "                    winner_content_can += 1\n",
    "                elif yy['model'] == 'model_2' and ref_model_type == 'model_2':\n",
    "                    winner_content_ref += 1\n",
    "                else:\n",
    "                    raise Exception()\n",
    "            elif int(yy['rank']) == 2:\n",
    "                if yy['model'] == 'model_1' and ref_model_type == 'model_1':\n",
    "                    winner_content_can += 1\n",
    "                elif yy['model'] == 'model_1' and ref_model_type == 'model_2':\n",
    "                    winner_content_ref += 1\n",
    "                elif yy['model'] == 'model_2' and ref_model_type == 'model_1':\n",
    "                    winner_content_ref += 1\n",
    "                elif yy['model'] == 'model_2' and ref_model_type == 'model_2':\n",
    "                    winner_content_can += 1\n",
    "            else:\n",
    "                error += 1\n",
    "                continue\n",
    "\n",
    "        if int(parsed['voice'][0]['rank']) == int(parsed['voice'][1]['rank']):\n",
    "            winner_voice_ref += 0.5\n",
    "            winner_voice_can += 0.5\n",
    "        else:\n",
    "            zz = parsed['voice'][0]\n",
    "            if int(zz['rank']) == 1:\n",
    "                if zz['model'] == 'model_1' and ref_model_type == 'model_1':\n",
    "                    winner_voice_ref += 1\n",
    "                elif zz['model'] == 'model_1' and ref_model_type == 'model_2':\n",
    "                    winner_voice_can += 1\n",
    "                elif zz['model'] == 'model_2' and ref_model_type == 'model_1':\n",
    "                    winner_voice_can += 1\n",
    "                elif zz['model'] == 'model_2' and ref_model_type == 'model_2':\n",
    "                    winner_voice_ref += 1\n",
    "                else:\n",
    "                    raise Exception()\n",
    "            elif int(zz['rank']) == 2:\n",
    "                if zz['model'] == 'model_1' and ref_model_type == 'model_1':\n",
    "                    winner_voice_can += 1\n",
    "                elif zz['model'] == 'model_1' and ref_model_type == 'model_2':\n",
    "                    winner_voice_ref += 1\n",
    "                elif zz['model'] == 'model_2' and ref_model_type == 'model_1':\n",
    "                    winner_voice_ref += 1\n",
    "                elif zz['model'] == 'model_2' and ref_model_type == 'model_2':\n",
    "                    winner_voice_can += 1\n",
    "            else:\n",
    "                error += 1\n",
    "                continue\n",
    "    print(\"[Content] Candidate winner percentage: {:.2f}%\".format(winner_content_can / (winner_content_can + winner_content_ref) * 100))\n",
    "    print(\"[Voice] Candidate winner percentage:   {:.2f}%\".format(winner_voice_can / (winner_voice_can + winner_voice_ref) * 100))\n",
    "    print(\"error:\", error)"
   ]
  },
  {
   "cell_type": "code",
   "execution_count": 8,
   "id": "fdc746c8-4f79-4223-8367-6c1f4ba4c508",
   "metadata": {},
   "outputs": [
    {
     "name": "stdout",
     "output_type": "stream",
     "text": [
      "[Content] Candidate winner percentage: 20.12%\n",
      "[Voice] Candidate winner percentage:   12.20%\n",
      "error: 0\n"
     ]
    }
   ],
   "source": [
    "read_judge_output_dir(\"judge_outputs/advvoiceq1_v2/judge_gpt4o_prompt1.1_candidate_typ2kokoro\")"
   ]
  },
  {
   "cell_type": "code",
   "execution_count": 9,
   "id": "0c322250",
   "metadata": {},
   "outputs": [
    {
     "name": "stdout",
     "output_type": "stream",
     "text": [
      "[Content] Candidate winner percentage: 34.15%\n",
      "[Voice] Candidate winner percentage:   45.73%\n",
      "error: 0\n"
     ]
    }
   ],
   "source": [
    "read_judge_output_dir(\"judge_outputs/advvoiceq1_v2/judge_gpt4o_prompt1.1_candidate_divakokoro\")\n"
   ]
  },
  {
   "cell_type": "code",
   "execution_count": 4,
   "id": "ca02452a",
   "metadata": {},
   "outputs": [
    {
     "name": "stdout",
     "output_type": "stream",
     "text": [
      "[Content] Candidate winner percentage: 41.46%\n",
      "[Voice] Candidate winner percentage:   21.34%\n",
      "error: 0\n"
     ]
    }
   ],
   "source": [
    "read_judge_output_dir(\"judge_outputs/advvoiceq1_v2/judge_gpt4o_prompt1.1_candidate_gemini2flashaudio\")\n"
   ]
  },
  {
   "cell_type": "code",
   "execution_count": null,
   "id": "8adddd3e",
   "metadata": {},
   "outputs": [],
   "source": []
  }
 ],
 "metadata": {
  "kernelspec": {
   "display_name": "Python 3 (ipykernel)",
   "language": "python",
   "name": "python3"
  },
  "language_info": {
   "codemirror_mode": {
    "name": "ipython",
    "version": 3
   },
   "file_extension": ".py",
   "mimetype": "text/x-python",
   "name": "python",
   "nbconvert_exporter": "python",
   "pygments_lexer": "ipython3",
   "version": "3.10.13"
  }
 },
 "nbformat": 4,
 "nbformat_minor": 5
}
