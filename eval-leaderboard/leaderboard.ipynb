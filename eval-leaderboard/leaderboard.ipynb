{
 "cells": [
  {
   "cell_type": "code",
   "execution_count": 9,
   "id": "462bbd98-f92d-4029-8246-597fdc96f456",
   "metadata": {},
   "outputs": [],
   "source": [
    "import json\n",
    "from datasets import load_dataset"
   ]
  },
  {
   "cell_type": "code",
   "execution_count": 2,
   "id": "9314e286-a09d-4933-87e9-defb99593d53",
   "metadata": {},
   "outputs": [
    {
     "name": "stdout",
     "output_type": "stream",
     "text": [
      "len(dataset): 570\n"
     ]
    }
   ],
   "source": [
    "# Load the dataset\n",
    "dataset = load_dataset(\"potsawee/chatbot-arena-spoken-style-eval-570\")[\"train\"]\n",
    "print(\"len(dataset):\", len(dataset))"
   ]
  },
  {
   "cell_type": "code",
   "execution_count": 26,
   "id": "8acde14f-08d6-41a0-815b-920d3f95b0f3",
   "metadata": {},
   "outputs": [],
   "source": [
    "# judge_output_dir = \"./judge_outputs/eval570_judge_gpt4o_candidate_gpt4o/\"\n",
    "def read_judge_output_dir(judge_output_dir):\n",
    "    winner_ref, winner_can = 0, 0\n",
    "    for i in range(len(dataset)):\n",
    "        x = dataset[i]\n",
    "        conversation_id = x[\"id\"]\n",
    "        ref_model_type = x[\"model_type\"]\n",
    "        judge_output_path = f\"{judge_output_dir}/{conversation_id}.txt\"\n",
    "        with open(judge_output_path) as f:\n",
    "            y = json.load(f)\n",
    "        parsed = json.loads(y['response'])\n",
    "    \n",
    "        yy = parsed['rankings'][0]\n",
    "        if yy['model'] == 'model_1':\n",
    "            if yy['rank'] == 1:\n",
    "                if ref_model_type == 'model_a':\n",
    "                    winner_ref += 1\n",
    "                else:\n",
    "                    winner_can += 1\n",
    "            else:\n",
    "                if ref_model_type == 'model_a':\n",
    "                    winner_can += 1\n",
    "                else:\n",
    "                    winner_ref += 1\n",
    "        elif yy['model'] == 'model_2':\n",
    "            if yy['rank'] == 1:\n",
    "                if ref_model_type == 'model_b':\n",
    "                    winner_ref += 1\n",
    "                else:\n",
    "                    winner_can += 1\n",
    "            else:\n",
    "                if ref_model_type == 'model_b':\n",
    "                    winner_can += 1\n",
    "                else:\n",
    "                    winner_ref += 1                \n",
    "    print(\"candidate winner percentage: {:.2f}%\".format(winner_can / (winner_can + winner_ref) * 100))\n",
    "    print(\"total:\", winner_can + winner_ref)"
   ]
  },
  {
   "cell_type": "code",
   "execution_count": 27,
   "id": "fdc746c8-4f79-4223-8367-6c1f4ba4c508",
   "metadata": {},
   "outputs": [
    {
     "name": "stdout",
     "output_type": "stream",
     "text": [
      "candidate winner percentage: 43.16%\n",
      "total: 570\n"
     ]
    }
   ],
   "source": [
    "read_judge_output_dir(\"./judge_outputs/eval570_judge_gpt4o_candidate_gpt4o/\")"
   ]
  },
  {
   "cell_type": "code",
   "execution_count": 30,
   "id": "b10e2745-e2b0-4167-85f0-8b34027ba486",
   "metadata": {},
   "outputs": [
    {
     "name": "stdout",
     "output_type": "stream",
     "text": [
      "candidate winner percentage: 40.88%\n",
      "total: 570\n"
     ]
    }
   ],
   "source": [
    "read_judge_output_dir(\"./judge_outputs/eval570_judge_gpt4o_candidate_4okokoro/\")"
   ]
  },
  {
   "cell_type": "code",
   "execution_count": null,
   "id": "0d6dc016-d15a-4371-a20f-a4f94f3cf62a",
   "metadata": {},
   "outputs": [],
   "source": []
  }
 ],
 "metadata": {
  "kernelspec": {
   "display_name": "Python 3 (ipykernel)",
   "language": "python",
   "name": "python3"
  },
  "language_info": {
   "codemirror_mode": {
    "name": "ipython",
    "version": 3
   },
   "file_extension": ".py",
   "mimetype": "text/x-python",
   "name": "python",
   "nbconvert_exporter": "python",
   "pygments_lexer": "ipython3",
   "version": "3.10.13"
  }
 },
 "nbformat": 4,
 "nbformat_minor": 5
}
