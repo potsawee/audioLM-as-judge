{
 "cells": [
  {
   "cell_type": "code",
   "execution_count": 1,
   "id": "645bab54-b85b-4b9d-9f6e-264e2de4919d",
   "metadata": {},
   "outputs": [],
   "source": [
    "import json\n",
    "import os\n",
    "import re"
   ]
  },
  {
   "cell_type": "code",
   "execution_count": 2,
   "id": "9f9d2a7a-0ae9-430f-8327-5f4003eb2595",
   "metadata": {},
   "outputs": [
    {
     "name": "stdout",
     "output_type": "stream",
     "text": [
      "len: 7824\n"
     ]
    }
   ],
   "source": [
    "with open(\"./chatbot-arena-spoken-1turn-english-difference-voices.json\") as f:\n",
    "    raw_data = json.load(f)\n",
    "gts = []\n",
    "gt_mapping = {\n",
    "    'model_a': 'A',\n",
    "    'model_b': 'B',\n",
    "    'tie': 'C',\n",
    "    'tie (bothbad)': 'C'\n",
    "}\n",
    "for x in raw_data:\n",
    "    gts.append(gt_mapping[x['winner']])\n",
    "print(\"len:\", len(gts))"
   ]
  },
  {
   "cell_type": "code",
   "execution_count": 3,
   "id": "d606bca0-21c1-4bee-9b54-eaef471a05f1",
   "metadata": {},
   "outputs": [],
   "source": [
    "def read_jsonl(file_path):\n",
    "    data = []\n",
    "    # Open and read the file line by line\n",
    "    with open(file_path, 'r') as file:\n",
    "        for line in file:\n",
    "            # Parse each line as a JSON object\n",
    "            json_obj = json.loads(line.strip())\n",
    "            data.append(json_obj)\n",
    "    print(\"len:\", len(data))\n",
    "    return data"
   ]
  },
  {
   "cell_type": "code",
   "execution_count": 4,
   "id": "fc37dde9-5e9f-434f-9000-62e654330a75",
   "metadata": {},
   "outputs": [],
   "source": [
    "def process_output(data):\n",
    "    labels = []\n",
    "    for x in data:\n",
    "        response = x['response']\n",
    "        response = response[-20:]\n",
    "        labels += [extract_abc(response)]\n",
    "    calculate_percentage(labels)\n",
    "    return labels\n",
    "\n",
    "def calculate_correciness(labels, gts, reverse=False):\n",
    "    # assert len(labels) == len(gts)\n",
    "    labels = labels[:len(gts)]\n",
    "    correct, incorrect = 0, 0\n",
    "    correct_AB, incorrect_AB = 0, 0\n",
    "    for label, gt in zip(labels, gts):\n",
    "        if reverse == True:\n",
    "            if gt == 'A': \n",
    "                gt = 'B'\n",
    "            elif gt == 'B': \n",
    "                gt = 'A'\n",
    "        if label == gt:\n",
    "            correct += 1\n",
    "        else:\n",
    "            incorrect += 1\n",
    "\n",
    "        if label == 'A' or label == 'B':\n",
    "            if label == gt:\n",
    "                correct_AB += 1\n",
    "            else:\n",
    "                incorrect_AB += 1    \n",
    "    print(\"correct:   {:.2f}%\".format(correct/(correct+incorrect)*100))\n",
    "    print(\"incorrect: {:.2f}%\".format(incorrect/(correct+incorrect)*100))\n",
    "    # print(\"correct_AB:   {:.2f}%\".format(correct_AB/(correct_AB+incorrect_AB)*100))\n",
    "    # print(\"incorrect_AB: {:.2f}%\".format(incorrect_AB/(correct_AB+incorrect_AB)*100))"
   ]
  },
  {
   "cell_type": "code",
   "execution_count": 5,
   "id": "ed291498-f8f1-4222-9385-309ffe0e8756",
   "metadata": {},
   "outputs": [],
   "source": [
    "def extract_abc(text):\n",
    "    pattern = r'\\[\\[(A|B|C)\\]\\]'\n",
    "    \n",
    "    # Search for the match\n",
    "    match = re.search(pattern, text)\n",
    "    \n",
    "    if match:\n",
    "        result = match.group(1)\n",
    "        # print(f\"Extracted value: {result}\")\n",
    "    else:\n",
    "        result = \"D\"\n",
    "    return result "
   ]
  },
  {
   "cell_type": "code",
   "execution_count": 6,
   "id": "085c605e-ceff-47d2-bb20-fddb269d2d55",
   "metadata": {},
   "outputs": [],
   "source": [
    "def calculate_percentage(arr):\n",
    "    # Get the total number of items\n",
    "    total_count = len(arr)\n",
    "    \n",
    "    # Create a dictionary to store counts of each unique item\n",
    "    item_counts = {'A': 0, 'B': 0, 'C': 0, 'D': 0}\n",
    "    \n",
    "    for item in arr:\n",
    "        item_counts[item] = item_counts.get(item, 0) + 1\n",
    "    \n",
    "    # Calculate percentages and store them in a dictionary\n",
    "    percentages = {item: (count / total_count) * 100 for item, count in item_counts.items()}\n",
    "    \n",
    "    # Display the result\n",
    "    print(\"---------------\")\n",
    "    for item, percentage in percentages.items():\n",
    "        print(f\"{item}: {percentage:.2f}%\")\n",
    "    print(\"---------------\")"
   ]
  },
  {
   "cell_type": "code",
   "execution_count": 27,
   "id": "dd2820a2-cd4f-4c66-9cfe-94802321ac97",
   "metadata": {},
   "outputs": [],
   "source": [
    "def measure_bias(preds_ab, preds_ba):\n",
    "    n = min(len(preds_ab), len(preds_ba))\n",
    "    preds_ab = preds_ab[:n]\n",
    "    preds_ba = preds_ba[:n]\n",
    "    biasA, biasB, consistentAB, consistentCC, other = 0, 0, 0, 0, 0\n",
    "    for pred_ab, pred_ba in zip(preds_ab, preds_ba):\n",
    "        if pred_ab == \"A\" and pred_ba == \"A\":\n",
    "            biasA += 1\n",
    "        elif pred_ab == \"B\" and pred_ba == \"B\":\n",
    "            biasB += 1\n",
    "        elif pred_ab == \"A\" and pred_ba == \"B\":\n",
    "            consistentAB += 1  \n",
    "        elif pred_ab == \"B\" and pred_ba == \"A\":\n",
    "            consistentAB += 1\n",
    "        elif pred_ab == \"C\" and pred_ba == \"C\":\n",
    "            consistentCC += 1\n",
    "        else:\n",
    "            other += 1\n",
    "    total = biasA + biasB + consistentAB # + consistentCC + other\n",
    "    print(\"consistentAB: {:.2f}\".format(consistentAB/total*100)) \n",
    "    # print(\"consistentCC: {:.2f}\".format(consistentCC/total*100)) \n",
    "    print(\"biasA:      {:.2f}\".format(biasA/total*100)) \n",
    "    print(\"biasB:      {:.2f}\".format(biasB/total*100)) \n",
    "    # print(\"other:      {:.2f}\".format(other/total*100)) "
   ]
  },
  {
   "cell_type": "code",
   "execution_count": 29,
   "id": "69cc14d9-84ca-45d7-b168-257c0053acc2",
   "metadata": {},
   "outputs": [
    {
     "name": "stdout",
     "output_type": "stream",
     "text": [
      "len: 7824\n",
      "---------------\n",
      "A: 53.55%\n",
      "B: 41.86%\n",
      "C: 4.58%\n",
      "D: 0.01%\n",
      "---------------\n",
      "correct:   52.15%\n",
      "incorrect: 47.85%\n",
      "############################\n",
      "len: 7824\n",
      "---------------\n",
      "A: 53.04%\n",
      "B: 42.43%\n",
      "C: 4.51%\n",
      "D: 0.01%\n",
      "---------------\n",
      "correct:   52.35%\n",
      "incorrect: 47.65%\n",
      "############################\n",
      "consistentAB: 77.32\n",
      "biasA:      16.89\n",
      "biasB:      5.79\n"
     ]
    }
   ],
   "source": [
    "text_text = process_output(read_jsonl(\"./experiments/chatbot-arena-7824/text-text-gemini1.5flash.jsonl\"))\n",
    "calculate_correciness(text_text, gts)\n",
    "print(\"############################\")\n",
    "text_text_BA = process_output(read_jsonl(\"./experiments/chatbot-arena-7824/text-text-gemini1.5flash_BA.jsonl\"))\n",
    "calculate_correciness(text_text_BA, gts, reverse=True)\n",
    "print(\"############################\")\n",
    "measure_bias(text_text, text_text_BA)"
   ]
  },
  {
   "cell_type": "code",
   "execution_count": 30,
   "id": "7e7cc144-fb56-4ef7-9fe5-28e11ae2d8fb",
   "metadata": {},
   "outputs": [
    {
     "data": {
      "text/plain": [
       "52.25"
      ]
     },
     "execution_count": 30,
     "metadata": {},
     "output_type": "execute_result"
    }
   ],
   "source": [
    "0.5*(52.15+52.35)"
   ]
  },
  {
   "cell_type": "code",
   "execution_count": 31,
   "id": "28f689f9-57a6-46b8-9256-ecd26976f3b8",
   "metadata": {},
   "outputs": [
    {
     "name": "stdout",
     "output_type": "stream",
     "text": [
      "len: 7824\n",
      "---------------\n",
      "A: 54.19%\n",
      "B: 40.76%\n",
      "C: 5.02%\n",
      "D: 0.03%\n",
      "---------------\n",
      "correct:   52.44%\n",
      "incorrect: 47.56%\n",
      "############################\n",
      "len: 7824\n",
      "---------------\n",
      "A: 53.44%\n",
      "B: 41.16%\n",
      "C: 5.38%\n",
      "D: 0.03%\n",
      "---------------\n",
      "correct:   51.71%\n",
      "incorrect: 48.29%\n",
      "############################\n",
      "consistentAB: 76.61\n",
      "biasA:      18.26\n",
      "biasB:      5.13\n"
     ]
    }
   ],
   "source": [
    "audio_text = process_output(read_jsonl(\"./experiments/chatbot-arena-7824/audio-text-gemini1.5flash.jsonl\"))\n",
    "calculate_correciness(audio_text, gts)\n",
    "print(\"############################\")\n",
    "audio_text_BA = process_output(read_jsonl(\"./experiments/chatbot-arena-7824/audio-text-gemini1.5flash_BA.jsonl\"))\n",
    "calculate_correciness(audio_text_BA, gts, reverse=True)\n",
    "print(\"############################\")\n",
    "measure_bias(audio_text, audio_text_BA)"
   ]
  },
  {
   "cell_type": "code",
   "execution_count": 32,
   "id": "7c3caff8-3397-4f70-80df-e44ca4e2fcf9",
   "metadata": {},
   "outputs": [
    {
     "data": {
      "text/plain": [
       "52.075"
      ]
     },
     "execution_count": 32,
     "metadata": {},
     "output_type": "execute_result"
    }
   ],
   "source": [
    "0.5*(52.44+51.71)"
   ]
  },
  {
   "cell_type": "code",
   "execution_count": 35,
   "id": "86c36c59-3e09-4167-b09c-ed0b1fa07739",
   "metadata": {},
   "outputs": [
    {
     "name": "stdout",
     "output_type": "stream",
     "text": [
      "len: 7824\n",
      "---------------\n",
      "A: 62.87%\n",
      "B: 34.01%\n",
      "C: 3.09%\n",
      "D: 0.03%\n",
      "---------------\n",
      "correct:   48.82%\n",
      "incorrect: 51.18%\n",
      "############################\n",
      "len: 7824\n",
      "---------------\n",
      "A: 62.27%\n",
      "B: 34.41%\n",
      "C: 3.31%\n",
      "D: 0.01%\n",
      "---------------\n",
      "correct:   48.40%\n",
      "incorrect: 51.60%\n",
      "############################\n",
      "consistentAB: 64.18\n",
      "biasA:      32.66\n",
      "biasB:      3.16\n"
     ]
    }
   ],
   "source": [
    "audio_audio = process_output(read_jsonl(\"./experiments/chatbot-arena-7824/audio-audio-gemini1.5flash.jsonl\"))\n",
    "calculate_correciness(audio_audio, gts)\n",
    "print(\"############################\")\n",
    "audio_audio_BA = process_output(read_jsonl(\"./experiments/chatbot-arena-7824/audio-audio-gemini1.5flash_BA.jsonl\"))\n",
    "calculate_correciness(audio_audio_BA, gts, reverse=True)\n",
    "print(\"############################\")\n",
    "measure_bias(audio_audio, audio_audio_BA)"
   ]
  },
  {
   "cell_type": "code",
   "execution_count": 37,
   "id": "e3f17145-f186-4e88-9bc7-ae4f7977f856",
   "metadata": {},
   "outputs": [
    {
     "data": {
      "text/plain": [
       "48.61"
      ]
     },
     "execution_count": 37,
     "metadata": {},
     "output_type": "execute_result"
    }
   ],
   "source": [
    "0.5*(48.82+48.40)"
   ]
  },
  {
   "cell_type": "code",
   "execution_count": 39,
   "id": "766b4a82-d17d-4855-a27a-f01827868a05",
   "metadata": {},
   "outputs": [
    {
     "name": "stdout",
     "output_type": "stream",
     "text": [
      "len: 7824\n",
      "---------------\n",
      "A: 52.63%\n",
      "B: 42.82%\n",
      "C: 4.54%\n",
      "D: 0.01%\n",
      "---------------\n",
      "correct:   48.01%\n",
      "incorrect: 51.99%\n",
      "############################\n",
      "len: 7824\n",
      "---------------\n",
      "A: 53.14%\n",
      "B: 42.19%\n",
      "C: 4.67%\n",
      "D: 0.00%\n",
      "---------------\n",
      "correct:   47.84%\n",
      "incorrect: 52.16%\n",
      "############################\n",
      "consistentAB: 74.61\n",
      "biasA:      17.79\n",
      "biasB:      7.60\n"
     ]
    }
   ],
   "source": [
    "asr_asr = process_output(read_jsonl(\"./experiments/chatbot-arena-7824/wpbase-wpbase-gemini1.5flash.jsonl\"))\n",
    "calculate_correciness(asr_asr, gts)\n",
    "print(\"############################\")\n",
    "asr_asr_BA = process_output(read_jsonl(\"./experiments/chatbot-arena-7824/wpbase-wpbase-gemini1.5flash_BA.jsonl\"))\n",
    "calculate_correciness(asr_asr_BA, gts, reverse=True)\n",
    "print(\"############################\")\n",
    "measure_bias(asr_asr, asr_asr_BA)"
   ]
  },
  {
   "cell_type": "code",
   "execution_count": 40,
   "id": "34c36a41-f624-41be-9972-3a2b4791c21d",
   "metadata": {},
   "outputs": [
    {
     "data": {
      "text/plain": [
       "47.925"
      ]
     },
     "execution_count": 40,
     "metadata": {},
     "output_type": "execute_result"
    }
   ],
   "source": [
    "0.5*(48.01+47.84)"
   ]
  },
  {
   "cell_type": "code",
   "execution_count": 28,
   "id": "2735fd33-16b6-4a56-b2f1-5140318c2dd5",
   "metadata": {},
   "outputs": [
    {
     "name": "stdout",
     "output_type": "stream",
     "text": [
      "correct:   87.53%\n",
      "incorrect: 12.47%\n"
     ]
    }
   ],
   "source": [
    "calculate_correciness(text_text, audio_text)"
   ]
  },
  {
   "cell_type": "code",
   "execution_count": 29,
   "id": "aa8cf632-39d0-45ec-85fa-40e0978eb721",
   "metadata": {},
   "outputs": [
    {
     "name": "stdout",
     "output_type": "stream",
     "text": [
      "correct:   78.41%\n",
      "incorrect: 21.59%\n"
     ]
    }
   ],
   "source": [
    "calculate_correciness(text_text, audio_audio)"
   ]
  },
  {
   "cell_type": "code",
   "execution_count": 30,
   "id": "44233f25-a50c-4acf-9879-09ed4213f11b",
   "metadata": {},
   "outputs": [
    {
     "name": "stdout",
     "output_type": "stream",
     "text": [
      "correct:   79.62%\n",
      "incorrect: 20.38%\n"
     ]
    }
   ],
   "source": [
    "calculate_correciness(audio_text, audio_audio)"
   ]
  },
  {
   "cell_type": "markdown",
   "id": "cd698e4a-8c8e-4cdf-b3b9-70da6a727ff5",
   "metadata": {},
   "source": [
    "## System-level Correlation"
   ]
  },
  {
   "cell_type": "code",
   "execution_count": 15,
   "id": "4f140711-7817-45fe-8205-93f903a0e64c",
   "metadata": {},
   "outputs": [],
   "source": [
    "import math\n",
    "import numpy as np\n",
    "import scipy.stats as stats\n",
    "import matplotlib.pyplot as plt"
   ]
  },
  {
   "cell_type": "code",
   "execution_count": 42,
   "id": "0255f72f-82d2-4af6-a9d1-8ff69a4409f6",
   "metadata": {},
   "outputs": [],
   "source": [
    "def analyze_correlation_and_plot(list_a, list_b):\n",
    "    # 1. Compute Pearson correlation\n",
    "    pearson_corr, _ = stats.pearsonr(list_a, list_b)\n",
    "\n",
    "    # 2. Compute Spearman correlation\n",
    "    spearman_corr, pvalue = stats.spearmanr(list_a, list_b)\n",
    "\n",
    "    # Print results\n",
    "    print(f\"Pearson Correlation: {pearson_corr:.3f}\")\n",
    "    print(f\"Spearman Correlation: {spearman_corr:.3f}\")\n",
    "    print(\"pvalue Spearman: {:.2e}\".format(pvalue))\n",
    "\n",
    "    # 4. Scatter plot with best-fit line\n",
    "    plt.figure(figsize=(5, 4))\n",
    "    plt.scatter(list_a, list_b, color='blue', label='Data points')\n",
    "\n",
    "    # Best fit line\n",
    "    coefficients = np.polyfit(list_a, list_b, 1)  # Linear fit (degree=1)\n",
    "    poly = np.poly1d(coefficients)\n",
    "    best_fit_line = poly(list_a)\n",
    "\n",
    "    plt.plot(list_a, best_fit_line, color='red', label='Best Fit Line')\n",
    "    plt.xlabel('Human Judge (Win Rate)')\n",
    "    plt.ylabel('LLM Judge (Win Rate)')\n",
    "    plt.title('Scatter Plot with Best Fit Line')\n",
    "    plt.legend()\n",
    "    plt.grid()\n",
    "    plt.show()"
   ]
  },
  {
   "cell_type": "code",
   "execution_count": 43,
   "id": "d6a83a8f-4821-4fb2-9895-7744d3ce22bb",
   "metadata": {},
   "outputs": [],
   "source": [
    "with open(\"./chatbot-arena-spoken-1turn-english-difference-voices.json\") as f:\n",
    "    raw_data = json.load(f)"
   ]
  },
  {
   "cell_type": "code",
   "execution_count": 44,
   "id": "3d5d4c8e-d575-4f3d-8960-36b32616c8ce",
   "metadata": {},
   "outputs": [
    {
     "data": {
      "text/plain": [
       "20"
      ]
     },
     "execution_count": 44,
     "metadata": {},
     "output_type": "execute_result"
    }
   ],
   "source": [
    "uniq_systems = set([x['model_a'] for x in raw_data] + [x['model_b'] for x in raw_data])\n",
    "uniq_systems = list(uniq_systems)\n",
    "len(uniq_systems)"
   ]
  },
  {
   "cell_type": "code",
   "execution_count": 45,
   "id": "c5851930-0f21-4324-ba4a-3ca3852f0024",
   "metadata": {},
   "outputs": [],
   "source": [
    "def system_level_analysis(path_ab, path_ba):\n",
    "    data_ab = read_jsonl(path_ab)\n",
    "    data_ba = read_jsonl(path_ba)\n",
    "    n = min([len(data_ab), len(data_ba), len(raw_data)])\n",
    "    print(\"n:\", n)\n",
    "    \n",
    "    system_preds = {k: [] for k in uniq_systems}\n",
    "    system_gts = {k: [] for k in uniq_systems}\n",
    "    \n",
    "    for i in range(n):\n",
    "        x = raw_data[i]\n",
    "        ab = data_ab[i]\n",
    "        ba = data_ba[i]\n",
    "        modelA, modelB = x['model_a'], x['model_b']\n",
    "        \n",
    "        label_ab = extract_abc(ab['response'][-20:])\n",
    "        if label_ab == 'A':\n",
    "            system_preds[modelA].append(1.0)\n",
    "            system_preds[modelB].append(0.0)\n",
    "        elif label_ab == 'B':\n",
    "            system_preds[modelB].append(1.0)\n",
    "            system_preds[modelA].append(0.0)\n",
    "        else:\n",
    "            system_preds[modelB].append(0.5)\n",
    "            system_preds[modelA].append(0.5)\n",
    "            \n",
    "        label_ba = extract_abc(ba['response'][-20:])\n",
    "        if label_ba == 'A':\n",
    "            system_preds[modelB].append(1.0)\n",
    "            system_preds[modelA].append(0.0)\n",
    "        elif label_ba == 'B':\n",
    "            system_preds[modelA].append(1.0)\n",
    "            system_preds[modelB].append(0.0)\n",
    "        else:\n",
    "            system_preds[modelB].append(0.5)\n",
    "            system_preds[modelA].append(0.5)\n",
    "    \n",
    "        if x['winner'] == 'model_a':\n",
    "            system_gts[modelA].append(1.0)\n",
    "            system_gts[modelB].append(0.0)\n",
    "        elif x['winner'] == 'model_b':\n",
    "            system_gts[modelB].append(1.0)\n",
    "            system_gts[modelA].append(0.0)\n",
    "        else:\n",
    "            system_gts[modelA].append(0.5)\n",
    "            system_gts[modelB].append(0.5)\n",
    "            \n",
    "    system_level_pred, system_level_gts = [], []\n",
    "    for system, pred in system_preds.items():\n",
    "        if len(pred) == 0:\n",
    "            continue\n",
    "        gts = system_gts[system]\n",
    "        assert len(pred) == 2*len(gts)\n",
    "        assert math.isnan(np.mean(pred)) is False\n",
    "        system_level_pred.append(np.mean(pred))\n",
    "        system_level_gts.append(np.mean(gts))\n",
    "    analyze_correlation_and_plot(system_level_gts, system_level_pred)"
   ]
  },
  {
   "cell_type": "code",
   "execution_count": 46,
   "id": "05baab9f-9da7-447f-a579-85c07601d9f3",
   "metadata": {},
   "outputs": [
    {
     "name": "stdout",
     "output_type": "stream",
     "text": [
      "len: 7824\n",
      "len: 7824\n",
      "n: 7824\n",
      "Pearson Correlation: 0.964\n",
      "Spearman Correlation: 0.961\n",
      "pvalue Spearman: 1.76e-11\n"
     ]
    },
    {
     "data": {
      "image/png": "[encoded data removed]",
      "text/plain": [
       "<Figure size 500x400 with 1 Axes>"
      ]
     },
     "metadata": {},
     "output_type": "display_data"
    }
   ],
   "source": [
    "system_level_analysis(\"./experiments/chatbot-arena-7824/text-text-gemini1.5flash.jsonl\", \"./experiments/chatbot-arena-7824/text-text-gemini1.5flash_BA.jsonl\")"
   ]
  },
  {
   "cell_type": "code",
   "execution_count": 47,
   "id": "9e0bbe8e-f524-48ab-88ce-379ef52e64e1",
   "metadata": {},
   "outputs": [
    {
     "name": "stdout",
     "output_type": "stream",
     "text": [
      "len: 7824\n",
      "len: 7824\n",
      "n: 7824\n",
      "Pearson Correlation: 0.960\n",
      "Spearman Correlation: 0.970\n",
      "pvalue Spearman: 1.71e-12\n"
     ]
    },
    {
     "data": {
      "image/png": "[encoded data removed]",
      "text/plain": [
       "<Figure size 500x400 with 1 Axes>"
      ]
     },
     "metadata": {},
     "output_type": "display_data"
    }
   ],
   "source": [
    "system_level_analysis(\"./experiments/chatbot-arena-7824/audio-text-gemini1.5flash.jsonl\", \"./experiments/chatbot-arena-7824/audio-text-gemini1.5flash_BA.jsonl\")"
   ]
  },
  {
   "cell_type": "code",
   "execution_count": 48,
   "id": "f48e9b1e-18af-426d-8b1d-691b3267bcf4",
   "metadata": {},
   "outputs": [
    {
     "name": "stdout",
     "output_type": "stream",
     "text": [
      "len: 7824\n",
      "len: 7824\n",
      "n: 7824\n",
      "Pearson Correlation: 0.945\n",
      "Spearman Correlation: 0.949\n",
      "pvalue Spearman: 1.88e-10\n"
     ]
    },
    {
     "data": {
      "image/png": "[encoded data removed]",
      "text/plain": [
       "<Figure size 500x400 with 1 Axes>"
      ]
     },
     "metadata": {},
     "output_type": "display_data"
    }
   ],
   "source": [
    "system_level_analysis(\"./experiments/chatbot-arena-7824/audio-audio-gemini1.5flash.jsonl\", \"./experiments/chatbot-arena-7824/audio-audio-gemini1.5flash_BA.jsonl\")"
   ]
  },
  {
   "cell_type": "code",
   "execution_count": 41,
   "id": "31cf4241-32cc-4743-8655-a72cc24b651c",
   "metadata": {},
   "outputs": [
    {
     "name": "stdout",
     "output_type": "stream",
     "text": [
      "len: 7824\n",
      "len: 7824\n",
      "n: 7824\n",
      "Pearson Correlation: 0.919\n",
      "Spearman Correlation: 0.895\n"
     ]
    },
    {
     "data": {
      "image/png": "[encoded data removed]",
      "text/plain": [
       "<Figure size 500x400 with 1 Axes>"
      ]
     },
     "metadata": {},
     "output_type": "display_data"
    }
   ],
   "source": [
    "system_level_analysis(\"./experiments/chatbot-arena-7824/wpbase-wpbase-gemini1.5flash.jsonl\", \"./experiments/chatbot-arena-7824/wpbase-wpbase-gemini1.5flash_BA.jsonl\")"
   ]
  },
  {
   "cell_type": "code",
   "execution_count": null,
   "id": "92a29f70-6783-4f24-a286-b7db8e1505be",
   "metadata": {},
   "outputs": [],
   "source": []
  }
 ],
 "metadata": {
  "kernelspec": {
   "display_name": "Python 3 (ipykernel)",
   "language": "python",
   "name": "python3"
  },
  "language_info": {
   "codemirror_mode": {
    "name": "ipython",
    "version": 3
   },
   "file_extension": ".py",
   "mimetype": "text/x-python",
   "name": "python",
   "nbconvert_exporter": "python",
   "pygments_lexer": "ipython3",
   "version": "3.10.13"
  }
 },
 "nbformat": 4,
 "nbformat_minor": 5
}
