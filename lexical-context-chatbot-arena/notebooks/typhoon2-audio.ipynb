{
 "cells": [
  {
   "cell_type": "code",
   "execution_count": 28,
   "id": "645bab54-b85b-4b9d-9f6e-264e2de4919d",
   "metadata": {},
   "outputs": [],
   "source": [
    "import json\n",
    "import os\n",
    "import re"
   ]
  },
  {
   "cell_type": "code",
   "execution_count": 29,
   "id": "9f9d2a7a-0ae9-430f-8327-5f4003eb2595",
   "metadata": {},
   "outputs": [
    {
     "name": "stdout",
     "output_type": "stream",
     "text": [
      "len: 7824\n"
     ]
    }
   ],
   "source": [
    "with open(\"./chatbot-arena-spoken-1turn-english-difference-voices.json\") as f:\n",
    "    raw_data = json.load(f)\n",
    "gts = []\n",
    "gt_mapping = {\n",
    "    'model_a': 'A',\n",
    "    'model_b': 'B',\n",
    "    'tie': 'C',\n",
    "    'tie (bothbad)': 'C'\n",
    "}\n",
    "for x in raw_data:\n",
    "    gts.append(gt_mapping[x['winner']])\n",
    "print(\"len:\", len(gts))"
   ]
  },
  {
   "cell_type": "code",
   "execution_count": 30,
   "id": "d606bca0-21c1-4bee-9b54-eaef471a05f1",
   "metadata": {},
   "outputs": [],
   "source": [
    "def read_jsonl(file_path):\n",
    "    data = []\n",
    "    # Open and read the file line by line\n",
    "    with open(file_path, 'r') as file:\n",
    "        for line in file:\n",
    "            # Parse each line as a JSON object\n",
    "            json_obj = json.loads(line.strip())\n",
    "            data.append(json_obj)\n",
    "    print(\"len:\", len(data))\n",
    "    return data"
   ]
  },
  {
   "cell_type": "code",
   "execution_count": 56,
   "id": "fc37dde9-5e9f-434f-9000-62e654330a75",
   "metadata": {},
   "outputs": [],
   "source": [
    "def process_output(data):\n",
    "    labels = []\n",
    "    for x in data:\n",
    "        response = x['response']\n",
    "        # response = response[-20:]\n",
    "        labels += [extract_abc(response)]\n",
    "    calculate_percentage(labels)\n",
    "    return labels\n",
    "\n",
    "def calculate_correciness(labels, gts, reverse=False):\n",
    "    # assert len(labels) == len(gts)\n",
    "    labels = labels[:len(gts)]\n",
    "    correct, incorrect, correct_AB, incorrect_AB = 0, 0, 0, 0\n",
    "    for label, gt in zip(labels, gts):\n",
    "        if reverse == True:\n",
    "            if gt == 'A': \n",
    "                gt = 'B'\n",
    "            elif gt == 'B': \n",
    "                gt = 'A'\n",
    "        if label == gt:\n",
    "            correct += 1\n",
    "        else:\n",
    "            incorrect += 1\n",
    "            \n",
    "        if label in ['A', 'B']:\n",
    "            if label == gt:\n",
    "                correct_AB += 1\n",
    "            else:\n",
    "                incorrect_AB += 1\n",
    "                \n",
    "    print(\"correct:   {:.2f}%\".format(correct/(correct+incorrect)*100))\n",
    "    print(\"correct_a: {:.2f}%\".format(correct_AB/(correct_AB+incorrect_AB)*100))\n",
    "    print(\"incorrect: {:.2f}%\".format(incorrect/(correct+incorrect)*100))"
   ]
  },
  {
   "cell_type": "code",
   "execution_count": 57,
   "id": "ed291498-f8f1-4222-9385-309ffe0e8756",
   "metadata": {},
   "outputs": [],
   "source": [
    "def extract_abc(text):\n",
    "    pattern = r'\\[\\[(A|B|C)\\]\\]'\n",
    "    \n",
    "    # Search for the match\n",
    "    match = re.search(pattern, text)\n",
    "    \n",
    "    if match:\n",
    "        result = match.group(1)\n",
    "        # print(f\"Extracted value: {result}\")\n",
    "    else:\n",
    "        result = \"D\"\n",
    "    return result "
   ]
  },
  {
   "cell_type": "code",
   "execution_count": 58,
   "id": "085c605e-ceff-47d2-bb20-fddb269d2d55",
   "metadata": {},
   "outputs": [],
   "source": [
    "def calculate_percentage(arr):\n",
    "    # Get the total number of items\n",
    "    total_count = len(arr)\n",
    "    \n",
    "    # Create a dictionary to store counts of each unique item\n",
    "    item_counts = {'A': 0, 'B': 0, 'C': 0, 'D': 0}\n",
    "    \n",
    "    for item in arr:\n",
    "        item_counts[item] = item_counts.get(item, 0) + 1\n",
    "    \n",
    "    # Calculate percentages and store them in a dictionary\n",
    "    percentages = {item: (count / total_count) * 100 for item, count in item_counts.items()}\n",
    "    \n",
    "    # Display the result\n",
    "    print(\"---------------\")\n",
    "    for item, percentage in percentages.items():\n",
    "        print(f\"{item}: {percentage:.2f}%\")\n",
    "    print(\"---------------\")"
   ]
  },
  {
   "cell_type": "code",
   "execution_count": 59,
   "id": "dd2820a2-cd4f-4c66-9cfe-94802321ac97",
   "metadata": {},
   "outputs": [],
   "source": [
    "def measure_bias(preds_ab, preds_ba):\n",
    "    n = min(len(preds_ab), len(preds_ba))\n",
    "    preds_ab = preds_ab[:n]\n",
    "    preds_ba = preds_ba[:n]\n",
    "    biasA, biasB, consistentAB, consistentCC, other = 0, 0, 0, 0, 0\n",
    "    for pred_ab, pred_ba in zip(preds_ab, preds_ba):\n",
    "        if pred_ab == \"A\" and pred_ba == \"A\":\n",
    "            biasA += 1\n",
    "        elif pred_ab == \"B\" and pred_ba == \"B\":\n",
    "            biasB += 1\n",
    "        elif pred_ab == \"A\" and pred_ba == \"B\":\n",
    "            consistentAB += 1  \n",
    "        elif pred_ab == \"B\" and pred_ba == \"A\":\n",
    "            consistentAB += 1\n",
    "        elif pred_ab == \"C\" and pred_ba == \"C\":\n",
    "            consistentCC += 1\n",
    "        else:\n",
    "            other += 1\n",
    "    total = biasA + biasB + consistentAB + consistentCC + other\n",
    "    print(\"consistentAB: {:.2f}\".format(consistentAB/total*100)) \n",
    "    print(\"consistentCC: {:.2f}\".format(consistentCC/total*100)) \n",
    "    print(\"biasA:      {:.2f}\".format(biasA/total*100)) \n",
    "    print(\"biasB:      {:.2f}\".format(biasB/total*100)) \n",
    "    print(\"other:      {:.2f}\".format(other/total*100)) "
   ]
  },
  {
   "cell_type": "code",
   "execution_count": 60,
   "id": "69cc14d9-84ca-45d7-b168-257c0053acc2",
   "metadata": {},
   "outputs": [
    {
     "name": "stdout",
     "output_type": "stream",
     "text": [
      "len: 7824\n",
      "---------------\n",
      "A: 63.00%\n",
      "B: 35.52%\n",
      "C: 0.46%\n",
      "D: 1.02%\n",
      "---------------\n",
      "correct:   44.71%\n",
      "correct_a: 45.03%\n",
      "incorrect: 55.29%\n",
      "############################\n",
      "len: 7824\n",
      "---------------\n",
      "A: 62.50%\n",
      "B: 35.88%\n",
      "C: 0.51%\n",
      "D: 1.11%\n",
      "---------------\n",
      "correct:   44.02%\n",
      "correct_a: 44.35%\n",
      "incorrect: 55.98%\n",
      "############################\n",
      "consistentAB: 59.97\n",
      "consistentCC: 0.29\n",
      "biasA:      32.20\n",
      "biasB:      5.34\n",
      "other:      2.20\n"
     ]
    }
   ],
   "source": [
    "text_text = process_output(read_jsonl(\"./experiments/chatbot-arena-7824/text-text-typhoon2.jsonl\"))\n",
    "calculate_correciness(text_text, gts)\n",
    "print(\"############################\")\n",
    "text_text_BA = process_output(read_jsonl(\"./experiments/chatbot-arena-7824/text-text-typhoon2_BA.jsonl\"))\n",
    "calculate_correciness(text_text_BA, gts, reverse=True)\n",
    "print(\"############################\")\n",
    "measure_bias(text_text, text_text_BA)"
   ]
  },
  {
   "cell_type": "code",
   "execution_count": 61,
   "id": "aa6c35ad-4a1c-4d8e-9924-1394b4e10d9d",
   "metadata": {},
   "outputs": [
    {
     "data": {
      "text/plain": [
       "44.365"
      ]
     },
     "execution_count": 61,
     "metadata": {},
     "output_type": "execute_result"
    }
   ],
   "source": [
    "0.5*(44.71+44.02)"
   ]
  },
  {
   "cell_type": "code",
   "execution_count": 62,
   "id": "28f689f9-57a6-46b8-9256-ecd26976f3b8",
   "metadata": {},
   "outputs": [
    {
     "name": "stdout",
     "output_type": "stream",
     "text": [
      "len: 7824\n",
      "---------------\n",
      "A: 62.78%\n",
      "B: 36.08%\n",
      "C: 0.42%\n",
      "D: 0.72%\n",
      "---------------\n",
      "correct:   43.24%\n",
      "correct_a: 43.39%\n",
      "incorrect: 56.76%\n",
      "############################\n",
      "len: 7824\n",
      "---------------\n",
      "A: 61.98%\n",
      "B: 36.73%\n",
      "C: 0.42%\n",
      "D: 0.87%\n",
      "---------------\n",
      "correct:   42.50%\n",
      "correct_a: 42.69%\n",
      "incorrect: 57.50%\n",
      "############################\n",
      "consistentAB: 57.14\n",
      "consistentCC: 0.31\n",
      "biasA:      33.31\n",
      "biasB:      7.63\n",
      "other:      1.61\n"
     ]
    }
   ],
   "source": [
    "audio_text = process_output(read_jsonl(\"./experiments/chatbot-arena-7824/audio-text-typhoon2.jsonl\"))\n",
    "calculate_correciness(audio_text, gts)\n",
    "print(\"############################\")\n",
    "audio_text_BA = process_output(read_jsonl(\"./experiments/chatbot-arena-7824/audio-text-typhoon2_BA.jsonl\"))\n",
    "calculate_correciness(audio_text_BA, gts, reverse=True)\n",
    "print(\"############################\")\n",
    "measure_bias(audio_text, audio_text_BA)"
   ]
  },
  {
   "cell_type": "code",
   "execution_count": 12,
   "id": "22180d8f-50a8-45bd-b161-c30b694e727c",
   "metadata": {},
   "outputs": [
    {
     "data": {
      "text/plain": [
       "42.870000000000005"
      ]
     },
     "execution_count": 12,
     "metadata": {},
     "output_type": "execute_result"
    }
   ],
   "source": [
    "0.5*(43.24+ 42.50)"
   ]
  },
  {
   "cell_type": "code",
   "execution_count": 13,
   "id": "86c36c59-3e09-4167-b09c-ed0b1fa07739",
   "metadata": {},
   "outputs": [
    {
     "name": "stdout",
     "output_type": "stream",
     "text": [
      "len: 7824\n",
      "---------------\n",
      "A: 26.87%\n",
      "B: 2.12%\n",
      "C: 0.17%\n",
      "D: 70.85%\n",
      "---------------\n",
      "correct:   9.78%\n",
      "incorrect: 90.22%\n",
      "############################\n",
      "len: 7824\n",
      "---------------\n",
      "A: 27.84%\n",
      "B: 2.33%\n",
      "C: 0.14%\n",
      "D: 69.70%\n",
      "---------------\n",
      "correct:   10.16%\n",
      "incorrect: 89.84%\n",
      "############################\n",
      "consistentAB: 1.62\n",
      "consistentCC: 0.01\n",
      "biasA:      16.23\n",
      "biasB:      0.23\n",
      "other:      81.90\n"
     ]
    }
   ],
   "source": [
    "audio_audio = process_output(read_jsonl(\"./experiments/chatbot-arena-7824/audio-audio-typhoon2.jsonl\"))\n",
    "calculate_correciness(audio_audio, gts)\n",
    "print(\"############################\")\n",
    "audio_audio_BA = process_output(read_jsonl(\"./experiments/chatbot-arena-7824/audio-audio-typhoon2_BA.jsonl\"))\n",
    "calculate_correciness(audio_audio_BA, gts, reverse=True)\n",
    "print(\"############################\")\n",
    "measure_bias(audio_audio, audio_audio_BA)"
   ]
  },
  {
   "cell_type": "code",
   "execution_count": 15,
   "id": "11e979f3-d73d-41d5-8462-c8eca5e0c9cb",
   "metadata": {},
   "outputs": [
    {
     "data": {
      "text/plain": [
       "9.969999999999999"
      ]
     },
     "execution_count": 15,
     "metadata": {},
     "output_type": "execute_result"
    }
   ],
   "source": [
    "0.5*(9.78+10.16)"
   ]
  },
  {
   "cell_type": "code",
   "execution_count": 16,
   "id": "2735fd33-16b6-4a56-b2f1-5140318c2dd5",
   "metadata": {},
   "outputs": [
    {
     "name": "stdout",
     "output_type": "stream",
     "text": [
      "correct:   85.95%\n",
      "incorrect: 14.05%\n"
     ]
    }
   ],
   "source": [
    "calculate_correciness(text_text, audio_text)"
   ]
  },
  {
   "cell_type": "code",
   "execution_count": 17,
   "id": "aa8cf632-39d0-45ec-85fa-40e0978eb721",
   "metadata": {},
   "outputs": [
    {
     "name": "stdout",
     "output_type": "stream",
     "text": [
      "correct:   18.29%\n",
      "incorrect: 81.71%\n"
     ]
    }
   ],
   "source": [
    "calculate_correciness(text_text, audio_audio)"
   ]
  },
  {
   "cell_type": "code",
   "execution_count": 18,
   "id": "44233f25-a50c-4acf-9879-09ed4213f11b",
   "metadata": {},
   "outputs": [
    {
     "name": "stdout",
     "output_type": "stream",
     "text": [
      "correct:   19.27%\n",
      "incorrect: 80.73%\n"
     ]
    }
   ],
   "source": [
    "calculate_correciness(audio_text, audio_audio)"
   ]
  },
  {
   "cell_type": "markdown",
   "id": "8caa546a-da4d-4df6-9b61-4969dfa047c0",
   "metadata": {},
   "source": [
    "# System level analysis"
   ]
  },
  {
   "cell_type": "code",
   "execution_count": 63,
   "id": "0259ad3e-0ad7-40ee-937d-5419e112bd00",
   "metadata": {},
   "outputs": [],
   "source": [
    "import math\n",
    "import numpy as np\n",
    "import scipy.stats as stats\n",
    "import matplotlib.pyplot as plt"
   ]
  },
  {
   "cell_type": "code",
   "execution_count": 64,
   "id": "f959ce23-a1b6-41ca-9aa5-ee5206dbad75",
   "metadata": {},
   "outputs": [],
   "source": [
    "def analyze_correlation_and_plot(list_a, list_b):\n",
    "    # 1. Compute Pearson correlation\n",
    "    pearson_corr, _ = stats.pearsonr(list_a, list_b)\n",
    "\n",
    "    # 2. Compute Spearman correlation\n",
    "    spearman_corr, pvalue = stats.spearmanr(list_a, list_b)\n",
    "\n",
    "    # Print results\n",
    "    print(f\"Pearson Correlation: {pearson_corr:.3f}\")\n",
    "    print(f\"Spearman Correlation: {spearman_corr:.3f}\")\n",
    "    print(\"pvalue Spearman: {:.2e}\".format(pvalue))\n",
    "\n",
    "    # 4. Scatter plot with best-fit line\n",
    "    plt.figure(figsize=(5, 4))\n",
    "    plt.scatter(list_a, list_b, color='blue', label='Data points')\n",
    "\n",
    "    # Best fit line\n",
    "    coefficients = np.polyfit(list_a, list_b, 1)  # Linear fit (degree=1)\n",
    "    poly = np.poly1d(coefficients)\n",
    "    best_fit_line = poly(list_a)\n",
    "\n",
    "    plt.plot(list_a, best_fit_line, color='red', label='Best Fit Line')\n",
    "    plt.xlabel('Human Judge (Win Rate)')\n",
    "    plt.ylabel('LLM Judge (Win Rate)')\n",
    "    plt.title('Scatter Plot with Best Fit Line')\n",
    "    plt.legend()\n",
    "    plt.grid()\n",
    "    plt.show()"
   ]
  },
  {
   "cell_type": "code",
   "execution_count": 65,
   "id": "6b5a407f-fd36-429c-9781-13271ae510c7",
   "metadata": {},
   "outputs": [],
   "source": [
    "with open(\"./chatbot-arena-spoken-1turn-english-difference-voices.json\") as f:\n",
    "    raw_data = json.load(f)"
   ]
  },
  {
   "cell_type": "code",
   "execution_count": 66,
   "id": "ca561902-1943-455b-a27d-a7a9cb4b9d47",
   "metadata": {},
   "outputs": [
    {
     "data": {
      "text/plain": [
       "20"
      ]
     },
     "execution_count": 66,
     "metadata": {},
     "output_type": "execute_result"
    }
   ],
   "source": [
    "uniq_systems = set([x['model_a'] for x in raw_data] + [x['model_b'] for x in raw_data])\n",
    "uniq_systems = list(uniq_systems)\n",
    "len(uniq_systems)"
   ]
  },
  {
   "cell_type": "code",
   "execution_count": 67,
   "id": "ea9fcd33-28aa-42f7-986c-6bef06c6a368",
   "metadata": {},
   "outputs": [],
   "source": [
    "def system_level_analysis(path_ab, path_ba):\n",
    "    data_ab = read_jsonl(path_ab)\n",
    "    data_ba = read_jsonl(path_ba)\n",
    "    n = min([len(data_ab), len(data_ba), len(raw_data)])\n",
    "    print(\"n:\", n)\n",
    "    \n",
    "    system_preds = {k: [] for k in uniq_systems}\n",
    "    system_gts = {k: [] for k in uniq_systems}\n",
    "    \n",
    "    for i in range(n):\n",
    "        x = raw_data[i]\n",
    "        ab = data_ab[i]\n",
    "        ba = data_ba[i]\n",
    "        modelA, modelB = x['model_a'], x['model_b']\n",
    "        \n",
    "        label_ab = extract_abc(ab['response'][-20:])\n",
    "        if label_ab == 'A':\n",
    "            system_preds[modelA].append(1.0)\n",
    "            system_preds[modelB].append(0.0)\n",
    "        elif label_ab == 'B':\n",
    "            system_preds[modelB].append(1.0)\n",
    "            system_preds[modelA].append(0.0)\n",
    "        else:\n",
    "            system_preds[modelB].append(0.5)\n",
    "            system_preds[modelA].append(0.5)\n",
    "            \n",
    "        label_ba = extract_abc(ba['response'][-20:])\n",
    "        if label_ba == 'A':\n",
    "            system_preds[modelB].append(1.0)\n",
    "            system_preds[modelA].append(0.0)\n",
    "        elif label_ba == 'B':\n",
    "            system_preds[modelA].append(1.0)\n",
    "            system_preds[modelB].append(0.0)\n",
    "        else:\n",
    "            system_preds[modelB].append(0.5)\n",
    "            system_preds[modelA].append(0.5)\n",
    "    \n",
    "        if x['winner'] == 'model_a':\n",
    "            system_gts[modelA].append(1.0)\n",
    "            system_gts[modelB].append(0.0)\n",
    "        elif x['winner'] == 'model_b':\n",
    "            system_gts[modelB].append(1.0)\n",
    "            system_gts[modelA].append(0.0)\n",
    "        else:\n",
    "            system_gts[modelA].append(0.5)\n",
    "            system_gts[modelB].append(0.5)\n",
    "            \n",
    "    system_level_pred, system_level_gts = [], []\n",
    "    for system, pred in system_preds.items():\n",
    "        if len(pred) == 0:\n",
    "            continue\n",
    "        gts = system_gts[system]\n",
    "        assert len(pred) == 2*len(gts)\n",
    "        assert math.isnan(np.mean(pred)) is False\n",
    "        system_level_pred.append(np.mean(pred))\n",
    "        system_level_gts.append(np.mean(gts))\n",
    "    analyze_correlation_and_plot(system_level_gts, system_level_pred)"
   ]
  },
  {
   "cell_type": "code",
   "execution_count": 68,
   "id": "539e2eae-44b8-4dcc-a308-577a54a850f5",
   "metadata": {},
   "outputs": [
    {
     "name": "stdout",
     "output_type": "stream",
     "text": [
      "len: 7824\n",
      "len: 7824\n",
      "n: 7824\n",
      "Pearson Correlation: 0.808\n",
      "Spearman Correlation: 0.758\n",
      "pvalue Spearman: 1.08e-04\n"
     ]
    },
    {
     "data": {
      "image/png": "[encoded data removed]",
      "text/plain": [
       "<Figure size 500x400 with 1 Axes>"
      ]
     },
     "metadata": {},
     "output_type": "display_data"
    }
   ],
   "source": [
    "system_level_analysis(\"./experiments/chatbot-arena-7824/text-text-typhoon2.jsonl\", \"./experiments/chatbot-arena-7824/text-text-typhoon2_BA.jsonl\")"
   ]
  },
  {
   "cell_type": "code",
   "execution_count": 69,
   "id": "694c3350-de24-45f4-b801-7a97b2675a21",
   "metadata": {},
   "outputs": [
    {
     "name": "stdout",
     "output_type": "stream",
     "text": [
      "len: 7824\n",
      "len: 7824\n",
      "n: 7824\n",
      "Pearson Correlation: 0.701\n",
      "Spearman Correlation: 0.668\n",
      "pvalue Spearman: 1.30e-03\n"
     ]
    },
    {
     "data": {
      "image/png": "[encoded data removed]",
      "text/plain": [
       "<Figure size 500x400 with 1 Axes>"
      ]
     },
     "metadata": {},
     "output_type": "display_data"
    }
   ],
   "source": [
    "system_level_analysis(\"./experiments/chatbot-arena-7824/audio-text-typhoon2.jsonl\", \"./experiments/chatbot-arena-7824/audio-text-typhoon2_BA.jsonl\")"
   ]
  },
  {
   "cell_type": "code",
   "execution_count": 70,
   "id": "9cd83637-4d1c-46a4-b06e-879404f36005",
   "metadata": {},
   "outputs": [
    {
     "name": "stdout",
     "output_type": "stream",
     "text": [
      "len: 7824\n",
      "len: 7824\n",
      "n: 7824\n",
      "Pearson Correlation: -0.347\n",
      "Spearman Correlation: -0.328\n",
      "pvalue Spearman: 1.58e-01\n"
     ]
    },
    {
     "data": {
      "image/png": "[encoded data removed]",
      "text/plain": [
       "<Figure size 500x400 with 1 Axes>"
      ]
     },
     "metadata": {},
     "output_type": "display_data"
    }
   ],
   "source": [
    "system_level_analysis(\"./experiments/chatbot-arena-7824/audio-audio-typhoon2.jsonl\", \"./experiments/chatbot-arena-7824/audio-audio-typhoon2_BA.jsonl\")"
   ]
  },
  {
   "cell_type": "code",
   "execution_count": null,
   "id": "4838832d-eb24-4350-a43d-2cc7db19b74f",
   "metadata": {},
   "outputs": [],
   "source": []
  }
 ],
 "metadata": {
  "kernelspec": {
   "display_name": "Python 3 (ipykernel)",
   "language": "python",
   "name": "python3"
  },
  "language_info": {
   "codemirror_mode": {
    "name": "ipython",
    "version": 3
   },
   "file_extension": ".py",
   "mimetype": "text/x-python",
   "name": "python",
   "nbconvert_exporter": "python",
   "pygments_lexer": "ipython3",
   "version": "3.10.13"
  }
 },
 "nbformat": 4,
 "nbformat_minor": 5
}
