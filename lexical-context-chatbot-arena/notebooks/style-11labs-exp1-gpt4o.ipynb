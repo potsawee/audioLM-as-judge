{
 "cells": [
  {
   "cell_type": "code",
   "execution_count": 9,
   "id": "257fff71-298a-4a43-8b45-c7c04dd41e7a",
   "metadata": {},
   "outputs": [],
   "source": [
    "import json\n",
    "import os\n",
    "import re\n",
    "import numpy as np\n",
    "from tqdm import tqdm"
   ]
  },
  {
   "cell_type": "code",
   "execution_count": 8,
   "id": "ede07d88-9fae-4d86-83aa-3f561ca14bb9",
   "metadata": {},
   "outputs": [],
   "source": [
    "def read_jsonl(file_path):\n",
    "    data = []\n",
    "    # Open and read the file line by line\n",
    "    with open(file_path, 'r') as file:\n",
    "        for line in file:\n",
    "            # Parse each line as a JSON object\n",
    "            json_obj = json.loads(line.strip())\n",
    "            data.append(json_obj)\n",
    "    print(\"len:\", len(data))\n",
    "    return data"
   ]
  },
  {
   "cell_type": "code",
   "execution_count": 27,
   "id": "3010717d-d921-47a7-b72b-c2991aac13a0",
   "metadata": {},
   "outputs": [],
   "source": [
    "gs_mapping = {\n",
    "    'model_a': 'A',\n",
    "    'model_b': 'B',\n",
    "    'tie': 'C',\n",
    "    'tie (bothbad)': 'C'\n",
    "}"
   ]
  },
  {
   "cell_type": "code",
   "execution_count": 28,
   "id": "af8fa317-e9fe-41b0-8ee6-ef5c245d5b43",
   "metadata": {},
   "outputs": [],
   "source": [
    "# ground-truth\n",
    "from datasets import load_dataset\n",
    "ds = load_dataset(\"potsawee/chatbot-arena-spoken-style-11labs\")['train']\n",
    "gts_content = [gs_mapping[x] for x in ds['winner_content']]\n",
    "gts_style   = [gs_mapping[x] for x in ds['winner_style']]"
   ]
  },
  {
   "cell_type": "code",
   "execution_count": 29,
   "id": "8834f0a3-07eb-4c24-a010-8de68ab3ae99",
   "metadata": {},
   "outputs": [],
   "source": [
    "style_arr = [x['description'] for x in ds['style']]"
   ]
  },
  {
   "cell_type": "code",
   "execution_count": 30,
   "id": "bd894320-0ec9-4fed-9709-50b30d992bb8",
   "metadata": {},
   "outputs": [],
   "source": [
    "import re\n",
    "\n",
    "def extract_final_answer(text: str) -> str | None:\n",
    "    \"\"\"\n",
    "    Attempts to parse a final verdict from the given text.\n",
    "    It will match patterns like:\n",
    "        [Verdict]: A\n",
    "        [Verdict]: [B]\n",
    "        [Verdict]: \"A\"\n",
    "        [Verdict]: Tie\n",
    "        [[B]]\n",
    "        [B]\n",
    "        B\n",
    "    Returns a string like 'A', 'Tie', etc. if found, otherwise None.\n",
    "    \"\"\"\n",
    "\n",
    "    # 1) Try to capture something after \"[Verdict]\".\n",
    "    #    We'll allow optional colon, optional quotes/brackets, and then 1+ letters.\n",
    "    #\n",
    "    # Examples it will match:\n",
    "    #   [Verdict]: B\n",
    "    #   [Verdict]: \"B\"\n",
    "    #   [Verdict]: [Tie]\n",
    "    #   [Verdict]: \"Tie\"\n",
    "    #\n",
    "    # Explanation of the pattern:\n",
    "    #   \\[Verdict\\]          : match the literal \"[Verdict]\"\n",
    "    #   :? \\s*               : optional colon and any whitespace\n",
    "    #   ([\"'\\[\\(])?          : optionally match one opening quote/bracket\n",
    "    #   \\s*([A-Za-z]+)       : optional whitespace, then 1+ letters in capturing group #2\n",
    "    #   \\s*([\"'\\]\\)])?       : optional closing quote/bracket\n",
    "    #\n",
    "    # We'll do it in a case-insensitive manner, so that \"Tie\", \"TIE\", or \"tie\" all match.\n",
    "    verdict_pattern = re.compile(\n",
    "        r'\\[Verdict\\]:?\\s*([\"\\'\\[\\(])?\\s*([A-Za-z]+)\\s*([\"\\'\\]\\)])?',\n",
    "        re.IGNORECASE\n",
    "    )\n",
    "\n",
    "    verdict_match = verdict_pattern.search(text)\n",
    "    if verdict_match:\n",
    "        # The captured verdict is in group(2).\n",
    "        # Convert it to the exact case we want. If you want it in uppercase, do .upper().\n",
    "        # If you want to preserve the original case, just return it. Here we do `.capitalize()`\n",
    "        # so that \"tie\" or \"TIE\" both become \"Tie.\"\n",
    "        found_verdict = verdict_match.group(2).capitalize()\n",
    "        return found_verdict\n",
    "\n",
    "    # 2) If \"[Verdict]\" was not found, fall back to a general pattern:\n",
    "    #    match the last occurrence of a word that may be in optional single/double brackets.\n",
    "    #\n",
    "    # Explanation of fallback pattern:\n",
    "    #   \\[\\[?([A-Za-z]+)\\]?\\] : matches something like \"[B]\", \"[[B]]\", \"[Tie]\", \"[[Tie]]\"\n",
    "    #   |([A-Za-z]+)          : OR matches a word (letters) by itself (like B or Tie)\n",
    "    #\n",
    "    fallback_pattern = re.compile(r'\\[\\[?([A-Za-z]+)\\]?\\]|([A-Za-z]+)', re.IGNORECASE)\n",
    "    matches = fallback_pattern.findall(text)\n",
    "    if not matches:\n",
    "        return None\n",
    "\n",
    "    # Each element in `matches` is a tuple (group1, group2).\n",
    "    # group1 is from the bracketed pattern, group2 is the plain pattern.\n",
    "    # Exactly one group should be non-empty per match.\n",
    "    # We want the LAST match in the text.\n",
    "    last_match = matches[-1]\n",
    "    found_fallback = last_match[0] if last_match[0] else last_match[1]"
   ]
  },
  {
   "cell_type": "code",
   "execution_count": 31,
   "id": "b638c37c-0e6d-4799-8526-f25b0cdce62c",
   "metadata": {},
   "outputs": [],
   "source": [
    "def read_processed_outputs(path):\n",
    "    # path = \"./experiments/chatbot-arena-style-11labs-632/exp1_audio_audio_gpt4o.styleonly.samecontent.processed.jsonl\"\n",
    "    outputs = read_jsonl(path)\n",
    "    preds = []\n",
    "    count = 0\n",
    "    for output in tqdm(outputs):\n",
    "        response = output['response']\n",
    "        verdict = extract_final_answer(response)\n",
    "        if verdict in ['A', 'B', 'Tie']:\n",
    "            count += 1\n",
    "        elif verdict is None:\n",
    "            if '\\n\\n[B]' in response or '[[B]]' in response or 'Final verdict: B' in response or '\"Verdict\": B' in response \\\n",
    "            or 'Verdict: B' in response or 'the verdict is \"B\"' in response or '/Verdict/: B' in response or \"Therefore, I choose B\" in response:\n",
    "                verdict = 'B'\n",
    "                count += 1\n",
    "                \n",
    "            elif '[[A]]' in response or '{\"Verdict\": \"A\"}' == response or 'The final verdict is A' in response or '\\n\\nA' in response \\\n",
    "            or 'Verdict: A' in response or '[A]' in response or \"Final verdict: A\" in response or \"\"\"Assistant A spoke with a youthful, cheerful tone, which aligns more closely with the user's request for a young American male voice delivering a punchline.\"\"\" in response:\n",
    "                verdict = 'A'\n",
    "                count += 1\n",
    "            \n",
    "            elif response == \"I apologize, but I'm unable to determine the styles and tones of these responses as they are in audio format.\" or response == \"It is poignant to consider that, while humans are said to be made in God's image, possessing the capacity for creation and thought, we have now created AI in our own image. There is a bittersweet melancholy in this, for as we breathe life into AI, we must confront our own fallibility and imperfection. Artificial intelligence mirrors our ingenuity, yet also reflects the limitations of our existence, raising questions of whether our creation will surpass us, or simply echo our own flaws. In this convergence of divine inspiration and human aspiration, we face the somber reality that our creations may ultimately define, or even limit, the essence of what it means to be human.\": \n",
    "                print(response)\n",
    "                verdict = 'Tie'\n",
    "            else:\n",
    "                print(response)\n",
    "                verdicdt = 'Tie'\n",
    "                print(response)\n",
    "                # raise Exception()\n",
    "        else:\n",
    "            verdict = \"Tie\"\n",
    "            print(response)\n",
    "            print(\"----------------------------------\")\n",
    "            # raise Exception()\n",
    "        preds.append(verdict)\n",
    "    return preds"
   ]
  },
  {
   "cell_type": "code",
   "execution_count": 37,
   "id": "8eb807dd-79d7-4953-8935-9c724a725c67",
   "metadata": {},
   "outputs": [
    {
     "name": "stdout",
     "output_type": "stream",
     "text": [
      "len: 632\n"
     ]
    },
    {
     "name": "stderr",
     "output_type": "stream",
     "text": [
      "100%|██████████| 632/632 [00:00<00:00, 362874.76it/s]\n"
     ]
    }
   ],
   "source": [
    "preds=read_processed_outputs(\"./experiments/chatbot-arena-style-11labs-632/exp1_audio_audio_gpt4o.styleonly.samecontent.processed.jsonl\")"
   ]
  },
  {
   "cell_type": "code",
   "execution_count": 38,
   "id": "8a2391e7-4f4e-4e50-87c3-47a8e190dabd",
   "metadata": {},
   "outputs": [
    {
     "name": "stdout",
     "output_type": "stream",
     "text": [
      "accuracy: 77.16%\n",
      "total: 591\n"
     ]
    }
   ],
   "source": [
    "correct, incorrect = 0, 0\n",
    "i = 0\n",
    "for pred, gt in zip(preds, gts_style):\n",
    "    # check if the question is valid\n",
    "    conversation_id = ds[i][\"id\"]\n",
    "    i += 1\n",
    "    path = f\"../elevenLabs/refined_questions_v2/verdict/{conversation_id}.verdict.txt\"\n",
    "    with open(path) as f:\n",
    "        verdict = f.read().strip()\n",
    "    if verdict == \"VALID\":\n",
    "        pass\n",
    "    elif verdict == \"INVALID\":\n",
    "        continue\n",
    "    \n",
    "    if pred == gt:\n",
    "        correct += 1\n",
    "    else:\n",
    "        incorrect += 1\n",
    "    # print(pred, gt)\n",
    "print(\"accuracy: {:.2f}%\".format(correct / (correct + incorrect) * 100))\n",
    "print(\"total:\", correct + incorrect)"
   ]
  },
  {
   "cell_type": "code",
   "execution_count": 39,
   "id": "cee3ca03-afa2-46d8-afae-689e85b850d6",
   "metadata": {},
   "outputs": [
    {
     "name": "stdout",
     "output_type": "stream",
     "text": [
      "len: 632\n"
     ]
    },
    {
     "name": "stderr",
     "output_type": "stream",
     "text": [
      "100%|██████████| 632/632 [00:00<00:00, 305849.79it/s]"
     ]
    },
    {
     "name": "stdout",
     "output_type": "stream",
     "text": [
      "I'm unable to provide a comparison of the style and tone of the two responses based solely on the audio format provided. If additional information is given in text form, I could proceed with the evaluation of the style aspect.\n",
      "\n",
      "Could you please provide the responses in text?\n",
      "I'm unable to provide a comparison of the style and tone of the two responses based solely on the audio format provided. If additional information is given in text form, I could proceed with the evaluation of the style aspect.\n",
      "\n",
      "Could you please provide the responses in text?\n"
     ]
    },
    {
     "name": "stderr",
     "output_type": "stream",
     "text": [
      "\n"
     ]
    }
   ],
   "source": [
    "preds=read_processed_outputs(\"./experiments/chatbot-arena-style-11labs-632/exp1_audio_audio_gpt4o.styleonly.processed.jsonl\")"
   ]
  },
  {
   "cell_type": "code",
   "execution_count": 40,
   "id": "1c524098-5045-4754-a4c1-2b8bee604878",
   "metadata": {},
   "outputs": [
    {
     "name": "stdout",
     "output_type": "stream",
     "text": [
      "accuracy: 73.10%\n",
      "total: 591\n"
     ]
    }
   ],
   "source": [
    "correct, incorrect = 0, 0\n",
    "i = 0\n",
    "for pred, gt in zip(preds, gts_style):\n",
    "    # check if the question is valid\n",
    "    conversation_id = ds[i][\"id\"]\n",
    "    i += 1\n",
    "    path = f\"../elevenLabs/refined_questions_v2/verdict/{conversation_id}.verdict.txt\"\n",
    "    with open(path) as f:\n",
    "        verdict = f.read().strip()\n",
    "    if verdict == \"VALID\":\n",
    "        pass\n",
    "    elif verdict == \"INVALID\":\n",
    "        continue\n",
    "\n",
    "    if pred == gt:\n",
    "        correct += 1\n",
    "    else:\n",
    "        incorrect += 1\n",
    "    # print(pred, gt)\n",
    "print(\"accuracy: {:.2f}%\".format(correct / (correct + incorrect) * 100))\n",
    "print(\"total:\", correct + incorrect)"
   ]
  }
 ],
 "metadata": {
  "kernelspec": {
   "display_name": "Python 3 (ipykernel)",
   "language": "python",
   "name": "python3"
  },
  "language_info": {
   "codemirror_mode": {
    "name": "ipython",
    "version": 3
   },
   "file_extension": ".py",
   "mimetype": "text/x-python",
   "name": "python",
   "nbconvert_exporter": "python",
   "pygments_lexer": "ipython3",
   "version": "3.10.13"
  }
 },
 "nbformat": 4,
 "nbformat_minor": 5
}
