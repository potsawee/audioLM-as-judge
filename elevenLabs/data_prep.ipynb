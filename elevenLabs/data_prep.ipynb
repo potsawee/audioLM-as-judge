{
 "cells": [
  {
   "cell_type": "code",
   "execution_count": 120,
   "id": "ae5551d7-8233-498d-be39-35d6e968dcfc",
   "metadata": {},
   "outputs": [],
   "source": [
    "import random\n",
    "from datasets import Dataset, Audio"
   ]
  },
  {
   "cell_type": "code",
   "execution_count": 48,
   "id": "281b04b6-8860-4b8f-9bfc-097ecfd9062f",
   "metadata": {},
   "outputs": [],
   "source": [
    "from datasets import load_dataset\n",
    "\n",
    "# Login using e.g. `huggingface-cli login` to access this dataset\n",
    "ds = load_dataset(\"potsawee/chatbot-arena-spoken-style\")\n",
    "ds = ds['train']"
   ]
  },
  {
   "cell_type": "code",
   "execution_count": 49,
   "id": "64d5203e-126c-4505-b463-3775f2d5f1dc",
   "metadata": {},
   "outputs": [
    {
     "data": {
      "text/plain": [
       "Dataset({\n",
       "    features: ['id', 'original_id', 'question_refined_wav', 'assistant_a_wav', 'assistant_b_wav', 'winner_content', 'winner_style', 'style', 'question_original', 'question_refined', 'assistant_a', 'assistant_b', 'model_text_a', 'model_text_b'],\n",
       "    num_rows: 654\n",
       "})"
      ]
     },
     "execution_count": 49,
     "metadata": {},
     "output_type": "execute_result"
    }
   ],
   "source": [
    "ds"
   ]
  },
  {
   "cell_type": "code",
   "execution_count": 50,
   "id": "5d7339e1-0875-4d7f-a8db-e64f1180bdbe",
   "metadata": {},
   "outputs": [],
   "source": [
    "ds = ds.remove_columns(['question_refined_wav', 'assistant_a_wav', 'assistant_b_wav', 'style', 'question_refined'])"
   ]
  },
  {
   "cell_type": "code",
   "execution_count": 51,
   "id": "cdaff0da-3ae4-4871-8537-e994b06d71ab",
   "metadata": {},
   "outputs": [],
   "source": [
    "import pandas as pd\n",
    "elevenlabs_styles = pd.read_csv(\"./11lab_speakers.tsv\", sep=\"\\t\")\n",
    "elevenlabs_styles_list = []\n",
    "for i in range(len(elevenlabs_styles)):\n",
    "    x = elevenlabs_styles.iloc[i]\n",
    "    elevenlabs_styles_list.append({\n",
    "        'voice_id': x['voice_id'],\n",
    "        'name': x['name'],\n",
    "        'description': x['description'],\n",
    "    })"
   ]
  },
  {
   "cell_type": "code",
   "execution_count": 52,
   "id": "dbd54933-b9fa-4364-ba08-9ed5285874ae",
   "metadata": {},
   "outputs": [
    {
     "data": {
      "text/plain": [
       "20"
      ]
     },
     "execution_count": 52,
     "metadata": {},
     "output_type": "execute_result"
    }
   ],
   "source": [
    "len(elevenlabs_styles_list)"
   ]
  },
  {
   "cell_type": "code",
   "execution_count": 53,
   "id": "8ef89c91-e127-4bab-b823-2ca06bb87284",
   "metadata": {},
   "outputs": [],
   "source": [
    "def add_elevenlabs_style_column(example):\n",
    "    example[\"style\"] = random.choice(elevenlabs_styles_list)\n",
    "    return example"
   ]
  },
  {
   "cell_type": "code",
   "execution_count": 54,
   "id": "67f87b9a-436f-48a4-aa68-5717918ec5ba",
   "metadata": {},
   "outputs": [
    {
     "data": {
      "application/vnd.jupyter.widget-view+json": {
       "model_id": "2ba3d46ff3784a89a964ec9fa18f4468",
       "version_major": 2,
       "version_minor": 0
      },
      "text/plain": [
       "Map:   0%|          | 0/654 [00:00<?, ? examples/s]"
      ]
     },
     "metadata": {},
     "output_type": "display_data"
    }
   ],
   "source": [
    "ds = ds.map(add_elevenlabs_style_column)"
   ]
  },
  {
   "cell_type": "code",
   "execution_count": 55,
   "id": "a58af094-11cb-4e79-a263-af1f69b23d19",
   "metadata": {
    "scrolled": true
   },
   "outputs": [
    {
     "data": {
      "text/plain": [
       "{'id': 5434,\n",
       " 'original_id': '15793788be324bd588e7b9707615c279',\n",
       " 'winner_content': 'model_b',\n",
       " 'winner_style': 'model_b',\n",
       " 'question_original': 'write a blog about eLearning',\n",
       " 'assistant_a': 'The world of eLearning is rapidly growing, and it is becoming increasingly important for businesses to stay competitive. As more people turn to eLearning as a way to learn new skills, companies must find ways to make their eLearning programs engaging and effective. To do this, companies must focus on creating courses that are visually appealing and easy to navigate, while also providing engaging content that keeps learners engaged and motivated. Additionally, companies must ensure that their eLearning platform is secure, allowing learners to access their courses from any device with an internet connection. By investing in these strategies, companies can create eLearning programs that are both effective and engaging, ensuring that their employees are equipped with the skills they need to succeed.',\n",
       " 'assistant_b': 'eLearning is a form of education and training that is delivered online, often through interactive and multimedia tools. It has become a popular method for individuals and organizations to learn new skills and knowledge, and has many benefits over traditional in-person learning.\\n\\nOne of the main advantages of eLearning is convenience. With eLearning, students can access course materials and complete assignments from anywhere with an internet connection. This makes it possible for people to learn at their own pace, without having to coordinate their schedules with class times or travel to a physical location.\\n\\neLearning can also be more cost-effective than traditional in-person learning. Online courses often have lower tuition fees and do not require the purchase of textbooks or other materials. Additionally, eLearning can help to reduce the cost of travel and accommodation, as students do not need to relocate to attend classes.\\n\\nAnother benefit of eLearning is that it can be more interactive and engaging than traditional classroom learning. Many online courses use multimedia tools such as videos, simulations, and games to make learning more engaging and to help students retain information more effectively.\\n\\neLearning can also be more flexible and customizable than traditional classroom learning. Online courses can be designed to meet the specific needs of individual students or organizations, and can be adapted to fit different learning styles and preferences.\\n\\nOverall, eLearning is a convenient, cost-effective, and interactive way for individuals and organizations to learn new skills and knowledge. With the growing availability of high-speed internet and the development of innovative online learning tools, eLearning is likely to continue to grow in popularity in the future.',\n",
       " 'model_text_a': 'oasst-pythia-12b',\n",
       " 'model_text_b': 'vicuna-7b',\n",
       " 'style': {'description': 'A neutral Latin American Spanish voice with a warm, steady tone. Clear and natural, ideal for narrations.',\n",
       "  'name': 'Alejandro - Narrations',\n",
       "  'voice_id': 'JZISI4B0lik6Kitz5vi7'}}"
      ]
     },
     "execution_count": 55,
     "metadata": {},
     "output_type": "execute_result"
    }
   ],
   "source": [
    "ds[0]"
   ]
  },
  {
   "cell_type": "code",
   "execution_count": 78,
   "id": "5f58cc90-6140-48a2-9dec-9f7224463b29",
   "metadata": {},
   "outputs": [],
   "source": [
    "# ds.save_to_disk(\"data-chatbot-arena-spoken-style-11labs\")"
   ]
  },
  {
   "cell_type": "markdown",
   "id": "0b288e25-3103-4bb7-b2e7-e188c56471da",
   "metadata": {},
   "source": [
    "## Data with Voice"
   ]
  },
  {
   "cell_type": "code",
   "execution_count": 132,
   "id": "9f736c80-a629-47e1-a6f9-172cc53904d9",
   "metadata": {},
   "outputs": [],
   "source": [
    "import os\n",
    "from datasets import load_from_disk\n",
    "ds = load_from_disk(\"data-chatbot-arena-spoken-style-11labs\")"
   ]
  },
  {
   "cell_type": "code",
   "execution_count": 133,
   "id": "d89f9c15-5f93-40e0-b9f8-6eb0b86242e1",
   "metadata": {},
   "outputs": [],
   "source": [
    "def add_questions_refined(ex):\n",
    "    id = ex['id']\n",
    "    refined_question_path = f\"./refined_questions/{id}.refined_question.txt\"\n",
    "    with open(refined_question_path) as f:\n",
    "        x = f.read().strip('\"').strip()\n",
    "    ex['question_refined'] = x\n",
    "    return ex\n",
    "\n",
    "def add_question_refined_wav(ex):\n",
    "    id = ex['id']\n",
    "    path = f\"./refined_questions_kokoro_wav/{id}.wav\"\n",
    "    ex['question_refined_wav'] = path\n",
    "    return ex\n",
    "\n",
    "def add_assistant_a_wav(ex):\n",
    "    id = ex['id']\n",
    "    winner = ex['winner_style']\n",
    "    if winner == 'model_a':\n",
    "        path = f\"./generated_11labs_audio/{id}_model_a.11labs.wav\"\n",
    "    elif winner == 'model_b':    \n",
    "        path = f\"./generated_kokoro_audio/{id}_model_a.kokoro.wav\"\n",
    "    else:\n",
    "        raise Exception()\n",
    "    if os.path.exists(path):\n",
    "        ex['assistant_a_wav'] = path\n",
    "    else:\n",
    "        ex['assistant_a_wav'] = None\n",
    "    return ex\n",
    "    \n",
    "def add_assistant_b_wav(ex):\n",
    "    id = ex['id']\n",
    "    winner = ex['winner_style']\n",
    "    if winner == 'model_b':\n",
    "        path = f\"./generated_11labs_audio/{id}_model_b.11labs.wav\"\n",
    "    elif winner == 'model_a':    \n",
    "        path = f\"./generated_kokoro_audio/{id}_model_b.kokoro.wav\"\n",
    "    else:\n",
    "        raise Exception()\n",
    "    if os.path.exists(path):\n",
    "        ex['assistant_b_wav'] = path\n",
    "    else:\n",
    "        ex['assistant_b_wav'] = None\n",
    "    return ex\n",
    "    \n",
    "ds = ds.map(add_questions_refined)\n",
    "ds = ds.map(add_question_refined_wav)\n",
    "ds = ds.map(add_assistant_a_wav)\n",
    "ds = ds.map(add_assistant_b_wav)\n",
    "ds = ds.filter(lambda x: x['assistant_a_wav'] is not None)\n",
    "ds = ds.filter(lambda x: x['assistant_b_wav'] is not None)"
   ]
  },
  {
   "cell_type": "code",
   "execution_count": 134,
   "id": "e908682a-96cb-400f-a7a3-a579629cda0c",
   "metadata": {},
   "outputs": [
    {
     "data": {
      "text/plain": [
       "632"
      ]
     },
     "execution_count": 134,
     "metadata": {},
     "output_type": "execute_result"
    }
   ],
   "source": [
    "len(ds)"
   ]
  },
  {
   "cell_type": "code",
   "execution_count": 135,
   "id": "f6f9083b-e26f-438a-bdc4-5c698a6d4840",
   "metadata": {},
   "outputs": [],
   "source": [
    "ds = ds.cast_column(\"question_refined_wav\", Audio()).cast_column(\"assistant_a_wav\", Audio()).cast_column(\"assistant_b_wav\", Audio())"
   ]
  },
  {
   "cell_type": "code",
   "execution_count": 136,
   "id": "fcf35883-ca87-4e87-bb09-404b450acbdb",
   "metadata": {},
   "outputs": [],
   "source": [
    "# from huggingface_hub import login\n",
    "# login(token=\"\")"
   ]
  },
  {
   "cell_type": "code",
   "execution_count": 137,
   "id": "2c3a215e-d885-4052-806e-9d5443dd15af",
   "metadata": {},
   "outputs": [
    {
     "data": {
      "application/vnd.jupyter.widget-view+json": {
       "model_id": "efb4fa2d24af4482bb53827d7494e826",
       "version_major": 2,
       "version_minor": 0
      },
      "text/plain": [
       "Uploading the dataset shards:   0%|          | 0/4 [00:00<?, ?it/s]"
      ]
     },
     "metadata": {},
     "output_type": "display_data"
    },
    {
     "data": {
      "application/vnd.jupyter.widget-view+json": {
       "model_id": "780decdc714a4f46a7fd0607e50ff754",
       "version_major": 2,
       "version_minor": 0
      },
      "text/plain": [
       "Map:   0%|          | 0/158 [00:00<?, ? examples/s]"
      ]
     },
     "metadata": {},
     "output_type": "display_data"
    },
    {
     "data": {
      "application/vnd.jupyter.widget-view+json": {
       "model_id": "be8bcc180eac4ba891060d6191af1fe3",
       "version_major": 2,
       "version_minor": 0
      },
      "text/plain": [
       "Creating parquet from Arrow format:   0%|          | 0/2 [00:00<?, ?ba/s]"
      ]
     },
     "metadata": {},
     "output_type": "display_data"
    },
    {
     "data": {
      "application/vnd.jupyter.widget-view+json": {
       "model_id": "11d06ec2dd6c452b99b9cca51af0f89b",
       "version_major": 2,
       "version_minor": 0
      },
      "text/plain": [
       "Map:   0%|          | 0/158 [00:00<?, ? examples/s]"
      ]
     },
     "metadata": {},
     "output_type": "display_data"
    },
    {
     "data": {
      "application/vnd.jupyter.widget-view+json": {
       "model_id": "2c53a523fe6145eb96aeb3c0d184ea4c",
       "version_major": 2,
       "version_minor": 0
      },
      "text/plain": [
       "Creating parquet from Arrow format:   0%|          | 0/2 [00:00<?, ?ba/s]"
      ]
     },
     "metadata": {},
     "output_type": "display_data"
    },
    {
     "data": {
      "application/vnd.jupyter.widget-view+json": {
       "model_id": "d018485edc9f4fc6940f85b3974d834b",
       "version_major": 2,
       "version_minor": 0
      },
      "text/plain": [
       "Map:   0%|          | 0/158 [00:00<?, ? examples/s]"
      ]
     },
     "metadata": {},
     "output_type": "display_data"
    },
    {
     "data": {
      "application/vnd.jupyter.widget-view+json": {
       "model_id": "51b46fddb00747afaf8233fc9a9273ea",
       "version_major": 2,
       "version_minor": 0
      },
      "text/plain": [
       "Creating parquet from Arrow format:   0%|          | 0/2 [00:00<?, ?ba/s]"
      ]
     },
     "metadata": {},
     "output_type": "display_data"
    },
    {
     "data": {
      "application/vnd.jupyter.widget-view+json": {
       "model_id": "a9fdd8f7d32543e1beca55015f12c004",
       "version_major": 2,
       "version_minor": 0
      },
      "text/plain": [
       "Map:   0%|          | 0/158 [00:00<?, ? examples/s]"
      ]
     },
     "metadata": {},
     "output_type": "display_data"
    },
    {
     "data": {
      "application/vnd.jupyter.widget-view+json": {
       "model_id": "7d1f301f85584530a73a72b9afcec449",
       "version_major": 2,
       "version_minor": 0
      },
      "text/plain": [
       "Creating parquet from Arrow format:   0%|          | 0/2 [00:00<?, ?ba/s]"
      ]
     },
     "metadata": {},
     "output_type": "display_data"
    },
    {
     "data": {
      "application/vnd.jupyter.widget-view+json": {
       "model_id": "bcd0a2e87e684729994e5b175fc2fc88",
       "version_major": 2,
       "version_minor": 0
      },
      "text/plain": [
       "README.md:   0%|          | 0.00/954 [00:00<?, ?B/s]"
      ]
     },
     "metadata": {},
     "output_type": "display_data"
    },
    {
     "data": {
      "text/plain": [
       "CommitInfo(commit_url='https://huggingface.co/datasets/potsawee/chatbot-arena-spoken-style-11labs/commit/eb65aa348e277a84a958febbd01c1296a6d063dd', commit_message='Upload dataset', commit_description='', oid='eb65aa348e277a84a958febbd01c1296a6d063dd', pr_url=None, repo_url=RepoUrl('https://huggingface.co/datasets/potsawee/chatbot-arena-spoken-style-11labs', endpoint='https://huggingface.co', repo_type='dataset', repo_id='potsawee/chatbot-arena-spoken-style-11labs'), pr_revision=None, pr_num=None)"
      ]
     },
     "execution_count": 137,
     "metadata": {},
     "output_type": "execute_result"
    }
   ],
   "source": [
    "ds.push_to_hub(\"potsawee/chatbot-arena-spoken-style-11labs\")"
   ]
  },
  {
   "cell_type": "markdown",
   "id": "1eea3221-e1a6-4e48-890c-b4f076d2015f",
   "metadata": {},
   "source": [
    "### Same Content"
   ]
  },
  {
   "cell_type": "code",
   "execution_count": 138,
   "id": "2231835a-be54-4a99-b439-63caf2774bb8",
   "metadata": {},
   "outputs": [],
   "source": [
    "import os\n",
    "from datasets import load_from_disk\n",
    "ds = load_from_disk(\"data-chatbot-arena-spoken-style-11labs\")"
   ]
  },
  {
   "cell_type": "code",
   "execution_count": 139,
   "id": "bf5a931d-7811-479a-8ca1-19eb3a6f1fa9",
   "metadata": {},
   "outputs": [],
   "source": [
    "def add_questions_refined(ex):\n",
    "    id = ex['id']\n",
    "    refined_question_path = f\"./refined_questions/{id}.refined_question.txt\"\n",
    "    with open(refined_question_path) as f:\n",
    "        x = f.read().strip('\"').strip()\n",
    "    ex['question_refined'] = x\n",
    "    return ex\n",
    "\n",
    "def add_question_refined_wav(ex):\n",
    "    id = ex['id']\n",
    "    path = f\"./refined_questions_kokoro_wav/{id}.wav\"\n",
    "    ex['question_refined_wav'] = path\n",
    "    return ex\n",
    "\n",
    "def add_assistant_a_wav(ex):\n",
    "    id = ex['id']\n",
    "    winner = ex['winner_style']\n",
    "    if winner == 'model_a':\n",
    "        path = f\"./generated_11labs_audio/{id}_model_a.11labs.wav\"\n",
    "    elif winner == 'model_b':    \n",
    "        path = f\"./generated_kokoro_audio/{id}_model_b.kokoro.wav\"\n",
    "    else:\n",
    "        raise Exception()\n",
    "    if os.path.exists(path):\n",
    "        ex['assistant_a_wav'] = path\n",
    "    else:\n",
    "        ex['assistant_a_wav'] = None\n",
    "    return ex\n",
    "    \n",
    "def add_assistant_b_wav(ex):\n",
    "    id = ex['id']\n",
    "    winner = ex['winner_style']\n",
    "    if winner == 'model_b':\n",
    "        path = f\"./generated_11labs_audio/{id}_model_b.11labs.wav\"\n",
    "    elif winner == 'model_a':    \n",
    "        path = f\"./generated_kokoro_audio/{id}_model_b.kokoro.wav\"\n",
    "    else:\n",
    "        raise Exception()\n",
    "    if os.path.exists(path):\n",
    "        ex['assistant_b_wav'] = path\n",
    "    else:\n",
    "        ex['assistant_b_wav'] = None\n",
    "    return ex\n",
    "    \n",
    "ds = ds.map(add_questions_refined)\n",
    "ds = ds.map(add_question_refined_wav)\n",
    "ds = ds.map(add_assistant_a_wav)\n",
    "ds = ds.map(add_assistant_b_wav)\n",
    "ds = ds.filter(lambda x: x['assistant_a_wav'] is not None)\n",
    "ds = ds.filter(lambda x: x['assistant_b_wav'] is not None)"
   ]
  },
  {
   "cell_type": "code",
   "execution_count": 140,
   "id": "11a80966-35aa-4746-8285-188e5e4ad525",
   "metadata": {},
   "outputs": [],
   "source": [
    "ds = ds.cast_column(\"question_refined_wav\", Audio()).cast_column(\"assistant_a_wav\", Audio()).cast_column(\"assistant_b_wav\", Audio())"
   ]
  },
  {
   "cell_type": "code",
   "execution_count": 141,
   "id": "b32fda28-05ef-4abd-8983-a471b25964da",
   "metadata": {},
   "outputs": [
    {
     "data": {
      "application/vnd.jupyter.widget-view+json": {
       "model_id": "1f599d97e43c4277b41ecc05dbeb5290",
       "version_major": 2,
       "version_minor": 0
      },
      "text/plain": [
       "Uploading the dataset shards:   0%|          | 0/4 [00:00<?, ?it/s]"
      ]
     },
     "metadata": {},
     "output_type": "display_data"
    },
    {
     "data": {
      "application/vnd.jupyter.widget-view+json": {
       "model_id": "33491aaef3af47db9aaa838032f0c284",
       "version_major": 2,
       "version_minor": 0
      },
      "text/plain": [
       "Map:   0%|          | 0/158 [00:00<?, ? examples/s]"
      ]
     },
     "metadata": {},
     "output_type": "display_data"
    },
    {
     "data": {
      "application/vnd.jupyter.widget-view+json": {
       "model_id": "36a46432ba814b43a671173cc0bb5630",
       "version_major": 2,
       "version_minor": 0
      },
      "text/plain": [
       "Creating parquet from Arrow format:   0%|          | 0/2 [00:00<?, ?ba/s]"
      ]
     },
     "metadata": {},
     "output_type": "display_data"
    },
    {
     "data": {
      "application/vnd.jupyter.widget-view+json": {
       "model_id": "00b7ba0063b54d5fb7d0c2c0792d2f84",
       "version_major": 2,
       "version_minor": 0
      },
      "text/plain": [
       "Map:   0%|          | 0/158 [00:00<?, ? examples/s]"
      ]
     },
     "metadata": {},
     "output_type": "display_data"
    },
    {
     "data": {
      "application/vnd.jupyter.widget-view+json": {
       "model_id": "cc2ca60529e448e49a3fb84eef77fc22",
       "version_major": 2,
       "version_minor": 0
      },
      "text/plain": [
       "Creating parquet from Arrow format:   0%|          | 0/2 [00:00<?, ?ba/s]"
      ]
     },
     "metadata": {},
     "output_type": "display_data"
    },
    {
     "data": {
      "application/vnd.jupyter.widget-view+json": {
       "model_id": "86687aa2de1545379bb13755c446ed5e",
       "version_major": 2,
       "version_minor": 0
      },
      "text/plain": [
       "Map:   0%|          | 0/158 [00:00<?, ? examples/s]"
      ]
     },
     "metadata": {},
     "output_type": "display_data"
    },
    {
     "data": {
      "application/vnd.jupyter.widget-view+json": {
       "model_id": "54239da6026249b4b64295a2e761ffd5",
       "version_major": 2,
       "version_minor": 0
      },
      "text/plain": [
       "Creating parquet from Arrow format:   0%|          | 0/2 [00:00<?, ?ba/s]"
      ]
     },
     "metadata": {},
     "output_type": "display_data"
    },
    {
     "data": {
      "application/vnd.jupyter.widget-view+json": {
       "model_id": "4db9e8f213a142fda8969db45bc04a16",
       "version_major": 2,
       "version_minor": 0
      },
      "text/plain": [
       "Map:   0%|          | 0/158 [00:00<?, ? examples/s]"
      ]
     },
     "metadata": {},
     "output_type": "display_data"
    },
    {
     "data": {
      "application/vnd.jupyter.widget-view+json": {
       "model_id": "65881cd744dc49d08761cf2c432e707a",
       "version_major": 2,
       "version_minor": 0
      },
      "text/plain": [
       "Creating parquet from Arrow format:   0%|          | 0/2 [00:00<?, ?ba/s]"
      ]
     },
     "metadata": {},
     "output_type": "display_data"
    },
    {
     "data": {
      "application/vnd.jupyter.widget-view+json": {
       "model_id": "ecbc8017dfb44b7fa2a2a9459fa36a75",
       "version_major": 2,
       "version_minor": 0
      },
      "text/plain": [
       "README.md:   0%|          | 0.00/956 [00:00<?, ?B/s]"
      ]
     },
     "metadata": {},
     "output_type": "display_data"
    },
    {
     "data": {
      "text/plain": [
       "CommitInfo(commit_url='https://huggingface.co/datasets/potsawee/chatbot-arena-spoken-style-11labs-samecontent/commit/3b00160368249c2fd094579d134bcdd8d573f28f', commit_message='Upload dataset', commit_description='', oid='3b00160368249c2fd094579d134bcdd8d573f28f', pr_url=None, repo_url=RepoUrl('https://huggingface.co/datasets/potsawee/chatbot-arena-spoken-style-11labs-samecontent', endpoint='https://huggingface.co', repo_type='dataset', repo_id='potsawee/chatbot-arena-spoken-style-11labs-samecontent'), pr_revision=None, pr_num=None)"
      ]
     },
     "execution_count": 141,
     "metadata": {},
     "output_type": "execute_result"
    }
   ],
   "source": [
    "ds.push_to_hub(\"potsawee/chatbot-arena-spoken-style-11labs-samecontent\")"
   ]
  },
  {
   "cell_type": "code",
   "execution_count": null,
   "id": "ca951672-640c-475a-a712-77a881a21be0",
   "metadata": {},
   "outputs": [],
   "source": []
  }
 ],
 "metadata": {
  "kernelspec": {
   "display_name": "Python 3 (ipykernel)",
   "language": "python",
   "name": "python3"
  },
  "language_info": {
   "codemirror_mode": {
    "name": "ipython",
    "version": 3
   },
   "file_extension": ".py",
   "mimetype": "text/x-python",
   "name": "python",
   "nbconvert_exporter": "python",
   "pygments_lexer": "ipython3",
   "version": "3.10.13"
  }
 },
 "nbformat": 4,
 "nbformat_minor": 5
}
