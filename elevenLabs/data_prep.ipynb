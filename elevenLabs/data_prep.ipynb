{
 "cells": [
  {
   "cell_type": "code",
   "execution_count": 34,
   "id": "ae5551d7-8233-498d-be39-35d6e968dcfc",
   "metadata": {},
   "outputs": [],
   "source": [
    "import random"
   ]
  },
  {
   "cell_type": "code",
   "execution_count": 48,
   "id": "281b04b6-8860-4b8f-9bfc-097ecfd9062f",
   "metadata": {},
   "outputs": [],
   "source": [
    "from datasets import load_dataset\n",
    "\n",
    "# Login using e.g. `huggingface-cli login` to access this dataset\n",
    "ds = load_dataset(\"potsawee/chatbot-arena-spoken-style\")\n",
    "ds = ds['train']"
   ]
  },
  {
   "cell_type": "code",
   "execution_count": 49,
   "id": "64d5203e-126c-4505-b463-3775f2d5f1dc",
   "metadata": {},
   "outputs": [
    {
     "data": {
      "text/plain": [
       "Dataset({\n",
       "    features: ['id', 'original_id', 'question_refined_wav', 'assistant_a_wav', 'assistant_b_wav', 'winner_content', 'winner_style', 'style', 'question_original', 'question_refined', 'assistant_a', 'assistant_b', 'model_text_a', 'model_text_b'],\n",
       "    num_rows: 654\n",
       "})"
      ]
     },
     "execution_count": 49,
     "metadata": {},
     "output_type": "execute_result"
    }
   ],
   "source": [
    "ds"
   ]
  },
  {
   "cell_type": "code",
   "execution_count": 50,
   "id": "5d7339e1-0875-4d7f-a8db-e64f1180bdbe",
   "metadata": {},
   "outputs": [],
   "source": [
    "ds = ds.remove_columns(['question_refined_wav', 'assistant_a_wav', 'assistant_b_wav', 'style', 'question_refined'])"
   ]
  },
  {
   "cell_type": "code",
   "execution_count": 51,
   "id": "cdaff0da-3ae4-4871-8537-e994b06d71ab",
   "metadata": {},
   "outputs": [],
   "source": [
    "import pandas as pd\n",
    "elevenlabs_styles = pd.read_csv(\"./11lab_speakers.tsv\", sep=\"\\t\")\n",
    "elevenlabs_styles_list = []\n",
    "for i in range(len(elevenlabs_styles)):\n",
    "    x = elevenlabs_styles.iloc[i]\n",
    "    elevenlabs_styles_list.append({\n",
    "        'voice_id': x['voice_id'],\n",
    "        'name': x['name'],\n",
    "        'description': x['description'],\n",
    "    })"
   ]
  },
  {
   "cell_type": "code",
   "execution_count": 52,
   "id": "dbd54933-b9fa-4364-ba08-9ed5285874ae",
   "metadata": {},
   "outputs": [
    {
     "data": {
      "text/plain": [
       "20"
      ]
     },
     "execution_count": 52,
     "metadata": {},
     "output_type": "execute_result"
    }
   ],
   "source": [
    "len(elevenlabs_styles_list)"
   ]
  },
  {
   "cell_type": "code",
   "execution_count": 53,
   "id": "8ef89c91-e127-4bab-b823-2ca06bb87284",
   "metadata": {},
   "outputs": [],
   "source": [
    "def add_elevenlabs_style_column(example):\n",
    "    example[\"style\"] = random.choice(elevenlabs_styles_list)\n",
    "    return example"
   ]
  },
  {
   "cell_type": "code",
   "execution_count": 54,
   "id": "67f87b9a-436f-48a4-aa68-5717918ec5ba",
   "metadata": {},
   "outputs": [
    {
     "data": {
      "application/vnd.jupyter.widget-view+json": {
       "model_id": "2ba3d46ff3784a89a964ec9fa18f4468",
       "version_major": 2,
       "version_minor": 0
      },
      "text/plain": [
       "Map:   0%|          | 0/654 [00:00<?, ? examples/s]"
      ]
     },
     "metadata": {},
     "output_type": "display_data"
    }
   ],
   "source": [
    "ds = ds.map(add_elevenlabs_style_column)"
   ]
  },
  {
   "cell_type": "code",
   "execution_count": 55,
   "id": "a58af094-11cb-4e79-a263-af1f69b23d19",
   "metadata": {
    "scrolled": true
   },
   "outputs": [
    {
     "data": {
      "text/plain": [
       "{'id': 5434,\n",
       " 'original_id': '15793788be324bd588e7b9707615c279',\n",
       " 'winner_content': 'model_b',\n",
       " 'winner_style': 'model_b',\n",
       " 'question_original': 'write a blog about eLearning',\n",
       " 'assistant_a': 'The world of eLearning is rapidly growing, and it is becoming increasingly important for businesses to stay competitive. As more people turn to eLearning as a way to learn new skills, companies must find ways to make their eLearning programs engaging and effective. To do this, companies must focus on creating courses that are visually appealing and easy to navigate, while also providing engaging content that keeps learners engaged and motivated. Additionally, companies must ensure that their eLearning platform is secure, allowing learners to access their courses from any device with an internet connection. By investing in these strategies, companies can create eLearning programs that are both effective and engaging, ensuring that their employees are equipped with the skills they need to succeed.',\n",
       " 'assistant_b': 'eLearning is a form of education and training that is delivered online, often through interactive and multimedia tools. It has become a popular method for individuals and organizations to learn new skills and knowledge, and has many benefits over traditional in-person learning.\\n\\nOne of the main advantages of eLearning is convenience. With eLearning, students can access course materials and complete assignments from anywhere with an internet connection. This makes it possible for people to learn at their own pace, without having to coordinate their schedules with class times or travel to a physical location.\\n\\neLearning can also be more cost-effective than traditional in-person learning. Online courses often have lower tuition fees and do not require the purchase of textbooks or other materials. Additionally, eLearning can help to reduce the cost of travel and accommodation, as students do not need to relocate to attend classes.\\n\\nAnother benefit of eLearning is that it can be more interactive and engaging than traditional classroom learning. Many online courses use multimedia tools such as videos, simulations, and games to make learning more engaging and to help students retain information more effectively.\\n\\neLearning can also be more flexible and customizable than traditional classroom learning. Online courses can be designed to meet the specific needs of individual students or organizations, and can be adapted to fit different learning styles and preferences.\\n\\nOverall, eLearning is a convenient, cost-effective, and interactive way for individuals and organizations to learn new skills and knowledge. With the growing availability of high-speed internet and the development of innovative online learning tools, eLearning is likely to continue to grow in popularity in the future.',\n",
       " 'model_text_a': 'oasst-pythia-12b',\n",
       " 'model_text_b': 'vicuna-7b',\n",
       " 'style': {'description': 'A neutral Latin American Spanish voice with a warm, steady tone. Clear and natural, ideal for narrations.',\n",
       "  'name': 'Alejandro - Narrations',\n",
       "  'voice_id': 'JZISI4B0lik6Kitz5vi7'}}"
      ]
     },
     "execution_count": 55,
     "metadata": {},
     "output_type": "execute_result"
    }
   ],
   "source": [
    "ds[0]"
   ]
  },
  {
   "cell_type": "code",
   "execution_count": 78,
   "id": "5f58cc90-6140-48a2-9dec-9f7224463b29",
   "metadata": {},
   "outputs": [],
   "source": [
    "# ds.save_to_disk(\"data-chatbot-arena-spoken-style-11labs\")"
   ]
  },
  {
   "cell_type": "code",
   "execution_count": null,
   "id": "5effe6ec-bf8c-4949-b8a4-877a5cb2dbd3",
   "metadata": {},
   "outputs": [],
   "source": []
  }
 ],
 "metadata": {
  "kernelspec": {
   "display_name": "Python 3 (ipykernel)",
   "language": "python",
   "name": "python3"
  },
  "language_info": {
   "codemirror_mode": {
    "name": "ipython",
    "version": 3
   },
   "file_extension": ".py",
   "mimetype": "text/x-python",
   "name": "python",
   "nbconvert_exporter": "python",
   "pygments_lexer": "ipython3",
   "version": "3.10.13"
  }
 },
 "nbformat": 4,
 "nbformat_minor": 5
}
