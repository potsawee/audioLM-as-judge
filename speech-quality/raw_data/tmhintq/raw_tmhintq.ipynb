{
 "cells": [
  {
   "cell_type": "code",
   "execution_count": 1,
   "id": "986bc029",
   "metadata": {},
   "outputs": [],
   "source": [
    "import pandas as pd\n",
    "import numpy as np\n",
    "from datasets import load_dataset"
   ]
  },
  {
   "cell_type": "code",
   "execution_count": 8,
   "id": "450babda",
   "metadata": {},
   "outputs": [
    {
     "data": {
      "application/vnd.jupyter.widget-view+json": {
       "model_id": "101ecb1e8b86427287c376dfd44d7ae7",
       "version_major": 2,
       "version_minor": 0
      },
      "text/plain": [
       "README.md:   0%|          | 0.00/1.23k [00:00<?, ?B/s]"
      ]
     },
     "metadata": {},
     "output_type": "display_data"
    },
    {
     "data": {
      "text/plain": [
       "{'audio_a': {'path': 'DDAE_snr-2_street_TMHINT_g4_29_10.wav',\n",
       "  'array': array([0.06071856, 0.02538613, 0.03678725, ..., 0.        , 0.        ,\n",
       "         0.        ]),\n",
       "  'sampling_rate': 16000},\n",
       " 'audio_b': {'path': 'Noisy_snr2_pink_TMHINT_g4_29_10.wav',\n",
       "  'array': array([-0.21000479, -0.20768523, -0.13189806, ..., -0.075085  ,\n",
       "         -0.12379077, -0.07701953]),\n",
       "  'sampling_rate': 16000},\n",
       " 'label': 'b',\n",
       " 'text_a': '他的数学成绩全班第一',\n",
       " 'text_b': '他的数学成绩全班第一',\n",
       " 'human_quality_a': 3.333333333333333,\n",
       " 'human_quality_b': 4.25,\n",
       " 'system_a': 'DDAE_snr-2_street',\n",
       " 'system_b': 'Noisy_snr2_pink'}"
      ]
     },
     "execution_count": 8,
     "metadata": {},
     "output_type": "execute_result"
    }
   ],
   "source": [
    "ds = load_dataset(\"potsawee/speech-quality-tmhintq-pairwise\")[\"train\"]\n",
    "ds[0]"
   ]
  },
  {
   "cell_type": "code",
   "execution_count": 15,
   "id": "0bd907a4",
   "metadata": {},
   "outputs": [
    {
     "name": "stdout",
     "output_type": "stream",
     "text": [
      "filename: Noisy_snr2_pink_TMHINT_g4_29_10\n"
     ]
    }
   ],
   "source": [
    "# for example, if we look at the second utterance of the first pair\n",
    "filename = ds[0]['audio_b']['path'].replace(\".wav\", \"\")\n",
    "print(\"filename:\", filename)\n"
   ]
  },
  {
   "cell_type": "code",
   "execution_count": 18,
   "id": "3e48a254",
   "metadata": {},
   "outputs": [
    {
     "data": {
      "text/html": [
       "<div>\n",
       "<style scoped>\n",
       "    .dataframe tbody tr th:only-of-type {\n",
       "        vertical-align: middle;\n",
       "    }\n",
       "\n",
       "    .dataframe tbody tr th {\n",
       "        vertical-align: top;\n",
       "    }\n",
       "\n",
       "    .dataframe thead th {\n",
       "        text-align: right;\n",
       "    }\n",
       "</style>\n",
       "<table border=\"1\" class=\"dataframe\">\n",
       "  <thead>\n",
       "    <tr style=\"text-align: right;\">\n",
       "      <th></th>\n",
       "      <th>filename</th>\n",
       "      <th>Q</th>\n",
       "      <th>I</th>\n",
       "    </tr>\n",
       "  </thead>\n",
       "  <tbody>\n",
       "    <tr>\n",
       "      <th>3383</th>\n",
       "      <td>Noisy_snr2_pink_TMHINT_g4_29_10</td>\n",
       "      <td>4.0</td>\n",
       "      <td>10</td>\n",
       "    </tr>\n",
       "    <tr>\n",
       "      <th>4282</th>\n",
       "      <td>Noisy_snr2_pink_TMHINT_g4_29_10</td>\n",
       "      <td>4.0</td>\n",
       "      <td>10</td>\n",
       "    </tr>\n",
       "    <tr>\n",
       "      <th>5479</th>\n",
       "      <td>Noisy_snr2_pink_TMHINT_g4_29_10</td>\n",
       "      <td>5.0</td>\n",
       "      <td>10</td>\n",
       "    </tr>\n",
       "    <tr>\n",
       "      <th>5803</th>\n",
       "      <td>Noisy_snr2_pink_TMHINT_g4_29_10</td>\n",
       "      <td>4.0</td>\n",
       "      <td>10</td>\n",
       "    </tr>\n",
       "  </tbody>\n",
       "</table>\n",
       "</div>"
      ],
      "text/plain": [
       "                             filename    Q   I\n",
       "3383  Noisy_snr2_pink_TMHINT_g4_29_10  4.0  10\n",
       "4282  Noisy_snr2_pink_TMHINT_g4_29_10  4.0  10\n",
       "5479  Noisy_snr2_pink_TMHINT_g4_29_10  5.0  10\n",
       "5803  Noisy_snr2_pink_TMHINT_g4_29_10  4.0  10"
      ]
     },
     "execution_count": 18,
     "metadata": {},
     "output_type": "execute_result"
    }
   ],
   "source": [
    "df_raw = pd.read_csv(\"TMHINTQI_cleaned_raw_test.csv\", sep=\",\")\n",
    "df_raw[df_raw['filename'] == filename]"
   ]
  },
  {
   "cell_type": "code",
   "execution_count": 17,
   "id": "6c9734ee",
   "metadata": {},
   "outputs": [
    {
     "data": {
      "text/plain": [
       "4.25"
      ]
     },
     "execution_count": 17,
     "metadata": {},
     "output_type": "execute_result"
    }
   ],
   "source": [
    "df_raw[df_raw['filename'] == filename]['Q'].mean()"
   ]
  }
 ],
 "metadata": {
  "kernelspec": {
   "display_name": "exp-pp25",
   "language": "python",
   "name": "python3"
  },
  "language_info": {
   "codemirror_mode": {
    "name": "ipython",
    "version": 3
   },
   "file_extension": ".py",
   "mimetype": "text/x-python",
   "name": "python",
   "nbconvert_exporter": "python",
   "pygments_lexer": "ipython3",
   "version": "3.10.13"
  }
 },
 "nbformat": 4,
 "nbformat_minor": 5
}
