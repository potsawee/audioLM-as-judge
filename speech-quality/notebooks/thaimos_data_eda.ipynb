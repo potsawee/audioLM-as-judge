{
 "cells": [
  {
   "cell_type": "code",
   "execution_count": 108,
   "id": "c701b5d6-36c0-4aab-b81e-9187b3da473f",
   "metadata": {},
   "outputs": [],
   "source": [
    "import json\n",
    "import random\n",
    "import pandas as pd\n",
    "import matplotlib.pyplot as plt"
   ]
  },
  {
   "cell_type": "code",
   "execution_count": 109,
   "id": "f9724607-ed5b-43b2-9ac0-06c81c8880c1",
   "metadata": {},
   "outputs": [],
   "source": [
    "data.iloc[50*6]\n",
    "# 50 utterances * 12 systems = 600 examples\n",
    "path = \"/data/share/data/Speech/dataWow/datawow_mos.csv\"\n",
    "data = pd.read_csv(path)"
   ]
  },
  {
   "cell_type": "code",
   "execution_count": 110,
   "id": "3f42c14e-def2-4b0c-94dd-200eb8a494c1",
   "metadata": {},
   "outputs": [
    {
     "data": {
      "text/html": [
       "<div>\n",
       "<style scoped>\n",
       "    .dataframe tbody tr th:only-of-type {\n",
       "        vertical-align: middle;\n",
       "    }\n",
       "\n",
       "    .dataframe tbody tr th {\n",
       "        vertical-align: top;\n",
       "    }\n",
       "\n",
       "    .dataframe thead th {\n",
       "        text-align: right;\n",
       "    }\n",
       "</style>\n",
       "<table border=\"1\" class=\"dataframe\">\n",
       "  <thead>\n",
       "    <tr style=\"text-align: right;\">\n",
       "      <th></th>\n",
       "      <th>Project</th>\n",
       "      <th>ID</th>\n",
       "      <th>Filename</th>\n",
       "      <th>Script</th>\n",
       "      <th>Sound Quality</th>\n",
       "      <th>Silence</th>\n",
       "      <th>Pronunciation</th>\n",
       "    </tr>\n",
       "  </thead>\n",
       "  <tbody>\n",
       "    <tr>\n",
       "      <th>0</th>\n",
       "      <td>azure_Achara</td>\n",
       "      <td>1001</td>\n",
       "      <td>/data/share/data/Speech/dataWow/audios/azure_A...</td>\n",
       "      <td>คุณคิดเห็นอย่างไร</td>\n",
       "      <td>4.6875</td>\n",
       "      <td>4.3125</td>\n",
       "      <td>4.6875</td>\n",
       "    </tr>\n",
       "    <tr>\n",
       "      <th>1</th>\n",
       "      <td>azure_Achara</td>\n",
       "      <td>1002</td>\n",
       "      <td>/data/share/data/Speech/dataWow/audios/azure_A...</td>\n",
       "      <td>ดีไซน์สวย ทันสมัย</td>\n",
       "      <td>4.2500</td>\n",
       "      <td>3.3125</td>\n",
       "      <td>4.0625</td>\n",
       "    </tr>\n",
       "    <tr>\n",
       "      <th>2</th>\n",
       "      <td>azure_Achara</td>\n",
       "      <td>1003</td>\n",
       "      <td>/data/share/data/Speech/dataWow/audios/azure_A...</td>\n",
       "      <td>มันดูเหมือนว่า การยืนยันของจดหมายนี้ทำให้เขาผิ...</td>\n",
       "      <td>4.1250</td>\n",
       "      <td>3.1250</td>\n",
       "      <td>3.8750</td>\n",
       "    </tr>\n",
       "    <tr>\n",
       "      <th>3</th>\n",
       "      <td>azure_Achara</td>\n",
       "      <td>1004</td>\n",
       "      <td>/data/share/data/Speech/dataWow/audios/azure_A...</td>\n",
       "      <td>สามีหรือภริยาไม่ให้ความช่วยเหลืออุปการะเลี้ยงด...</td>\n",
       "      <td>4.0000</td>\n",
       "      <td>3.2500</td>\n",
       "      <td>3.6875</td>\n",
       "    </tr>\n",
       "    <tr>\n",
       "      <th>4</th>\n",
       "      <td>azure_Achara</td>\n",
       "      <td>1005</td>\n",
       "      <td>/data/share/data/Speech/dataWow/audios/azure_A...</td>\n",
       "      <td>ทุกคนรอกระทืบ ถ้ารัฐอยากจัดการนี่ง่ายมาก</td>\n",
       "      <td>4.4375</td>\n",
       "      <td>3.0625</td>\n",
       "      <td>4.0000</td>\n",
       "    </tr>\n",
       "    <tr>\n",
       "      <th>...</th>\n",
       "      <td>...</td>\n",
       "      <td>...</td>\n",
       "      <td>...</td>\n",
       "      <td>...</td>\n",
       "      <td>...</td>\n",
       "      <td>...</td>\n",
       "      <td>...</td>\n",
       "    </tr>\n",
       "    <tr>\n",
       "      <th>595</th>\n",
       "      <td>seamless</td>\n",
       "      <td>1596</td>\n",
       "      <td>/data/share/data/Speech/dataWow/audios/seamles...</td>\n",
       "      <td>คนอื่นจะว่างงานสักเท่าไหร่คุณยังมีเกณฑ์ได้งานท...</td>\n",
       "      <td>3.1250</td>\n",
       "      <td>2.4375</td>\n",
       "      <td>1.8125</td>\n",
       "    </tr>\n",
       "    <tr>\n",
       "      <th>596</th>\n",
       "      <td>seamless</td>\n",
       "      <td>1597</td>\n",
       "      <td>/data/share/data/Speech/dataWow/audios/seamles...</td>\n",
       "      <td>ไม่ใช่แค่แหวนเพชรเท่านั้นที่อยู่ในรูปของกะรัต ...</td>\n",
       "      <td>3.6875</td>\n",
       "      <td>2.8750</td>\n",
       "      <td>2.4375</td>\n",
       "    </tr>\n",
       "    <tr>\n",
       "      <th>597</th>\n",
       "      <td>seamless</td>\n",
       "      <td>1598</td>\n",
       "      <td>/data/share/data/Speech/dataWow/audios/seamles...</td>\n",
       "      <td>บริษัทนี้ได้กลายมาเป็นบริษัทที่ประสบความสำเร็จ...</td>\n",
       "      <td>4.1250</td>\n",
       "      <td>3.6875</td>\n",
       "      <td>3.4375</td>\n",
       "    </tr>\n",
       "    <tr>\n",
       "      <th>598</th>\n",
       "      <td>seamless</td>\n",
       "      <td>1599</td>\n",
       "      <td>/data/share/data/Speech/dataWow/audios/seamles...</td>\n",
       "      <td>หิมะที่ตกอย่างหนักช่วงปลายเดือนกุมภาพันธ์ในฤดู...</td>\n",
       "      <td>3.4375</td>\n",
       "      <td>3.2500</td>\n",
       "      <td>3.3125</td>\n",
       "    </tr>\n",
       "    <tr>\n",
       "      <th>599</th>\n",
       "      <td>seamless</td>\n",
       "      <td>1600</td>\n",
       "      <td>/data/share/data/Speech/dataWow/audios/seamles...</td>\n",
       "      <td>อันนี้ใช้อธิบายได้เลยนะ ว่าทำไมถึงควรสนใจประเด...</td>\n",
       "      <td>3.2500</td>\n",
       "      <td>2.3125</td>\n",
       "      <td>2.5000</td>\n",
       "    </tr>\n",
       "  </tbody>\n",
       "</table>\n",
       "<p>600 rows × 7 columns</p>\n",
       "</div>"
      ],
      "text/plain": [
       "          Project    ID                                           Filename  \\\n",
       "0    azure_Achara  1001  /data/share/data/Speech/dataWow/audios/azure_A...   \n",
       "1    azure_Achara  1002  /data/share/data/Speech/dataWow/audios/azure_A...   \n",
       "2    azure_Achara  1003  /data/share/data/Speech/dataWow/audios/azure_A...   \n",
       "3    azure_Achara  1004  /data/share/data/Speech/dataWow/audios/azure_A...   \n",
       "4    azure_Achara  1005  /data/share/data/Speech/dataWow/audios/azure_A...   \n",
       "..            ...   ...                                                ...   \n",
       "595      seamless  1596  /data/share/data/Speech/dataWow/audios/seamles...   \n",
       "596      seamless  1597  /data/share/data/Speech/dataWow/audios/seamles...   \n",
       "597      seamless  1598  /data/share/data/Speech/dataWow/audios/seamles...   \n",
       "598      seamless  1599  /data/share/data/Speech/dataWow/audios/seamles...   \n",
       "599      seamless  1600  /data/share/data/Speech/dataWow/audios/seamles...   \n",
       "\n",
       "                                                Script  Sound Quality  \\\n",
       "0                                    คุณคิดเห็นอย่างไร         4.6875   \n",
       "1                                    ดีไซน์สวย ทันสมัย         4.2500   \n",
       "2    มันดูเหมือนว่า การยืนยันของจดหมายนี้ทำให้เขาผิ...         4.1250   \n",
       "3    สามีหรือภริยาไม่ให้ความช่วยเหลืออุปการะเลี้ยงด...         4.0000   \n",
       "4             ทุกคนรอกระทืบ ถ้ารัฐอยากจัดการนี่ง่ายมาก         4.4375   \n",
       "..                                                 ...            ...   \n",
       "595  คนอื่นจะว่างงานสักเท่าไหร่คุณยังมีเกณฑ์ได้งานท...         3.1250   \n",
       "596  ไม่ใช่แค่แหวนเพชรเท่านั้นที่อยู่ในรูปของกะรัต ...         3.6875   \n",
       "597  บริษัทนี้ได้กลายมาเป็นบริษัทที่ประสบความสำเร็จ...         4.1250   \n",
       "598  หิมะที่ตกอย่างหนักช่วงปลายเดือนกุมภาพันธ์ในฤดู...         3.4375   \n",
       "599  อันนี้ใช้อธิบายได้เลยนะ ว่าทำไมถึงควรสนใจประเด...         3.2500   \n",
       "\n",
       "     Silence  Pronunciation  \n",
       "0     4.3125         4.6875  \n",
       "1     3.3125         4.0625  \n",
       "2     3.1250         3.8750  \n",
       "3     3.2500         3.6875  \n",
       "4     3.0625         4.0000  \n",
       "..       ...            ...  \n",
       "595   2.4375         1.8125  \n",
       "596   2.8750         2.4375  \n",
       "597   3.6875         3.4375  \n",
       "598   3.2500         3.3125  \n",
       "599   2.3125         2.5000  \n",
       "\n",
       "[600 rows x 7 columns]"
      ]
     },
     "execution_count": 110,
     "metadata": {},
     "output_type": "execute_result"
    }
   ],
   "source": [
    "data"
   ]
  },
  {
   "cell_type": "code",
   "execution_count": 111,
   "id": "f94416d6-6772-4aa6-a59c-613d68e08e80",
   "metadata": {},
   "outputs": [],
   "source": [
    "# 50 * 12c2 = 3300\n",
    "data_by_utterance = {}\n",
    "for systemId in range(12):\n",
    "    for uttId in range(50):\n",
    "        i = systemId * 50 + uttId\n",
    "        x = data.iloc[i]\n",
    "        if uttId not in data_by_utterance:\n",
    "            data_by_utterance[uttId] = []\n",
    "        data_by_utterance[uttId].append({\n",
    "            # 'i': i,\n",
    "            'system': x['Project'],\n",
    "            'datawow_id': int(x['ID']),\n",
    "            'path': x['Filename'],\n",
    "            'text': x['Script'].strip(),\n",
    "            'sound': x['Sound Quality'],\n",
    "            'rhythm': x['Silence'],\n",
    "            'pronunciation': x['Pronunciation'],\n",
    "        })\n",
    "\n",
    "data_pairwise = []\n",
    "for uttId, data_this_utt in data_by_utterance.items():\n",
    "    for i in range(0, len(data_this_utt)-1):\n",
    "        for j in range(i+1, len(data_this_utt)):\n",
    "            item = [data_this_utt[i], data_this_utt[j]]\n",
    "            random.shuffle(item)\n",
    "            data_pairwise.append(item)"
   ]
  },
  {
   "cell_type": "code",
   "execution_count": 112,
   "id": "65ede963-3107-450e-ae5f-3270496cd0d4",
   "metadata": {},
   "outputs": [],
   "source": [
    "random.shuffle(data_pairwise)"
   ]
  },
  {
   "cell_type": "code",
   "execution_count": 113,
   "id": "677d4670-de05-45d5-9f77-9cdd738b416a",
   "metadata": {},
   "outputs": [
    {
     "data": {
      "text/plain": [
       "3300"
      ]
     },
     "execution_count": 113,
     "metadata": {},
     "output_type": "execute_result"
    }
   ],
   "source": [
    "len(data_pairwise)"
   ]
  },
  {
   "cell_type": "code",
   "execution_count": 114,
   "id": "f08e615f-873f-40ce-bafe-f848e5a172e0",
   "metadata": {},
   "outputs": [
    {
     "data": {
      "text/plain": [
       "[{'system': 'macOS',\n",
       "  'datawow_id': 1481,\n",
       "  'path': '/data/share/data/Speech/dataWow/audios/macOS/sentence_31.wav',\n",
       "  'text': 'ย้อนกลับไปดูเค้าโครงและรายการเอกสารประกอบการสอน สมัยยังมีแรง ตอนนี้ไม่มีแล้ว หมด โฮ',\n",
       "  'sound': 3.875,\n",
       "  'rhythm': 2.9375,\n",
       "  'pronunciation': 2.25},\n",
       " {'system': 'gTTS',\n",
       "  'datawow_id': 1431,\n",
       "  'path': '/data/share/data/Speech/dataWow/audios/gTTS/sentence_31.wav',\n",
       "  'text': 'ย้อนกลับไปดูเค้าโครงและรายการเอกสารประกอบการสอน สมัยยังมีแรง ตอนนี้ไม่มีแล้ว หมด โฮ',\n",
       "  'sound': 4.3125,\n",
       "  'rhythm': 2.9375,\n",
       "  'pronunciation': 4.125}]"
      ]
     },
     "execution_count": 114,
     "metadata": {},
     "output_type": "execute_result"
    }
   ],
   "source": [
    "data_pairwise[0]"
   ]
  },
  {
   "cell_type": "code",
   "execution_count": 115,
   "id": "19bc3ef0-cdd9-4929-a7df-4f9a27018099",
   "metadata": {},
   "outputs": [],
   "source": [
    "with open(\"../data/data_thaimos_pairwise_diffall.json\", \"w\") as f:\n",
    "    json.dump(data_pairwise, f, indent=4, ensure_ascii=False)"
   ]
  },
  {
   "cell_type": "markdown",
   "id": "6e2acd21-4df6-418c-98d6-c7eb384d2264",
   "metadata": {},
   "source": [
    "### Wav Error?"
   ]
  },
  {
   "cell_type": "code",
   "execution_count": 1,
   "id": "bf430a85-bbe7-44e4-9fe9-85383e48643a",
   "metadata": {},
   "outputs": [],
   "source": [
    "path = '/data/share/data/Speech/dataWow/audios/macOS/sentence_31.wav'\n",
    "# path = '/data/share/data/Speech/dataWow/audios/gTTS/sentence_31.wav'"
   ]
  },
  {
   "cell_type": "code",
   "execution_count": 2,
   "id": "25638cd0-329b-45a4-aebd-d7f408ee5c76",
   "metadata": {},
   "outputs": [],
   "source": [
    "from pydub import AudioSegment\n",
    "\n",
    "def check_wav_with_pydub(filepath):\n",
    "    try:\n",
    "        # Load the WAV file\n",
    "        audio = AudioSegment.from_wav(filepath)\n",
    "        \n",
    "        # Get properties\n",
    "        duration = len(audio) / 1000.0  # Duration in seconds\n",
    "        channels = audio.channels\n",
    "        frame_rate = audio.frame_rate\n",
    "        \n",
    "        print(f\"File: {filepath}\")\n",
    "        print(f\"Channels: {channels}\")\n",
    "        print(f\"Sample Rate: {frame_rate} Hz\")\n",
    "        print(f\"Duration: {duration:.2f} seconds\")\n",
    "        \n",
    "        return True\n",
    "    except Exception as e:\n",
    "        print(f\"Error: {e}\")\n",
    "        return False\n"
   ]
  },
  {
   "cell_type": "code",
   "execution_count": 3,
   "id": "88b75e8d-36fc-4c39-add3-106b8c2a4edd",
   "metadata": {},
   "outputs": [
    {
     "name": "stdout",
     "output_type": "stream",
     "text": [
      "File: /data/share/data/Speech/dataWow/audios/macOS/sentence_31.wav\n",
      "Channels: 1\n",
      "Sample Rate: 22050 Hz\n",
      "Duration: 10.05 seconds\n"
     ]
    },
    {
     "data": {
      "text/plain": [
       "True"
      ]
     },
     "execution_count": 3,
     "metadata": {},
     "output_type": "execute_result"
    }
   ],
   "source": [
    "check_wav_with_pydub(path)"
   ]
  }
 ],
 "metadata": {
  "kernelspec": {
   "display_name": "Python 3 (ipykernel)",
   "language": "python",
   "name": "python3"
  },
  "language_info": {
   "codemirror_mode": {
    "name": "ipython",
    "version": 3
   },
   "file_extension": ".py",
   "mimetype": "text/x-python",
   "name": "python",
   "nbconvert_exporter": "python",
   "pygments_lexer": "ipython3",
   "version": "3.10.13"
  }
 },
 "nbformat": 4,
 "nbformat_minor": 5
}
