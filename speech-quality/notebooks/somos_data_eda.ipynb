{
 "cells": [
  {
   "cell_type": "code",
   "execution_count": 135,
   "id": "03fdbc2a-8687-4912-ba35-540a58b14784",
   "metadata": {},
   "outputs": [],
   "source": [
    "import os\n",
    "import json\n",
    "import random\n",
    "import pandas as pd\n",
    "import numpy as np"
   ]
  },
  {
   "cell_type": "code",
   "execution_count": 136,
   "id": "49437654-680b-4412-acd1-626438c88d37",
   "metadata": {
    "scrolled": true
   },
   "outputs": [
    {
     "data": {
      "text/html": [
       "<div>\n",
       "<style scoped>\n",
       "    .dataframe tbody tr th:only-of-type {\n",
       "        vertical-align: middle;\n",
       "    }\n",
       "\n",
       "    .dataframe tbody tr th {\n",
       "        vertical-align: top;\n",
       "    }\n",
       "\n",
       "    .dataframe thead th {\n",
       "        text-align: right;\n",
       "    }\n",
       "</style>\n",
       "<table border=\"1\" class=\"dataframe\">\n",
       "  <thead>\n",
       "    <tr style=\"text-align: right;\">\n",
       "      <th></th>\n",
       "      <th>utteranceId</th>\n",
       "      <th>mean</th>\n",
       "    </tr>\n",
       "  </thead>\n",
       "  <tbody>\n",
       "    <tr>\n",
       "      <th>0</th>\n",
       "      <td>LJ002-0181_110.wav</td>\n",
       "      <td>4.000000</td>\n",
       "    </tr>\n",
       "    <tr>\n",
       "      <th>1</th>\n",
       "      <td>LJ002-0181_148.wav</td>\n",
       "      <td>4.000000</td>\n",
       "    </tr>\n",
       "    <tr>\n",
       "      <th>2</th>\n",
       "      <td>LJ003-0083_177.wav</td>\n",
       "      <td>3.727273</td>\n",
       "    </tr>\n",
       "    <tr>\n",
       "      <th>3</th>\n",
       "      <td>LJ003-0173_007.wav</td>\n",
       "      <td>3.400000</td>\n",
       "    </tr>\n",
       "    <tr>\n",
       "      <th>4</th>\n",
       "      <td>LJ003-0173_166.wav</td>\n",
       "      <td>3.000000</td>\n",
       "    </tr>\n",
       "    <tr>\n",
       "      <th>...</th>\n",
       "      <td>...</td>\n",
       "      <td>...</td>\n",
       "    </tr>\n",
       "    <tr>\n",
       "      <th>2995</th>\n",
       "      <td>wiki_0096_105.wav</td>\n",
       "      <td>3.714286</td>\n",
       "    </tr>\n",
       "    <tr>\n",
       "      <th>2996</th>\n",
       "      <td>wiki_0097_061.wav</td>\n",
       "      <td>3.100000</td>\n",
       "    </tr>\n",
       "    <tr>\n",
       "      <th>2997</th>\n",
       "      <td>wiki_0098_115.wav</td>\n",
       "      <td>2.000000</td>\n",
       "    </tr>\n",
       "    <tr>\n",
       "      <th>2998</th>\n",
       "      <td>wiki_0098_124.wav</td>\n",
       "      <td>2.333333</td>\n",
       "    </tr>\n",
       "    <tr>\n",
       "      <th>2999</th>\n",
       "      <td>wiki_0099_056.wav</td>\n",
       "      <td>2.083333</td>\n",
       "    </tr>\n",
       "  </tbody>\n",
       "</table>\n",
       "<p>3000 rows × 2 columns</p>\n",
       "</div>"
      ],
      "text/plain": [
       "             utteranceId      mean\n",
       "0     LJ002-0181_110.wav  4.000000\n",
       "1     LJ002-0181_148.wav  4.000000\n",
       "2     LJ003-0083_177.wav  3.727273\n",
       "3     LJ003-0173_007.wav  3.400000\n",
       "4     LJ003-0173_166.wav  3.000000\n",
       "...                  ...       ...\n",
       "2995   wiki_0096_105.wav  3.714286\n",
       "2996   wiki_0097_061.wav  3.100000\n",
       "2997   wiki_0098_115.wav  2.000000\n",
       "2998   wiki_0098_124.wav  2.333333\n",
       "2999   wiki_0099_056.wav  2.083333\n",
       "\n",
       "[3000 rows x 2 columns]"
      ]
     },
     "execution_count": 136,
     "metadata": {},
     "output_type": "execute_result"
    }
   ],
   "source": [
    "# MOS Score\n",
    "test_mos = pd.read_csv(\n",
    "    \"/data/share/data/Speech/somos/training_files/split1/clean/test_mos_list.csv\")\n",
    "test_mos"
   ]
  },
  {
   "cell_type": "code",
   "execution_count": 137,
   "id": "4a5c2b3a-2bce-4db5-8f41-6cbc63ec9012",
   "metadata": {},
   "outputs": [
    {
     "data": {
      "text/plain": [
       "\"to those in other London prisons, for Newgate was not the only place of durance for these unfortunate people. There were also the King's Bench.\""
      ]
     },
     "execution_count": 137,
     "metadata": {},
     "output_type": "execute_result"
    }
   ],
   "source": [
    "transcripts['LJ002-0181']"
   ]
  },
  {
   "cell_type": "code",
   "execution_count": 138,
   "id": "64c5c4df-ac31-4ee8-8271-9e76b76ef00a",
   "metadata": {},
   "outputs": [],
   "source": [
    "# transcript \n",
    "lines = []\n",
    "# path = \"/data/share/data/Speech/somos/transcript/additional_sentences.txt\"\n",
    "# with open(path) as f:\n",
    "#     for line in f:\n",
    "#         lines.append(line)\n",
    "path = \"/data/share/data/Speech/somos/transcript/all_sentences.txt\"\n",
    "with open(path) as f:\n",
    "    for line in f:\n",
    "        lines.append(line)\n",
    "transcripts = {}\n",
    "for line in lines:\n",
    "    items = line.split('\\t')\n",
    "    assert len(items) == 2\n",
    "    transcripts[items[0]] = items[1].strip()"
   ]
  },
  {
   "cell_type": "code",
   "execution_count": 139,
   "id": "7e9cd20d-02e0-4224-90a8-b523da223032",
   "metadata": {},
   "outputs": [
    {
     "data": {
      "text/plain": [
       "2000"
      ]
     },
     "execution_count": 139,
     "metadata": {},
     "output_type": "execute_result"
    }
   ],
   "source": [
    "len(transcripts)"
   ]
  },
  {
   "cell_type": "code",
   "execution_count": 140,
   "id": "ce79c47d-9f84-434c-ae95-c5ed0f01d035",
   "metadata": {},
   "outputs": [
    {
     "data": {
      "text/plain": [
       "'wiki_0099'"
      ]
     },
     "execution_count": 140,
     "metadata": {},
     "output_type": "execute_result"
    }
   ],
   "source": [
    "uttId0"
   ]
  },
  {
   "cell_type": "code",
   "execution_count": 141,
   "id": "af03f3db-c56a-4eef-90a6-629a48b1da9d",
   "metadata": {},
   "outputs": [
    {
     "data": {
      "text/plain": [
       "'wiki_0099_056.wav'"
      ]
     },
     "execution_count": 141,
     "metadata": {},
     "output_type": "execute_result"
    }
   ],
   "source": [
    "uttId"
   ]
  },
  {
   "cell_type": "code",
   "execution_count": 142,
   "id": "5d07379b-3e93-4c30-9da8-fc2d5889fbbb",
   "metadata": {},
   "outputs": [
    {
     "data": {
      "text/plain": [
       "'/data/share/data/Speech/somos/transcript/all_sentences.txt'"
      ]
     },
     "execution_count": 142,
     "metadata": {},
     "output_type": "execute_result"
    }
   ],
   "source": [
    "path"
   ]
  },
  {
   "cell_type": "code",
   "execution_count": 143,
   "id": "9e519d7a-fc0b-4b75-b319-1670c479a691",
   "metadata": {},
   "outputs": [],
   "source": [
    "# data \n",
    "# /data/share/data/Speech/somos/audios/{utteranceId}\n",
    "data = []\n",
    "for i in range(len(test_mos)):\n",
    "    uttId, mos = test_mos['utteranceId'][i], test_mos['mean'][i]\n",
    "    uttId0 = uttId.rsplit('_', 1)[0]\n",
    "    if 'gt_' in uttId0:\n",
    "        uttId0 = uttId0.replace('gt_', '')\n",
    "    path = f\"/data/share/data/Speech/somos/audios/{uttId}\"\n",
    "    assert os.path.exists(path)\n",
    "    assert uttId0 in transcripts\n",
    "    data.append({\n",
    "        'uttId': uttId.replace('.wav', ''),\n",
    "        'mos': mos,\n",
    "        'text': transcripts[uttId0],\n",
    "        'path': path\n",
    "    })"
   ]
  },
  {
   "cell_type": "code",
   "execution_count": 144,
   "id": "75258a01-4995-4c09-933f-645675df4f6d",
   "metadata": {},
   "outputs": [
    {
     "data": {
      "text/plain": [
       "('wiki_0099', 'wiki_0099_056.wav')"
      ]
     },
     "execution_count": 144,
     "metadata": {},
     "output_type": "execute_result"
    }
   ],
   "source": [
    "uttId0, uttId"
   ]
  },
  {
   "cell_type": "code",
   "execution_count": 145,
   "id": "ff24365e-5f99-4fa2-aab8-a045845b4004",
   "metadata": {},
   "outputs": [
    {
     "data": {
      "text/plain": [
       "(3000, 3000)"
      ]
     },
     "execution_count": 145,
     "metadata": {},
     "output_type": "execute_result"
    }
   ],
   "source": [
    "len(test_mos), len(data)"
   ]
  },
  {
   "cell_type": "code",
   "execution_count": 154,
   "id": "4e8a613d-a4c8-410d-a07a-63b4f33062c4",
   "metadata": {},
   "outputs": [
    {
     "data": {
      "text/plain": [
       "{'uttId': 'news_2010_0135_002',\n",
       " 'mos': 3.727272727272727,\n",
       " 'text': 'He would have to make some sort of try.',\n",
       " 'path': '/data/share/data/Speech/somos/audios/news_2010_0135_002.wav'}"
      ]
     },
     "execution_count": 154,
     "metadata": {},
     "output_type": "execute_result"
    }
   ],
   "source": [
    "random.choice(data)"
   ]
  },
  {
   "cell_type": "markdown",
   "id": "7d166a6c-c196-4671-901d-66bfe3150aad",
   "metadata": {},
   "source": [
    "# Pointwise"
   ]
  },
  {
   "cell_type": "code",
   "execution_count": 260,
   "id": "e0efb406-631f-4b87-993e-e595a835f0f3",
   "metadata": {},
   "outputs": [],
   "source": [
    "import matplotlib.pyplot as plt"
   ]
  },
  {
   "cell_type": "code",
   "execution_count": 265,
   "id": "9d34aef0-6081-4fc8-848e-0b99ac612731",
   "metadata": {},
   "outputs": [
    {
     "data": {
      "text/plain": [
       "3000"
      ]
     },
     "execution_count": 265,
     "metadata": {},
     "output_type": "execute_result"
    }
   ],
   "source": [
    "len(data)"
   ]
  },
  {
   "cell_type": "code",
   "execution_count": 266,
   "id": "beb3cce0-8004-4b89-ae03-07f575f1e55f",
   "metadata": {},
   "outputs": [
    {
     "data": {
      "image/png": "[encoded data removed]",
      "text/plain": [
       "<Figure size 640x480 with 1 Axes>"
      ]
     },
     "metadata": {},
     "output_type": "display_data"
    }
   ],
   "source": [
    "mos_scores = []\n",
    "for x in data:\n",
    "    mos_scores.append(x['mos'])\n",
    "_ = plt.hist(mos_scores, bins=50)"
   ]
  },
  {
   "cell_type": "code",
   "execution_count": 267,
   "id": "96e8eca4-4cf7-4b33-b1b7-5ae1cceabf84",
   "metadata": {},
   "outputs": [
    {
     "data": {
      "text/plain": [
       "3000"
      ]
     },
     "execution_count": 267,
     "metadata": {},
     "output_type": "execute_result"
    }
   ],
   "source": [
    "len(mos_scores)"
   ]
  },
  {
   "cell_type": "code",
   "execution_count": 180,
   "id": "f47b8e6d-e337-4e92-8d97-24f584f7a6ec",
   "metadata": {},
   "outputs": [],
   "source": [
    "data_pointwise450 = random.sample(data, 450)"
   ]
  },
  {
   "cell_type": "code",
   "execution_count": 181,
   "id": "3dda2af9-7a09-4229-9345-c3b736203f9d",
   "metadata": {},
   "outputs": [
    {
     "data": {
      "image/png": "[encoded data removed]",
      "text/plain": [
       "<Figure size 640x480 with 1 Axes>"
      ]
     },
     "metadata": {},
     "output_type": "display_data"
    }
   ],
   "source": [
    "mos_scores = []\n",
    "for x in data_pointwise450:\n",
    "    mos_scores.append(x['mos'])\n",
    "_ = plt.hist(mos_scores, bins=50)"
   ]
  },
  {
   "cell_type": "code",
   "execution_count": 183,
   "id": "c2e9717a-ca45-473c-bc6a-27503d02a07f",
   "metadata": {},
   "outputs": [],
   "source": [
    "with open(\"/data/workspace/ppotsawee/audioLM-as-judge/data/data_somos_pointwise450.json\", \"w\") as f:\n",
    "    json.dump(data_pointwise450, f, indent=4)"
   ]
  },
  {
   "cell_type": "code",
   "execution_count": 275,
   "id": "f87b5996-b074-44a1-9e9e-70eada959a1d",
   "metadata": {},
   "outputs": [],
   "source": [
    "with open(\"/data/workspace/ppotsawee/audioLM-as-judge/data/data_somos_pointwise_all.json\", \"w\") as f:\n",
    "    json.dump(data, f, indent=4)"
   ]
  },
  {
   "cell_type": "markdown",
   "id": "5dac828d-f86d-4321-8bda-8571f9ef8837",
   "metadata": {},
   "source": [
    "## Pointwise ICL"
   ]
  },
  {
   "cell_type": "code",
   "execution_count": 248,
   "id": "a0c627e3-db6e-4b4c-a007-b41c80706457",
   "metadata": {},
   "outputs": [],
   "source": [
    "# MOS Score\n",
    "train_mos = pd.read_csv(\n",
    "    \"/data/share/data/Speech/somos/training_files/split1/clean/train_mos_list.txt\")\n",
    "# train_mos"
   ]
  },
  {
   "cell_type": "code",
   "execution_count": 255,
   "id": "ceedc8b0-a637-4ca6-831d-3c26a5e95ec5",
   "metadata": {},
   "outputs": [],
   "source": [
    "# train_data\n",
    "# in total, all = 14100\n",
    "# keep only those +- 0.1 from a full integer --> \n",
    "train_data = []\n",
    "for i in range(len(train_mos)):\n",
    "    uttId, mos = train_mos['utteranceId'][i], train_mos['mean'][i]\n",
    "\n",
    "    diff = np.abs(mos - round(mos))\n",
    "    if diff > 0.1:\n",
    "        continue\n",
    "    \n",
    "    uttId0 = uttId.rsplit('_', 1)[0]\n",
    "    if 'gt_' in uttId0:\n",
    "        uttId0 = uttId0.replace('gt_', '')\n",
    "    path = f\"/data/share/data/Speech/somos/audios/{uttId}\"\n",
    "    assert os.path.exists(path)\n",
    "    assert uttId0 in transcripts\n",
    "    train_data.append({\n",
    "        'uttId': uttId.replace('.wav', ''),\n",
    "        'mos': mos,\n",
    "        'round_mos': round(mos),\n",
    "        'text': transcripts[uttId0],\n",
    "        'path': path\n",
    "    })"
   ]
  },
  {
   "cell_type": "code",
   "execution_count": 256,
   "id": "3b1804a2-9566-4e6f-96bb-4423b0c7ddff",
   "metadata": {},
   "outputs": [
    {
     "data": {
      "text/plain": [
       "2577"
      ]
     },
     "execution_count": 256,
     "metadata": {},
     "output_type": "execute_result"
    }
   ],
   "source": [
    "len(train_data)"
   ]
  },
  {
   "cell_type": "code",
   "execution_count": 257,
   "id": "e68802cc-f603-4099-a7ff-74050e446f93",
   "metadata": {},
   "outputs": [],
   "source": [
    "random.shuffle(train_data)\n",
    "train_data_by_mos = {1: [], 2: [], 3: [], 4: [], 5: []}\n",
    "for x in train_data:\n",
    "    train_data_by_mos[x['round_mos']] += [x]"
   ]
  },
  {
   "cell_type": "code",
   "execution_count": 258,
   "id": "b47a1830-5ed6-46f0-865f-37697bfcc7a3",
   "metadata": {},
   "outputs": [],
   "source": [
    "with open(\"/data/workspace/ppotsawee/audioLM-as-judge/data/data_somos_pointwise_train_round2577.json\", \"w\") as f:\n",
    "    json.dump(train_data_by_mos, f, indent=4)"
   ]
  },
  {
   "cell_type": "markdown",
   "id": "b60b0df0-0dd6-4685-8306-3c29d1ed4f39",
   "metadata": {},
   "source": [
    "# Pairwise Data Creation"
   ]
  },
  {
   "cell_type": "code",
   "execution_count": 146,
   "id": "8bf194dc-733b-432d-9760-1d772e690d04",
   "metadata": {},
   "outputs": [
    {
     "name": "stdout",
     "output_type": "stream",
     "text": [
      "len(pairwise_data0): 1528\n",
      "len(pairwise_data): 3567\n"
     ]
    }
   ],
   "source": [
    "pairwise_data0 = {}\n",
    "pairwise_data = []\n",
    "for x in data:\n",
    "    uttId0 = x['uttId'].rsplit('_', 1)[0]\n",
    "    if uttId0 not in pairwise_data0:\n",
    "        pairwise_data0[uttId0] = []\n",
    "    pairwise_data0[uttId0].append(x)\n",
    "print(\"len(pairwise_data0):\", len(pairwise_data0))\n",
    "for uttId0, instances in pairwise_data0.items():\n",
    "    N = len(instances)\n",
    "    for i in range(N-1):\n",
    "        for j in range(i+1, N):\n",
    "            x1 = instances[i]\n",
    "            x2 = instances[j]\n",
    "            assert x1['uttId'] != x2['uttId']\n",
    "            assert x1['text'] == x2['text']\n",
    "            if x1['mos'] != x2['mos'] and np.abs(x1['mos']-x2['mos']) > 0.0:\n",
    "                pairwise_data.append([x1, x2])\n",
    "print(\"len(pairwise_data):\", len(pairwise_data))"
   ]
  },
  {
   "cell_type": "code",
   "execution_count": 147,
   "id": "73d1964f-b6a2-41d8-b894-a9d9fc845902",
   "metadata": {},
   "outputs": [
    {
     "data": {
      "text/plain": [
       "[{'uttId': 'reportorial_2011_0040_089',\n",
       "  'mos': 2.555555555555556,\n",
       "  'text': \"Plaintiffs , he says , will argue that damaged structures weren't built to proper design standards .\",\n",
       "  'path': '/data/share/data/Speech/somos/audios/reportorial_2011_0040_089.wav'},\n",
       " {'uttId': 'reportorial_2011_0040_183',\n",
       "  'mos': 3.3846153846153846,\n",
       "  'text': \"Plaintiffs , he says , will argue that damaged structures weren't built to proper design standards .\",\n",
       "  'path': '/data/share/data/Speech/somos/audios/reportorial_2011_0040_183.wav'}]"
      ]
     },
     "execution_count": 147,
     "metadata": {},
     "output_type": "execute_result"
    }
   ],
   "source": [
    "random.choice(pairwise_data)"
   ]
  },
  {
   "cell_type": "code",
   "execution_count": 148,
   "id": "07ed4666-fa5b-434f-9b3f-933088416f3a",
   "metadata": {},
   "outputs": [],
   "source": [
    "with open(\"/data/workspace/ppotsawee/audioLM-as-judge/data/data_somos_pairwise_diffall.json\", \"w\") as f:\n",
    "    json.dump(pairwise_data, f, indent=4)"
   ]
  },
  {
   "cell_type": "code",
   "execution_count": null,
   "id": "df76d140-6618-4de1-8a7b-83aa2a70894d",
   "metadata": {},
   "outputs": [],
   "source": []
  }
 ],
 "metadata": {
  "kernelspec": {
   "display_name": "Python 3 (ipykernel)",
   "language": "python",
   "name": "python3"
  },
  "language_info": {
   "codemirror_mode": {
    "name": "ipython",
    "version": 3
   },
   "file_extension": ".py",
   "mimetype": "text/x-python",
   "name": "python",
   "nbconvert_exporter": "python",
   "pygments_lexer": "ipython3",
   "version": "3.10.13"
  }
 },
 "nbformat": 4,
 "nbformat_minor": 5
}
