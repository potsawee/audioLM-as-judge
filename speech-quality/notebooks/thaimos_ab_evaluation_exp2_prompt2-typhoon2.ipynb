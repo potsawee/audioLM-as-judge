{
 "cells": [
  {
   "cell_type": "code",
   "execution_count": 61,
   "id": "6c593004-db35-4c02-9770-e491cf89c268",
   "metadata": {},
   "outputs": [],
   "source": [
    "import json\n",
    "import re"
   ]
  },
  {
   "cell_type": "code",
   "execution_count": 62,
   "id": "329b4450-b98a-4a8b-8b83-09ef31406113",
   "metadata": {},
   "outputs": [],
   "source": [
    "def count_output(file_path):\n",
    "    data_list = []\n",
    "    with open(file_path, 'r', encoding='utf-8') as file:\n",
    "        for line in file:\n",
    "            # Parse each line as JSON\n",
    "            data = json.loads(line.strip())\n",
    "            data_list.append(data)\n",
    "    print(\"len:\", len(data_list))"
   ]
  },
  {
   "cell_type": "code",
   "execution_count": 63,
   "id": "80987990-f8a5-4bd7-9f24-0b8b824444d9",
   "metadata": {},
   "outputs": [
    {
     "name": "stdout",
     "output_type": "stream",
     "text": [
      "len: 3300\n",
      "len: 3300\n",
      "len: 3300\n",
      "len: 3300\n"
     ]
    }
   ],
   "source": [
    "count_output(\"../experiments/thaimos/ab_testing/diffall_typhoon2_prompt2_BA.txt\")\n",
    "count_output(\"../experiments/thaimos/ab_testing/diffall_typhoon2_prompt2.txt\")\n",
    "count_output(\"../experiments/thaimos/ab_testing/diffall_typhoon2_prompt2_format1_BA.txt\")\n",
    "count_output(\"../experiments/thaimos/ab_testing/diffall_typhoon2_prompt2_format1.txt\")"
   ]
  },
  {
   "cell_type": "code",
   "execution_count": 64,
   "id": "6c0022c1-78c7-4566-945c-f281d78e212f",
   "metadata": {},
   "outputs": [],
   "source": [
    "def read_output_file(path, criterion, reverse=False):\n",
    "    assert criterion in ['sound', 'rhythm', 'pronunciation']\n",
    "    outputs = []\n",
    "    with open(path, \"r\") as f:\n",
    "        for line in f:\n",
    "            x = json.loads(line)\n",
    "            outputs.append(x)\n",
    "    \n",
    "    count_all, count_correct, count_incorrect, error = 0, 0, 0, 0\n",
    "    predictions = []\n",
    "    for output in outputs:\n",
    "        if not reverse:\n",
    "            audio_a, audio_b = output['data']\n",
    "        else:\n",
    "            audio_b, audio_a = output['data']\n",
    "        \n",
    "        verdict_text = output['processed']\n",
    "        assert verdict_text in ['A', 'B', 'C']\n",
    "        \n",
    "        if verdict_text == \"A\":\n",
    "            if audio_a[criterion] > audio_b[criterion]:\n",
    "                count_correct += 1\n",
    "                evaluation = \"correct\"\n",
    "            else:\n",
    "                count_incorrect += 1\n",
    "                evaluation = \"incorrect\"\n",
    "        elif verdict_text == \"B\":\n",
    "            if audio_a[criterion] < audio_b[criterion]:\n",
    "                count_correct += 1\n",
    "                evaluation = \"correct\"\n",
    "            else:\n",
    "                count_incorrect += 1\n",
    "                evaluation = \"incorrect\"\n",
    "        else:\n",
    "            evaluation = 'error'\n",
    "            error += 1\n",
    "        count_all += 1\n",
    "        predictions.append([evaluation, verdict_text, audio_a[criterion], audio_b[criterion]])\n",
    "    print(\"total:\", count_all)\n",
    "    print(\"error: {:.2f}%\".format(error/count_all*100))\n",
    "    print(\"accuracy: {:.2f}%\".format(count_correct/count_all*100))\n",
    "    return predictions"
   ]
  },
  {
   "cell_type": "code",
   "execution_count": 67,
   "id": "9a4e1ce4-ce0d-4f73-8bf4-d9147f5a206c",
   "metadata": {},
   "outputs": [
    {
     "name": "stdout",
     "output_type": "stream",
     "text": [
      "total: 3300\n",
      "error: 13.27%\n",
      "accuracy: 42.06%\n"
     ]
    }
   ],
   "source": [
    "criterion = 'pronunciation' # 'sound', 'rhythm', 'pronunciation'\n",
    "predictions_ab = read_output_file(f\"../experiments/thaimos/ab_testing/diffall_typhoon2_prompt2.processed.txt\", criterion)"
   ]
  },
  {
   "cell_type": "code",
   "execution_count": 46,
   "id": "b6aeab5f-66f7-49a8-856b-11f7e19c501a",
   "metadata": {},
   "outputs": [
    {
     "name": "stdout",
     "output_type": "stream",
     "text": [
      "total: 3300\n",
      "error: 14.03%\n",
      "accuracy: 40.58%\n"
     ]
    }
   ],
   "source": [
    "predictions_ba = read_output_file(f\"../experiments/thaimos/ab_testing/diffall_typhoon2_prompt2_BA.processed.txt\", criterion, reverse=True)"
   ]
  },
  {
   "cell_type": "code",
   "execution_count": 45,
   "id": "1b3e66ac-4a3e-4b22-a7a9-566ad5643164",
   "metadata": {},
   "outputs": [
    {
     "name": "stdout",
     "output_type": "stream",
     "text": [
      "total: 6600\n",
      "correct: 41.32%\n",
      "incorrect: 45.03%\n"
     ]
    }
   ],
   "source": [
    "abba_correct, abba_incorrect, abba_error = 0, 0, 0\n",
    "for x in predictions_ab + predictions_ba:\n",
    "    if x[0] == 'correct':\n",
    "        abba_correct += 1\n",
    "    elif x[0] == 'incorrect':\n",
    "        abba_incorrect += 1\n",
    "    elif x[0] == 'error':\n",
    "        abba_error += 1\n",
    "    else:\n",
    "        raise Exception()\n",
    "print(\"total:\", abba_correct+abba_incorrect+abba_error)\n",
    "print(\"correct: {:.2f}%\".format(abba_correct/(abba_correct+abba_incorrect+abba_error)*100))\n",
    "print(\"incorrect: {:.2f}%\".format(abba_incorrect/(abba_correct+abba_incorrect+abba_error)*100))"
   ]
  },
  {
   "cell_type": "code",
   "execution_count": 39,
   "id": "ca52dab5-d23d-4278-9839-33ad5abfbcf6",
   "metadata": {},
   "outputs": [],
   "source": [
    "# count_A, count_B, count = 0, 0, 0\n",
    "# for x in predictions_ab:\n",
    "#     count += 1\n",
    "#     if x[1] == \"[[A]]\":\n",
    "#         count_A += 1\n",
    "#     elif x[1] == \"[[B]]\":\n",
    "#         count_B += 1\n",
    "#     else:\n",
    "#         raise Exception()\n",
    "# print(\"percentage_A: {:.2f}%\".format(count_A/count*100))\n",
    "# print(\"percentage_B: {:.2f}%\".format(count_B/count*100))"
   ]
  },
  {
   "cell_type": "code",
   "execution_count": 40,
   "id": "64959239-aa6e-497f-95f6-ef8df7152df1",
   "metadata": {},
   "outputs": [],
   "source": [
    "# count_A, count_B, count = 0, 0, 0\n",
    "# for x in predictions_ba:\n",
    "#     count += 1\n",
    "#     if x[1] == \"[[A]]\":\n",
    "#         count_A += 1\n",
    "#     elif x[1] == \"[[B]]\":\n",
    "#         count_B += 1\n",
    "#     else:\n",
    "#         raise Exception()\n",
    "# print(\"percentage_A: {:.2f}%\".format(count_A/count*100))\n",
    "# print(\"percentage_B: {:.2f}%\".format(count_B/count*100))"
   ]
  },
  {
   "cell_type": "code",
   "execution_count": 41,
   "id": "f63505bf-74a8-48e7-abfa-3bc9e1affbf6",
   "metadata": {},
   "outputs": [],
   "source": [
    "# predictions_ab = predictions_ab[:len(predictions_ba)]\n",
    "# consistent, bias_A, bias_B = 0, 0, 0\n",
    "# correct_given_consistent = 0\n",
    "# for ab, ba in zip(predictions_ab, predictions_ba):\n",
    "#     if ab[0] == ba[0]:\n",
    "#         consistent += 1\n",
    "#         if ab[0] == 'correct':\n",
    "#             correct_given_consistent += 1\n",
    "#     else:\n",
    "#         if ab[1] == \"[[A]]\" and ba[1] == \"[[A]]\":\n",
    "#             bias_A += 1\n",
    "#         elif ab[1] == \"[[B]]\" and ba[1] == \"[[B]]\":\n",
    "#             bias_B += 1\n",
    "#         else:\n",
    "#             raise Exception(\"logic error\")\n",
    "# assert consistent + bias_A + bias_B == len(predictions_ab)"
   ]
  },
  {
   "cell_type": "code",
   "execution_count": 42,
   "id": "1738ea38-0a94-404b-887e-ea45d35d62b4",
   "metadata": {},
   "outputs": [],
   "source": [
    "# print(\"consistent: {:.2f}%\".format(consistent/len(predictions_ab)*100))\n",
    "# print(\"bias_A:     {:.2f}%\".format(bias_A/len(predictions_ab)*100))\n",
    "# print(\"bias_B:     {:.2f}%\".format(bias_B/len(predictions_ab)*100))\n",
    "# print(\"P(correct|consistent): {:.2f}%\".format(correct_given_consistent/consistent*100))"
   ]
  },
  {
   "cell_type": "markdown",
   "id": "87eecd13-6710-4676-bc4f-3f187edb4872",
   "metadata": {},
   "source": [
    "# System-level Correlation"
   ]
  },
  {
   "cell_type": "code",
   "execution_count": 50,
   "id": "aa5814b3-0225-4a20-9eda-84b1588fde65",
   "metadata": {},
   "outputs": [],
   "source": [
    "import numpy as np\n",
    "import scipy.stats as stats\n",
    "import matplotlib.pyplot as plt"
   ]
  },
  {
   "cell_type": "code",
   "execution_count": 51,
   "id": "1d1e3a57-40b4-44f9-af8f-0ebca13ee8b8",
   "metadata": {},
   "outputs": [],
   "source": [
    "def analyze_correlation_and_plot(list_a, list_b):\n",
    "    # 1. Compute Pearson correlation\n",
    "    pearson_corr, _ = stats.pearsonr(list_a, list_b)\n",
    "\n",
    "    # 2. Compute Spearman correlation\n",
    "    spearman_corr, _ = stats.spearmanr(list_a, list_b)\n",
    "\n",
    "    # Print results\n",
    "    print(f\"Pearson Correlation: {pearson_corr:.3f}\")\n",
    "    print(f\"Spearman Correlation: {spearman_corr:.3f}\")\n",
    "\n",
    "    # 4. Scatter plot with best-fit line\n",
    "    plt.figure(figsize=(5, 4))\n",
    "    plt.scatter(list_a, list_b, color='blue', label='Data points')\n",
    "\n",
    "    # Best fit line\n",
    "    coefficients = np.polyfit(list_a, list_b, 1)  # Linear fit (degree=1)\n",
    "    poly = np.poly1d(coefficients)\n",
    "    best_fit_line = poly(list_a)\n",
    "\n",
    "    plt.plot(list_a, best_fit_line, color='red', label='Best Fit Line')\n",
    "    plt.xlabel('MOS (GT)')\n",
    "    plt.ylabel('AudioJudge Prediction (Win Rate)')\n",
    "    plt.title('Scatter Plot with Best Fit Line')\n",
    "    plt.legend()\n",
    "    plt.grid()\n",
    "    plt.show()"
   ]
  },
  {
   "cell_type": "code",
   "execution_count": 55,
   "id": "edab7750-9be9-4083-ac3c-0909883f2f0f",
   "metadata": {},
   "outputs": [
    {
     "name": "stdout",
     "output_type": "stream",
     "text": [
      "Pearson Correlation: -0.102\n",
      "Spearman Correlation: 0.098\n"
     ]
    },
    {
     "data": {
      "image/png": "[encoded data removed]",
      "text/plain": [
       "<Figure size 500x400 with 1 Axes>"
      ]
     },
     "metadata": {},
     "output_type": "display_data"
    }
   ],
   "source": [
    "pred_by_system, gts_by_system = {}, {}\n",
    "\n",
    "reverse = False\n",
    "path = f\"../experiments/thaimos/ab_testing/diffall_typhoon2_prompt2.processed.txt\"\n",
    "outputs = []\n",
    "with open(path, \"r\") as f:\n",
    "    for line in f:\n",
    "        x = json.loads(line)\n",
    "        outputs.append(x)\n",
    "for output in outputs:\n",
    "    audio_a, audio_b = output['data']\n",
    "    model_a = audio_a['system']\n",
    "    model_b = audio_b['system']\n",
    "    if model_a not in pred_by_system: pred_by_system[model_a] = []\n",
    "    if model_a not in gts_by_system:  gts_by_system[model_a] = []\n",
    "    if model_b not in pred_by_system: pred_by_system[model_b] = []\n",
    "    if model_b not in gts_by_system:  gts_by_system[model_b] = []\n",
    "        \n",
    "    verdict_text = output['processed']\n",
    "    assert verdict_text in ['A', 'B', 'C']\n",
    "        \n",
    "    if verdict_text == \"A\":\n",
    "        pred_by_system[model_a] += [1]\n",
    "        pred_by_system[model_b] += [0]\n",
    "    elif verdict_text == \"B\":\n",
    "        pred_by_system[model_a] += [0]\n",
    "        pred_by_system[model_b] += [1]\n",
    "    elif verdict_text == \"C\":\n",
    "        pred_by_system[model_a] += [0.5]\n",
    "        pred_by_system[model_b] += [0.5]    \n",
    "    else:\n",
    "        raise Exception()\n",
    "\n",
    "    gts_by_system[model_a] += [audio_a[criterion]]\n",
    "    gts_by_system[model_b] += [audio_b[criterion]]\n",
    "\n",
    "################################################################################\n",
    "reverse = True\n",
    "path = f\"../experiments/thaimos/ab_testing/diffall_typhoon2_prompt2_BA.processed.txt\"\n",
    "outputs = []\n",
    "with open(path, \"r\") as f:\n",
    "    for line in f:\n",
    "        x = json.loads(line)\n",
    "        outputs.append(x)\n",
    "for output in outputs:\n",
    "    audio_b, audio_a = output['data']\n",
    "    model_a = audio_a['system']\n",
    "    model_b = audio_b['system']\n",
    "    \n",
    "    verdict_text = output['processed']\n",
    "    assert verdict_text in ['A', 'B', 'C']\n",
    "        \n",
    "    if verdict_text == \"A\":\n",
    "        pred_by_system[model_a] += [1]\n",
    "        pred_by_system[model_b] += [0]\n",
    "    elif verdict_text == \"B\":\n",
    "        pred_by_system[model_a] += [0]\n",
    "        pred_by_system[model_b] += [1]\n",
    "    elif verdict_text == \"C\":\n",
    "        pred_by_system[model_a] += [0.5]\n",
    "        pred_by_system[model_b] += [0.5]    \n",
    "    else:\n",
    "        raise Exception()\n",
    "\n",
    "    gts_by_system[model_a] += [audio_a[criterion]]\n",
    "    gts_by_system[model_b] += [audio_b[criterion]]\n",
    "        \n",
    "system_level_pred, system_level_gts = [], []\n",
    "systems = []\n",
    "for system, pred in pred_by_system.items():\n",
    "    gts = gts_by_system[system]\n",
    "    assert len(pred) == len(gts)\n",
    "    system_level_pred.append(np.mean(pred)*100)\n",
    "    system_level_gts.append(np.mean(gts))\n",
    "    systems.append(system)\n",
    "analyze_correlation_and_plot(system_level_gts, system_level_pred)"
   ]
  },
  {
   "cell_type": "code",
   "execution_count": null,
   "id": "44cec483-ee98-45aa-a805-3bd1ec44d91e",
   "metadata": {},
   "outputs": [],
   "source": []
  }
 ],
 "metadata": {
  "kernelspec": {
   "display_name": "Python 3 (ipykernel)",
   "language": "python",
   "name": "python3"
  },
  "language_info": {
   "codemirror_mode": {
    "name": "ipython",
    "version": 3
   },
   "file_extension": ".py",
   "mimetype": "text/x-python",
   "name": "python",
   "nbconvert_exporter": "python",
   "pygments_lexer": "ipython3",
   "version": "3.10.13"
  }
 },
 "nbformat": 4,
 "nbformat_minor": 5
}
