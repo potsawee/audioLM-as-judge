{
 "cells": [
  {
   "cell_type": "code",
   "execution_count": 1,
   "id": "6c593004-db35-4c02-9770-e491cf89c268",
   "metadata": {},
   "outputs": [],
   "source": [
    "import json\n",
    "import re"
   ]
  },
  {
   "cell_type": "code",
   "execution_count": 2,
   "id": "6c0022c1-78c7-4566-945c-f281d78e212f",
   "metadata": {},
   "outputs": [],
   "source": [
    "def read_output_file(path, reverse=False):\n",
    "    # path = \"../experiments/somos/ab_testing/diff15_prompt1.txt\"\n",
    "    outputs = []\n",
    "    with open(path, \"r\") as f:\n",
    "        for line in f:\n",
    "            x = json.loads(line)\n",
    "            outputs.append(x)\n",
    "    \n",
    "    count_all, count_correct, count_incorrect, error = 0, 0, 0, 0\n",
    "    predictions = []\n",
    "    for output in outputs:\n",
    "        if not reverse:\n",
    "            audio_a, audio_b = output['data']\n",
    "        else:\n",
    "            audio_b, audio_a = output['data']\n",
    "        \n",
    "        verdict_text = output['processed']\n",
    "        assert verdict_text in ['A', 'B', 'C']\n",
    "        \n",
    "        if verdict_text == \"A\":\n",
    "            if audio_a['mos'] > audio_b['mos']:\n",
    "                count_correct += 1\n",
    "                evaluation = \"correct\"\n",
    "            else:\n",
    "                count_incorrect += 1\n",
    "                evaluation = \"incorrect\"\n",
    "        elif verdict_text == \"B\":\n",
    "            if audio_a['mos'] < audio_b['mos']:\n",
    "                count_correct += 1\n",
    "                evaluation = \"correct\"\n",
    "            else:\n",
    "                count_incorrect += 1\n",
    "                evaluation = \"incorrect\"\n",
    "        else:\n",
    "            evaluation = 'error'\n",
    "            error += 1\n",
    "        count_all += 1\n",
    "        predictions.append([evaluation, verdict_text, audio_a['mos'], audio_b['mos']])\n",
    "    print(\"total:\", count_all)\n",
    "    print(\"correct:   {:.2f}%\".format(count_correct/count_all*100))\n",
    "    print(\"incorrect: {:.2f}%\".format(count_incorrect/count_all*100))\n",
    "    print(\"error:     {:.2f}%\".format(error/count_all*100))\n",
    "    return predictions"
   ]
  },
  {
   "cell_type": "code",
   "execution_count": 7,
   "id": "9a4e1ce4-ce0d-4f73-8bf4-d9147f5a206c",
   "metadata": {},
   "outputs": [
    {
     "name": "stdout",
     "output_type": "stream",
     "text": [
      "total: 3567\n",
      "correct:   49.34%\n",
      "incorrect: 44.60%\n",
      "error:     6.06%\n"
     ]
    }
   ],
   "source": [
    "predictions_ab = read_output_file(\"../experiments/somos/ab_testing/diffall_typhoon2_prompt2.processed.txt\")"
   ]
  },
  {
   "cell_type": "code",
   "execution_count": 9,
   "id": "b6aeab5f-66f7-49a8-856b-11f7e19c501a",
   "metadata": {},
   "outputs": [
    {
     "name": "stdout",
     "output_type": "stream",
     "text": [
      "total: 3567\n",
      "correct:   46.29%\n",
      "incorrect: 47.24%\n",
      "error:     6.48%\n"
     ]
    }
   ],
   "source": [
    "predictions_ba = read_output_file(\"../experiments/somos/ab_testing/diffall_typhoon2_prompt2_BA.processed.txt\", reverse=True)"
   ]
  },
  {
   "cell_type": "code",
   "execution_count": 10,
   "id": "f215cb77-955f-4aab-b848-d9e79a95fd1b",
   "metadata": {},
   "outputs": [
    {
     "name": "stdout",
     "output_type": "stream",
     "text": [
      "total: 7134\n",
      "correct: 47.81%\n",
      "incorrect: 45.92%\n"
     ]
    }
   ],
   "source": [
    "abba_correct, abba_incorrect, abba_error = 0, 0, 0\n",
    "for x in predictions_ab + predictions_ba:\n",
    "    if x[0] == 'correct':\n",
    "        abba_correct += 1\n",
    "    elif x[0] == 'incorrect':\n",
    "        abba_incorrect += 1\n",
    "    elif x[0] == 'error':\n",
    "        abba_error += 1\n",
    "    else:\n",
    "        raise Exception()\n",
    "print(\"total:\", abba_correct+abba_incorrect+abba_error)\n",
    "print(\"correct: {:.2f}%\".format(abba_correct/(abba_correct+abba_incorrect+abba_error)*100))\n",
    "print(\"incorrect: {:.2f}%\".format(abba_incorrect/(abba_correct+abba_incorrect+abba_error)*100))"
   ]
  },
  {
   "cell_type": "markdown",
   "id": "46d6d670-177d-419c-a489-8bff380f2838",
   "metadata": {},
   "source": [
    "## System-level Analysis"
   ]
  },
  {
   "cell_type": "code",
   "execution_count": 11,
   "id": "8dc507b2-a11d-4dd5-a8a1-1eb4c1351025",
   "metadata": {},
   "outputs": [],
   "source": [
    "import numpy as np\n",
    "import scipy.stats as stats\n",
    "import matplotlib.pyplot as plt"
   ]
  },
  {
   "cell_type": "code",
   "execution_count": 12,
   "id": "79c78ef9-87ce-45ce-853e-a2f5bfa42678",
   "metadata": {},
   "outputs": [],
   "source": [
    "def analyze_correlation_and_plot(list_a, list_b):\n",
    "    # 1. Compute Pearson correlation\n",
    "    pearson_corr, _ = stats.pearsonr(list_a, list_b)\n",
    "\n",
    "    # 2. Compute Spearman correlation\n",
    "    spearman_corr, _ = stats.spearmanr(list_a, list_b)\n",
    "\n",
    "    # Print results\n",
    "    print(f\"Pearson Correlation: {pearson_corr:.3f}\")\n",
    "    print(f\"Spearman Correlation: {spearman_corr:.3f}\")\n",
    "\n",
    "    # 4. Scatter plot with best-fit line\n",
    "    plt.figure(figsize=(5, 4))\n",
    "    plt.scatter(list_a, list_b, color='blue', label='Data points')\n",
    "\n",
    "    # Best fit line\n",
    "    coefficients = np.polyfit(list_a, list_b, 1)  # Linear fit (degree=1)\n",
    "    poly = np.poly1d(coefficients)\n",
    "    best_fit_line = poly(list_a)\n",
    "\n",
    "    plt.plot(list_a, best_fit_line, color='red', label='Best Fit Line')\n",
    "    plt.xlabel('MOS (GT)')\n",
    "    plt.ylabel('AudioJudge Prediction (Win Rate)')\n",
    "    plt.title('Scatter Plot with Best Fit Line')\n",
    "    plt.legend()\n",
    "    plt.grid()\n",
    "    plt.show()"
   ]
  },
  {
   "cell_type": "code",
   "execution_count": 15,
   "id": "d7a5057f-cc56-4946-8377-5c68401a6748",
   "metadata": {},
   "outputs": [
    {
     "name": "stdout",
     "output_type": "stream",
     "text": [
      "Pearson Correlation: 0.014\n",
      "Spearman Correlation: 0.039\n"
     ]
    },
    {
     "data": {
      "image/png": "[encoded data removed]",
      "text/plain": [
       "<Figure size 500x400 with 1 Axes>"
      ]
     },
     "metadata": {},
     "output_type": "display_data"
    }
   ],
   "source": [
    "# def evaluate_system_level():\n",
    "pred_by_system, gts_by_system = {}, {}\n",
    "\n",
    "reverse = False\n",
    "path = \"../experiments/somos/ab_testing/diffall_typhoon2_prompt2.processed.txt\"\n",
    "outputs = []\n",
    "with open(path, \"r\") as f:\n",
    "    for line in f:\n",
    "        x = json.loads(line)\n",
    "        outputs.append(x)\n",
    "for output in outputs:\n",
    "    audio_a, audio_b = output['data']\n",
    "    model_a = audio_a['uttId'].split('_')[-1]\n",
    "    model_b = audio_b['uttId'].split('_')[-1]\n",
    "    if model_a not in pred_by_system: pred_by_system[model_a] = []\n",
    "    if model_a not in gts_by_system:  gts_by_system[model_a] = []\n",
    "    if model_b not in pred_by_system: pred_by_system[model_b] = []\n",
    "    if model_b not in gts_by_system:  gts_by_system[model_b] = []\n",
    "\n",
    "    verdict_text = output['processed']\n",
    "    assert verdict_text in ['A', 'B', 'C']\n",
    "        \n",
    "    if verdict_text == \"A\":\n",
    "        pred_by_system[model_a] += [1]\n",
    "        pred_by_system[model_b] += [0]\n",
    "    elif verdict_text == \"B\":\n",
    "        pred_by_system[model_a] += [0]\n",
    "        pred_by_system[model_b] += [1]\n",
    "    elif verdict_text == \"C\":\n",
    "        pred_by_system[model_a] += [0.5]\n",
    "        pred_by_system[model_b] += [0.5]    \n",
    "    else:\n",
    "        raise Exception()\n",
    "\n",
    "    gts_by_system[model_a] += [audio_a['mos']]\n",
    "    gts_by_system[model_b] += [audio_b['mos']]\n",
    "\n",
    "reverse = True\n",
    "path = \"../experiments/somos/ab_testing/diffall_typhoon2_prompt2_BA.processed.txt\"\n",
    "outputs = []\n",
    "with open(path, \"r\") as f:\n",
    "    for line in f:\n",
    "        x = json.loads(line)\n",
    "        outputs.append(x)\n",
    "for output in outputs:\n",
    "    audio_b, audio_a = output['data']\n",
    "    model_a = audio_a['uttId'].split('_')[-1]\n",
    "    model_b = audio_b['uttId'].split('_')[-1]\n",
    "    \n",
    "    verdict_text = output['processed']\n",
    "    assert verdict_text in ['A', 'B', 'C']\n",
    "        \n",
    "    if verdict_text == \"A\":\n",
    "        pred_by_system[model_a] += [1]\n",
    "        pred_by_system[model_b] += [0]\n",
    "    elif verdict_text == \"B\":\n",
    "        pred_by_system[model_a] += [0]\n",
    "        pred_by_system[model_b] += [1]\n",
    "    elif verdict_text == \"C\":\n",
    "        pred_by_system[model_a] += [0.5]\n",
    "        pred_by_system[model_b] += [0.5]    \n",
    "    else:\n",
    "        raise Exception()\n",
    "\n",
    "    gts_by_system[model_a] += [audio_a['mos']]\n",
    "    gts_by_system[model_b] += [audio_b['mos']]\n",
    "\n",
    "system_level_pred, system_level_gts = [], []\n",
    "systems = []\n",
    "for system, pred in pred_by_system.items():\n",
    "    gts = gts_by_system[system]\n",
    "    assert len(pred) == len(gts)\n",
    "    system_level_pred.append(np.mean(pred)*100)\n",
    "    system_level_gts.append(np.mean(gts))\n",
    "    systems.append(system)\n",
    "analyze_correlation_and_plot(system_level_gts, system_level_pred)"
   ]
  },
  {
   "cell_type": "code",
   "execution_count": null,
   "id": "6e995439-390b-4353-b964-04f6c003522c",
   "metadata": {},
   "outputs": [],
   "source": []
  }
 ],
 "metadata": {
  "kernelspec": {
   "display_name": "Python 3 (ipykernel)",
   "language": "python",
   "name": "python3"
  },
  "language_info": {
   "codemirror_mode": {
    "name": "ipython",
    "version": 3
   },
   "file_extension": ".py",
   "mimetype": "text/x-python",
   "name": "python",
   "nbconvert_exporter": "python",
   "pygments_lexer": "ipython3",
   "version": "3.10.13"
  }
 },
 "nbformat": 4,
 "nbformat_minor": 5
}
