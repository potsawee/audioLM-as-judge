{
 "cells": [
  {
   "cell_type": "code",
   "execution_count": 274,
   "id": "6c593004-db35-4c02-9770-e491cf89c268",
   "metadata": {},
   "outputs": [],
   "source": [
    "import json\n",
    "import re"
   ]
  },
  {
   "cell_type": "code",
   "execution_count": 413,
   "id": "6c0022c1-78c7-4566-945c-f281d78e212f",
   "metadata": {},
   "outputs": [],
   "source": [
    "def read_output_file(path, reverse=False):\n",
    "    # path = \"../experiments/somos/ab_testing/diff15_prompt1.txt\"\n",
    "    outputs = []\n",
    "    with open(path, \"r\") as f:\n",
    "        for line in f:\n",
    "            x = json.loads(line)\n",
    "            outputs.append(x)\n",
    "    \n",
    "    count_all, count_correct = 0, 0\n",
    "    predictions = []\n",
    "    for output in outputs:\n",
    "        if not reverse:\n",
    "            audio_a, audio_b = output['data']\n",
    "        else:\n",
    "            audio_b, audio_a = output['data']\n",
    "        \n",
    "        judge_text = output['response']\n",
    "\n",
    "        # # typo lol\n",
    "        judge_text = judge_text.replace(\"</verduct>\", \"</verdict>\")\n",
    "        judge_text = judge_text.replace(\"</Verdict>\", \"</verdict>\")\n",
    "        judge_text = judge_text.replace(\"</verddict>\", \"</verdict>\")\n",
    "        judge_text = judge_text.replace(\"<Verdict>\", \"<verdict>\")\n",
    "        judge_text = judge_text.replace(\"<verdict>B</verdict>\", \"<verdict>[[B]]</verdict>\")\n",
    "        judge_text = judge_text.replace(\"Verdict: [[A]] </verdict>\", \"<verdict>[[A]]</verdict>\")\n",
    "        judge_text = judge_text.replace(\"<verdict> [[Neither]] </verdict>\", \"<verdict>[[C]]</verdict>\")\n",
    "        judge_text = judge_text.replace(\"<verdict> [[Cannot Determine]] </verdict>\", \"<verdict>[[C]]</verdict>\")\n",
    "        judge_text = judge_text.replace(\"<verdict>[[NA]]</verdict>\", \"<verdict>[[C]]</verdict>\")\n",
    "\n",
    "        \n",
    "        # Extract content between <explanation> and </explanation>\n",
    "        explanation_match = re.search(r'<explanation>(.*?)</explanation>', judge_text, re.DOTALL)\n",
    "        explanation_text = explanation_match.group(1).strip() if explanation_match else None\n",
    "        \n",
    "        # Extract content between <verdict> and </verdict>\n",
    "        verdict_match = re.search(r'<verdict>(.*?)</verdict>', judge_text, re.DOTALL)\n",
    "        verdict_text = verdict_match.group(1).strip() if verdict_match else None\n",
    "        assert verdict_text == \"[[A]]\" or verdict_text == \"[[B]]\" or verdict_text == \"[[C]]\", f\"Unexpected verdict: {judge_text}\"\n",
    "\n",
    "        if verdict_text == \"[[A]]\":\n",
    "            if audio_a['mos'] > audio_b['mos']:\n",
    "                count_correct += 1\n",
    "                evaluation = \"correct\"\n",
    "            else:\n",
    "                evaluation = \"incorrect\"\n",
    "        elif verdict_text == \"[[B]]\":\n",
    "            if audio_a['mos'] < audio_b['mos']:\n",
    "                count_correct += 1\n",
    "                evaluation = \"correct\"\n",
    "            else:\n",
    "                evaluation = \"incorrect\"\n",
    "        else:\n",
    "            evaluation = \"incorrect\"\n",
    "        count_all += 1\n",
    "        \n",
    "        predictions.append([evaluation, verdict_text, audio_a['mos'], audio_b['mos']])\n",
    "    print(path)\n",
    "    print(\"total:\", count_all)\n",
    "    print(\"accuracy: {:.2f}%\".format(count_correct/count_all*100))\n",
    "    return predictions"
   ]
  },
  {
   "cell_type": "code",
   "execution_count": 418,
   "id": "9a4e1ce4-ce0d-4f73-8bf4-d9147f5a206c",
   "metadata": {},
   "outputs": [
    {
     "name": "stdout",
     "output_type": "stream",
     "text": [
      "../experiments/somos/ab_testing/diff15_prompt2_notext.txt\n",
      "total: 148\n",
      "accuracy: 71.62%\n"
     ]
    }
   ],
   "source": [
    "# predictions_ab = read_output_file(\"../experiments/somos/ab_testing/diff15_prompt2.txt\") # ---------------> 74.32%\n",
    "# predictions_ab = read_output_file(\"../experiments/somos/ab_testing/diff15_prompt2_sp_sanity.txt\") # ---> 73.65%\n",
    "predictions_ab = read_output_file(\"../experiments/somos/ab_testing/diff15_prompt2_notext.txt\")"
   ]
  },
  {
   "cell_type": "code",
   "execution_count": 419,
   "id": "b6aeab5f-66f7-49a8-856b-11f7e19c501a",
   "metadata": {},
   "outputs": [
    {
     "name": "stdout",
     "output_type": "stream",
     "text": [
      "../experiments/somos/ab_testing/diff15_prompt2_BA_notext.txt\n",
      "total: 148\n",
      "accuracy: 71.62%\n"
     ]
    }
   ],
   "source": [
    "# predictions_ba = read_output_file(\"../experiments/somos/ab_testing/diff15_prompt2_BA.txt\", reverse=True)\n",
    "predictions_ba = read_output_file(\"../experiments/somos/ab_testing/diff15_prompt2_BA_notext.txt\", reverse=True)"
   ]
  },
  {
   "cell_type": "code",
   "execution_count": 401,
   "id": "66c0bbb4-dae7-49df-ab1b-3f102f2bb809",
   "metadata": {},
   "outputs": [
    {
     "name": "stdout",
     "output_type": "stream",
     "text": [
      "../experiments/somos/ab_testing/diff15_gemini15flash_prompt2.jsonl\n",
      "total: 148\n",
      "accuracy: 59.46%\n",
      "../experiments/somos/ab_testing/diff15_gemini15flash_prompt2_BA.jsonl\n",
      "total: 148\n",
      "accuracy: 82.43%\n"
     ]
    }
   ],
   "source": [
    "# --------------------- Gemini --------------------- #\n",
    "\n",
    "# predictions_ab = read_output_file(\"../experiments/somos/ab_testing/diff15_gemini2_prompt1.jsonl0\")\n",
    "predictions_ab = read_output_file(\"../experiments/somos/ab_testing/diff15_gemini15flash_prompt2.jsonl\")\n",
    "# predictions_ab = read_output_file(\"../experiments/somos/ab_testing/diff15_gemini2_prompt2.jsonl\")\n",
    "\n",
    "# Reversed BA\n",
    "# predictions_ba = read_output_file(\"../experiments/somos/ab_testing/diff15_gemini2_prompt1_BA.jsonl\", reverse=True)\n",
    "predictions_ba = read_output_file(\"../experiments/somos/ab_testing/diff15_gemini15flash_prompt2_BA.jsonl\", reverse=True)\n",
    "# predictions_ba = read_output_file(\"../experiments/somos/ab_testing/diff15_gemini2_prompt2_BA.jsonl\", reverse=True)"
   ]
  },
  {
   "cell_type": "code",
   "execution_count": 420,
   "id": "ca52dab5-d23d-4278-9839-33ad5abfbcf6",
   "metadata": {},
   "outputs": [
    {
     "name": "stdout",
     "output_type": "stream",
     "text": [
      "percentage_A: 54.73%\n",
      "percentage_B: 45.27%\n"
     ]
    }
   ],
   "source": [
    "count_A, count_B, count = 0, 0, 0\n",
    "for x in predictions_ab:\n",
    "    count += 1\n",
    "    if x[1] == \"[[A]]\":\n",
    "        count_A += 1\n",
    "    elif x[1] == \"[[B]]\":\n",
    "        count_B += 1\n",
    "    elif x[1] == \"[[C]]\":\n",
    "        pass\n",
    "    else:\n",
    "        raise Exception()\n",
    "print(\"percentage_A: {:.2f}%\".format(count_A/count*100))\n",
    "print(\"percentage_B: {:.2f}%\".format(count_B/count*100))"
   ]
  },
  {
   "cell_type": "code",
   "execution_count": 421,
   "id": "64959239-aa6e-497f-95f6-ef8df7152df1",
   "metadata": {},
   "outputs": [
    {
     "name": "stdout",
     "output_type": "stream",
     "text": [
      "percentage_A: 34.46%\n",
      "percentage_B: 65.54%\n"
     ]
    }
   ],
   "source": [
    "count_A, count_B, count = 0, 0, 0\n",
    "for x in predictions_ba:\n",
    "    count += 1\n",
    "    if x[1] == \"[[A]]\":\n",
    "        count_A += 1\n",
    "    elif x[1] == \"[[B]]\":\n",
    "        count_B += 1\n",
    "    elif x[1] == \"[[C]]\":\n",
    "        pass\n",
    "    else:\n",
    "        raise Exception()\n",
    "print(\"percentage_A: {:.2f}%\".format(count_A/count*100))\n",
    "print(\"percentage_B: {:.2f}%\".format(count_B/count*100))"
   ]
  },
  {
   "cell_type": "code",
   "execution_count": 422,
   "id": "059e850c-d409-4e18-9fd3-ce80b027c4d1",
   "metadata": {},
   "outputs": [
    {
     "name": "stdout",
     "output_type": "stream",
     "text": [
      "percentage_A: 44.59%\n",
      "percentage_B: 55.41%\n"
     ]
    }
   ],
   "source": [
    "count_A, count_B, count = 0, 0, 0\n",
    "for x in predictions_ab+predictions_ba:\n",
    "    count += 1\n",
    "    if x[1] == \"[[A]]\":\n",
    "        count_A += 1\n",
    "    elif x[1] == \"[[B]]\":\n",
    "        count_B += 1\n",
    "    elif x[1] == \"[[C]]\":\n",
    "        pass\n",
    "    else:\n",
    "        raise Exception()\n",
    "print(\"percentage_A: {:.2f}%\".format(count_A/count*100))\n",
    "print(\"percentage_B: {:.2f}%\".format(count_B/count*100))"
   ]
  },
  {
   "cell_type": "code",
   "execution_count": 423,
   "id": "b065dfdd-cd83-4c5f-b5ca-438a649761a9",
   "metadata": {},
   "outputs": [
    {
     "name": "stdout",
     "output_type": "stream",
     "text": [
      "total: 296\n",
      "correct: 71.62%\n",
      "incorrect: 28.38%\n"
     ]
    }
   ],
   "source": [
    "abba_correct, abba_incorrect = 0, 0\n",
    "for x in predictions_ab + predictions_ba:\n",
    "    if x[0] == 'correct':\n",
    "        abba_correct += 1\n",
    "    elif x[0] == 'incorrect':\n",
    "        abba_incorrect += 1\n",
    "    else:\n",
    "        raise Exception()\n",
    "print(\"total:\", abba_correct+abba_incorrect)\n",
    "print(\"correct: {:.2f}%\".format(abba_correct/(abba_correct+abba_incorrect)*100))\n",
    "print(\"incorrect: {:.2f}%\".format(abba_incorrect/(abba_correct+abba_incorrect)*100))"
   ]
  },
  {
   "cell_type": "code",
   "execution_count": 424,
   "id": "f63505bf-74a8-48e7-abfa-3bc9e1affbf6",
   "metadata": {},
   "outputs": [
    {
     "name": "stdout",
     "output_type": "stream",
     "text": [
      "error: 0\n"
     ]
    }
   ],
   "source": [
    "predictions_ab = predictions_ab[:len(predictions_ba)]\n",
    "consistent, bias_A, bias_B = 0, 0, 0\n",
    "correct_given_consistent = 0\n",
    "for ab, ba in zip(predictions_ab, predictions_ba):\n",
    "    if ab[0] == ba[0]:\n",
    "        consistent += 1\n",
    "        if ab[0] == 'correct':\n",
    "            correct_given_consistent += 1\n",
    "    else:\n",
    "        if ab[1] == \"[[A]]\" and ba[1] == \"[[A]]\":\n",
    "            bias_A += 1\n",
    "        elif ab[1] == \"[[B]]\" and ba[1] == \"[[B]]\":\n",
    "            bias_B += 1\n",
    "        elif ab[1] == \"[[C]]\" or ba[1] == \"[[C]]\":\n",
    "            pass\n",
    "        else:\n",
    "            raise Exception(\"logic error\")\n",
    "# assert consistent + bias_A + bias_B == len(predictions_ab)\n",
    "print(\"error:\", len(predictions_ab)-consistent-bias_A-bias_B)  "
   ]
  },
  {
   "cell_type": "code",
   "execution_count": 426,
   "id": "1738ea38-0a94-404b-887e-ea45d35d62b4",
   "metadata": {},
   "outputs": [
    {
     "name": "stdout",
     "output_type": "stream",
     "text": [
      "consistent: 68.92%\n",
      "bias_A:     10.14%\n",
      "bias_B:     20.95%\n",
      "P(correct|consistent): 81.37%\n"
     ]
    }
   ],
   "source": [
    "print(\"consistent: {:.2f}%\".format(consistent/len(predictions_ab)*100))\n",
    "print(\"bias_A:     {:.2f}%\".format(bias_A/len(predictions_ab)*100))\n",
    "print(\"bias_B:     {:.2f}%\".format(bias_B/len(predictions_ab)*100))\n",
    "print(\"P(correct|consistent): {:.2f}%\".format(correct_given_consistent/consistent*100))"
   ]
  },
  {
   "cell_type": "markdown",
   "id": "480d77b3-8abc-46c3-beae-1959d441fc49",
   "metadata": {},
   "source": [
    "## Full testset"
   ]
  },
  {
   "cell_type": "code",
   "execution_count": 431,
   "id": "e2cefcb7-2169-494d-8ac5-a21180fec8ee",
   "metadata": {},
   "outputs": [],
   "source": [
    "import numpy as np"
   ]
  },
  {
   "cell_type": "code",
   "execution_count": 450,
   "id": "751918cd-6917-4272-b326-3e80f0f9c621",
   "metadata": {},
   "outputs": [
    {
     "name": "stdout",
     "output_type": "stream",
     "text": [
      "total: 3567\n",
      "accuracy: 51.14%\n"
     ]
    }
   ],
   "source": [
    "reverse = False\n",
    "path = \"../experiments/somos/ab_testing/diffall_gemini15flash_prompt2.jsonl\"\n",
    "outputs = []\n",
    "with open(path, \"r\") as f:\n",
    "    for line in f:\n",
    "        x = json.loads(line)\n",
    "        outputs.append(x)\n",
    "\n",
    "count_all, count_correct, error = 0, 0, 0\n",
    "all_predictions_ab = []\n",
    "for output in outputs:\n",
    "    if not reverse:\n",
    "        audio_a, audio_b = output['data']\n",
    "    else:\n",
    "        audio_b, audio_a = output['data']\n",
    "    mos_diff = np.abs(audio_a['mos'] - audio_b['mos'])\n",
    "    judge_text = output['response']\n",
    "\n",
    "    # typo lol\n",
    "    judge_text = judge_text.replace(\"</verduct>\", \"</verdict>\")\n",
    "    judge_text = judge_text.replace(\"</Verdict>\", \"</verdict>\")\n",
    "    judge_text = judge_text.replace(\"</verddict>\", \"</verdict>\")\n",
    "    judge_text = judge_text.replace(\"<Verdict>\", \"<verdict>\")\n",
    "    judge_text = judge_text.replace(\"<verdict>B</verdict>\", \"<verdict>[[B]]</verdict>\")\n",
    "    judge_text = judge_text.replace(\"Verdict: [[A]] </verdict>\", \"<verdict>[[A]]</verdict>\")\n",
    "    judge_text = judge_text.replace(\"<verdict> A </verdict>\", \"<verdict> [[A]] </verdict>\")\n",
    "    judge_text = judge_text.replace(\"<verdict> B </verdict>\", \"<verdict> [[B]] </verdict>\")\n",
    "    judge_text = judge_text.replace(\"**verdict** [[A]] **verdict**\", \"<verdict> [[A]] </verdict>\")\n",
    "    judge_text = judge_text.replace(\"**verdict** [[B]] **verdict**\", \"<verdict> [[B]] </verdict>\")\n",
    "    judge_text = judge_text.replace(\"**verdict** A **verdict**\", \"<verdict> [[A]] </verdict>\")\n",
    "    judge_text = judge_text.replace(\"**verdict** B **verdict**\", \"<verdict> [[B]] </verdict>\")\n",
    "    judge_text = judge_text.replace('\"verdict\": \"[[A]]\"', \"<verdict> [[A]] </verdict>\")\n",
    "    judge_text = judge_text.replace('\"verdict\": \"[[B]]\"', \"<verdict> [[B]] </verdict>\")\n",
    "    # judge_text = judge_text.replace('<verdict> [[Neither]] </verdict>', \"<verdict> [[C]] </verdict>\")\n",
    "    # judge_text = judge_text.replace('<verdict> [[Neither A nor B]] </verdict>', \"<verdict> [[C]] </verdict>\")\n",
    "    # judge_text = judge_text.replace('<verdict> [[Cannot Determine]] </verdict>', \"<verdict> [[C]] </verdict>\")\n",
    "    # judge_text = judge_text.replace('<verdict> [[Cannot determine]] </verdict>', \"<verdict> [[C]] </verdict>\")\n",
    "    # judge_text = judge_text.replace('<verdict> [[Insufficient Data]] </verdict>', \"<verdict> [[C]] </verdict>\")\n",
    "    # judge_text = judge_text.replace('<verdict> [[Cannot be determined]] </verdict>', \"<verdict> [[C]] </verdict>\")\n",
    "    # judge_text = judge_text.replace('<verdict> [[ ]] </verdict>', \"<verdict> [[C]] </verdict>\")\n",
    "    # judge_text = judge_text.replace('<verdict> [[Unable to Decide]] </verdict>', \"<verdict> [[C]] </verdict>\")\n",
    "    # judge_text = judge_text.replace('<verdict> [[Cannot Decide]] </verdict>', \"<verdict> [[C]] </verdict>\")\n",
    "\n",
    "    \n",
    "    # Extract content between <explanation> and </explanation>\n",
    "    # explanation_match = re.search(r'<explanation>(.*?)</explanation>', judge_text, re.DOTALL)\n",
    "    # explanation_text = explanation_match.group(1).strip() if explanation_match else None\n",
    "    \n",
    "    # Extract content between <verdict> and </verdict>\n",
    "    verdict_match = re.search(r'<verdict>(.*?)</verdict>', judge_text, re.DOTALL)\n",
    "    verdict_text = verdict_match.group(1).strip() if verdict_match else None\n",
    "    try:\n",
    "        assert verdict_text == \"[[A]]\" or verdict_text == \"[[B]]\", f\"Unexpected verdict: {judge_text}\"\n",
    "    except:\n",
    "        error += 1\n",
    "\n",
    "    if verdict_text == \"[[A]]\":\n",
    "        if audio_a['mos'] > audio_b['mos']:\n",
    "            count_correct += 1\n",
    "            evaluation = \"correct\"\n",
    "        else:\n",
    "            evaluation = \"incorrect\"\n",
    "    elif verdict_text == \"[[B]]\":\n",
    "        if audio_a['mos'] < audio_b['mos']:\n",
    "            count_correct += 1\n",
    "            evaluation = \"correct\"\n",
    "        else:\n",
    "            evaluation = \"incorrect\"\n",
    "    else:\n",
    "        evaluation = \"incorrect\"\n",
    "    count_all += 1\n",
    "    \n",
    "    all_predictions_ab.append([evaluation, verdict_text, mos_diff])\n",
    "print(\"total:\", count_all)\n",
    "print(\"accuracy: {:.2f}%\".format(count_correct/count_all*100))"
   ]
  },
  {
   "cell_type": "code",
   "execution_count": 451,
   "id": "0416eaf9-5f05-4559-b307-878586e6f4ba",
   "metadata": {},
   "outputs": [
    {
     "name": "stdout",
     "output_type": "stream",
     "text": [
      "total: 3567\n",
      "accuracy: 59.27%\n",
      "error:    0.00%\n"
     ]
    }
   ],
   "source": [
    "reverse = True\n",
    "path = \"../experiments/somos/ab_testing/diffall_prompt2_BA.txt\"\n",
    "outputs = []\n",
    "with open(path, \"r\") as f:\n",
    "    for line in f:\n",
    "        x = json.loads(line)\n",
    "        outputs.append(x)\n",
    "\n",
    "count_all, count_correct, error = 0, 0, 0\n",
    "all_predictions_ba = []\n",
    "for output in outputs:\n",
    "    if not reverse:\n",
    "        audio_a, audio_b = output['data']\n",
    "    else:\n",
    "        audio_b, audio_a = output['data']\n",
    "    mos_diff = np.abs(audio_a['mos'] - audio_b['mos'])\n",
    "    judge_text = output['response']\n",
    "\n",
    "    # typo lol\n",
    "    judge_text = judge_text.replace(\"</verduct>\", \"</verdict>\")\n",
    "    judge_text = judge_text.replace(\"</Verdict>\", \"</verdict>\")\n",
    "    judge_text = judge_text.replace(\"</verddict>\", \"</verdict>\")\n",
    "    judge_text = judge_text.replace(\"<Verdict>\", \"<verdict>\")\n",
    "    judge_text = judge_text.replace(\"<verdict>B</verdict>\", \"<verdict>[[B]]</verdict>\")\n",
    "    judge_text = judge_text.replace(\"Verdict: [[A]] </verdict>\", \"<verdict>[[A]]</verdict>\")\n",
    "    judge_text = judge_text.replace(\"<verdict> A </verdict>\", \"<verdict> [[A]] </verdict>\")\n",
    "    judge_text = judge_text.replace(\"<verdict> B </verdict>\", \"<verdict> [[B]] </verdict>\")\n",
    "    judge_text = judge_text.replace(\"**verdict** [[A]] **verdict**\", \"<verdict> [[A]] </verdict>\")\n",
    "    judge_text = judge_text.replace(\"**verdict** [[B]] **verdict**\", \"<verdict> [[B]] </verdict>\")\n",
    "    judge_text = judge_text.replace(\"**verdict** A **verdict**\", \"<verdict> [[A]] </verdict>\")\n",
    "    judge_text = judge_text.replace(\"**verdict** B **verdict**\", \"<verdict> [[B]] </verdict>\")\n",
    "    judge_text = judge_text.replace('\"verdict\": \"[[A]]\"', \"<verdict> [[A]] </verdict>\")\n",
    "    judge_text = judge_text.replace('\"verdict\": \"[[B]]\"', \"<verdict> [[B]] </verdict>\")\n",
    "\n",
    "    \n",
    "    # Extract content between <explanation> and </explanation>\n",
    "    # explanation_match = re.search(r'<explanation>(.*?)</explanation>', judge_text, re.DOTALL)\n",
    "    # explanation_text = explanation_match.group(1).strip() if explanation_match else None\n",
    "    \n",
    "    # Extract content between <verdict> and </verdict>\n",
    "    verdict_match = re.search(r'<verdict>(.*?)</verdict>', judge_text, re.DOTALL)\n",
    "    verdict_text = verdict_match.group(1).strip() if verdict_match else None\n",
    "    try:\n",
    "        assert verdict_text == \"[[A]]\" or verdict_text == \"[[B]]\", f\"Unexpected verdict: {judge_text}\"\n",
    "    except:\n",
    "        error += 1\n",
    "        \n",
    "    if verdict_text == \"[[A]]\":\n",
    "        if audio_a['mos'] > audio_b['mos']:\n",
    "            count_correct += 1\n",
    "            evaluation = \"correct\"\n",
    "        else:\n",
    "            evaluation = \"incorrect\"\n",
    "    elif verdict_text == \"[[B]]\":\n",
    "        if audio_a['mos'] < audio_b['mos']:\n",
    "            count_correct += 1\n",
    "            evaluation = \"correct\"\n",
    "        else:\n",
    "            evaluation = \"incorrect\"\n",
    "    else:\n",
    "        evaluation = \"incorrect\"\n",
    "        \n",
    "    count_all += 1\n",
    "    \n",
    "    all_predictions_ba.append([evaluation, verdict_text, mos_diff])\n",
    "print(\"total:\", count_all)\n",
    "print(\"accuracy: {:.2f}%\".format(count_correct/count_all*100))\n",
    "print(\"error:    {:.2f}%\".format(error/count_all*100))"
   ]
  },
  {
   "cell_type": "code",
   "execution_count": 452,
   "id": "9c8a4ba0-4e89-4e78-85a9-51d75cf505b4",
   "metadata": {},
   "outputs": [],
   "source": [
    "# prompt2 (CoT, instruction in system, two audio in separate user turns, ref_text provided)\n",
    "# tihs is the setup for all test samples"
   ]
  },
  {
   "cell_type": "code",
   "execution_count": 453,
   "id": "70f998eb-f268-4397-aa87-fd09d62702f5",
   "metadata": {},
   "outputs": [
    {
     "name": "stdout",
     "output_type": "stream",
     "text": [
      "3567 3567\n"
     ]
    }
   ],
   "source": [
    "some_predictions_ab, some_predictions_ba = [], []\n",
    "for x, y in zip(all_predictions_ab, all_predictions_ba):\n",
    "    # mos diff\n",
    "    assert x[2] == y[2]\n",
    "    mos_diff = x[2]\n",
    "    # if 0.50 < mos_diff and mos_diff <= 0.75:\n",
    "    # if 0.75 < mos_diff and mos_diff <= 1.00:\n",
    "    # if 1.00 < mos_diff and mos_diff <= 1.25:\n",
    "    # if 1.25 < mos_diff and mos_diff <= 1.50:\n",
    "    # if 1.50 < mos_diff:\n",
    "    if 0.00 < mos_diff:\n",
    "        pass\n",
    "    else:\n",
    "        continue\n",
    "    some_predictions_ab.append(x)\n",
    "    some_predictions_ba.append(y)\n",
    "print(len(some_predictions_ab), len(some_predictions_ba)) "
   ]
  },
  {
   "cell_type": "code",
   "execution_count": 455,
   "id": "bc9e3f1b-6a3d-422e-ad48-5e50fdd50c8f",
   "metadata": {},
   "outputs": [
    {
     "name": "stdout",
     "output_type": "stream",
     "text": [
      "total: 7134\n",
      "correct: 55.20%\n",
      "incorrect: 44.80%\n"
     ]
    }
   ],
   "source": [
    "abba_correct, abba_incorrect = 0, 0\n",
    "for x in some_predictions_ab + some_predictions_ba:\n",
    "    if x[0] == 'correct':\n",
    "        abba_correct += 1\n",
    "    elif x[0] == 'incorrect':\n",
    "        abba_incorrect += 1\n",
    "    else:\n",
    "        raise Exception()\n",
    "print(\"total:\", abba_correct+abba_incorrect)\n",
    "print(\"correct: {:.2f}%\".format(abba_correct/(abba_correct+abba_incorrect)*100))\n",
    "print(\"incorrect: {:.2f}%\".format(abba_incorrect/(abba_correct+abba_incorrect)*100))"
   ]
  },
  {
   "cell_type": "code",
   "execution_count": 135,
   "id": "095b35eb-9f22-4748-b6ba-540a104c89fd",
   "metadata": {},
   "outputs": [
    {
     "data": {
      "text/plain": [
       "1.809036309036309"
      ]
     },
     "execution_count": 135,
     "metadata": {},
     "output_type": "execute_result"
    }
   ],
   "source": [
    "np.mean([x[2] for x in some_predictions_ab + some_predictions_ba])"
   ]
  },
  {
   "cell_type": "code",
   "execution_count": 456,
   "id": "b6140387-ab0c-4c8e-852e-a13bbf54e89a",
   "metadata": {},
   "outputs": [
    {
     "ename": "Exception",
     "evalue": "logic error",
     "output_type": "error",
     "traceback": [
      "\u001b[0;31m---------------------------------------------------------------------------\u001b[0m",
      "\u001b[0;31mException\u001b[0m                                 Traceback (most recent call last)",
      "Cell \u001b[0;32mIn[456], line 14\u001b[0m\n\u001b[1;32m     12\u001b[0m             bias_B \u001b[38;5;241m+\u001b[39m\u001b[38;5;241m=\u001b[39m \u001b[38;5;241m1\u001b[39m\n\u001b[1;32m     13\u001b[0m         \u001b[38;5;28;01melse\u001b[39;00m:\n\u001b[0;32m---> 14\u001b[0m             \u001b[38;5;28;01mraise\u001b[39;00m \u001b[38;5;167;01mException\u001b[39;00m(\u001b[38;5;124m\"\u001b[39m\u001b[38;5;124mlogic error\u001b[39m\u001b[38;5;124m\"\u001b[39m)\n\u001b[1;32m     15\u001b[0m \u001b[38;5;28;01massert\u001b[39;00m consistent \u001b[38;5;241m+\u001b[39m bias_A \u001b[38;5;241m+\u001b[39m bias_B \u001b[38;5;241m==\u001b[39m \u001b[38;5;28mlen\u001b[39m(some_predictions_ab)\n\u001b[1;32m     16\u001b[0m \u001b[38;5;28mprint\u001b[39m(\u001b[38;5;124m\"\u001b[39m\u001b[38;5;124mconsistent: \u001b[39m\u001b[38;5;132;01m{:.2f}\u001b[39;00m\u001b[38;5;124m%\u001b[39m\u001b[38;5;124m\"\u001b[39m\u001b[38;5;241m.\u001b[39mformat(consistent\u001b[38;5;241m/\u001b[39m\u001b[38;5;28mlen\u001b[39m(some_predictions_ab)\u001b[38;5;241m*\u001b[39m\u001b[38;5;241m100\u001b[39m))\n",
      "\u001b[0;31mException\u001b[0m: logic error"
     ]
    }
   ],
   "source": [
    "consistent, bias_A, bias_B = 0, 0, 0\n",
    "correct_given_consistent = 0\n",
    "for ab, ba in zip(some_predictions_ab, some_predictions_ba):\n",
    "    if ab[0] == ba[0]:\n",
    "        consistent += 1\n",
    "        if ab[0] == 'correct':\n",
    "            correct_given_consistent += 1\n",
    "    else:\n",
    "        if ab[1] == \"[[A]]\" and ba[1] == \"[[A]]\":\n",
    "            bias_A += 1\n",
    "        elif ab[1] == \"[[B]]\" and ba[1] == \"[[B]]\":\n",
    "            bias_B += 1\n",
    "        else:\n",
    "            raise Exception(\"logic error\")\n",
    "assert consistent + bias_A + bias_B == len(some_predictions_ab)\n",
    "print(\"consistent: {:.2f}%\".format(consistent/len(some_predictions_ab)*100))\n",
    "print(\"bias_A:     {:.2f}%\".format(bias_A/len(some_predictions_ab)*100))\n",
    "print(\"bias_B:     {:.2f}%\".format(bias_B/len(some_predictions_ab)*100))\n",
    "print(\"P(correct|consistent): {:.2f}%\".format(correct_given_consistent/consistent*100))"
   ]
  },
  {
   "cell_type": "code",
   "execution_count": 140,
   "id": "fcadfc79-b4f2-4c51-9eb1-b9a32021b131",
   "metadata": {},
   "outputs": [],
   "source": [
    "import matplotlib.pyplot as plt"
   ]
  },
  {
   "cell_type": "code",
   "execution_count": 139,
   "id": "c44e2428-fe90-4445-a376-7de5df2d0d7a",
   "metadata": {},
   "outputs": [],
   "source": [
    "mos_diff_avg = [0.125, 0.375, 0.625, 0.875, 1.125, 1.375, 1.809]\n",
    "accuracy = [51.65, 56.03, 56.71, 64.02, 67.53, 70.40, 76.01]"
   ]
  },
  {
   "cell_type": "code",
   "execution_count": 146,
   "id": "6ec335a2-4320-42c1-b532-b9394cc8c662",
   "metadata": {},
   "outputs": [
    {
     "data": {
      "image/png": "[encoded data removed]",
      "text/plain": [
       "<Figure size 600x400 with 1 Axes>"
      ]
     },
     "metadata": {},
     "output_type": "display_data"
    }
   ],
   "source": [
    "plt.figure(figsize=(6, 4))\n",
    "plt.plot(mos_diff_avg, accuracy, 'o-', color='red')\n",
    "plt.xlabel('Average MOS Difference')\n",
    "plt.ylabel('AudioLLM-as-a-Judge Accuracy (%)')\n",
    "# plt.legend()\n",
    "# plt.grid()\n",
    "plt.show()"
   ]
  },
  {
   "cell_type": "markdown",
   "id": "46d6d670-177d-419c-a489-8bff380f2838",
   "metadata": {},
   "source": [
    "## System-level Analysis"
   ]
  },
  {
   "cell_type": "code",
   "execution_count": 457,
   "id": "8dc507b2-a11d-4dd5-a8a1-1eb4c1351025",
   "metadata": {},
   "outputs": [],
   "source": [
    "import numpy as np\n",
    "import scipy.stats as stats\n",
    "import matplotlib.pyplot as plt"
   ]
  },
  {
   "cell_type": "code",
   "execution_count": 458,
   "id": "2eeae9c7-f7c0-4e59-8ffe-581bc1fa007c",
   "metadata": {},
   "outputs": [],
   "source": [
    "def post_processing(judge_text):\n",
    "    judge_text = judge_text.replace(\"</verduct>\", \"</verdict>\")\n",
    "    judge_text = judge_text.replace(\"</Verdict>\", \"</verdict>\")\n",
    "    judge_text = judge_text.replace(\"</verddict>\", \"</verdict>\")\n",
    "    judge_text = judge_text.replace(\"<Verdict>\", \"<verdict>\")\n",
    "    judge_text = judge_text.replace(\"<verdict>B</verdict>\", \"<verdict>[[B]]</verdict>\")\n",
    "    judge_text = judge_text.replace(\"Verdict: [[A]] </verdict>\", \"<verdict>[[A]]</verdict>\")\n",
    "    judge_text = judge_text.replace(\"<verdict> A </verdict>\", \"<verdict> [[A]] </verdict>\")\n",
    "    judge_text = judge_text.replace(\"<verdict> B </verdict>\", \"<verdict> [[B]] </verdict>\")\n",
    "    judge_text = judge_text.replace(\"**verdict** [[A]] **verdict**\", \"<verdict> [[A]] </verdict>\")\n",
    "    judge_text = judge_text.replace(\"**verdict** [[B]] **verdict**\", \"<verdict> [[B]] </verdict>\")\n",
    "    judge_text = judge_text.replace(\"**verdict** A **verdict**\", \"<verdict> [[A]] </verdict>\")\n",
    "    judge_text = judge_text.replace(\"**verdict** B **verdict**\", \"<verdict> [[B]] </verdict>\")\n",
    "    judge_text = judge_text.replace('\"verdict\": \"[[A]]\"', \"<verdict> [[A]] </verdict>\")\n",
    "    judge_text = judge_text.replace('\"verdict\": \"[[B]]\"', \"<verdict> [[B]] </verdict>\")\n",
    "    return judge_text"
   ]
  },
  {
   "cell_type": "code",
   "execution_count": 164,
   "id": "79c78ef9-87ce-45ce-853e-a2f5bfa42678",
   "metadata": {},
   "outputs": [],
   "source": [
    "def analyze_correlation_and_plot(list_a, list_b):\n",
    "    # 1. Compute Pearson correlation\n",
    "    pearson_corr, _ = stats.pearsonr(list_a, list_b)\n",
    "\n",
    "    # 2. Compute Spearman correlation\n",
    "    spearman_corr, _ = stats.spearmanr(list_a, list_b)\n",
    "\n",
    "    # Print results\n",
    "    print(f\"Pearson Correlation: {pearson_corr:.3f}\")\n",
    "    print(f\"Spearman Correlation: {spearman_corr:.3f}\")\n",
    "\n",
    "    # 4. Scatter plot with best-fit line\n",
    "    plt.figure(figsize=(5, 4))\n",
    "    plt.scatter(list_a, list_b, color='blue', label='Data points')\n",
    "\n",
    "    # Best fit line\n",
    "    coefficients = np.polyfit(list_a, list_b, 1)  # Linear fit (degree=1)\n",
    "    poly = np.poly1d(coefficients)\n",
    "    best_fit_line = poly(list_a)\n",
    "\n",
    "    plt.plot(list_a, best_fit_line, color='red', label='Best Fit Line')\n",
    "    plt.xlabel('MOS (GT)')\n",
    "    plt.ylabel('AudioJudge Prediction (Win Rate)')\n",
    "    plt.title('Scatter Plot with Best Fit Line')\n",
    "    plt.legend()\n",
    "    plt.grid()\n",
    "    plt.show()"
   ]
  },
  {
   "cell_type": "code",
   "execution_count": 464,
   "id": "d7a5057f-cc56-4946-8377-5c68401a6748",
   "metadata": {},
   "outputs": [
    {
     "name": "stdout",
     "output_type": "stream",
     "text": [
      "Pearson Correlation: 0.391\n",
      "Spearman Correlation: 0.394\n"
     ]
    },
    {
     "data": {
      "image/png": "[encoded data removed]",
      "text/plain": [
       "<Figure size 500x400 with 1 Axes>"
      ]
     },
     "metadata": {},
     "output_type": "display_data"
    }
   ],
   "source": [
    "# def evaluate_system_level():\n",
    "pred_by_system, gts_by_system = {}, {}\n",
    "criterion = 'mos'\n",
    "reverse = False\n",
    "path = \"../experiments/somos/ab_testing/diffall_gemini15flash_prompt2.jsonl\"\n",
    "outputs = []\n",
    "with open(path, \"r\") as f:\n",
    "    for line in f:\n",
    "        x = json.loads(line)\n",
    "        outputs.append(x)\n",
    "for output in outputs:\n",
    "    audio_a, audio_b = output['data']\n",
    "    model_a = audio_a['uttId'].split('_')[-1]\n",
    "    model_b = audio_b['uttId'].split('_')[-1]\n",
    "    if model_a not in pred_by_system: pred_by_system[model_a] = []\n",
    "    if model_a not in gts_by_system:  gts_by_system[model_a] = []\n",
    "    if model_b not in pred_by_system: pred_by_system[model_b] = []\n",
    "    if model_b not in gts_by_system:  gts_by_system[model_b] = []\n",
    "        \n",
    "    judge_text = output['response']\n",
    "    judge_text = post_processing(judge_text)\n",
    "    \n",
    "    # Extract content between <verdict> and </verdict>\n",
    "    verdict_match = re.search(r'<verdict>(.*?)</verdict>', judge_text, re.DOTALL)\n",
    "    verdict_text = verdict_match.group(1).strip() if verdict_match else None\n",
    "    try:\n",
    "        assert verdict_text == \"[[A]]\" or verdict_text == \"[[B]]\", f\"Unexpected verdict: {judge_text}\"\n",
    "    except:\n",
    "        # error -- just make it wrong\n",
    "        # print(\"warning:\", judge_text)\n",
    "        if audio_a[criterion] > audio_b[criterion]: verdict_text = '[[B]]'\n",
    "        else: verdict_text = '[[A]]'\n",
    "        \n",
    "    if verdict_text == \"[[A]]\":\n",
    "        pred_by_system[model_a] += [1]\n",
    "        pred_by_system[model_b] += [0]\n",
    "    elif verdict_text == \"[[B]]\":\n",
    "        pred_by_system[model_a] += [0]\n",
    "        pred_by_system[model_b] += [1]\n",
    "\n",
    "    gts_by_system[model_a] += [audio_a['mos']]\n",
    "    gts_by_system[model_b] += [audio_b['mos']]\n",
    "\n",
    "reverse = True\n",
    "path = \"../experiments/somos/ab_testing/diffall_gemini15flash_prompt2_BA.jsonl\"\n",
    "outputs = []\n",
    "with open(path, \"r\") as f:\n",
    "    for line in f:\n",
    "        x = json.loads(line)\n",
    "        outputs.append(x)\n",
    "for output in outputs:\n",
    "    audio_b, audio_a = output['data']\n",
    "    model_a = audio_a['uttId'].split('_')[-1]\n",
    "    model_b = audio_b['uttId'].split('_')[-1]\n",
    "    \n",
    "    judge_text = output['response']\n",
    "    judge_text = post_processing(judge_text)\n",
    "    \n",
    "    # Extract content between <verdict> and </verdict>\n",
    "    verdict_match = re.search(r'<verdict>(.*?)</verdict>', judge_text, re.DOTALL)\n",
    "    verdict_text = verdict_match.group(1).strip() if verdict_match else None\n",
    "    try:\n",
    "        assert verdict_text == \"[[A]]\" or verdict_text == \"[[B]]\", f\"Unexpected verdict: {judge_text}\"\n",
    "    except:\n",
    "        # error -- just make it wrong\n",
    "        # print(\"warning:\", judge_text)\n",
    "        if audio_a[criterion] > audio_b[criterion]: verdict_text = '[[B]]'\n",
    "        else: verdict_text = '[[A]]'\n",
    "        \n",
    "    if verdict_text == \"[[A]]\":\n",
    "        pred_by_system[model_a] += [1]\n",
    "        pred_by_system[model_b] += [0]\n",
    "    elif verdict_text == \"[[B]]\":\n",
    "        pred_by_system[model_a] += [0]\n",
    "        pred_by_system[model_b] += [1]\n",
    "\n",
    "    gts_by_system[model_a] += [audio_a['mos']]\n",
    "    gts_by_system[model_b] += [audio_b['mos']]\n",
    "\n",
    "system_level_pred, system_level_gts = [], []\n",
    "systems = []\n",
    "for system, pred in pred_by_system.items():\n",
    "    gts = gts_by_system[system]\n",
    "    assert len(pred) == len(gts)\n",
    "    system_level_pred.append(np.mean(pred)*100)\n",
    "    system_level_gts.append(np.mean(gts))\n",
    "    systems.append(system)\n",
    "analyze_correlation_and_plot(system_level_gts, system_level_pred)"
   ]
  },
  {
   "cell_type": "markdown",
   "id": "6e447f6f-6cf4-4c8d-ba8f-fa0294a8fcf3",
   "metadata": {},
   "source": [
    "# Qwen2-Audio"
   ]
  },
  {
   "cell_type": "code",
   "execution_count": 480,
   "id": "05c4a384-a3a5-4594-9392-8d254946563b",
   "metadata": {},
   "outputs": [],
   "source": [
    "from tqdm import tqdm"
   ]
  },
  {
   "cell_type": "code",
   "execution_count": 466,
   "id": "ccd5aa51-d662-4066-a888-a3e831be9558",
   "metadata": {},
   "outputs": [],
   "source": [
    "def read_jsonl(file_path):\n",
    "    data = []\n",
    "    with open(file_path, 'r', encoding='utf-8') as file:\n",
    "        for line in file:\n",
    "            try:\n",
    "                data.append(json.loads(line.strip()))\n",
    "            except json.JSONDecodeError as e:\n",
    "                print(f\"Error decoding JSON: {e} on line: {line}\")\n",
    "    return data"
   ]
  },
  {
   "cell_type": "code",
   "execution_count": 488,
   "id": "fc6c33f0-44b5-42e4-b394-ae128738ad53",
   "metadata": {},
   "outputs": [
    {
     "name": "stderr",
     "output_type": "stream",
     "text": [
      "100%|██████████████████████████████████████████████████████████████████████████████████████████████████████████████████████████████████████████████████████████| 3567/3567 [00:00<00:00, 593623.08it/s]"
     ]
    },
    {
     "name": "stdout",
     "output_type": "stream",
     "text": [
      "total: 3567\n",
      "accuracy: 25.51%\n"
     ]
    },
    {
     "name": "stderr",
     "output_type": "stream",
     "text": [
      "\n"
     ]
    }
   ],
   "source": [
    "count_all, count_correct, error = 0, 0, 0\n",
    "all_predictions_ab = []\n",
    "\n",
    "reverse = False\n",
    "outputs = read_jsonl(\"../experiments/somos/ab_testing/diffall_qwen2_prompt2_format1.processed.txt\")\n",
    "for output in tqdm(outputs):\n",
    "    if not reverse:\n",
    "        audio_a, audio_b = output['data']\n",
    "    else:\n",
    "        audio_b, audio_a = output['data']\n",
    "    mos_diff = np.abs(audio_a['mos'] - audio_b['mos'])\n",
    "    verdict_text = output['processed']\n",
    "\n",
    "    try:\n",
    "        assert verdict_text == \"A\" or verdict_text == \"B\" or verdict_text == \"C\", f\"Unexpected verdict: {judge_text}\"\n",
    "    except:\n",
    "        error += 1\n",
    "\n",
    "    if verdict_text == \"A\":\n",
    "        if audio_a['mos'] > audio_b['mos']:\n",
    "            count_correct += 1\n",
    "            evaluation = \"correct\"\n",
    "        else:\n",
    "            evaluation = \"incorrect\"\n",
    "        # count_all += 1\n",
    "    elif verdict_text == \"B\":\n",
    "        if audio_a['mos'] < audio_b['mos']:\n",
    "            count_correct += 1\n",
    "            evaluation = \"correct\"\n",
    "        else:\n",
    "            evaluation = \"incorrect\"\n",
    "        # count_all += 1\n",
    "    else:\n",
    "        evaluation = \"incorrect\"\n",
    "    count_all += 1\n",
    "    \n",
    "    all_predictions_ab.append([evaluation, verdict_text, mos_diff])\n",
    "\n",
    "reverse = True\n",
    "outputs = read_jsonl(\"../experiments/somos/ab_testing/diffall_qwen2_prompt2_format1_noref..processed.txt\")\n",
    "for output in tqdm(outputs):\n",
    "    if not reverse:\n",
    "        audio_a, audio_b = output['data']\n",
    "    else:\n",
    "        audio_b, audio_a = output['data']\n",
    "    mos_diff = np.abs(audio_a['mos'] - audio_b['mos'])\n",
    "    verdict_text = output['processed']\n",
    "\n",
    "    try:\n",
    "        assert verdict_text == \"A\" or verdict_text == \"B\" or verdict_text == \"C\", f\"Unexpected verdict: {judge_text}\"\n",
    "    except:\n",
    "        error += 1\n",
    "\n",
    "    if verdict_text == \"A\":\n",
    "        if audio_a['mos'] > audio_b['mos']:\n",
    "            count_correct += 1\n",
    "            evaluation = \"correct\"\n",
    "        else:\n",
    "            evaluation = \"incorrect\"\n",
    "        # count_all += 1\n",
    "    elif verdict_text == \"B\":\n",
    "        if audio_a['mos'] < audio_b['mos']:\n",
    "            count_correct += 1\n",
    "            evaluation = \"correct\"\n",
    "        else:\n",
    "            evaluation = \"incorrect\"\n",
    "        # count_all += 1\n",
    "    else:\n",
    "        evaluation = \"incorrect\"\n",
    "    count_all += 1\n",
    "    \n",
    "    all_predictions_ab.append([evaluation, verdict_text, mos_diff])\n",
    "\n",
    "\n",
    "print(\"total:\", count_all)\n",
    "print(\"accuracy: {:.2f}%\".format(count_correct/count_all*100))    "
   ]
  },
  {
   "cell_type": "code",
   "execution_count": null,
   "id": "615c2b1a-8afe-4b9e-ab59-dbcedb24b75c",
   "metadata": {},
   "outputs": [],
   "source": [
    "# 25.51 ===> overall accuracy\n",
    "# 51.21 ===> accuracy given it answers A or B"
   ]
  },
  {
   "cell_type": "code",
   "execution_count": 475,
   "id": "51da3043-c9e3-4060-ac0f-16d60bde0e4b",
   "metadata": {},
   "outputs": [
    {
     "data": {
      "text/plain": [
       "{'model_name': 'gemini-1.5-flash',\n",
       " 'data_path': '/data/workspace/ppotsawee/audioLM-as-judge/data/data_somos_pairwise_diffall.json',\n",
       " 'data': [{'uttId': 'LJ003-0173_007',\n",
       "   'mos': 3.4,\n",
       "   'text': 'He continued the ancient practice of letting out a portion of his own house, and by a poetical fiction treated it, as an annex of the state side.',\n",
       "   'path': '/data/share/data/Speech/somos/audios/LJ003-0173_007.wav'},\n",
       "  {'uttId': 'LJ003-0173_166',\n",
       "   'mos': 3.0,\n",
       "   'text': 'He continued the ancient practice of letting out a portion of his own house, and by a poetical fiction treated it, as an annex of the state side.',\n",
       "   'path': '/data/share/data/Speech/somos/audios/LJ003-0173_166.wav'}],\n",
       " 'prompt_text': 'You are an expert in audio quality assessment specializing in synthesized speech evaluation. Your task is to critically compare two audio files, the first audio (Audio A) and the second audio (Audio B), will be provided after this instruction. The evaluation is based on the following criteria:\\n\\n    1.\\tClarity: How clearly the speech is articulated, free from distortion, noise, or artifacts.\\n    2.\\tNaturalness: The degree to which the speech resembles a natural human voice, including accurate intonation, rhythm, and expressiveness.\\n    3.\\tOverall Quality: The overall impression of the audio\\'s naturalness and coherence, considering how pleasant and lifelike it sounds.\\n\\n    Follow this step-by-step process for your evaluation:\\n\\n    1.\\tListen Carefully: Begin by carefully listening to both Audio A (the first audio) and Audio B (the second audio). Take note of any differences in clarity, fidelity, and overall quality.\\n    2.\\tAnalyze Each Criterion: For each criterion (clarity, naturalness, and overall quality), evaluate how well each audio file performs and provide a brief explanation of your reasoning.\\n    3.\\tCompare Thoroughly: Summarize the strengths and weaknesses of each audio file based on your analysis.\\n    4.\\tDecide the Winner: Conclude by determining which audio file is better overall and clearly state your final verdict in this format: [[A]] or [[B]].\\n\\n    Important: Provide a brief summary of your reasoning to justify your decision. Your analysis should be thorough and objective to ensure fairness in the comparison. Your response must start with <explanation> explanation </explanation> and end with <verdict> [[A/B]] </verdict>.\\n\\n    The text for the two audio for you to evaluate is: \"He continued the ancient practice of letting out a portion of his own house, and by a poetical fiction treated it, as an annex of the state side.\"\\n\\n    The two audio for you to evaluate are the following.',\n",
       " 'response': '<explanation>\\n\\nAfter carefully listening to both audio samples, Audio A and Audio B, I have conducted a comparative analysis based on clarity, naturalness, and overall quality.\\n\\n**1. Clarity:**\\n\\n* **Audio A:** Presents noticeable audio artifacts at the end, a popping sound which significantly detracts from the clarity.  The pronunciation is also slightly unclear in certain words.\\n* **Audio B:**  Offers significantly better clarity. The speech is crisp and easy to understand, without any distracting artifacts or unclear pronunciations.\\n\\n\\n**2. Naturalness:**\\n\\n* **Audio A:** Sounds somewhat robotic and lacks natural intonation and rhythm. The pauses feel unnatural and disjointed, further contributing to its less human-like quality.\\n* **Audio B:** While still exhibiting synthetic qualities, Audio B shows a much higher degree of naturalness. The intonation and rhythm are more fluid and human-like, making it easier to listen to.\\n\\n\\n**3. Overall Quality:**\\n\\n* **Audio A:** The presence of audio artifacts and the unnatural delivery significantly reduce the overall quality. The listening experience is jarring and unpleasant.\\n* **Audio B:**  Despite being synthesized speech, Audio B offers a significantly better overall listening experience.  The enhanced naturalness and lack of artifacts contribute to a more pleasant and less intrusive audio.\\n\\n\\n**4. Comparison:**\\n\\nAudio B demonstrably outperforms Audio A in all three criteria. Audio A is marred by audio artifacts and unnatural delivery, while Audio B, although still synthetic, achieves a far greater degree of clarity and naturalness.\\n\\n**5. Verdict:**  Audio B is the superior sample because of its significantly improved clarity, more natural-sounding delivery and the absence of distracting artifacts.\\n\\n\\n</explanation>\\n<verdict> [[B]] </verdict>\\n'}"
      ]
     },
     "execution_count": 475,
     "metadata": {},
     "output_type": "execute_result"
    }
   ],
   "source": [
    "output"
   ]
  },
  {
   "cell_type": "code",
   "execution_count": 469,
   "id": "cb2f8d4b-231a-4f7c-90c0-841a1743e35d",
   "metadata": {},
   "outputs": [
    {
     "data": {
      "text/plain": [
       "{'data_path': 'data/data_somos_pairwise_diffall.json',\n",
       " 'data': [{'uttId': 'LJ003-0173_007',\n",
       "   'mos': 3.4,\n",
       "   'text': 'He continued the ancient practice of letting out a portion of his own house, and by a poetical fiction treated it, as an annex of the state side.',\n",
       "   'path': '/data/share/data/Speech/somos/audios/LJ003-0173_007.wav'},\n",
       "  {'uttId': 'LJ003-0173_166',\n",
       "   'mos': 3.0,\n",
       "   'text': 'He continued the ancient practice of letting out a portion of his own house, and by a poetical fiction treated it, as an annex of the state side.',\n",
       "   'path': '/data/share/data/Speech/somos/audios/LJ003-0173_166.wav'}],\n",
       " 'prompt_text': 'You are an expert in audio quality assessment specializing in synthesized speech evaluation. Your task is to critically compare two audio files, the first audio (Audio A) and the second audio (Audio B), will be provided after this instruction. The evaluation is based on the following criteria:\\n\\n1.\\tClarity: How clearly the speech is articulated, free from distortion, noise, or artifacts.\\n2.\\tNaturalness: The degree to which the speech resembles a natural human voice, including accurate intonation, rhythm, and expressiveness.\\n3.\\tOverall Quality: The overall impression of the audio\\'s naturalness and coherence, considering how pleasant and lifelike it sounds.\\n\\nFollow this step-by-step process for your evaluation:\\n\\n1.\\tListen Carefully: Begin by carefully listening to both Audio A (the first audio) and Audio B (the second audio). Take note of any differences in clarity, fidelity, and overall quality.\\n2.\\tAnalyze Each Criterion: For each criterion (clarity, naturalness, and overall quality), evaluate how well each audio file performs and provide a brief explanation of your reasoning.\\n3.\\tCompare Thoroughly: Summarize the strengths and weaknesses of each audio file based on your analysis.\\n4.\\tDecide the Winner: Conclude by determining which audio file is better overall and clearly state your final verdict in this format: [[A]] or [[B]].\\n\\nImportant: Provide a brief summary of your reasoning to justify your decision. Your analysis should be thorough and objective to ensure fairness in the comparison. Your response must start with <explanation> explanation </explanation> and end with <verdict> [[A/B]] </verdict>.\\n\\nThe text for the two audio for you to evaluate is: \"He continued the ancient practice of letting out a portion of his own house, and by a poetical fiction treated it, as an annex of the state side.\"\\n\\nThe two audio snippets to be compared will be provided in the following two user turns.',\n",
       " 'response': 'Explanation: The two audio snippets are identical, so there is no need to compare them further.\\nVerdict: [A] or [B]',\n",
       " 'processed': 'C'}"
      ]
     },
     "execution_count": 469,
     "metadata": {},
     "output_type": "execute_result"
    }
   ],
   "source": [
    "x[0]"
   ]
  },
  {
   "cell_type": "markdown",
   "id": "9b88af08-4375-4d28-ba61-d1ca7c042dc5",
   "metadata": {},
   "source": [
    "# Other baselines\n",
    "- UTMOS, MOSANET+"
   ]
  },
  {
   "cell_type": "code",
   "execution_count": 173,
   "id": "5a617f29-ee06-45a9-a876-c069dce5a24c",
   "metadata": {},
   "outputs": [],
   "source": [
    "import pandas as pd"
   ]
  },
  {
   "cell_type": "code",
   "execution_count": 184,
   "id": "89b0d561-ce19-48d4-a2fb-0b97b27c7c19",
   "metadata": {},
   "outputs": [],
   "source": [
    "baseline = pd.read_csv(\"../experiments/eval-somos_cleaned_test_mos.csv\")\n",
    "baseline_results = {}\n",
    "for i in range(len(baseline)):\n",
    "    x = baseline.iloc[i]\n",
    "    uttId = x['utteranceId'].replace(\".wav\", \"\")\n",
    "    baseline_results[uttId] = x"
   ]
  },
  {
   "cell_type": "code",
   "execution_count": 188,
   "id": "1ef7a47c-1fa2-472a-80ea-ab09ad9ef48a",
   "metadata": {
    "scrolled": true
   },
   "outputs": [
    {
     "data": {
      "text/html": [
       "<div>\n",
       "<style scoped>\n",
       "    .dataframe tbody tr th:only-of-type {\n",
       "        vertical-align: middle;\n",
       "    }\n",
       "\n",
       "    .dataframe tbody tr th {\n",
       "        vertical-align: top;\n",
       "    }\n",
       "\n",
       "    .dataframe thead th {\n",
       "        text-align: right;\n",
       "    }\n",
       "</style>\n",
       "<table border=\"1\" class=\"dataframe\">\n",
       "  <thead>\n",
       "    <tr style=\"text-align: right;\">\n",
       "      <th></th>\n",
       "      <th>utteranceId</th>\n",
       "      <th>mean</th>\n",
       "      <th>mosanet_q</th>\n",
       "      <th>mosanet_i</th>\n",
       "      <th>utmos</th>\n",
       "    </tr>\n",
       "  </thead>\n",
       "  <tbody>\n",
       "    <tr>\n",
       "      <th>0</th>\n",
       "      <td>LJ002-0181_110.wav</td>\n",
       "      <td>4.000000</td>\n",
       "      <td>4.143179</td>\n",
       "      <td>0.987690</td>\n",
       "      <td>4.238315</td>\n",
       "    </tr>\n",
       "    <tr>\n",
       "      <th>1</th>\n",
       "      <td>LJ002-0181_148.wav</td>\n",
       "      <td>4.000000</td>\n",
       "      <td>4.279014</td>\n",
       "      <td>0.991089</td>\n",
       "      <td>4.000192</td>\n",
       "    </tr>\n",
       "    <tr>\n",
       "      <th>2</th>\n",
       "      <td>LJ003-0083_177.wav</td>\n",
       "      <td>3.727273</td>\n",
       "      <td>4.255704</td>\n",
       "      <td>0.992737</td>\n",
       "      <td>4.085151</td>\n",
       "    </tr>\n",
       "    <tr>\n",
       "      <th>3</th>\n",
       "      <td>LJ003-0173_007.wav</td>\n",
       "      <td>3.400000</td>\n",
       "      <td>4.203598</td>\n",
       "      <td>0.990003</td>\n",
       "      <td>3.985967</td>\n",
       "    </tr>\n",
       "    <tr>\n",
       "      <th>4</th>\n",
       "      <td>LJ003-0173_166.wav</td>\n",
       "      <td>3.000000</td>\n",
       "      <td>4.195775</td>\n",
       "      <td>0.990287</td>\n",
       "      <td>3.545846</td>\n",
       "    </tr>\n",
       "    <tr>\n",
       "      <th>...</th>\n",
       "      <td>...</td>\n",
       "      <td>...</td>\n",
       "      <td>...</td>\n",
       "      <td>...</td>\n",
       "      <td>...</td>\n",
       "    </tr>\n",
       "    <tr>\n",
       "      <th>2995</th>\n",
       "      <td>wiki_0096_105.wav</td>\n",
       "      <td>3.714286</td>\n",
       "      <td>4.198464</td>\n",
       "      <td>0.991320</td>\n",
       "      <td>4.211437</td>\n",
       "    </tr>\n",
       "    <tr>\n",
       "      <th>2996</th>\n",
       "      <td>wiki_0097_061.wav</td>\n",
       "      <td>3.100000</td>\n",
       "      <td>3.862368</td>\n",
       "      <td>0.980607</td>\n",
       "      <td>3.472677</td>\n",
       "    </tr>\n",
       "    <tr>\n",
       "      <th>2997</th>\n",
       "      <td>wiki_0098_115.wav</td>\n",
       "      <td>2.000000</td>\n",
       "      <td>3.549011</td>\n",
       "      <td>0.975410</td>\n",
       "      <td>3.402414</td>\n",
       "    </tr>\n",
       "    <tr>\n",
       "      <th>2998</th>\n",
       "      <td>wiki_0098_124.wav</td>\n",
       "      <td>2.333333</td>\n",
       "      <td>3.595597</td>\n",
       "      <td>0.978362</td>\n",
       "      <td>3.503975</td>\n",
       "    </tr>\n",
       "    <tr>\n",
       "      <th>2999</th>\n",
       "      <td>wiki_0099_056.wav</td>\n",
       "      <td>2.083333</td>\n",
       "      <td>3.859752</td>\n",
       "      <td>0.984509</td>\n",
       "      <td>2.669225</td>\n",
       "    </tr>\n",
       "  </tbody>\n",
       "</table>\n",
       "<p>3000 rows × 5 columns</p>\n",
       "</div>"
      ],
      "text/plain": [
       "             utteranceId      mean  mosanet_q  mosanet_i     utmos\n",
       "0     LJ002-0181_110.wav  4.000000   4.143179   0.987690  4.238315\n",
       "1     LJ002-0181_148.wav  4.000000   4.279014   0.991089  4.000192\n",
       "2     LJ003-0083_177.wav  3.727273   4.255704   0.992737  4.085151\n",
       "3     LJ003-0173_007.wav  3.400000   4.203598   0.990003  3.985967\n",
       "4     LJ003-0173_166.wav  3.000000   4.195775   0.990287  3.545846\n",
       "...                  ...       ...        ...        ...       ...\n",
       "2995   wiki_0096_105.wav  3.714286   4.198464   0.991320  4.211437\n",
       "2996   wiki_0097_061.wav  3.100000   3.862368   0.980607  3.472677\n",
       "2997   wiki_0098_115.wav  2.000000   3.549011   0.975410  3.402414\n",
       "2998   wiki_0098_124.wav  2.333333   3.595597   0.978362  3.503975\n",
       "2999   wiki_0099_056.wav  2.083333   3.859752   0.984509  2.669225\n",
       "\n",
       "[3000 rows x 5 columns]"
      ]
     },
     "execution_count": 188,
     "metadata": {},
     "output_type": "execute_result"
    }
   ],
   "source": [
    "baseline"
   ]
  },
  {
   "cell_type": "code",
   "execution_count": 430,
   "id": "519c948b-9ed0-4018-88dd-ae8c94b42892",
   "metadata": {},
   "outputs": [
    {
     "name": "stdout",
     "output_type": "stream",
     "text": [
      "total: 3567\n",
      "correct: 64.56%\n"
     ]
    }
   ],
   "source": [
    "path = \"../experiments/somos/ab_testing/diffall_prompt2.txt\"\n",
    "outputs = []\n",
    "with open(path, \"r\") as f:\n",
    "    for line in f:\n",
    "        x = json.loads(line)\n",
    "        outputs.append(x)\n",
    "\n",
    "baseline_name = 'utmos'\n",
    "\n",
    "count_all, count_correct = 0, 0\n",
    "for output in outputs:\n",
    "    audio_a, audio_b = output['data']\n",
    "    mos_a, mos_b = audio_a['mos'], audio_b['mos']\n",
    "    if mos_a == mos_b: continue\n",
    "    \n",
    "    baseline_a = baseline_results[audio_a['uttId']][baseline_name]\n",
    "    baseline_b = baseline_results[audio_b['uttId']][baseline_name]\n",
    "\n",
    "    if mos_a >= mos_b:\n",
    "        if baseline_a >= baseline_b:\n",
    "            count_correct += 1\n",
    "    else:\n",
    "        if baseline_b > baseline_a:\n",
    "            count_correct += 1\n",
    "    count_all += 1\n",
    "print(\"total:\", count_all)\n",
    "print(\"correct: {:.2f}%\".format(count_correct/(count_all)*100))"
   ]
  },
  {
   "cell_type": "markdown",
   "id": "501cda79-e863-4e5d-a3a8-1e3d6f3a2016",
   "metadata": {},
   "source": [
    "### System-level"
   ]
  },
  {
   "cell_type": "code",
   "execution_count": 428,
   "id": "d55d9634-8c94-4004-9792-9b2dab47f38f",
   "metadata": {},
   "outputs": [
    {
     "name": "stdout",
     "output_type": "stream",
     "text": [
      "Pearson Correlation: 0.616\n",
      "Spearman Correlation: 0.665\n"
     ]
    },
    {
     "data": {
      "image/png": "[encoded data removed]",
      "text/plain": [
       "<Figure size 500x400 with 1 Axes>"
      ]
     },
     "metadata": {},
     "output_type": "display_data"
    }
   ],
   "source": [
    "# def evaluate_system_level():\n",
    "pred_by_system, gts_by_system = {}, {}\n",
    "\n",
    "path = \"../experiments/somos/ab_testing/diffall_prompt2.txt\"\n",
    "outputs = []\n",
    "with open(path, \"r\") as f:\n",
    "    for line in f:\n",
    "        x = json.loads(line)\n",
    "        outputs.append(x)\n",
    "\n",
    "baseline_name = 'utmos'\n",
    "\n",
    "for output in outputs:\n",
    "    audio_a, audio_b = output['data']\n",
    "    model_a = audio_a['uttId'].split('_')[-1]\n",
    "    model_b = audio_b['uttId'].split('_')[-1]\n",
    "    if model_a not in pred_by_system: pred_by_system[model_a] = []\n",
    "    if model_a not in gts_by_system:  gts_by_system[model_a] = []\n",
    "    if model_b not in pred_by_system: pred_by_system[model_b] = []\n",
    "    if model_b not in gts_by_system:  gts_by_system[model_b] = []\n",
    "        \n",
    "    baseline_a = baseline_results[audio_a['uttId']][baseline_name]\n",
    "    baseline_b = baseline_results[audio_b['uttId']][baseline_name]\n",
    "\n",
    "    pred_by_system[model_a] += [baseline_a]\n",
    "    pred_by_system[model_b] += [baseline_b]\n",
    "    \n",
    "    gts_by_system[model_a] += [audio_a['mos']]\n",
    "    gts_by_system[model_b] += [audio_b['mos']]\n",
    "\n",
    "system_level_pred, system_level_gts = [], []\n",
    "systems = []\n",
    "for system, pred in pred_by_system.items():\n",
    "    gts = gts_by_system[system]\n",
    "    assert len(pred) == len(gts)\n",
    "    system_level_pred.append(np.mean(pred)*100)\n",
    "    system_level_gts.append(np.mean(gts))\n",
    "    systems.append(system)\n",
    "analyze_correlation_and_plot(system_level_gts, system_level_pred)"
   ]
  },
  {
   "cell_type": "code",
   "execution_count": null,
   "id": "b8eb7d61-d23d-4313-abfa-1c67e25ccfa8",
   "metadata": {},
   "outputs": [],
   "source": []
  }
 ],
 "metadata": {
  "kernelspec": {
   "display_name": "Python 3 (ipykernel)",
   "language": "python",
   "name": "python3"
  },
  "language_info": {
   "codemirror_mode": {
    "name": "ipython",
    "version": 3
   },
   "file_extension": ".py",
   "mimetype": "text/x-python",
   "name": "python",
   "nbconvert_exporter": "python",
   "pygments_lexer": "ipython3",
   "version": "3.10.13"
  }
 },
 "nbformat": 4,
 "nbformat_minor": 5
}
