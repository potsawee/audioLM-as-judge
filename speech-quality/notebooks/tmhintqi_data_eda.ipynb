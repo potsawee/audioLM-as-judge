{
 "cells": [
  {
   "cell_type": "code",
   "execution_count": 75,
   "id": "c701b5d6-36c0-4aab-b81e-9187b3da473f",
   "metadata": {},
   "outputs": [],
   "source": [
    "import os\n",
    "import json\n",
    "import random\n",
    "import pandas as pd\n",
    "import matplotlib.pyplot as plt"
   ]
  },
  {
   "cell_type": "code",
   "execution_count": 68,
   "id": "f9724607-ed5b-43b2-9ac0-06c81c8880c1",
   "metadata": {
    "scrolled": true
   },
   "outputs": [
    {
     "data": {
      "text/html": [
       "<div>\n",
       "<style scoped>\n",
       "    .dataframe tbody tr th:only-of-type {\n",
       "        vertical-align: middle;\n",
       "    }\n",
       "\n",
       "    .dataframe tbody tr th {\n",
       "        vertical-align: top;\n",
       "    }\n",
       "\n",
       "    .dataframe thead th {\n",
       "        text-align: right;\n",
       "    }\n",
       "</style>\n",
       "<table border=\"1\" class=\"dataframe\">\n",
       "  <thead>\n",
       "    <tr style=\"text-align: right;\">\n",
       "      <th></th>\n",
       "      <th>filename</th>\n",
       "      <th>Q</th>\n",
       "      <th>I</th>\n",
       "    </tr>\n",
       "  </thead>\n",
       "  <tbody>\n",
       "    <tr>\n",
       "      <th>0</th>\n",
       "      <td>DDAE_snr-2_babble_TMHINT_b2_21_06</td>\n",
       "      <td>1.000000</td>\n",
       "      <td>0.000000</td>\n",
       "    </tr>\n",
       "    <tr>\n",
       "      <th>1</th>\n",
       "      <td>DDAE_snr-2_babble_TMHINT_b2_21_08</td>\n",
       "      <td>1.000000</td>\n",
       "      <td>0.333333</td>\n",
       "    </tr>\n",
       "    <tr>\n",
       "      <th>2</th>\n",
       "      <td>DDAE_snr-2_babble_TMHINT_b2_23_04</td>\n",
       "      <td>2.000000</td>\n",
       "      <td>9.333333</td>\n",
       "    </tr>\n",
       "    <tr>\n",
       "      <th>3</th>\n",
       "      <td>DDAE_snr-2_babble_TMHINT_b2_25_08</td>\n",
       "      <td>1.000000</td>\n",
       "      <td>1.666667</td>\n",
       "    </tr>\n",
       "    <tr>\n",
       "      <th>4</th>\n",
       "      <td>DDAE_snr-2_babble_TMHINT_b2_26_04</td>\n",
       "      <td>2.750000</td>\n",
       "      <td>6.750000</td>\n",
       "    </tr>\n",
       "    <tr>\n",
       "      <th>...</th>\n",
       "      <td>...</td>\n",
       "      <td>...</td>\n",
       "      <td>...</td>\n",
       "    </tr>\n",
       "    <tr>\n",
       "      <th>1973</th>\n",
       "      <td>clean_TMHINT_g4_32_05</td>\n",
       "      <td>4.666667</td>\n",
       "      <td>10.000000</td>\n",
       "    </tr>\n",
       "    <tr>\n",
       "      <th>1974</th>\n",
       "      <td>clean_TMHINT_g4_32_06</td>\n",
       "      <td>5.000000</td>\n",
       "      <td>10.000000</td>\n",
       "    </tr>\n",
       "    <tr>\n",
       "      <th>1975</th>\n",
       "      <td>clean_TMHINT_g4_32_07</td>\n",
       "      <td>5.000000</td>\n",
       "      <td>10.000000</td>\n",
       "    </tr>\n",
       "    <tr>\n",
       "      <th>1976</th>\n",
       "      <td>clean_TMHINT_g4_32_08</td>\n",
       "      <td>4.000000</td>\n",
       "      <td>10.000000</td>\n",
       "    </tr>\n",
       "    <tr>\n",
       "      <th>1977</th>\n",
       "      <td>clean_TMHINT_g4_32_09</td>\n",
       "      <td>4.800000</td>\n",
       "      <td>10.000000</td>\n",
       "    </tr>\n",
       "  </tbody>\n",
       "</table>\n",
       "<p>1978 rows × 3 columns</p>\n",
       "</div>"
      ],
      "text/plain": [
       "                               filename         Q          I\n",
       "0     DDAE_snr-2_babble_TMHINT_b2_21_06  1.000000   0.000000\n",
       "1     DDAE_snr-2_babble_TMHINT_b2_21_08  1.000000   0.333333\n",
       "2     DDAE_snr-2_babble_TMHINT_b2_23_04  2.000000   9.333333\n",
       "3     DDAE_snr-2_babble_TMHINT_b2_25_08  1.000000   1.666667\n",
       "4     DDAE_snr-2_babble_TMHINT_b2_26_04  2.750000   6.750000\n",
       "...                                 ...       ...        ...\n",
       "1973              clean_TMHINT_g4_32_05  4.666667  10.000000\n",
       "1974              clean_TMHINT_g4_32_06  5.000000  10.000000\n",
       "1975              clean_TMHINT_g4_32_07  5.000000  10.000000\n",
       "1976              clean_TMHINT_g4_32_08  4.000000  10.000000\n",
       "1977              clean_TMHINT_g4_32_09  4.800000  10.000000\n",
       "\n",
       "[1978 rows x 3 columns]"
      ]
     },
     "execution_count": 68,
     "metadata": {},
     "output_type": "execute_result"
    }
   ],
   "source": [
    "path = \"/data/share/data/Speech/TMHINTQI/cleaned_test_mos.csv\"\n",
    "data = pd.read_csv(path)\n",
    "data"
   ]
  },
  {
   "cell_type": "code",
   "execution_count": 69,
   "id": "2bcdc5b5-bf90-472a-a1eb-d852fa0412d1",
   "metadata": {},
   "outputs": [
    {
     "name": "stdout",
     "output_type": "stream",
     "text": [
      "len(uttId2transcript) 192\n"
     ]
    }
   ],
   "source": [
    "# rows with clean utterances\n",
    "uttId2transcript = {}\n",
    "path = \"/data/share/data/Speech/TMHINTQI/transcript_clean_testset_utterances.jsonl\"\n",
    "with open(path, \"r\", encoding=\"utf-8\") as file:\n",
    "    rows = [json.loads(line) for line in file]\n",
    "for row in rows:\n",
    "    audio_path = row['audio_path']\n",
    "    uttId = audio_path.split(\"/\")[-1].replace(\".wav\", \"\").split(\"TMHINT_\")[-1]\n",
    "    assert uttId not in  uttId2transcript\n",
    "    uttId2transcript[uttId] = row['transcript']\n",
    "print(\"len(uttId2transcript)\", len(uttId2transcript))"
   ]
  },
  {
   "cell_type": "code",
   "execution_count": 76,
   "id": "0abff9e7-d543-4f43-a7df-feefc63b762f",
   "metadata": {},
   "outputs": [
    {
     "data": {
      "text/plain": [
       "filename    clean_TMHINT_g4_32_09\n",
       "Q                             4.8\n",
       "I                            10.0\n",
       "Name: 1977, dtype: object"
      ]
     },
     "execution_count": 76,
     "metadata": {},
     "output_type": "execute_result"
    }
   ],
   "source": [
    "x"
   ]
  },
  {
   "cell_type": "code",
   "execution_count": 111,
   "id": "b943930c-8089-4713-bcf0-3aaf84e52674",
   "metadata": {},
   "outputs": [],
   "source": [
    "count = 0\n",
    "data_pairs = {k: [] for k in uttId2transcript.keys()}\n",
    "# there are 230 unique 'b' (utterances), of which 192 has 'clean' utterances \n",
    "# there are 97 unique systems 'a'\n",
    "for i in range(len(data)):\n",
    "    x = data.iloc[i]\n",
    "    items = x['filename'].split('TMHINT')\n",
    "    a = items[0].strip(\"_\") # systemId\n",
    "    b = items[1].strip(\"_\") # uttId\n",
    "\n",
    "    if b not in data_pairs:\n",
    "        continue\n",
    "    wav_path = f\"/data/share/data/Speech/TMHINTQI/test/{x['filename']}.wav\"\n",
    "    assert os.path.exists(wav_path)\n",
    "\n",
    "    data_pairs[b].append(\n",
    "        {\n",
    "            'system': a,\n",
    "            'row_id': i,\n",
    "            'text': uttId2transcript[b],\n",
    "            'path': wav_path,\n",
    "            'Q': x['Q'],\n",
    "            'I': x['I'],\n",
    "        }\n",
    "    )"
   ]
  },
  {
   "cell_type": "code",
   "execution_count": 112,
   "id": "bee08bc3-275d-496a-9f19-c0096880aef0",
   "metadata": {},
   "outputs": [
    {
     "data": {
      "text/plain": [
       "192"
      ]
     },
     "execution_count": 112,
     "metadata": {},
     "output_type": "execute_result"
    }
   ],
   "source": [
    "len(data_pairs)"
   ]
  },
  {
   "cell_type": "code",
   "execution_count": 113,
   "id": "d8181289-3416-4f44-bbf2-a65579577882",
   "metadata": {},
   "outputs": [
    {
     "name": "stdout",
     "output_type": "stream",
     "text": [
      "6916\n"
     ]
    }
   ],
   "source": [
    "count_pairs = 0\n",
    "for k, v in data_pairs.items():\n",
    "    n = len(v)\n",
    "    count_pairs += int(n * (n-1) * 0.5)\n",
    "print(count_pairs)"
   ]
  },
  {
   "cell_type": "code",
   "execution_count": 120,
   "id": "65776340-51c7-4e93-8544-fb1137f7374d",
   "metadata": {},
   "outputs": [],
   "source": [
    "data_pairwise = []\n",
    "for uttId, data_this_utt in data_pairs.items():\n",
    "    for i in range(0, len(data_this_utt)-1):\n",
    "        for j in range(i+1, len(data_this_utt)):\n",
    "            assert data_this_utt[i]['text'] == data_this_utt[j]['text']\n",
    "            if data_this_utt[i]['Q'] == data_this_utt[j]['Q']:\n",
    "                continue\n",
    "            item = [data_this_utt[i], data_this_utt[j]]\n",
    "            random.shuffle(item)\n",
    "            data_pairwise.append(item)"
   ]
  },
  {
   "cell_type": "code",
   "execution_count": 125,
   "id": "57b8c479-b8dd-4fa9-a262-61c93d663855",
   "metadata": {},
   "outputs": [
    {
     "data": {
      "text/plain": [
       "6475"
      ]
     },
     "execution_count": 125,
     "metadata": {},
     "output_type": "execute_result"
    }
   ],
   "source": [
    "len(data_pairwise)"
   ]
  },
  {
   "cell_type": "code",
   "execution_count": 126,
   "id": "ff98edf4-b403-4e39-b43a-7626c6ca6057",
   "metadata": {},
   "outputs": [
    {
     "data": {
      "text/plain": [
       "[{'system': 'FCN_snr-2_white',\n",
       "  'row_id': 379,\n",
       "  'text': '我爸爸最喜欢喝龙井茶',\n",
       "  'path': '/data/share/data/Speech/TMHINTQI/test/FCN_snr-2_white_TMHINT_g4_21_01.wav',\n",
       "  'Q': 2.6666666666666665,\n",
       "  'I': 6.333333333333333},\n",
       " {'system': 'FCN_snr-2_street',\n",
       "  'row_id': 359,\n",
       "  'text': '我爸爸最喜欢喝龙井茶',\n",
       "  'path': '/data/share/data/Speech/TMHINTQI/test/FCN_snr-2_street_TMHINT_g4_21_01.wav',\n",
       "  'Q': 2.0,\n",
       "  'I': 9.0}]"
      ]
     },
     "execution_count": 126,
     "metadata": {},
     "output_type": "execute_result"
    }
   ],
   "source": [
    "random.choice(data_pairwise)"
   ]
  },
  {
   "cell_type": "code",
   "execution_count": 124,
   "id": "19bc3ef0-cdd9-4929-a7df-4f9a27018099",
   "metadata": {},
   "outputs": [],
   "source": [
    "with open(\"../data/data_tmhintqi_pairwise_diffall.json\", \"w\") as f:\n",
    "    json.dump(data_pairwise, f, indent=4, ensure_ascii=False)"
   ]
  }
 ],
 "metadata": {
  "kernelspec": {
   "display_name": "Python 3 (ipykernel)",
   "language": "python",
   "name": "python3"
  },
  "language_info": {
   "codemirror_mode": {
    "name": "ipython",
    "version": 3
   },
   "file_extension": ".py",
   "mimetype": "text/x-python",
   "name": "python",
   "nbconvert_exporter": "python",
   "pygments_lexer": "ipython3",
   "version": "3.10.13"
  }
 },
 "nbformat": 4,
 "nbformat_minor": 5
}
