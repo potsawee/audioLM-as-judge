{
 "cells": [
  {
   "cell_type": "code",
   "execution_count": 1,
   "id": "a4ea524e-83e4-46e4-a9f7-244e568e15c1",
   "metadata": {},
   "outputs": [],
   "source": [
    "import json\n",
    "import os\n",
    "import random\n",
    "from tqdm import tqdm\n",
    "from datasets import Dataset, Audio"
   ]
  },
  {
   "cell_type": "markdown",
   "id": "a281298d-420b-422c-a80c-154ad26e7238",
   "metadata": {},
   "source": [
    "# Somos"
   ]
  },
  {
   "cell_type": "code",
   "execution_count": 2,
   "id": "8594b67b-7456-41d2-9d2f-d1981100773b",
   "metadata": {},
   "outputs": [
    {
     "name": "stdout",
     "output_type": "stream",
     "text": [
      "len(data): 3567\n"
     ]
    }
   ],
   "source": [
    "data_path = \"../data/data_somos_pairwise_diffall.json\"\n",
    "with open(data_path) as f:\n",
    "    data = json.load(f)\n",
    "print(\"len(data):\", len(data))"
   ]
  },
  {
   "cell_type": "code",
   "execution_count": 3,
   "id": "3adf0fe1-7cdf-4b65-bded-013893e52bd6",
   "metadata": {},
   "outputs": [],
   "source": [
    "arr_text = []\n",
    "arr_audio_a_path = []\n",
    "arr_audio_b_path = []\n",
    "arr_audio_a_mos = []\n",
    "arr_audio_b_mos = []\n",
    "for i in range(len(data)):\n",
    "    if random.randint(0, 1) == 0:\n",
    "        audio_a, audio_b = data[i]\n",
    "    else:\n",
    "        audio_b, audio_a = data[i]\n",
    "        \n",
    "    assert audio_a[\"text\"] == audio_b[\"text\"]\n",
    "    text = audio_a[\"text\"]\n",
    "    arr_text.append(text)\n",
    "    arr_audio_a_path.append(audio_a['path'])\n",
    "    arr_audio_b_path.append(audio_b['path'])\n",
    "    arr_audio_a_mos.append(audio_a['mos'])\n",
    "    arr_audio_b_mos.append(audio_b['mos'])"
   ]
  },
  {
   "cell_type": "code",
   "execution_count": 4,
   "id": "9037c393-f7a9-42dc-bfda-9bad3290a1b3",
   "metadata": {},
   "outputs": [],
   "source": [
    "somos_dataset = Dataset.from_dict(\n",
    "    {\n",
    "        \"audio_a\": arr_audio_a_path,\n",
    "        \"audio_b\": arr_audio_b_path,\n",
    "        \"mos_a\": arr_audio_a_mos,\n",
    "        \"mos_b\": arr_audio_b_mos,\n",
    "        \"text\": arr_text,\n",
    "    }\n",
    ").cast_column(\"audio_a\", Audio()).cast_column(\"audio_b\", Audio())"
   ]
  },
  {
   "cell_type": "code",
   "execution_count": 5,
   "id": "7166299e-c977-46d1-a388-d8255ed43f98",
   "metadata": {},
   "outputs": [
    {
     "data": {
      "text/plain": [
       "3567"
      ]
     },
     "execution_count": 5,
     "metadata": {},
     "output_type": "execute_result"
    }
   ],
   "source": [
    "len(somos_dataset)"
   ]
  },
  {
   "cell_type": "code",
   "execution_count": 6,
   "id": "decc8af1-6133-4d4c-86af-a36441b4dff9",
   "metadata": {},
   "outputs": [
    {
     "data": {
      "text/plain": [
       "{'audio_a': {'path': '/data/share/data/Speech/somos/audios/LJ037-0186_164.wav',\n",
       "  'array': array([-9.15527344e-05, -1.22070312e-04, -3.05175781e-05, ...,\n",
       "          1.83105469e-04,  6.10351562e-05,  2.13623047e-04]),\n",
       "  'sampling_rate': 24000},\n",
       " 'audio_b': {'path': '/data/share/data/Speech/somos/audios/LJ037-0186_016.wav',\n",
       "  'array': array([-1.22070312e-04, -1.52587891e-04, -6.10351562e-05, ...,\n",
       "         -3.66210938e-04, -3.35693359e-04, -2.74658203e-04]),\n",
       "  'sampling_rate': 24000},\n",
       " 'mos_a': 2.5,\n",
       " 'mos_b': 3.25,\n",
       " 'text': 'disclosed that, on january third nineteen sixty three.'}"
      ]
     },
     "execution_count": 6,
     "metadata": {},
     "output_type": "execute_result"
    }
   ],
   "source": [
    "somos_dataset[100]"
   ]
  },
  {
   "cell_type": "code",
   "execution_count": 19,
   "id": "4cb2a6ac-57ac-459e-8135-e761c087be28",
   "metadata": {},
   "outputs": [],
   "source": [
    "# from huggingface_hub import login\n",
    "# login(token=\"\")"
   ]
  },
  {
   "cell_type": "code",
   "execution_count": 18,
   "id": "315713d3-5a9b-44ec-b108-96083466696f",
   "metadata": {},
   "outputs": [
    {
     "data": {
      "application/vnd.jupyter.widget-view+json": {
       "model_id": "51a4fda9b999440d9b0c78bb4b86c2f5",
       "version_major": 2,
       "version_minor": 0
      },
      "text/plain": [
       "Uploading the dataset shards:   0%|          | 0/4 [00:00<?, ?it/s]"
      ]
     },
     "metadata": {},
     "output_type": "display_data"
    },
    {
     "data": {
      "application/vnd.jupyter.widget-view+json": {
       "model_id": "31b16b336d0240799ab8e6df94a3bd21",
       "version_major": 2,
       "version_minor": 0
      },
      "text/plain": [
       "Map:   0%|          | 0/892 [00:00<?, ? examples/s]"
      ]
     },
     "metadata": {},
     "output_type": "display_data"
    },
    {
     "data": {
      "application/vnd.jupyter.widget-view+json": {
       "model_id": "0465a134cab34d61bfb923ce95bca0a8",
       "version_major": 2,
       "version_minor": 0
      },
      "text/plain": [
       "Creating parquet from Arrow format:   0%|          | 0/9 [00:00<?, ?ba/s]"
      ]
     },
     "metadata": {},
     "output_type": "display_data"
    },
    {
     "data": {
      "application/vnd.jupyter.widget-view+json": {
       "model_id": "3c06a7f3c90d4d28a420cc885a7d7a6c",
       "version_major": 2,
       "version_minor": 0
      },
      "text/plain": [
       "Map:   0%|          | 0/892 [00:00<?, ? examples/s]"
      ]
     },
     "metadata": {},
     "output_type": "display_data"
    },
    {
     "data": {
      "application/vnd.jupyter.widget-view+json": {
       "model_id": "5d8288b52da14e598e1b9999fe8e1c6c",
       "version_major": 2,
       "version_minor": 0
      },
      "text/plain": [
       "Creating parquet from Arrow format:   0%|          | 0/9 [00:00<?, ?ba/s]"
      ]
     },
     "metadata": {},
     "output_type": "display_data"
    },
    {
     "data": {
      "application/vnd.jupyter.widget-view+json": {
       "model_id": "29be92abbb5b40ea88ed6c38a4b5c00d",
       "version_major": 2,
       "version_minor": 0
      },
      "text/plain": [
       "Map:   0%|          | 0/892 [00:00<?, ? examples/s]"
      ]
     },
     "metadata": {},
     "output_type": "display_data"
    },
    {
     "data": {
      "application/vnd.jupyter.widget-view+json": {
       "model_id": "0ade78a979a6467b9e8f6394626185aa",
       "version_major": 2,
       "version_minor": 0
      },
      "text/plain": [
       "Creating parquet from Arrow format:   0%|          | 0/9 [00:00<?, ?ba/s]"
      ]
     },
     "metadata": {},
     "output_type": "display_data"
    },
    {
     "data": {
      "application/vnd.jupyter.widget-view+json": {
       "model_id": "c7770497d3c44efbbd3299e0ca6d0c11",
       "version_major": 2,
       "version_minor": 0
      },
      "text/plain": [
       "Map:   0%|          | 0/891 [00:00<?, ? examples/s]"
      ]
     },
     "metadata": {},
     "output_type": "display_data"
    },
    {
     "data": {
      "application/vnd.jupyter.widget-view+json": {
       "model_id": "4b481a822af64120a6ce92474cd67dfd",
       "version_major": 2,
       "version_minor": 0
      },
      "text/plain": [
       "Creating parquet from Arrow format:   0%|          | 0/9 [00:00<?, ?ba/s]"
      ]
     },
     "metadata": {},
     "output_type": "display_data"
    },
    {
     "data": {
      "text/plain": [
       "CommitInfo(commit_url='https://huggingface.co/datasets/potsawee/pairwise_speech_quality_somos/commit/6a17ef5210fbed0c0d66503e0f6834a548f60402', commit_message='Upload dataset', commit_description='', oid='6a17ef5210fbed0c0d66503e0f6834a548f60402', pr_url=None, repo_url=RepoUrl('https://huggingface.co/datasets/potsawee/pairwise_speech_quality_somos', endpoint='https://huggingface.co', repo_type='dataset', repo_id='potsawee/pairwise_speech_quality_somos'), pr_revision=None, pr_num=None)"
      ]
     },
     "execution_count": 18,
     "metadata": {},
     "output_type": "execute_result"
    }
   ],
   "source": [
    "somos_dataset.push_to_hub(\"potsawee/pairwise_speech_quality_somos\")"
   ]
  },
  {
   "cell_type": "markdown",
   "id": "76f7ec01-bae7-4e02-8772-e1e19b28d13e",
   "metadata": {},
   "source": [
    "# TMHINT"
   ]
  },
  {
   "cell_type": "code",
   "execution_count": 20,
   "id": "ded122eb-2aec-4ef8-9e41-58e766476fe4",
   "metadata": {},
   "outputs": [
    {
     "name": "stdout",
     "output_type": "stream",
     "text": [
      "len(data): 6475\n"
     ]
    }
   ],
   "source": [
    "data_path = \"../data/data_tmhintqi_pairwise_diffall.json\"\n",
    "with open(data_path) as f:\n",
    "    data = json.load(f)\n",
    "print(\"len(data):\", len(data))"
   ]
  },
  {
   "cell_type": "code",
   "execution_count": 22,
   "id": "6e9d6164-ae9c-4c4e-a41f-a4b9808639fe",
   "metadata": {},
   "outputs": [
    {
     "data": {
      "text/plain": [
       "{'system': 'KLT_snr0_babble',\n",
       " 'row_id': 695,\n",
       " 'text': '我爸爸最喜欢喝龙井茶',\n",
       " 'path': '/data/share/data/Speech/TMHINTQI/test/KLT_snr0_babble_TMHINT_b2_21_01.wav',\n",
       " 'Q': 2.25,\n",
       " 'I': 6.25}"
      ]
     },
     "execution_count": 22,
     "metadata": {},
     "output_type": "execute_result"
    }
   ],
   "source": [
    "data[0][0]"
   ]
  },
  {
   "cell_type": "code",
   "execution_count": 23,
   "id": "a3289418-d03f-470a-94dd-99b399a81797",
   "metadata": {},
   "outputs": [],
   "source": [
    "arr_text = []\n",
    "arr_audio_a_path = []\n",
    "arr_audio_b_path = []\n",
    "arr_audio_a_Q = []\n",
    "arr_audio_b_Q = []\n",
    "arr_audio_a_I = []\n",
    "arr_audio_b_I = []\n",
    "for i in range(len(data)):\n",
    "    audio_a, audio_b = data[i]        \n",
    "    assert audio_a[\"text\"] == audio_b[\"text\"]\n",
    "    text = audio_a[\"text\"]\n",
    "    arr_text.append(text)\n",
    "    arr_audio_a_path.append(audio_a['path'])\n",
    "    arr_audio_b_path.append(audio_b['path'])\n",
    "    arr_audio_a_Q.append(audio_a['Q'])\n",
    "    arr_audio_b_Q.append(audio_b['Q'])\n",
    "    arr_audio_a_I.append(audio_a['I'])\n",
    "    arr_audio_b_I.append(audio_b['I'])"
   ]
  },
  {
   "cell_type": "code",
   "execution_count": 24,
   "id": "a9106397-3cf7-4de6-ab59-1bce3e9e28c1",
   "metadata": {},
   "outputs": [],
   "source": [
    "tmhint_dataset = Dataset.from_dict(\n",
    "    {\n",
    "        \"audio_a\": arr_audio_a_path,\n",
    "        \"audio_b\": arr_audio_b_path,\n",
    "        \"mos_Q_a\": arr_audio_a_Q,\n",
    "        \"mos_Q_b\": arr_audio_b_Q,\n",
    "        \"mos_I_a\": arr_audio_a_I,\n",
    "        \"mos_I_b\": arr_audio_b_I,\n",
    "        \"text\": arr_text,\n",
    "    }\n",
    ").cast_column(\"audio_a\", Audio()).cast_column(\"audio_b\", Audio())"
   ]
  },
  {
   "cell_type": "code",
   "execution_count": 25,
   "id": "fe65fc75-c21d-4c66-a196-0286395f1e2c",
   "metadata": {},
   "outputs": [
    {
     "data": {
      "text/plain": [
       "6475"
      ]
     },
     "execution_count": 25,
     "metadata": {},
     "output_type": "execute_result"
    }
   ],
   "source": [
    "len(tmhint_dataset)"
   ]
  },
  {
   "cell_type": "code",
   "execution_count": 33,
   "id": "64df5e45-e0be-4b78-bd1a-5b30cf04d238",
   "metadata": {},
   "outputs": [
    {
     "data": {
      "text/plain": [
       "{'audio_a': {'path': '/data/share/data/Speech/TMHINTQI/test/MMSE_snr0_babble_TMHINT_b2_21_02.wav',\n",
       "  'array': array([ 0.        ,  0.        ,  0.        , ..., -0.02938068,\n",
       "         -0.01923483, -0.00507292]),\n",
       "  'sampling_rate': 16000},\n",
       " 'audio_b': {'path': '/data/share/data/Speech/TMHINTQI/test/DDAE_snr5_white_TMHINT_b2_21_02.wav',\n",
       "  'array': array([0.29163173, 0.38553271, 0.20101477, ..., 0.        , 0.        ,\n",
       "         0.        ]),\n",
       "  'sampling_rate': 16000},\n",
       " 'mos_Q_a': 1.3333333333333333,\n",
       " 'mos_Q_b': 2.75,\n",
       " 'mos_I_a': 3.333333333333333,\n",
       " 'mos_I_b': 10.0,\n",
       " 'text': '我刚刚把作业交给老师'}"
      ]
     },
     "execution_count": 33,
     "metadata": {},
     "output_type": "execute_result"
    }
   ],
   "source": [
    "tmhint_dataset[24]"
   ]
  },
  {
   "cell_type": "code",
   "execution_count": 26,
   "id": "f09e4925-a7fc-47f8-81b7-e290acdbb285",
   "metadata": {},
   "outputs": [
    {
     "data": {
      "application/vnd.jupyter.widget-view+json": {
       "model_id": "1cbde5a619684195a30f4de16bd86d9b",
       "version_major": 2,
       "version_minor": 0
      },
      "text/plain": [
       "Uploading the dataset shards:   0%|          | 0/6 [00:00<?, ?it/s]"
      ]
     },
     "metadata": {},
     "output_type": "display_data"
    },
    {
     "data": {
      "application/vnd.jupyter.widget-view+json": {
       "model_id": "b790fc5f96db4de88eed9dae8e9c6da9",
       "version_major": 2,
       "version_minor": 0
      },
      "text/plain": [
       "Map:   0%|          | 0/1080 [00:00<?, ? examples/s]"
      ]
     },
     "metadata": {},
     "output_type": "display_data"
    },
    {
     "data": {
      "application/vnd.jupyter.widget-view+json": {
       "model_id": "b748c8174f2a4db59f88930574fa1d82",
       "version_major": 2,
       "version_minor": 0
      },
      "text/plain": [
       "Creating parquet from Arrow format:   0%|          | 0/11 [00:00<?, ?ba/s]"
      ]
     },
     "metadata": {},
     "output_type": "display_data"
    },
    {
     "data": {
      "application/vnd.jupyter.widget-view+json": {
       "model_id": "28f4ac8d6bfa4555aa37b1a6bac154c3",
       "version_major": 2,
       "version_minor": 0
      },
      "text/plain": [
       "Map:   0%|          | 0/1079 [00:00<?, ? examples/s]"
      ]
     },
     "metadata": {},
     "output_type": "display_data"
    },
    {
     "data": {
      "application/vnd.jupyter.widget-view+json": {
       "model_id": "bf5bff94b40d43b5a9a64fa4eef5a295",
       "version_major": 2,
       "version_minor": 0
      },
      "text/plain": [
       "Creating parquet from Arrow format:   0%|          | 0/11 [00:00<?, ?ba/s]"
      ]
     },
     "metadata": {},
     "output_type": "display_data"
    },
    {
     "data": {
      "application/vnd.jupyter.widget-view+json": {
       "model_id": "d37cc7389ea84c25a38f4ff14182a87d",
       "version_major": 2,
       "version_minor": 0
      },
      "text/plain": [
       "Map:   0%|          | 0/1079 [00:00<?, ? examples/s]"
      ]
     },
     "metadata": {},
     "output_type": "display_data"
    },
    {
     "data": {
      "application/vnd.jupyter.widget-view+json": {
       "model_id": "dfef05eb27e2437798142d10519df880",
       "version_major": 2,
       "version_minor": 0
      },
      "text/plain": [
       "Creating parquet from Arrow format:   0%|          | 0/11 [00:00<?, ?ba/s]"
      ]
     },
     "metadata": {},
     "output_type": "display_data"
    },
    {
     "data": {
      "application/vnd.jupyter.widget-view+json": {
       "model_id": "bc3ff8aa35ba4c6ba5f74cdc8e0bcedd",
       "version_major": 2,
       "version_minor": 0
      },
      "text/plain": [
       "Map:   0%|          | 0/1079 [00:00<?, ? examples/s]"
      ]
     },
     "metadata": {},
     "output_type": "display_data"
    },
    {
     "data": {
      "application/vnd.jupyter.widget-view+json": {
       "model_id": "08980fc11ba34f0281a5ffbdd73dd767",
       "version_major": 2,
       "version_minor": 0
      },
      "text/plain": [
       "Creating parquet from Arrow format:   0%|          | 0/11 [00:00<?, ?ba/s]"
      ]
     },
     "metadata": {},
     "output_type": "display_data"
    },
    {
     "data": {
      "application/vnd.jupyter.widget-view+json": {
       "model_id": "60785bb10dbe4843a3ace0be0de0e103",
       "version_major": 2,
       "version_minor": 0
      },
      "text/plain": [
       "Map:   0%|          | 0/1079 [00:00<?, ? examples/s]"
      ]
     },
     "metadata": {},
     "output_type": "display_data"
    },
    {
     "data": {
      "application/vnd.jupyter.widget-view+json": {
       "model_id": "afb656e32a154ee0ae4c37a22995c455",
       "version_major": 2,
       "version_minor": 0
      },
      "text/plain": [
       "Creating parquet from Arrow format:   0%|          | 0/11 [00:00<?, ?ba/s]"
      ]
     },
     "metadata": {},
     "output_type": "display_data"
    },
    {
     "data": {
      "application/vnd.jupyter.widget-view+json": {
       "model_id": "997d747f063e412e8feb083b5f6b57b6",
       "version_major": 2,
       "version_minor": 0
      },
      "text/plain": [
       "Map:   0%|          | 0/1079 [00:00<?, ? examples/s]"
      ]
     },
     "metadata": {},
     "output_type": "display_data"
    },
    {
     "data": {
      "application/vnd.jupyter.widget-view+json": {
       "model_id": "f8ed7f5508cf41568c712bfdffde04de",
       "version_major": 2,
       "version_minor": 0
      },
      "text/plain": [
       "Creating parquet from Arrow format:   0%|          | 0/11 [00:00<?, ?ba/s]"
      ]
     },
     "metadata": {},
     "output_type": "display_data"
    },
    {
     "data": {
      "text/plain": [
       "CommitInfo(commit_url='https://huggingface.co/datasets/potsawee/pairwise_speech_quality_tmhint/commit/481c0be0d907b37d17514ed6d714aad38b7dba25', commit_message='Upload dataset', commit_description='', oid='481c0be0d907b37d17514ed6d714aad38b7dba25', pr_url=None, repo_url=RepoUrl('https://huggingface.co/datasets/potsawee/pairwise_speech_quality_tmhint', endpoint='https://huggingface.co', repo_type='dataset', repo_id='potsawee/pairwise_speech_quality_tmhint'), pr_revision=None, pr_num=None)"
      ]
     },
     "execution_count": 26,
     "metadata": {},
     "output_type": "execute_result"
    }
   ],
   "source": [
    "tmhint_dataset.push_to_hub(\"potsawee/pairwise_speech_quality_tmhint\")"
   ]
  },
  {
   "cell_type": "markdown",
   "id": "f4ce2946-c63c-4f8e-b3f9-145de637ec17",
   "metadata": {},
   "source": [
    "# ThaiMOS"
   ]
  },
  {
   "cell_type": "code",
   "execution_count": 27,
   "id": "7927a387-6eae-447b-8d6e-58d2bea3c7f2",
   "metadata": {},
   "outputs": [
    {
     "name": "stdout",
     "output_type": "stream",
     "text": [
      "len(data): 3300\n"
     ]
    }
   ],
   "source": [
    "data_path = \"../data/data_thaimos_pairwise_diffall.json\"\n",
    "with open(data_path) as f:\n",
    "    data = json.load(f)\n",
    "print(\"len(data):\", len(data))"
   ]
  },
  {
   "cell_type": "code",
   "execution_count": 28,
   "id": "bc7ae4ec-1888-476d-bd9b-f9f2f5c96f22",
   "metadata": {},
   "outputs": [
    {
     "data": {
      "text/plain": [
       "{'system': 'macOS',\n",
       " 'datawow_id': 1481,\n",
       " 'path': '/data/share/data/Speech/dataWow/audios/macOS/sentence_31.wav',\n",
       " 'text': 'ย้อนกลับไปดูเค้าโครงและรายการเอกสารประกอบการสอน สมัยยังมีแรง ตอนนี้ไม่มีแล้ว หมด โฮ',\n",
       " 'sound': 3.875,\n",
       " 'rhythm': 2.9375,\n",
       " 'pronunciation': 2.25}"
      ]
     },
     "execution_count": 28,
     "metadata": {},
     "output_type": "execute_result"
    }
   ],
   "source": [
    "data[0][0]"
   ]
  },
  {
   "cell_type": "code",
   "execution_count": 29,
   "id": "465d2833-c156-4abe-85b9-d315aa6195fd",
   "metadata": {},
   "outputs": [],
   "source": [
    "arr_text = []\n",
    "arr_audio_a_path = []\n",
    "arr_audio_b_path = []\n",
    "arr_audio_a_mos_pronunciation = []\n",
    "arr_audio_b_mos_pronunciation = []\n",
    "for i in range(len(data)):\n",
    "    audio_a, audio_b = data[i]        \n",
    "    assert audio_a[\"text\"] == audio_b[\"text\"]\n",
    "    text = audio_a[\"text\"]\n",
    "    arr_text.append(text)\n",
    "    arr_audio_a_path.append(audio_a['path'])\n",
    "    arr_audio_b_path.append(audio_b['path'])\n",
    "    arr_audio_a_mos_pronunciation.append(audio_a['pronunciation'])\n",
    "    arr_audio_b_mos_pronunciation.append(audio_b['pronunciation'])"
   ]
  },
  {
   "cell_type": "code",
   "execution_count": 30,
   "id": "f04edd54-7864-4be3-a306-1596f83431f8",
   "metadata": {},
   "outputs": [],
   "source": [
    "thaimos_dataset = Dataset.from_dict(\n",
    "    {\n",
    "        \"audio_a\": arr_audio_a_path,\n",
    "        \"audio_b\": arr_audio_b_path,\n",
    "        \"mos_pronunciation_a\": arr_audio_a_mos_pronunciation,\n",
    "        \"mos_pronunciation_b\": arr_audio_b_mos_pronunciation,\n",
    "        \"text\": arr_text,\n",
    "    }\n",
    ").cast_column(\"audio_a\", Audio()).cast_column(\"audio_b\", Audio())"
   ]
  },
  {
   "cell_type": "code",
   "execution_count": 31,
   "id": "49e034ce-a576-45a7-ace8-438436cafa13",
   "metadata": {},
   "outputs": [
    {
     "data": {
      "text/plain": [
       "3300"
      ]
     },
     "execution_count": 31,
     "metadata": {},
     "output_type": "execute_result"
    }
   ],
   "source": [
    "len(thaimos_dataset)"
   ]
  },
  {
   "cell_type": "code",
   "execution_count": 34,
   "id": "f8700762-5293-4fce-b16a-e1f9c70e7516",
   "metadata": {},
   "outputs": [
    {
     "data": {
      "application/vnd.jupyter.widget-view+json": {
       "model_id": "c07d6099047248098097ede35ecb75e2",
       "version_major": 2,
       "version_minor": 0
      },
      "text/plain": [
       "Uploading the dataset shards:   0%|          | 0/3 [00:00<?, ?it/s]"
      ]
     },
     "metadata": {},
     "output_type": "display_data"
    },
    {
     "data": {
      "application/vnd.jupyter.widget-view+json": {
       "model_id": "732cd7f179ea4b13ab02e51e5db8ea0e",
       "version_major": 2,
       "version_minor": 0
      },
      "text/plain": [
       "Map:   0%|          | 0/1100 [00:00<?, ? examples/s]"
      ]
     },
     "metadata": {},
     "output_type": "display_data"
    },
    {
     "data": {
      "application/vnd.jupyter.widget-view+json": {
       "model_id": "dc6f8a4cfbd24c6cab2a22525b1de20e",
       "version_major": 2,
       "version_minor": 0
      },
      "text/plain": [
       "Creating parquet from Arrow format:   0%|          | 0/11 [00:00<?, ?ba/s]"
      ]
     },
     "metadata": {},
     "output_type": "display_data"
    },
    {
     "data": {
      "application/vnd.jupyter.widget-view+json": {
       "model_id": "e61d5db49beb47679bf0149c0ce8f09e",
       "version_major": 2,
       "version_minor": 0
      },
      "text/plain": [
       "Map:   0%|          | 0/1100 [00:00<?, ? examples/s]"
      ]
     },
     "metadata": {},
     "output_type": "display_data"
    },
    {
     "data": {
      "application/vnd.jupyter.widget-view+json": {
       "model_id": "3a72de0e74a3482a8c9b939be8e6f829",
       "version_major": 2,
       "version_minor": 0
      },
      "text/plain": [
       "Creating parquet from Arrow format:   0%|          | 0/11 [00:00<?, ?ba/s]"
      ]
     },
     "metadata": {},
     "output_type": "display_data"
    },
    {
     "data": {
      "application/vnd.jupyter.widget-view+json": {
       "model_id": "0a867fb9e4564bea82004b138b4f63f7",
       "version_major": 2,
       "version_minor": 0
      },
      "text/plain": [
       "Map:   0%|          | 0/1100 [00:00<?, ? examples/s]"
      ]
     },
     "metadata": {},
     "output_type": "display_data"
    },
    {
     "data": {
      "application/vnd.jupyter.widget-view+json": {
       "model_id": "080cde26d8434651b4271b4155f6b8cf",
       "version_major": 2,
       "version_minor": 0
      },
      "text/plain": [
       "Creating parquet from Arrow format:   0%|          | 0/11 [00:00<?, ?ba/s]"
      ]
     },
     "metadata": {},
     "output_type": "display_data"
    },
    {
     "data": {
      "text/plain": [
       "CommitInfo(commit_url='https://huggingface.co/datasets/potsawee/pairwise_speech_quality_thaimos/commit/7d2ff14bba244af16532aeabe3e705dd99b8204a', commit_message='Upload dataset', commit_description='', oid='7d2ff14bba244af16532aeabe3e705dd99b8204a', pr_url=None, repo_url=RepoUrl('https://huggingface.co/datasets/potsawee/pairwise_speech_quality_thaimos', endpoint='https://huggingface.co', repo_type='dataset', repo_id='potsawee/pairwise_speech_quality_thaimos'), pr_revision=None, pr_num=None)"
      ]
     },
     "execution_count": 34,
     "metadata": {},
     "output_type": "execute_result"
    }
   ],
   "source": [
    "thaimos_dataset.push_to_hub(\"potsawee/pairwise_speech_quality_thaimos\")"
   ]
  },
  {
   "cell_type": "code",
   "execution_count": null,
   "id": "cda8f740-53ef-4cd5-8312-859a28efe4a4",
   "metadata": {},
   "outputs": [],
   "source": []
  }
 ],
 "metadata": {
  "kernelspec": {
   "display_name": "Python 3 (ipykernel)",
   "language": "python",
   "name": "python3"
  },
  "language_info": {
   "codemirror_mode": {
    "name": "ipython",
    "version": 3
   },
   "file_extension": ".py",
   "mimetype": "text/x-python",
   "name": "python",
   "nbconvert_exporter": "python",
   "pygments_lexer": "ipython3",
   "version": "3.10.13"
  }
 },
 "nbformat": 4,
 "nbformat_minor": 5
}
