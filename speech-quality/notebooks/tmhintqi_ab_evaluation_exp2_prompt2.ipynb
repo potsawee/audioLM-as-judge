{
 "cells": [
  {
   "cell_type": "code",
   "execution_count": 61,
   "id": "6c593004-db35-4c02-9770-e491cf89c268",
   "metadata": {},
   "outputs": [],
   "source": [
    "import json\n",
    "import re"
   ]
  },
  {
   "cell_type": "code",
   "execution_count": 30,
   "id": "3367aa81-ffa3-44ec-9c09-1f101c4c709e",
   "metadata": {},
   "outputs": [],
   "source": [
    "def post_processing(judge_text):\n",
    "    # typo lol\n",
    "    # judge_text = judge_text.replace(\"</verduct>\", \"</verdict>\")\n",
    "    # judge_text = judge_text.replace(\"</verddict>\", \"</verdict>\")\n",
    "    judge_text = judge_text.replace(\"<Verdict>\", \"<verdict>\")\n",
    "    judge_text = judge_text.replace(\"</Verdict>\", \"</verdict>\")\n",
    "    # judge_text = judge_text.replace(\"<verdict>B</verdict>\", \"<verdict>[[B]]</verdict>\")\n",
    "    # judge_text = judge_text.replace(\"Verdict: [[A]] </verdict>\", \"<verdict>[[A]]</verdict>\")\n",
    "    judge_text = judge_text.replace('<victory> [[A]] </victory>', \"<verdict>[[A]]</verdict>\")\n",
    "    judge_text = judge_text.replace('</verdict> [[B]] </verdict>', \"<verdict>[[B]]</verdict>\")\n",
    "    judge_text = judge_text.replace('\"verdict\": \"[[A]]\"', \"<verdict>[[A]]</verdict>\")\n",
    "    judge_text = judge_text.replace('\"verdict\": [[\"A\"]]', \"<verdict>[[A]]</verdict>\")\n",
    "    judge_text = judge_text.replace('\"verdict\": \"[[B]]\"', \"<verdict>[[B]]</verdict>\")\n",
    "    judge_text = judge_text.replace('\"verdict\": \"[[A]]\" \"/verdict\"', \"<verdict>[[A]]</verdict>\")\n",
    "    judge_text = judge_text.replace('\"verdict\": [[A]]', \"<verdict>[[A]]</verdict>\")\n",
    "    judge_text = judge_text.replace('```verdict\\n[[B]]\\n```', \"<verdict>[[B]]</verdict>\")\n",
    "    judge_text = judge_text.replace('{\"verdict\"} [[B]] {\"verdict\"}', \"<verdict>[[B]]</verdict>\")\n",
    "    judge_text = judge_text.replace('\"verdict\":\"[[B]]\"', \"<verdict>[[B]]</verdict>\")\n",
    "    judge_text = judge_text.replace('</verdict> [[A]] </verdict>', \"<verdict> [[A]] </verdict>\")\n",
    "    judge_text = judge_text.replace('\"verdict\":\"[[A]]\"', \"<verdict> [[A]] </verdict>\")\n",
    "    judge_text = judge_text.replace('\"`verdict`: [[B]]\"', \"<verdict> [[A]] </verdict>\")\n",
    "    judge_text = judge_text.replace('{\"verdict\": \"B\"}', \"<verdict> [[A]] </verdict>\")\n",
    "    judge_text = judge_text.replace('Audio A performs better than Audio B', \"<verdict> [[A]] </verdict>\")\n",
    "    judge_text = judge_text.replace('\"verdict\": [[B]]', \"<verdict> [[B]] </verdict>\")\n",
    "    judge_text = judge_text.replace('Based on the analysis, Audio A demonstrates superior pronunciation clarity and accuracy compared to Audio B', \"<verdict> [[A]] </verdict>\")\n",
    "    judge_text = judge_text.replace('\"verdict\" [[B]] </verdict>', \"<verdict> [[B]] </verdict>\")\n",
    "\n",
    "\n",
    "    judge_text = judge_text.replace('{\"verdict\"} [[A]] {\"verdict\"}', \"<verdict> [[A]] </verdict>\")\n",
    "    judge_text = judge_text.replace('{verdict} [[A]] {verdict}', \"<verdict> [[A]] </verdict>\")\n",
    "    judge_text = judge_text.replace('[verdict] [[A]] [/verdict]', \"<verdict> [[A]] </verdict>\")\n",
    "    judge_text = judge_text.replace('/verdict\": \"[[B]]}\"', \"<verdict> [[B]] </verdict>\")\n",
    "    # judge_text = judge_text.replace(\"\\verdict\\ [[A]] \\verdict\\\\\", \"<verdict> [[A]] </verdict>\")\n",
    "    judge_text = judge_text.replace('{\"Verdict\": \"[[B]]\"}', \"<verdict> [[B]] </verdict>\")\n",
    "    judge_text = judge_text.replace('{\"verdict\" \"[[B]]\" \"verdict\"}', \"<verdict> [[B]] </verdict>\")\n",
    "    # judge_text = judge_text.replace('', \"<verdict> [[B]] </verdict>\")\n",
    "    judge_text = judge_text.replace('Verdict: [[A]]', \"<verdict> [[A]] </verdict>\")\n",
    "    judge_text = judge_text.replace('Verdict: [[A]]', \"<verdict> [[A]] </verdict>\")\n",
    "\n",
    "\n",
    "    \n",
    "    return judge_text"
   ]
  },
  {
   "cell_type": "code",
   "execution_count": 31,
   "id": "6c0022c1-78c7-4566-945c-f281d78e212f",
   "metadata": {},
   "outputs": [],
   "source": [
    "def read_output_file(path, reverse=False):\n",
    "    outputs = []\n",
    "    with open(path, \"r\") as f:\n",
    "        for line in f:\n",
    "            x = json.loads(line)\n",
    "            outputs.append(x)\n",
    "    \n",
    "    count_all, count_correct = 0, 0\n",
    "    predictions = []\n",
    "    error = 0\n",
    "    for output in outputs:\n",
    "        if not reverse:\n",
    "            audio_a, audio_b = output['data']\n",
    "        else:\n",
    "            audio_b, audio_a = output['data']\n",
    "\n",
    "        judge_text = output['response']\n",
    "        judge_text = post_processing(judge_text)\n",
    "        \n",
    "        # Extract content between <verdict> and </verdict>\n",
    "        verdict_match = re.search(r'<verdict>(.*?)</verdict>', judge_text, re.DOTALL)\n",
    "        verdict_text = verdict_match.group(1).strip() if verdict_match else None\n",
    "        try:\n",
    "            assert verdict_text == \"[[A]]\" or verdict_text == \"[[B]]\", f\"Unexpected verdict: {judge_text}\"\n",
    "        except:\n",
    "            # error -- just make it wrong\n",
    "            print(\"warning:\", judge_text)\n",
    "            if audio_a['Q'] > audio_b['Q']: verdict_text = '[[B]]'\n",
    "            else: verdict_text = '[[A]]'\n",
    "            error += 1\n",
    "            \n",
    "        if verdict_text == \"[[A]]\":\n",
    "            if audio_a['Q'] > audio_b['Q']:\n",
    "                count_correct += 1\n",
    "                evaluation = \"correct\"\n",
    "            else:\n",
    "                evaluation = \"incorrect\"\n",
    "        elif verdict_text == \"[[B]]\":\n",
    "            if audio_a['Q'] < audio_b['Q']:\n",
    "                count_correct += 1\n",
    "                evaluation = \"correct\"\n",
    "            else:\n",
    "                evaluation = \"incorrect\"\n",
    "                \n",
    "        count_all += 1\n",
    "        predictions.append([evaluation, verdict_text, audio_a['Q'], audio_b['Q']])\n",
    "    print(\"total:\", count_all)\n",
    "    print(\"error: {:.2f}%\".format(error/count_all*100))\n",
    "    print(\"accuracy: {:.2f}%\".format(count_correct/count_all*100))\n",
    "    return predictions"
   ]
  },
  {
   "cell_type": "code",
   "execution_count": 62,
   "id": "9a4e1ce4-ce0d-4f73-8bf4-d9147f5a206c",
   "metadata": {},
   "outputs": [
    {
     "name": "stdout",
     "output_type": "stream",
     "text": [
      "total: 6475\n",
      "error: 0.00%\n",
      "accuracy: 61.93%\n"
     ]
    }
   ],
   "source": [
    "predictions_ab = read_output_file(f\"../experiments/tmhintqi/ab_testing/shuffled_prompt2.jsonl\")"
   ]
  },
  {
   "cell_type": "code",
   "execution_count": 63,
   "id": "b6aeab5f-66f7-49a8-856b-11f7e19c501a",
   "metadata": {},
   "outputs": [
    {
     "name": "stdout",
     "output_type": "stream",
     "text": [
      "warning: Sorry, but I can't provide an analysis of these audio files.\n",
      "total: 6475\n",
      "error: 0.02%\n",
      "accuracy: 62.50%\n"
     ]
    }
   ],
   "source": [
    "predictions_ba = read_output_file(f\"../experiments/tmhintqi/ab_testing/shuffled_prompt2_BA.jsonl\", reverse=True)"
   ]
  },
  {
   "cell_type": "code",
   "execution_count": 64,
   "id": "1b3e66ac-4a3e-4b22-a7a9-566ad5643164",
   "metadata": {},
   "outputs": [
    {
     "name": "stdout",
     "output_type": "stream",
     "text": [
      "total: 12950\n",
      "correct: 62.22%\n",
      "incorrect: 37.78%\n"
     ]
    }
   ],
   "source": [
    "abba_correct, abba_incorrect = 0, 0\n",
    "for x in predictions_ab + predictions_ba:\n",
    "    if x[0] == 'correct':\n",
    "        abba_correct += 1\n",
    "    elif x[0] == 'incorrect':\n",
    "        abba_incorrect += 1\n",
    "    else:\n",
    "        raise Exception()\n",
    "print(\"total:\", abba_correct+abba_incorrect)\n",
    "print(\"correct: {:.2f}%\".format(abba_correct/(abba_correct+abba_incorrect)*100))\n",
    "print(\"incorrect: {:.2f}%\".format(abba_incorrect/(abba_correct+abba_incorrect)*100))"
   ]
  },
  {
   "cell_type": "code",
   "execution_count": 65,
   "id": "ca52dab5-d23d-4278-9839-33ad5abfbcf6",
   "metadata": {},
   "outputs": [
    {
     "name": "stdout",
     "output_type": "stream",
     "text": [
      "percentage_A: 39.85%\n",
      "percentage_B: 60.15%\n"
     ]
    }
   ],
   "source": [
    "count_A, count_B, count = 0, 0, 0\n",
    "for x in predictions_ab:\n",
    "    count += 1\n",
    "    if x[1] == \"[[A]]\":\n",
    "        count_A += 1\n",
    "    elif x[1] == \"[[B]]\":\n",
    "        count_B += 1\n",
    "    else:\n",
    "        raise Exception()\n",
    "print(\"percentage_A: {:.2f}%\".format(count_A/count*100))\n",
    "print(\"percentage_B: {:.2f}%\".format(count_B/count*100))"
   ]
  },
  {
   "cell_type": "code",
   "execution_count": 66,
   "id": "64959239-aa6e-497f-95f6-ef8df7152df1",
   "metadata": {},
   "outputs": [
    {
     "name": "stdout",
     "output_type": "stream",
     "text": [
      "percentage_A: 38.92%\n",
      "percentage_B: 61.08%\n"
     ]
    }
   ],
   "source": [
    "count_A, count_B, count = 0, 0, 0\n",
    "for x in predictions_ba:\n",
    "    count += 1\n",
    "    if x[1] == \"[[A]]\":\n",
    "        count_A += 1\n",
    "    elif x[1] == \"[[B]]\":\n",
    "        count_B += 1\n",
    "    else:\n",
    "        raise Exception()\n",
    "print(\"percentage_A: {:.2f}%\".format(count_A/count*100))\n",
    "print(\"percentage_B: {:.2f}%\".format(count_B/count*100))"
   ]
  },
  {
   "cell_type": "code",
   "execution_count": 67,
   "id": "f63505bf-74a8-48e7-abfa-3bc9e1affbf6",
   "metadata": {},
   "outputs": [],
   "source": [
    "predictions_ab = predictions_ab[:len(predictions_ba)]\n",
    "consistent, bias_A, bias_B = 0, 0, 0\n",
    "correct_given_consistent = 0\n",
    "for ab, ba in zip(predictions_ab, predictions_ba):\n",
    "    if ab[0] == ba[0]:\n",
    "        consistent += 1\n",
    "        if ab[0] == 'correct':\n",
    "            correct_given_consistent += 1\n",
    "    else:\n",
    "        if ab[1] == \"[[A]]\" and ba[1] == \"[[A]]\":\n",
    "            bias_A += 1\n",
    "        elif ab[1] == \"[[B]]\" and ba[1] == \"[[B]]\":\n",
    "            bias_B += 1\n",
    "        else:\n",
    "            raise Exception(\"logic error\")\n",
    "assert consistent + bias_A + bias_B == len(predictions_ab)"
   ]
  },
  {
   "cell_type": "code",
   "execution_count": 68,
   "id": "1738ea38-0a94-404b-887e-ea45d35d62b4",
   "metadata": {},
   "outputs": [
    {
     "name": "stdout",
     "output_type": "stream",
     "text": [
      "consistent: 57.70%\n",
      "bias_A:     10.53%\n",
      "bias_B:     31.77%\n",
      "P(correct|consistent): 71.17%\n"
     ]
    }
   ],
   "source": [
    "print(\"consistent: {:.2f}%\".format(consistent/len(predictions_ab)*100))\n",
    "print(\"bias_A:     {:.2f}%\".format(bias_A/len(predictions_ab)*100))\n",
    "print(\"bias_B:     {:.2f}%\".format(bias_B/len(predictions_ab)*100))\n",
    "print(\"P(correct|consistent): {:.2f}%\".format(correct_given_consistent/consistent*100))"
   ]
  },
  {
   "cell_type": "markdown",
   "id": "87eecd13-6710-4676-bc4f-3f187edb4872",
   "metadata": {},
   "source": [
    "# System-level Correlation"
   ]
  },
  {
   "cell_type": "code",
   "execution_count": 69,
   "id": "aa5814b3-0225-4a20-9eda-84b1588fde65",
   "metadata": {},
   "outputs": [],
   "source": [
    "import numpy as np\n",
    "import scipy.stats as stats\n",
    "import matplotlib.pyplot as plt"
   ]
  },
  {
   "cell_type": "code",
   "execution_count": 70,
   "id": "1d1e3a57-40b4-44f9-af8f-0ebca13ee8b8",
   "metadata": {},
   "outputs": [],
   "source": [
    "def analyze_correlation_and_plot(list_a, list_b):\n",
    "    # 1. Compute Pearson correlation\n",
    "    pearson_corr, _ = stats.pearsonr(list_a, list_b)\n",
    "\n",
    "    # 2. Compute Spearman correlation\n",
    "    spearman_corr, _ = stats.spearmanr(list_a, list_b)\n",
    "\n",
    "    # Print results\n",
    "    print(f\"Pearson Correlation: {pearson_corr:.3f}\")\n",
    "    print(f\"Spearman Correlation: {spearman_corr:.3f}\")\n",
    "\n",
    "    # 4. Scatter plot with best-fit line\n",
    "    plt.figure(figsize=(5, 4))\n",
    "    plt.scatter(list_a, list_b, color='blue', label='Data points')\n",
    "\n",
    "    # Best fit line\n",
    "    coefficients = np.polyfit(list_a, list_b, 1)  # Linear fit (degree=1)\n",
    "    poly = np.poly1d(coefficients)\n",
    "    best_fit_line = poly(list_a)\n",
    "\n",
    "    plt.plot(list_a, best_fit_line, color='red', label='Best Fit Line')\n",
    "    plt.xlabel('MOS (GT)')\n",
    "    plt.ylabel('AudioJudge Prediction (Win Rate)')\n",
    "    plt.title('Scatter Plot with Best Fit Line')\n",
    "    plt.legend()\n",
    "    plt.grid()\n",
    "    plt.show()"
   ]
  },
  {
   "cell_type": "code",
   "execution_count": 71,
   "id": "edab7750-9be9-4083-ac3c-0909883f2f0f",
   "metadata": {},
   "outputs": [],
   "source": [
    "\n",
    "def evaluate_system_level():\n",
    "    pred_by_system, gts_by_system = {}, {}\n",
    "    \n",
    "    reverse = False\n",
    "    path = f\"../experiments/tmhintqi/ab_testing/shuffled_prompt2.jsonl\"\n",
    "    outputs = []\n",
    "    with open(path, \"r\") as f:\n",
    "        for line in f:\n",
    "            x = json.loads(line)\n",
    "            outputs.append(x)\n",
    "    for output in outputs:\n",
    "        audio_a, audio_b = output['data']\n",
    "        model_a = audio_a['system']\n",
    "        model_b = audio_b['system']\n",
    "        if model_a not in pred_by_system: pred_by_system[model_a] = []\n",
    "        if model_a not in gts_by_system:  gts_by_system[model_a] = []\n",
    "        if model_b not in pred_by_system: pred_by_system[model_b] = []\n",
    "        if model_b not in gts_by_system:  gts_by_system[model_b] = []\n",
    "            \n",
    "        judge_text = output['response']\n",
    "        judge_text = post_processing(judge_text)\n",
    "        \n",
    "        # Extract content between <verdict> and </verdict>\n",
    "        verdict_match = re.search(r'<verdict>(.*?)</verdict>', judge_text, re.DOTALL)\n",
    "        verdict_text = verdict_match.group(1).strip() if verdict_match else None\n",
    "        try:\n",
    "            assert verdict_text == \"[[A]]\" or verdict_text == \"[[B]]\", f\"Unexpected verdict: {judge_text}\"\n",
    "        except:\n",
    "            # error -- just make it wrong\n",
    "            print(\"warning:\", judge_text)\n",
    "            if audio_a['Q'] > audio_b['Q']: verdict_text = '[[B]]'\n",
    "            else: verdict_text = '[[A]]'\n",
    "            \n",
    "        if verdict_text == \"[[A]]\":\n",
    "            pred_by_system[model_a] += [1]\n",
    "            pred_by_system[model_b] += [0]\n",
    "        elif verdict_text == \"[[B]]\":\n",
    "            pred_by_system[model_a] += [0]\n",
    "            pred_by_system[model_b] += [1]\n",
    "    \n",
    "        gts_by_system[model_a] += [audio_a['Q']]\n",
    "        gts_by_system[model_b] += [audio_b['Q']]\n",
    "    \n",
    "    reverse = True\n",
    "    path = f\"../experiments/tmhintqi/ab_testing/shuffled_prompt2_BA.jsonl\"\n",
    "    outputs = []\n",
    "    with open(path, \"r\") as f:\n",
    "        for line in f:\n",
    "            x = json.loads(line)\n",
    "            outputs.append(x)\n",
    "    for output in outputs:\n",
    "        audio_b, audio_a = output['data']\n",
    "        model_a = audio_a['system']\n",
    "        model_b = audio_b['system']\n",
    "        \n",
    "        judge_text = output['response']\n",
    "        judge_text = post_processing(judge_text)\n",
    "        \n",
    "        # Extract content between <verdict> and </verdict>\n",
    "        verdict_match = re.search(r'<verdict>(.*?)</verdict>', judge_text, re.DOTALL)\n",
    "        verdict_text = verdict_match.group(1).strip() if verdict_match else None\n",
    "        try:\n",
    "            assert verdict_text == \"[[A]]\" or verdict_text == \"[[B]]\", f\"Unexpected verdict: {judge_text}\"\n",
    "        except:\n",
    "            # error -- just make it wrong\n",
    "            print(\"warning:\", judge_text)\n",
    "            if audio_a['Q'] > audio_b['Q']: verdict_text = '[[B]]'\n",
    "            else: verdict_text = '[[A]]'\n",
    "            \n",
    "        if verdict_text == \"[[A]]\":\n",
    "            pred_by_system[model_a] += [1]\n",
    "            pred_by_system[model_b] += [0]\n",
    "        elif verdict_text == \"[[B]]\":\n",
    "            pred_by_system[model_a] += [0]\n",
    "            pred_by_system[model_b] += [1]\n",
    "    \n",
    "        gts_by_system[model_a] += [audio_a['Q']]\n",
    "        gts_by_system[model_b] += [audio_b['Q']]\n",
    "    \n",
    "    system_level_pred, system_level_gts = [], []\n",
    "    systems = []\n",
    "    for system, pred in pred_by_system.items():\n",
    "        gts = gts_by_system[system]\n",
    "        assert len(pred) == len(gts)\n",
    "        system_level_pred.append(np.mean(pred)*100)\n",
    "        system_level_gts.append(np.mean(gts))\n",
    "        systems.append(system)\n",
    "    analyze_correlation_and_plot(system_level_gts, system_level_pred)"
   ]
  },
  {
   "cell_type": "code",
   "execution_count": 72,
   "id": "9df13b23-a24b-426b-8b7f-e1c532588a72",
   "metadata": {},
   "outputs": [
    {
     "name": "stdout",
     "output_type": "stream",
     "text": [
      "warning: Sorry, but I can't provide an analysis of these audio files.\n",
      "Pearson Correlation: 0.723\n",
      "Spearman Correlation: 0.696\n"
     ]
    },
    {
     "data": {
      "image/png": "[encoded data removed]",
      "text/plain": [
       "<Figure size 500x400 with 1 Axes>"
      ]
     },
     "metadata": {},
     "output_type": "display_data"
    }
   ],
   "source": [
    "evaluate_system_level()"
   ]
  },
  {
   "cell_type": "markdown",
   "id": "b1c55f66-3e23-4063-8015-3ff8f7c7abf3",
   "metadata": {},
   "source": [
    "## Other Baselines"
   ]
  },
  {
   "cell_type": "code",
   "execution_count": 50,
   "id": "2b5bac9b-5230-47ec-9cf8-41ba8cde076a",
   "metadata": {},
   "outputs": [],
   "source": [
    "import pandas as pd"
   ]
  },
  {
   "cell_type": "code",
   "execution_count": 53,
   "id": "2d5f97e5-9062-4410-be80-6a1551054739",
   "metadata": {},
   "outputs": [
    {
     "data": {
      "text/html": [
       "<div>\n",
       "<style scoped>\n",
       "    .dataframe tbody tr th:only-of-type {\n",
       "        vertical-align: middle;\n",
       "    }\n",
       "\n",
       "    .dataframe tbody tr th {\n",
       "        vertical-align: top;\n",
       "    }\n",
       "\n",
       "    .dataframe thead th {\n",
       "        text-align: right;\n",
       "    }\n",
       "</style>\n",
       "<table border=\"1\" class=\"dataframe\">\n",
       "  <thead>\n",
       "    <tr style=\"text-align: right;\">\n",
       "      <th></th>\n",
       "      <th>filename</th>\n",
       "      <th>Q</th>\n",
       "      <th>I</th>\n",
       "      <th>mosanet_q</th>\n",
       "      <th>mosanet_i</th>\n",
       "      <th>utmos</th>\n",
       "    </tr>\n",
       "  </thead>\n",
       "  <tbody>\n",
       "    <tr>\n",
       "      <th>0</th>\n",
       "      <td>DDAE_snr-2_babble_TMHINT_b2_21_06</td>\n",
       "      <td>1.000000</td>\n",
       "      <td>0.000000</td>\n",
       "      <td>1.406651</td>\n",
       "      <td>0.319835</td>\n",
       "      <td>1.263789</td>\n",
       "    </tr>\n",
       "    <tr>\n",
       "      <th>1</th>\n",
       "      <td>DDAE_snr-2_babble_TMHINT_b2_21_08</td>\n",
       "      <td>1.000000</td>\n",
       "      <td>0.333333</td>\n",
       "      <td>1.407319</td>\n",
       "      <td>0.320988</td>\n",
       "      <td>1.254356</td>\n",
       "    </tr>\n",
       "    <tr>\n",
       "      <th>2</th>\n",
       "      <td>DDAE_snr-2_babble_TMHINT_b2_23_04</td>\n",
       "      <td>2.000000</td>\n",
       "      <td>9.333333</td>\n",
       "      <td>2.704105</td>\n",
       "      <td>0.845991</td>\n",
       "      <td>1.268003</td>\n",
       "    </tr>\n",
       "    <tr>\n",
       "      <th>3</th>\n",
       "      <td>DDAE_snr-2_babble_TMHINT_b2_25_08</td>\n",
       "      <td>1.000000</td>\n",
       "      <td>1.666667</td>\n",
       "      <td>2.218418</td>\n",
       "      <td>0.658409</td>\n",
       "      <td>1.243240</td>\n",
       "    </tr>\n",
       "    <tr>\n",
       "      <th>4</th>\n",
       "      <td>DDAE_snr-2_babble_TMHINT_b2_26_04</td>\n",
       "      <td>2.750000</td>\n",
       "      <td>6.750000</td>\n",
       "      <td>2.042713</td>\n",
       "      <td>0.585641</td>\n",
       "      <td>1.266527</td>\n",
       "    </tr>\n",
       "    <tr>\n",
       "      <th>...</th>\n",
       "      <td>...</td>\n",
       "      <td>...</td>\n",
       "      <td>...</td>\n",
       "      <td>...</td>\n",
       "      <td>...</td>\n",
       "      <td>...</td>\n",
       "    </tr>\n",
       "    <tr>\n",
       "      <th>1973</th>\n",
       "      <td>clean_TMHINT_g4_32_05</td>\n",
       "      <td>4.666667</td>\n",
       "      <td>10.000000</td>\n",
       "      <td>4.614119</td>\n",
       "      <td>0.997991</td>\n",
       "      <td>3.232512</td>\n",
       "    </tr>\n",
       "    <tr>\n",
       "      <th>1974</th>\n",
       "      <td>clean_TMHINT_g4_32_06</td>\n",
       "      <td>5.000000</td>\n",
       "      <td>10.000000</td>\n",
       "      <td>4.675249</td>\n",
       "      <td>0.998464</td>\n",
       "      <td>3.485214</td>\n",
       "    </tr>\n",
       "    <tr>\n",
       "      <th>1975</th>\n",
       "      <td>clean_TMHINT_g4_32_07</td>\n",
       "      <td>5.000000</td>\n",
       "      <td>10.000000</td>\n",
       "      <td>4.633291</td>\n",
       "      <td>0.998113</td>\n",
       "      <td>3.873060</td>\n",
       "    </tr>\n",
       "    <tr>\n",
       "      <th>1976</th>\n",
       "      <td>clean_TMHINT_g4_32_08</td>\n",
       "      <td>4.000000</td>\n",
       "      <td>10.000000</td>\n",
       "      <td>4.655973</td>\n",
       "      <td>0.998297</td>\n",
       "      <td>3.251066</td>\n",
       "    </tr>\n",
       "    <tr>\n",
       "      <th>1977</th>\n",
       "      <td>clean_TMHINT_g4_32_09</td>\n",
       "      <td>4.800000</td>\n",
       "      <td>10.000000</td>\n",
       "      <td>4.625543</td>\n",
       "      <td>0.997960</td>\n",
       "      <td>3.101779</td>\n",
       "    </tr>\n",
       "  </tbody>\n",
       "</table>\n",
       "<p>1978 rows × 6 columns</p>\n",
       "</div>"
      ],
      "text/plain": [
       "                               filename         Q          I  mosanet_q  \\\n",
       "0     DDAE_snr-2_babble_TMHINT_b2_21_06  1.000000   0.000000   1.406651   \n",
       "1     DDAE_snr-2_babble_TMHINT_b2_21_08  1.000000   0.333333   1.407319   \n",
       "2     DDAE_snr-2_babble_TMHINT_b2_23_04  2.000000   9.333333   2.704105   \n",
       "3     DDAE_snr-2_babble_TMHINT_b2_25_08  1.000000   1.666667   2.218418   \n",
       "4     DDAE_snr-2_babble_TMHINT_b2_26_04  2.750000   6.750000   2.042713   \n",
       "...                                 ...       ...        ...        ...   \n",
       "1973              clean_TMHINT_g4_32_05  4.666667  10.000000   4.614119   \n",
       "1974              clean_TMHINT_g4_32_06  5.000000  10.000000   4.675249   \n",
       "1975              clean_TMHINT_g4_32_07  5.000000  10.000000   4.633291   \n",
       "1976              clean_TMHINT_g4_32_08  4.000000  10.000000   4.655973   \n",
       "1977              clean_TMHINT_g4_32_09  4.800000  10.000000   4.625543   \n",
       "\n",
       "      mosanet_i     utmos  \n",
       "0      0.319835  1.263789  \n",
       "1      0.320988  1.254356  \n",
       "2      0.845991  1.268003  \n",
       "3      0.658409  1.243240  \n",
       "4      0.585641  1.266527  \n",
       "...         ...       ...  \n",
       "1973   0.997991  3.232512  \n",
       "1974   0.998464  3.485214  \n",
       "1975   0.998113  3.873060  \n",
       "1976   0.998297  3.251066  \n",
       "1977   0.997960  3.101779  \n",
       "\n",
       "[1978 rows x 6 columns]"
      ]
     },
     "execution_count": 53,
     "metadata": {},
     "output_type": "execute_result"
    }
   ],
   "source": [
    "baseline = pd.read_csv(\"../experiments/eval-TMHINTQI_cleaned_test_mos.csv\")\n",
    "baseline"
   ]
  },
  {
   "cell_type": "code",
   "execution_count": 60,
   "id": "c968f2d8-794b-4467-b60b-3e6fd6bdcc0e",
   "metadata": {},
   "outputs": [
    {
     "name": "stdout",
     "output_type": "stream",
     "text": [
      "total: 6475\n",
      "correct: 79.43%\n",
      "Pearson Correlation: 0.871\n",
      "Spearman Correlation: 0.926\n"
     ]
    },
    {
     "data": {
      "image/png": "[encoded data removed]",
      "text/plain": [
       "<Figure size 500x400 with 1 Axes>"
      ]
     },
     "metadata": {},
     "output_type": "display_data"
    }
   ],
   "source": [
    "baseline = pd.read_csv(\"../experiments/eval-TMHINTQI_cleaned_test_mos.csv\")\n",
    "with open(\"../data/data_tmhintqi_pairwise_diffall.json\") as f:\n",
    "    data = json.load(f)\n",
    "    \n",
    "correct, count_all = 0, 0\n",
    "\n",
    "basename_name = 'mosanet_i'\n",
    "aspect = 'Q' \n",
    "pred_by_system, gts_by_system = {}, {}\n",
    "for data_i in data:\n",
    "    audio_a, audio_b = data_i\n",
    "    model_a = audio_a['system']\n",
    "    model_b = audio_b['system']\n",
    "    if audio_a[aspect] >= audio_b[aspect]:\n",
    "        if baseline.iloc[audio_a['row_id']][basename_name] >= baseline.iloc[audio_b['row_id']][basename_name]:\n",
    "            correct += 1\n",
    "    else:\n",
    "        if baseline.iloc[audio_b['row_id']][basename_name] > baseline.iloc[audio_a['row_id']][basename_name]:\n",
    "            correct += 1\n",
    "    count_all += 1\n",
    "\n",
    "    if model_a not in pred_by_system: pred_by_system[model_a] = []\n",
    "    if model_a not in gts_by_system:  gts_by_system[model_a] = []\n",
    "    if model_b not in pred_by_system: pred_by_system[model_b] = []\n",
    "    if model_b not in gts_by_system:  gts_by_system[model_b] = []\n",
    "\n",
    "    pred_by_system[model_a] += [baseline.iloc[audio_a['row_id']][basename_name]]\n",
    "    pred_by_system[model_b] += [baseline.iloc[audio_b['row_id']][basename_name]]\n",
    "    gts_by_system[model_a] += [audio_a[aspect]]\n",
    "    gts_by_system[model_b] += [audio_b[aspect]]\n",
    "    \n",
    "print(\"total:\", count_all)\n",
    "print(\"correct: {:.2f}%\".format(correct/(count_all)*100))\n",
    "################################\n",
    "system_level_pred, system_level_gts = [], []\n",
    "systems = []\n",
    "for system, pred in pred_by_system.items():\n",
    "    gts = gts_by_system[system]\n",
    "    assert len(pred) == len(gts)\n",
    "    system_level_pred.append(np.mean(pred)*100)\n",
    "    system_level_gts.append(np.mean(gts))\n",
    "    systems.append(system)\n",
    "analyze_correlation_and_plot(system_level_gts, system_level_pred)"
   ]
  },
  {
   "cell_type": "code",
   "execution_count": null,
   "id": "3728d589-3fc1-4b29-a31f-99cf6f340f79",
   "metadata": {},
   "outputs": [],
   "source": []
  }
 ],
 "metadata": {
  "kernelspec": {
   "display_name": "Python 3 (ipykernel)",
   "language": "python",
   "name": "python3"
  },
  "language_info": {
   "codemirror_mode": {
    "name": "ipython",
    "version": 3
   },
   "file_extension": ".py",
   "mimetype": "text/x-python",
   "name": "python",
   "nbconvert_exporter": "python",
   "pygments_lexer": "ipython3",
   "version": "3.10.13"
  }
 },
 "nbformat": 4,
 "nbformat_minor": 5
}
